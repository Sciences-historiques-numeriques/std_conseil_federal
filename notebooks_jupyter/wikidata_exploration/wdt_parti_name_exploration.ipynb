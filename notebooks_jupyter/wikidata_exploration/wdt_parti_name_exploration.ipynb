{
 "cells": [
  {
   "cell_type": "markdown",
   "id": "9150426b-5190-4539-8204-61253a0f1bd4",
   "metadata": {},
   "source": [
    "# Exploration des partis et leur évolution dans le temps \n",
    "\n",
    "Dans ce carnet est proposée une exploration des partis de la population Wikidata retenue.\n",
    "\n",
    "On essayera de prendre connaissance des liens entre les noms des partis, le genre et les générations"
   ]
  },
  {
   "cell_type": "code",
   "execution_count": 5,
   "id": "2be270d3-3053-42b8-85ae-7f4b4711ce87",
   "metadata": {},
   "outputs": [],
   "source": [
    "### Librairie à installer dans l'environnement conda\n",
    "# qui sera choisi pour exécuter le carnet\n",
    "from SPARQLWrapper import SPARQLWrapper, SPARQLWrapper2, JSON, TURTLE, XML, RDFXML"
   ]
  },
  {
   "cell_type": "code",
   "execution_count": 6,
   "id": "f2085427-bf14-40c6-8939-b74d38f31d16",
   "metadata": {
    "tags": []
   },
   "outputs": [],
   "source": [
    "import pandas as pd\n",
    "import matplotlib.pyplot as plt\n",
    "import numpy as np\n",
    "import seaborn as sns"
   ]
  },
  {
   "cell_type": "code",
   "execution_count": 8,
   "id": "0133375f",
   "metadata": {},
   "outputs": [
    {
     "ename": "ModuleNotFoundError",
     "evalue": "No module named 'itables'",
     "output_type": "error",
     "traceback": [
      "\u001b[1;31m---------------------------------------------------------------------------\u001b[0m",
      "\u001b[1;31mModuleNotFoundError\u001b[0m                       Traceback (most recent call last)",
      "Cell \u001b[1;32mIn[8], line 3\u001b[0m\n\u001b[0;32m      1\u001b[0m \u001b[38;5;66;03m### https://mwouts.github.io/itables/quick_start.html\u001b[39;00m\n\u001b[1;32m----> 3\u001b[0m \u001b[38;5;28;01mfrom\u001b[39;00m \u001b[38;5;21;01mitables\u001b[39;00m \u001b[38;5;28;01mimport\u001b[39;00m init_notebook_mode, show\n\u001b[0;32m      5\u001b[0m init_notebook_mode(all_interactive\u001b[38;5;241m=\u001b[39m\u001b[38;5;28;01mFalse\u001b[39;00m)\n",
      "\u001b[1;31mModuleNotFoundError\u001b[0m: No module named 'itables'"
     ]
    }
   ],
   "source": [
    "### https://mwouts.github.io/itables/quick_start.html\n",
    "\n",
    "from itables import init_notebook_mode, show\n",
    "\n",
    "init_notebook_mode(all_interactive=False)\n"
   ]
  },
  {
   "cell_type": "code",
   "execution_count": 4,
   "id": "54dc243a",
   "metadata": {},
   "outputs": [
    {
     "ename": "ModuleNotFoundError",
     "evalue": "No module named 'mlxtend'",
     "output_type": "error",
     "traceback": [
      "\u001b[1;31m---------------------------------------------------------------------------\u001b[0m",
      "\u001b[1;31mModuleNotFoundError\u001b[0m                       Traceback (most recent call last)",
      "Cell \u001b[1;32mIn[4], line 1\u001b[0m\n\u001b[1;32m----> 1\u001b[0m \u001b[38;5;28;01mfrom\u001b[39;00m \u001b[38;5;21;01mmlxtend\u001b[39;00m\u001b[38;5;21;01m.\u001b[39;00m\u001b[38;5;21;01mfrequent_patterns\u001b[39;00m \u001b[38;5;28;01mimport\u001b[39;00m apriori\n\u001b[0;32m      2\u001b[0m \u001b[38;5;28;01mfrom\u001b[39;00m \u001b[38;5;21;01mmlxtend\u001b[39;00m\u001b[38;5;21;01m.\u001b[39;00m\u001b[38;5;21;01mpreprocessing\u001b[39;00m \u001b[38;5;28;01mimport\u001b[39;00m TransactionEncoder\n",
      "\u001b[1;31mModuleNotFoundError\u001b[0m: No module named 'mlxtend'"
     ]
    }
   ],
   "source": [
    "from mlxtend.frequent_patterns import apriori\n",
    "from mlxtend.preprocessing import TransactionEncoder"
   ]
  },
  {
   "cell_type": "code",
   "execution_count": null,
   "id": "e6ce0f0e-db36-47cd-8015-a5bf33f0f7fa",
   "metadata": {
    "tags": []
   },
   "outputs": [],
   "source": [
    "### Librairies déjà installées avec Python\n",
    "import pprint\n",
    "import csv\n",
    "import sys\n",
    "\n",
    "import sqlite3 as sql\n",
    "\n",
    "import time\n",
    "import datetime\n",
    "from dateutil import parser\n",
    "\n",
    "from importlib import reload\n",
    "from shutil import copyfile\n"
   ]
  },
  {
   "cell_type": "code",
   "execution_count": 4,
   "id": "9b90838d-2160-49e3-8adb-a67ff2cd112e",
   "metadata": {},
   "outputs": [
    {
     "ename": "NameError",
     "evalue": "name 'sys' is not defined",
     "output_type": "error",
     "traceback": [
      "\u001b[1;31m---------------------------------------------------------------------------\u001b[0m",
      "\u001b[1;31mNameError\u001b[0m                                 Traceback (most recent call last)",
      "Cell \u001b[1;32mIn[4], line 8\u001b[0m\n\u001b[0;32m      1\u001b[0m \u001b[38;5;66;03m### Importer un module de fonctions crées ad hoc\u001b[39;00m\n\u001b[0;32m      2\u001b[0m \u001b[38;5;66;03m##  ATTENTION : le fichier 'sparql_functions.py' doit se trouver \u001b[39;00m\n\u001b[0;32m      3\u001b[0m \u001b[38;5;66;03m#   dans un dossier qui se situe dans le chemin ('path') de recherche\u001b[39;00m\n\u001b[1;32m   (...)\u001b[0m\n\u001b[0;32m      6\u001b[0m \n\u001b[0;32m      7\u001b[0m \u001b[38;5;66;03m# Add parent directory to the path\u001b[39;00m\n\u001b[1;32m----> 8\u001b[0m sys\u001b[38;5;241m.\u001b[39mpath\u001b[38;5;241m.\u001b[39minsert(\u001b[38;5;241m0\u001b[39m, \u001b[38;5;124m'\u001b[39m\u001b[38;5;124m..\u001b[39m\u001b[38;5;124m'\u001b[39m)\n\u001b[0;32m     10\u001b[0m \u001b[38;5;66;03m### If you want to add the parent-parent directory,\u001b[39;00m\n\u001b[0;32m     11\u001b[0m sys\u001b[38;5;241m.\u001b[39mpath\u001b[38;5;241m.\u001b[39minsert(\u001b[38;5;241m0\u001b[39m, \u001b[38;5;124m'\u001b[39m\u001b[38;5;124m../..\u001b[39m\u001b[38;5;124m'\u001b[39m)\n",
      "\u001b[1;31mNameError\u001b[0m: name 'sys' is not defined"
     ]
    }
   ],
   "source": [
    "### Importer un module de fonctions crées ad hoc\n",
    "##  ATTENTION : le fichier 'sparql_functions.py' doit se trouver \n",
    "#   dans un dossier qui se situe dans le chemin ('path') de recherche\n",
    "#   vu par le présent carnet Jupyter afin que\n",
    "#   l'importation fonctionne correctement\n",
    "\n",
    "# Add parent directory to the path\n",
    "sys.path.insert(0, '..')\n",
    "\n",
    "### If you want to add the parent-parent directory,\n",
    "sys.path.insert(0, '../..')\n",
    "\n",
    "\n",
    "import sparql_functions as spqf"
   ]
  },
  {
   "cell_type": "code",
   "execution_count": null,
   "id": "13ff56ee",
   "metadata": {},
   "outputs": [],
   "source": []
  },
  {
   "cell_type": "markdown",
   "id": "3fe8665b-f64c-42bb-8786-4aee3673867c",
   "metadata": {},
   "source": [
    "## SPARQL Query qui récupère les données\n",
    "\n",
    "On exécute la requête grâce à une fonction de la librairie locale qui réalise la mise en forme"
   ]
  },
  {
   "cell_type": "code",
   "execution_count": null,
   "id": "cf08874b-9ba0-4f5c-8eee-aebd9f0d0d26",
   "metadata": {},
   "outputs": [],
   "source": [
    "## define SPARQL enpoint\n",
    "endpoint = \"https://query.wikidata.org/sparql\""
   ]
  },
  {
   "cell_type": "code",
   "execution_count": null,
   "id": "164e80e8-1834-473a-a605-a3c1a660eff3",
   "metadata": {},
   "outputs": [],
   "source": [
    "query = \"\"\"\n",
    "SELECT DISTINCT ?item ?itemLabel ?parti ?partiLabel ?birthDate\n",
    "        WHERE {\n",
    "            { \n",
    "          {?item wdt:P39 wd:Q18510612} #p39 position held et Q18510612 pour conseil national\n",
    "            UNION\n",
    "            {?item wdt:P17 wd:Q39} # p17 country et Q39 switzerland, cet UNION permet de restreindre les résultats uniquement à la Suisse\n",
    "              }\n",
    "          \n",
    "?item wdt:P31 wd:Q5;  # Any instance of a human.\n",
    "     wdt:P569 ?birthDate;\n",
    "     wdt:P102 ?parti.\n",
    "          \n",
    "        BIND(REPLACE(str(?birthDate), \"(.*)([0-9]{4})(.*)\", \"$2\") AS ?year)\n",
    "        FILTER(xsd:integer(?year) > 1900 )\n",
    "          \n",
    "          SERVICE wikibase:label { bd:serviceParam wikibase:language \"en\" }\n",
    "        } \n",
    "     ORDER BY ?year\n",
    "\"\"\""
   ]
  },
  {
   "cell_type": "code",
   "execution_count": null,
   "id": "70f2370f-e287-404f-ba7b-aaf79021047e",
   "metadata": {},
   "outputs": [],
   "source": [
    "### Executer la requête avec les fonctions de la librairie locale\n",
    "qr = spqf.get_json_sparql_result(endpoint,query)"
   ]
  },
  {
   "cell_type": "code",
   "execution_count": null,
   "id": "21bfd9f5-4c63-4b8c-af10-f9ddec203db2",
   "metadata": {},
   "outputs": [
    {
     "name": "stdout",
     "output_type": "stream",
     "text": [
      "69010\n"
     ]
    },
    {
     "data": {
      "text/plain": [
       "[['http://www.wikidata.org/entity/Q855257',\n",
       "  'http://www.wikidata.org/entity/Q155647',\n",
       "  'astrologer'],\n",
       " ['http://www.wikidata.org/entity/Q855257',\n",
       "  'http://www.wikidata.org/entity/Q170790',\n",
       "  'mathematician'],\n",
       " ['http://www.wikidata.org/entity/Q855257',\n",
       "  'http://www.wikidata.org/entity/Q1622272',\n",
       "  'university teacher']]"
      ]
     },
     "execution_count": 8,
     "metadata": {},
     "output_type": "execute_result"
    }
   ],
   "source": [
    "r = [l for l in spqf.sparql_result_to_list(qr)]\n",
    "print(len(r))\n",
    "r[:3]"
   ]
  },
  {
   "cell_type": "code",
   "execution_count": null,
   "id": "236bbba5-a4df-4a7b-b215-44c9bc3f355f",
   "metadata": {},
   "outputs": [
    {
     "data": {
      "text/html": [
       "<div>\n",
       "<style scoped>\n",
       "    .dataframe tbody tr th:only-of-type {\n",
       "        vertical-align: middle;\n",
       "    }\n",
       "\n",
       "    .dataframe tbody tr th {\n",
       "        vertical-align: top;\n",
       "    }\n",
       "\n",
       "    .dataframe thead th {\n",
       "        text-align: right;\n",
       "    }\n",
       "</style>\n",
       "<table border=\"1\" class=\"dataframe\">\n",
       "  <thead>\n",
       "    <tr style=\"text-align: right;\">\n",
       "      <th></th>\n",
       "      <th>personUri</th>\n",
       "      <th>occupationUri</th>\n",
       "      <th>occupationLabel</th>\n",
       "    </tr>\n",
       "  </thead>\n",
       "  <tbody>\n",
       "    <tr>\n",
       "      <th>0</th>\n",
       "      <td>http://www.wikidata.org/entity/Q855257</td>\n",
       "      <td>http://www.wikidata.org/entity/Q155647</td>\n",
       "      <td>astrologer</td>\n",
       "    </tr>\n",
       "    <tr>\n",
       "      <th>1</th>\n",
       "      <td>http://www.wikidata.org/entity/Q855257</td>\n",
       "      <td>http://www.wikidata.org/entity/Q170790</td>\n",
       "      <td>mathematician</td>\n",
       "    </tr>\n",
       "    <tr>\n",
       "      <th>2</th>\n",
       "      <td>http://www.wikidata.org/entity/Q855257</td>\n",
       "      <td>http://www.wikidata.org/entity/Q1622272</td>\n",
       "      <td>university teacher</td>\n",
       "    </tr>\n",
       "    <tr>\n",
       "      <th>3</th>\n",
       "      <td>http://www.wikidata.org/entity/Q855257</td>\n",
       "      <td>http://www.wikidata.org/entity/Q4964182</td>\n",
       "      <td>philosopher</td>\n",
       "    </tr>\n",
       "    <tr>\n",
       "      <th>4</th>\n",
       "      <td>http://www.wikidata.org/entity/Q4121967</td>\n",
       "      <td>http://www.wikidata.org/entity/Q11063</td>\n",
       "      <td>astronomer</td>\n",
       "    </tr>\n",
       "  </tbody>\n",
       "</table>\n",
       "</div>"
      ],
      "text/plain": [
       "                                 personUri  \\\n",
       "0   http://www.wikidata.org/entity/Q855257   \n",
       "1   http://www.wikidata.org/entity/Q855257   \n",
       "2   http://www.wikidata.org/entity/Q855257   \n",
       "3   http://www.wikidata.org/entity/Q855257   \n",
       "4  http://www.wikidata.org/entity/Q4121967   \n",
       "\n",
       "                             occupationUri     occupationLabel  \n",
       "0   http://www.wikidata.org/entity/Q155647          astrologer  \n",
       "1   http://www.wikidata.org/entity/Q170790       mathematician  \n",
       "2  http://www.wikidata.org/entity/Q1622272  university teacher  \n",
       "3  http://www.wikidata.org/entity/Q4964182         philosopher  \n",
       "4    http://www.wikidata.org/entity/Q11063          astronomer  "
      ]
     },
     "execution_count": 9,
     "metadata": {},
     "output_type": "execute_result"
    }
   ],
   "source": [
    "### Créer un DataFrame à partir du résultat\n",
    "df_r = pd.DataFrame(r)\n",
    "df_r.columns = ['personUri', 'person_label', 'partiUri', 'partiLabel']\n",
    "df_r.head()"
   ]
  },
  {
   "cell_type": "code",
   "execution_count": null,
   "id": "eb664e6b-7fd0-4757-8bff-db79a0d52f97",
   "metadata": {
    "tags": []
   },
   "outputs": [
    {
     "name": "stdout",
     "output_type": "stream",
     "text": [
      "<class 'pandas.core.frame.DataFrame'>\n",
      "RangeIndex: 69010 entries, 0 to 69009\n",
      "Data columns (total 3 columns):\n",
      " #   Column           Non-Null Count  Dtype \n",
      "---  ------           --------------  ----- \n",
      " 0   personUri        69010 non-null  object\n",
      " 1   occupationUri    69010 non-null  object\n",
      " 2   occupationLabel  69010 non-null  object\n",
      "dtypes: object(3)\n",
      "memory usage: 1.6+ MB\n"
     ]
    }
   ],
   "source": [
    "df_r.info()"
   ]
  },
  {
   "cell_type": "markdown",
   "id": "61cf955b-aaca-446c-a957-47b86a4ea610",
   "metadata": {},
   "source": [
    "## Créer une nouvelle table dans la base de données SQLite"
   ]
  },
  {
   "cell_type": "code",
   "execution_count": null,
   "id": "00b2f7ff-7d67-4602-9b1e-38dd37809a75",
   "metadata": {},
   "outputs": [],
   "source": [
    "### Se connecter à la base de données dans laquelle on va insérer\n",
    "# le résultat de la requête SPARQL\n",
    "cn = sql.connect('../../data/conseil_national_import.db')\n",
    "cn"
   ]
  },
  {
   "cell_type": "code",
   "execution_count": null,
   "id": "97540a56-75b7-44b5-93b2-922e22b7bfd4",
   "metadata": {},
   "outputs": [],
   "source": [
    "### Créer une nouvelle table contenant le DataFrame\n",
    "# Si on tente de la recréer, alor qu'elle existe déjà,\n",
    "# un message d'erreur est renvoyé\n",
    "try:\n",
    "    l = df_r.to_sql(name='wdt_person_parti', con=cn, if_exists='fail')\n",
    "except Exception as e:\n",
    "    print('Erreur: ',  e)"
   ]
  },
  {
   "cell_type": "code",
   "execution_count": null,
   "id": "34f32038-ae06-47de-8a52-fc50cdfb2da9",
   "metadata": {},
   "outputs": [
    {
     "name": "stdout",
     "output_type": "stream",
     "text": [
      "(0, 'http://www.wikidata.org/entity/Q855257', 'http://www.wikidata.org/entity/Q155647', 'astrologer')\n",
      "(1, 'http://www.wikidata.org/entity/Q855257', 'http://www.wikidata.org/entity/Q170790', 'mathematician')\n",
      "(2, 'http://www.wikidata.org/entity/Q855257', 'http://www.wikidata.org/entity/Q1622272', 'university teacher')\n"
     ]
    }
   ],
   "source": [
    "### Vérifier que les données ont été importées correctement\n",
    "cur = cn.cursor()\n",
    "l = cur.execute(\"SELECT * FROM wdt_person_parti limit 3\").fetchall()\n",
    "### On a mis le résultat de la requête SQL \n",
    "# dans une liste 'l' qu'on affiche avec une boucle 'for'\n",
    "# dans le cadre d'une 'list comprehension'\n",
    "a = [print(e) for e in l]"
   ]
  },
  {
   "cell_type": "markdown",
   "id": "8d247232-d5c9-4f7a-88c3-1fa41b9bfc73",
   "metadata": {
    "tags": []
   },
   "source": [
    "## Prendre connaissance des occupations"
   ]
  },
  {
   "cell_type": "code",
   "execution_count": null,
   "id": "211c2ad5",
   "metadata": {},
   "outputs": [],
   "source": [
    "cn = sql.connect('../../data/conseil_national_import.db')"
   ]
  },
  {
   "cell_type": "code",
   "execution_count": null,
   "id": "172e0cbb",
   "metadata": {},
   "outputs": [
    {
     "data": {
      "text/html": [
       "<div>\n",
       "<style scoped>\n",
       "    .dataframe tbody tr th:only-of-type {\n",
       "        vertical-align: middle;\n",
       "    }\n",
       "\n",
       "    .dataframe tbody tr th {\n",
       "        vertical-align: top;\n",
       "    }\n",
       "\n",
       "    .dataframe thead th {\n",
       "        text-align: right;\n",
       "    }\n",
       "</style>\n",
       "<table border=\"1\" class=\"dataframe\">\n",
       "  <thead>\n",
       "    <tr style=\"text-align: right;\">\n",
       "      <th></th>\n",
       "      <th>uri</th>\n",
       "      <th>label</th>\n",
       "      <th>freq</th>\n",
       "    </tr>\n",
       "  </thead>\n",
       "  <tbody>\n",
       "    <tr>\n",
       "      <th>0</th>\n",
       "      <td>http://www.wikidata.org/entity/Q169470</td>\n",
       "      <td>physicist</td>\n",
       "      <td>25557</td>\n",
       "    </tr>\n",
       "    <tr>\n",
       "      <th>1</th>\n",
       "      <td>http://www.wikidata.org/entity/Q11063</td>\n",
       "      <td>astronomer</td>\n",
       "      <td>8050</td>\n",
       "    </tr>\n",
       "    <tr>\n",
       "      <th>2</th>\n",
       "      <td>http://www.wikidata.org/entity/Q1622272</td>\n",
       "      <td>university teacher</td>\n",
       "      <td>7619</td>\n",
       "    </tr>\n",
       "    <tr>\n",
       "      <th>3</th>\n",
       "      <td>http://www.wikidata.org/entity/Q170790</td>\n",
       "      <td>mathematician</td>\n",
       "      <td>2971</td>\n",
       "    </tr>\n",
       "    <tr>\n",
       "      <th>4</th>\n",
       "      <td>http://www.wikidata.org/entity/Q36180</td>\n",
       "      <td>writer</td>\n",
       "      <td>1181</td>\n",
       "    </tr>\n",
       "  </tbody>\n",
       "</table>\n",
       "</div>"
      ],
      "text/plain": [
       "                                       uri               label   freq\n",
       "0   http://www.wikidata.org/entity/Q169470           physicist  25557\n",
       "1    http://www.wikidata.org/entity/Q11063          astronomer   8050\n",
       "2  http://www.wikidata.org/entity/Q1622272  university teacher   7619\n",
       "3   http://www.wikidata.org/entity/Q170790       mathematician   2971\n",
       "4    http://www.wikidata.org/entity/Q36180              writer   1181"
      ]
     },
     "execution_count": 9,
     "metadata": {},
     "output_type": "execute_result"
    }
   ],
   "source": [
    "q=\"\"\"\n",
    "SELECT partiUri, partiLabel, COUNT(*) as effectif\n",
    "FROM wdt_person_parti\n",
    "GROUP BY partiUri , partiLabel\n",
    "ORDER BY effectif DESC\n",
    "\"\"\"\n",
    "cur = cn.cursor()\n",
    "r = cur.execute(q).fetchall()\n",
    "rdf = pd.DataFrame(r,columns=['uri', 'label', 'freq'])\n",
    "rdf.head()"
   ]
  },
  {
   "cell_type": "code",
   "execution_count": null,
   "id": "66823c4a",
   "metadata": {},
   "outputs": [
    {
     "name": "stdout",
     "output_type": "stream",
     "text": [
      "<class 'pandas.core.frame.DataFrame'>\n",
      "RangeIndex: 1280 entries, 0 to 1279\n",
      "Data columns (total 3 columns):\n",
      " #   Column  Non-Null Count  Dtype \n",
      "---  ------  --------------  ----- \n",
      " 0   uri     1280 non-null   object\n",
      " 1   label   1280 non-null   object\n",
      " 2   freq    1280 non-null   int64 \n",
      "dtypes: int64(1), object(2)\n",
      "memory usage: 30.1+ KB\n"
     ]
    }
   ],
   "source": [
    "rdf.info()"
   ]
  },
  {
   "cell_type": "code",
   "execution_count": null,
   "id": "213b8e31-73d8-4b15-abb1-2fe9fecd4e53",
   "metadata": {},
   "outputs": [],
   "source": [
    "### Après avoir crée avec SQLite Studio une table 'wdt_parti'\n",
    "# la remplir avec une ligne par parti\n",
    "\n",
    "\n",
    "q2 = \"\"\"\n",
    "INSERT INTO wdt_parti (wdt_uri,label)\n",
    "SELECT partiUri, partiLabel\n",
    "FROM wdt_person_parti\n",
    "GROUP BY partiUri , partiLabel ;\n",
    "\"\"\"\n",
    "\n",
    "## Attention : la requête est commentée pour éviter \n",
    "# de la réexécuter par mégarde\n",
    "\n",
    "cur = cn.cursor()\n",
    "# r = cur.execute(q2)\n",
    "cn.commit()"
   ]
  },
  {
   "cell_type": "code",
   "execution_count": null,
   "id": "28f6212a",
   "metadata": {},
   "outputs": [],
   "source": [
    "### ATTENTION : ces requêtes vident la table wdt_parti et remettent \n",
    "# la séquence des primary keys au début: la première valeur sera donc 1\n",
    "q3 = \"\"\"\n",
    "DELETE FROM wdt_parti  ;\n",
    "\"\"\"\n",
    "\n",
    "q4=\"\"\"UPDATE SQLITE_SEQUENCE \n",
    "    SET seq = 0\n",
    "    WHERE name ='wdt_parti';\n",
    "    \"\"\"\n",
    "\n",
    "cur = cn.cursor()\n",
    "#r = cur.execute(q2)\n",
    "#r1 = cur.execute(q4)\n",
    "cn.commit()"
   ]
  },
  {
   "cell_type": "code",
   "execution_count": null,
   "id": "92d43e52",
   "metadata": {},
   "outputs": [
    {
     "name": "stdout",
     "output_type": "stream",
     "text": [
      "Nombre de métiers différents: 1280\n"
     ]
    }
   ],
   "source": [
    "### Le nombre de partis différents: noter qu'il y des répétitions\n",
    "## et inconsistances dans les données de Wikidata\n",
    "\n",
    "q=\"\"\"\n",
    "SELECT COUNT(*)\n",
    "FROM wdt_parti\n",
    "\"\"\"\n",
    "cur = cn.cursor()\n",
    "r = cur.execute(q).fetchone()\n",
    "print('Nombre de partis différents:' , r[0])"
   ]
  },
  {
   "cell_type": "code",
   "execution_count": null,
   "id": "350ea6ae",
   "metadata": {},
   "outputs": [
    {
     "name": "stdout",
     "output_type": "stream",
     "text": [
      "1280\n"
     ]
    }
   ],
   "source": [
    "## Vérifier que le DataFrame rdf contient le même nombre de modalités\n",
    "print(len(rdf))"
   ]
  },
  {
   "cell_type": "code",
   "execution_count": null,
   "id": "d4fc103b",
   "metadata": {},
   "outputs": [
    {
     "data": {
      "image/png": "[encoded data removed]",
      "text/plain": [
       "<Figure size 1600x400 with 1 Axes>"
      ]
     },
     "metadata": {},
     "output_type": "display_data"
    }
   ],
   "source": [
    "### Disribution des partis\n",
    "## On observe une masse de partis avec peu d'effectifs,\n",
    "# et quelques partis très courants.\n",
    "# Ils sont représentées en tant que valeurs extrêmes\n",
    "rdf.boxplot(column=['freq'], vert=False, figsize=(16,4))\n",
    "plt.show()\n"
   ]
  },
  {
   "cell_type": "code",
   "execution_count": null,
   "id": "102b03c0",
   "metadata": {},
   "outputs": [
    {
     "data": {
      "text/html": [
       "<div>\n",
       "<style scoped>\n",
       "    .dataframe tbody tr th:only-of-type {\n",
       "        vertical-align: middle;\n",
       "    }\n",
       "\n",
       "    .dataframe tbody tr th {\n",
       "        vertical-align: top;\n",
       "    }\n",
       "\n",
       "    .dataframe thead th {\n",
       "        text-align: right;\n",
       "    }\n",
       "</style>\n",
       "<table border=\"1\" class=\"dataframe\">\n",
       "  <thead>\n",
       "    <tr style=\"text-align: right;\">\n",
       "      <th></th>\n",
       "      <th>effectif</th>\n",
       "      <th>nombre</th>\n",
       "      <th>labels</th>\n",
       "    </tr>\n",
       "  </thead>\n",
       "  <tbody>\n",
       "    <tr>\n",
       "      <th>0</th>\n",
       "      <td>1</td>\n",
       "      <td>591</td>\n",
       "      <td>Buddhologist; science teacher; knight; physica...</td>\n",
       "    </tr>\n",
       "    <tr>\n",
       "      <th>1</th>\n",
       "      <td>2</td>\n",
       "      <td>168</td>\n",
       "      <td>crime fiction writer; racing automobile driver...</td>\n",
       "    </tr>\n",
       "    <tr>\n",
       "      <th>2</th>\n",
       "      <td>3</td>\n",
       "      <td>87</td>\n",
       "      <td>civil rights advocate; computer engineer; muse...</td>\n",
       "    </tr>\n",
       "    <tr>\n",
       "      <th>3</th>\n",
       "      <td>4</td>\n",
       "      <td>68</td>\n",
       "      <td>applied mathematician; bibliographer; electron...</td>\n",
       "    </tr>\n",
       "    <tr>\n",
       "      <th>4</th>\n",
       "      <td>5</td>\n",
       "      <td>28</td>\n",
       "      <td>humanist; columnist; science administrator; cr...</td>\n",
       "    </tr>\n",
       "  </tbody>\n",
       "</table>\n",
       "</div>"
      ],
      "text/plain": [
       "   effectif  nombre                                             labels\n",
       "0         1     591  Buddhologist; science teacher; knight; physica...\n",
       "1         2     168  crime fiction writer; racing automobile driver...\n",
       "2         3      87  civil rights advocate; computer engineer; muse...\n",
       "3         4      68  applied mathematician; bibliographer; electron...\n",
       "4         5      28  humanist; columnist; science administrator; cr..."
      ]
     },
     "execution_count": 16,
     "metadata": {},
     "output_type": "execute_result"
    }
   ],
   "source": [
    "### On transforme en DataFrame le résultat du regroupement par fréquence\n",
    "\n",
    "q=\"\"\"\n",
    "WITH tw1 AS (\n",
    "SELECT partiUri, trim(partiLabel) partiLabel, COUNT(*) as effectif\n",
    "FROM wdt_person_parti\n",
    "GROUP BY partiUri, partiLabel )\n",
    "SELECT effectif, count(*) as freq, group_concat(partiLabel, '; ')\n",
    "FROM tw1\n",
    "GROUP BY effectif;\n",
    "\"\"\"\n",
    "cur = cn.cursor()\n",
    "r = cur.execute(q).fetchall()\n",
    "\n",
    "dfr = pd.DataFrame(r, columns=['effectif','nombre', 'labels'])\n",
    "dfr.head()"
   ]
  },
  {
   "cell_type": "code",
   "execution_count": null,
   "id": "977f6ac5",
   "metadata": {},
   "outputs": [
    {
     "data": {
      "text/html": [
       "<table id=\"itables_d494fcaa_c537_4a8b_9d93_6d1dc21e92b7\" class=\"display nowrap\" data-quarto-disable-processing=\"true\" style=\"table-layout:auto;width:auto;margin:auto;caption-side:bottom\">\n",
       "<thead><th>effectif</th><th>nombre</th><th>labels</th></thead><tbody><tr><td>Loading... (need <a href=https://mwouts.github.io/itables/troubleshooting.html>help</a>?)</td></tr></tbody>\n",
       "\n",
       "</table>\n",
       "<script type=\"module\">\n",
       "    const { DataTable, jQuery: $ } = await import(window._datatables_src_for_itables_2_0_0);\n",
       "\n",
       "    document.querySelectorAll(\"#itables_d494fcaa_c537_4a8b_9d93_6d1dc21e92b7:not(.dataTable)\").forEach(table => {\n",
       "        // Define the table data\n",
       "        const data = [[1, 591, \"Buddhologist; science teacher; knight; physical oceanographer; agricultural engineer; precentor; theatrologist; statutory auditor; hotel owner; patent troll; patent agent; member of the Swedish Riksdag; magazine editor; chorist; Q106887414; chief physician; textile artist; sustainability researcher; firefighter; Princeton Plasma Physics Laboratory; performance artist; field hockey player; baseball player; chronograph; mariologist; zoological collector; amateur mathematician; Department of Physics, National Taiwan University; microbial ecologist; scuba diving; mechanical technician; envoy; consumer advocate; list of astronomers; weather forecaster; engineering teacher; waka poet; pole dancer; cartoonist; nonprofit administrator; appliance repair; medicine; dendrochronologist; television maker; Q112120568; spiritualist; mathematical physicist; industrial designer; car designer; apothecary; boxer; torsion field; djembe player; fireman; architectural historian; political pundit; man of letters; control theorist; military commander; correspondent; monarch; mixed martial arts fighter; Q116984590; geodetic scientist; project scientist; ice hockey player; web video producer; clarinetist; piano tuner; pastry chef; associate professor; climate change researcher; immunologist; glassmaker; ambassador; dilettante; economist; materials physicist; amateur philosopher; food scientist; debater; bassoonist; Q123163947; forestry worker; phycologist; canon; trumpeter; architectural acoustician; graphologist; astrobotanist; radio engineer; leader; laborer; zionist; socialist; doctoral student; instrumentalist; proprietor; director of studies; artisan; puzzle designer; disc jockey; hiker; string player; refugee; governor; talent manager; tennis coach; costume designer; manufacturer; sapper; Q1327125; electronics technician; multi-instrumentalist; counter admiral; artistic gymnast; archer; table tennis player; bobsledder; skeleton racer; Australian rules football player; rugby player; development worker; obstetrician; sacristan; announcer; electronic data processing; evangelist; fellow; Trekkie; film score composer; postmaster; solicitor; property master; military volunteer; cognitive scientist; mintmaster; laboratory technician; magician; community leader; director general; water rescuer; volleyball player; cobbler; rancher; poker player; Chartered Physicist; triathlete; social scientist; medical researcher; garden designer; lector; high school professor; ventriloquist; virologist; cook; radiation protection; mechatronics technician; cell biologist; master of calculations; chess official; lichenologist; political writer; broadcaster; modern pentathlete; classical archaeologist; sports official; grammarian; political theorist; religious leader; pacifist; oboist; competitive diver; magistrate (civil law); legal scholar; Q16021384; chess teacher; conservationist; evolutionary biologist; policy advisor; Hofmarschall; sivil\\u00f8konom; pragmatist; peace and conflict researcher; embryologist; Q16335867; cryptologist; blacksmith; cryptanalyst; mentor; kinesiologist; illusionist; social reformer; runologist; brother; geopolitical analyst; hagiographer; spokesperson; Doctor in Engineering; Q17301486; circus performer; theatre critic; urologist; newspaper editor; cashier; catechist; mariner; pensioner; curler; water polo player; latinist; Phantasmagoria; saddler; lacrosse player; Dungeon Master; colonial administrator; mercenary; r\\u00e9p\\u00e9titeur; Blavatskian theosophy; Q1791874; bibliophile; directeur de recherche; record producer; abolitionist; stand-up comedian; newspaper delivery person; spectrometer; philosopher of language; ballistics expert; metropolitan; nun; petrologist; veteran; amateur radio operator; educational technologist; market researcher; perennial candidate; mentalist; preface author; laborer; managing director; Zen master; Q20045033; gerontologist; caver; referee; private space traveler; music journalist; national revival activist; nephrologist; gallerist; nuclear medicine physician; publisher; psephologist; photogrammetrist; materials engineer; prorector; regional writer; pentathlete; goldsmith; enameler; lutenist; comics critic; cyclist; radio drama actor; freelancer; conceptual artist; plantation owner; classical composer; semiologist; political prisoner; charg\\u00e9 d'affaires; geometer; seer; cultural activist; humanitarian; narrator; school counselor; rapper; daguerreotypist; town doctor; polygraph; Clerical Officer; neurophysiologist; woolcomber; sedimentologist; heresiarch; pulmonologist; chronologist; porcelain painter; classical guitarist; therapist; newspaper proprietor; dermatologist; drama teacher; exorcist; volunteer; customs officer; magician; thinker; creator; romanist; literary editor; jewelry designer; Q25387891; program maker; wine measurer; tool and die maker; quantitative analyst; Council of war; witchcraft; puppeteer; Q2635495; gynaecologist; bretteur; film exhibitor; scenographer; videographer; train driver; Postbeamter; broadcasting executive; landscape architect; science fiction author; activist shareholder; mosaicist; pomologist; pedologist; religious educator; otolaryngologist; chief of police; rugby union match official; glass artist; energy engineer; Wikidata editor; book designer; miniature painter; patent examiner; atomic spy; influencer; investment advisor; sexologist; spiritual teacher; compiler; Councillor of State; paleobotanist; clairvoyant; angiologist; mechanical automaton engineer; collection manager; quiltmaker; industrial leader; assayer; salonni\\u00e8re; folklorist; trainer; Q30897166; Religious person; horticulturist; research associate; regional pedagogical inspector (France); vedette; suffragette; magnetizer; churchwarden; ironmaster; mass-market retailing; Officer of the French Navy; potter; radio producer; academy rector; restaurateur; reader; locksmith; Q3488498; submariner; Look; traditional healer; proofreader; adjunct professor; scientific editor; correspondent; stereochemist; doctoral advisor; marine biologist; debunker; mental calculator; chancellor; counterfeiter; geomorphologist; Wikimedian in residence; police officer; protozoologist; treasurer; rock climber; sprinter; education minister; ballerina; airman; video blogger; blood donor; publicist; head of laboratory; vice president; holocaust denier; military writer; skier; reporter; Obozrevatel; percussionist; analytical chemist; long-distance runner; Q4516937; scholaster; endocrinologist; spiritual director; environmental consultant; co-founder; Paris Observatory, PSL University; stunt performer; municipal executive; belly dancer; diplomatician; Q47542857; education activist; Amtsarzt; acoustical engineer; analyst; bandurist; dramaturge; pornographic actor; schoolchild; firearms designer; numerical analyst; Dartmouth College; biomedical scientist; archbishop; lepidopterist; preceptor; musher; ship-owner; Charg\\u00e9 de mission; sport pilot; intelligence officer; company secretary; heraldist; real estate agent; Internet entrepreneur; Dean of women; Q52687813; gamer; biostatistician; planetary geologist; paleomagnetist; ethicist; experimentalist; attach\\u00e9; trombonist; role-playing game designer; Q54885602; religious sister; origamist; leading researcher; bookkeeper; grocer; policymaker; archiater; technical translator; spiritual medium; bassist; ethnohistorian; draper; traffic researcher; mountain rescuer; massage therapist; prosecutor; neuropsychologist; secularist; Wiktionarian; dialect writer; fighter pilot; application expert; seiy\\u016b; chief financial officer; association football coach; preside; consulting engineer; employee of a public institution; horologist; court clerk; wildlife photographer; jazz bassist; land agent; intendant; engineer of the French Corps of Bridges and Roads; general secretary; lay ministry; roleplayer; Q65516816; in-home tutor; mathematical instrument maker; microscope maker; geoarchaeologist; trans activist; district school inspector; glazier; judoka; behavior geneticist; master mariner; chief scientific officer; financial adviser; web developer; tax advisor; miller; film screenwriter; physiotherapist; social worker; art director; geoinformatician; nuclear chemist; electrochemist; quantum optician; electrooptician; pathophysiologist; lady-in-waiting; predikant; principal investigator; public procurator; Playboy Playmate; digital curator; conferencier; clerk; poster artist; father; miliaria; data analyst; instructor; gatherer; union organizer; University Teachers Union; ballet dancer; bank officer; political adviser; criminologist; project manager; miner; Reverend; structural biologist; Bhikkhu; flight controller; association football referee; Magic: The Gathering player; photochemist; party official; globe maker; winegrower; Q90238261; mathematical biologist; business magnate; brewer; military chaplain; Q9280998; himalayist; network scientist; satirist; Czechoslovak legionary; secretary; pioneer; order of canons regular; Confucian scholar; keyboard instrument maker; senior research fellow; program host; trade union official; business broker; discoverer of minor planets; discoverer of astronomical objects; Q96207371; archaeological scientist; record collector; mathematical statistician; wind instrument player; professors, scientific professions; ing\\u00e9nieurs et cadres techniques d'entreprise; Q97940862; eyeglass maker; scientific collector; moral theologian; geohasher; storm chaser; anti-racist; illuminator\"], [2, 168, \"crime fiction writer; racing automobile driver; historian of science and technology; scientific explorer; research scientist; deputy; atomic physicist; atmospheric chemist; documentary participant; company director; keyboardist; Q108439375; discoverer of comets; speed skater; comics creator; postdoctoral researcher; Go player; camera operator; general manager; typographer; ethnographer; documentary filmmaker; soil scientist; Orthodox theologian; vice chancellor; personal physician; saxophonist; handball player; flautist; transportation engineer; French moralist; urban planner; figure skater; functionary; court counsel; fencer; master builder; Lippmann plate; music critic; surfer; rugby union player; filmmaker; schoolmaster; architectural draftsperson; military historian; archaeoastronomer; cabaret performer; carpenter; short story writer; literary theorist; bodybuilder; Chartered Building Surveyor; herpetologist; scholar of English; encyclopedist; Renaissance humanist; marine engineer; University professor; administrator; Lehrbeauftragter; ethologist; business consultant; patriarch; architectural theoretician; astronautical engineer; church historian; historian of religion; regional historian; historian of student; theatre manager; communard; scout; lord of the manor; bridge player; indologist; stenographer; hellenist; forester; pediatrician; financier; Oberstudienrat; management engineer; telegraphist; nuclear engineer; amateur photographer; oracle; zootechnician; pseudoscientist; cartomancer; superintendent; deaconess; press agent; philosopher of law; voice actor; tailor; Bible translator; comedian; choreographer; chamberlain; independent scholar; professor of philosophy; tarento; dentist; Idist; glider pilot; yogi; gnomonist; Islamicist; system administrator; qualified member of the engine department; jeweler; honorary professor; feminist; fashion designer; pastor; hydrogeologist; oenologist; showman; aphorist; rhetorician; tanner; pubblicista journalist; advocate; Science slam; art critic; film critic; Christian mystic; aikidoka; theosophist; Q48469035; amanuensis; cattle rancher; educational consultant; harpsichordist; martinist; calendar scientist; officer; chancellor; scientific instrument maker; educational theorist; critic; instructional staff; estate owner; Aliyah Bet activist; business informatician; professor of mathematics; preservationist; prelate; test pilot; narrator; provost; gardener; Protestant reformer; school superintendent; fortune teller; librettist; lyricist; social activist; dietitian; political analyst; laboratory director; didactician; karateka; systems analyst; science advisor; Lutheran pastor; KVN actor; Q99756919\"], [3, 87, \"civil rights advocate; computer engineer; museologist; tour guide; fluid dynamicist; chemistry teacher; chief officer; choir director; tennis player; interpreter; mass spectrometrist; weather presenter; cosmochemist; documentarian; poet lawyer; audio engineer; Chernobyl liquidator; chairperson; event producer; oncologist; deacon; malacologist; pteridologist; literary scholar; art theorist; installation artist; beauty pageant contestant; senior lecturer; assyriologist; world traveler; LGBTQI+ rights activist; cultural studies scholar; conspiracy theorist; biomedical engineer; Islamic jurist; veterinarian; pharmacologist; radiobiologist; aesthetician; industrial engineer; philosophy historian; Catholic deacon; navigator; germanist; life coach; bioengineer; board member; communist; marine architect; anesthesiologist; general contractor; highway engineer; collector; cardiologist; accountant; clergyman; division manager; abb\\u00e9; travel writer; caricaturist; head of department; ichthyologist; adult educator; Hebraist; chemical technologist; Judaic scholar; cyberneticist; investor; antiquarian; intellectual; hermeticist; arabist; graphic designer; nanotechnologist; general practitioner; hygienist; film editor; council member; microscopist; rheologist; postal worker; principal; ceramicist; thermodynamicist; minister; laser physicist; bookseller\"], [4, 68, \"applied mathematician; bibliographer; electronic engineer; swimmer; anthroposophist; popular science author; patent attorney; homeopath; telecommunications engineer; technologist; senior lecturer; orator; cellist; copper engraver; rower; literary historian; ethnologist; philatelist; patron of the arts; epistemologist; systems engineer; magician; jazz musician; bryologist; electrician; hydraulic engineer; environmental scientist; political commissar; lithographer; software engineer; theorist; diarist; '\\u0101lim; ministry official; computational physicist; athlete; aerodynamicist; cinematographer; classical scholar; clockmaker; mathematics teacher; correspondence chess player; mayor; college professor in Quebec; revolutionary; engraver; justice of the peace; theatrical director; academician; coach; organizational founder; student; lens designer; medical instrument maker; railway engineer; comics artist; patent inventor; television writer; exhibition curator; secretary; business manager; photon scientist; futurist; beekeeper; historian of physics; spectroscopist; tutor; atmospheric physicist\"], [5, 28, \"humanist; columnist; science administrator; cricketer; demographer; electronician; polar explorer; space scientist; sinologist; geochemist; optical engineer; scientific illustrator; biblical scholar; neurobiologist; aeronautical engineer; restorer; scholar; research professor; opera singer; Director of Research at CNRS; hematologist; chronicler; Anglican priest; basketball player; army officer; military physician; model; scribe\"], [6, 29, \"television actor; historian of astronomy; holographer; seafarer; logician; historian of technology; printer; notary; medical physicist; musical instrument maker; astrophotographer; Wikipedian; topographer; aristocrat; suffragist; data scientist; pathologist; director; medic; hydrologist; statesperson; microbiologist; expert; university president; friar; baccalaureate tenured teacher; radio astronomer; metrologist; evangelical theologian\"], [7, 28, \"primary school teacher; radio technician; epidemiologist; Privatdozent; conductor; internist; esotericist; music teacher; member of the State Duma; prehistorian; software developer; school inspector; religious studies scholar; partisan; chess composer; bioinformatician; psychic; discoverer of asteroids; television personality; magistrate; chief executive officer; physician writer; dancer; archivist; industrialist; presbyter; genealogist; spy\"], [8, 27, \"local politician; canon; earth scientist; printmaker; memoirist; philanthropist; violinist; farmer; Latin Catholic priest; lexicographer; podcaster; classical philologist; speleologist; atmospheric scientist; selenographer; dissident; graphic artist; mycologist; calligrapher; psychoanalyst; literary critic; sailor; singer-songwriter; television producer; climate activist; public figure; mechanician\"], [9, 18, \"Studienrat; egyptologist; presenter; local historian; mining engineer; autobiographer; regular priest; scholar; parapsychologist; Wikimedian; pianist; neurologist; chemical engineer; volcanologist; guitarist; theoretical chemist; association football player; Catholic theologian\"], [10, 18, \"hydrographer; film actor; athletics competitor; ophthalmologist; cryptographer; peace activist; YouTuber; science journalist; actuary; topologist; psychiatrist; astrobiologist; film producer; religious servant; professor of physics; faculty member; encyclop\\u00e9distes; songwriter\"], [11, 13, \"physics teacher; acoustician; mystic; trade unionist; orientalist; botanical collector; cosmographer; women's rights activist; designer; literary; numerologist; barrister; parson\"], [12, 5, \"design engineer; traveler; religious; preacher; organist\"], [13, 15, \"art collector; human computer; political scientist; resistance fighter; alchemist; consultant; agronomist; stage actor; French Resistance fighter; healer; polymath; business executive; mechanic; visual artist; assistant professor\"], [14, 8, \"glaciologist; watchmaker; paleontologist; Oberlehrer; psychotherapist; numismatist; editor-in-chief; banker\"], [15, 6, \"occultist; artificial intelligence researcher; ufologist; cleric; textbook writer; soldier\"], [16, 8, \"amateur astronomer; prose writer; information scientist; adviser; environmentalist; mind gamer; optician; balloonist\"], [17, 9, \"director; sculptor; rabbi; military engineer; drawer; ecologist; merchant; film director; professeur des universit\\u00e9s\"], [18, 4, \"school teacher; radio personality; Catholic bishop; blogger\"], [19, 5, \"political activist; ornithologist; quantum physicist; singer; curator\"], [20, 4, \"anatomist; philologist; judge; artist\"], [21, 5, \"pastor; molecular biologist; philosopher of science; art historian; surgeon\"], [22, 3, \"playwright; technician; official\"], [23, 2, \"Christian minister; particle physicist\"], [24, 3, \"human rights activist; geneticist; biographer\"], [25, 5, \"naval officer; activist; historian of mathematics; optician; monk\"], [26, 2, \"sociologist; executive\"], [27, 4, \"thermophysicist; civil servant; children's writer; lecturer\"], [28, 2, \"illustrator; dean\"], [29, 3, \"aircraft pilot; oceanographer; anthropologist\"], [30, 4, \"head teacher; music theorist; missionary; science writer\"], [31, 2, \"chess player; materials scientist\"], [32, 4, \"essayist; radiologist; academic administrator; experimental physicist\"], [33, 2, \"pharmacist; neuroscientist\"], [34, 2, \"planetary scientist; physiologist\"], [35, 1, \"mountaineer\"], [36, 1, \"instrument maker\"], [37, 1, \"electrotechnician\"], [38, 1, \"manager\"], [39, 1, \"research fellow\"], [40, 1, \"seismologist\"], [41, 1, \"Esperantist\"], [42, 1, \"screenwriter\"], [44, 4, \"physical chemist; actor; docent; television presenter\"], [45, 2, \"metallurgist; educator\"], [46, 1, \"zoologist\"], [47, 1, \"editing staff\"], [48, 2, \"entomologist; programmer\"], [50, 1, \"musicologist\"], [51, 2, \"biochemist; lawyer\"], [52, 4, \"mineralogist; publisher; cosmologist; archaeologist\"], [55, 1, \"novelist\"], [56, 1, \"lecturer\"], [59, 2, \"climatologist; jurist\"], [60, 2, \"astronaut; musician\"], [61, 2, \"psychologist; statistician\"], [65, 1, \"mechanical engineer\"], [67, 1, \"linguist\"], [68, 2, \"architect; military personnel\"], [70, 2, \"editor; composer\"], [72, 1, \"historian of science\"], [73, 1, \"librarian\"], [75, 1, \"diplomat\"], [78, 3, \"civil engineer; economist; military officer\"], [79, 1, \"crystallographer\"], [82, 1, \"aerospace engineer\"], [85, 1, \"priest\"], [94, 1, \"explorer\"], [96, 1, \"businessperson\"], [99, 1, \"entrepreneur\"]];\n",
       "\n",
       "        // Define the dt_args\n",
       "        let dt_args = {\"scrollY\": \"300px\", \"scrollCollapse\": true, \"paging\": false, \"columnDefs\": [{\"className\": \"dt-left\", \"targets\": \"_all\"}], \"layout\": {\"topStart\": \"pageLength\", \"topEnd\": \"search\", \"bottomStart\": \"info\", \"bottomEnd\": \"paging\"}, \"order\": [], \"warn_on_dom\": true, \"initComplete\": function () {\n",
       "    // Apply the search\n",
       "    this.api()\n",
       "        .columns()\n",
       "        .every(function () {\n",
       "            const that = this;\n",
       "\n",
       "            $('input', this.header()).on('keyup change clear', function () {\n",
       "                if (that.search() !== this.value) {\n",
       "                    that.search(this.value).draw();\n",
       "                }\n",
       "            });\n",
       "        });\n",
       "}\n",
       "};\n",
       "        dt_args[\"data\"] = data;\n",
       "\n",
       "        // Setup - add a text input to each header or footer cell\n",
       "$('#itables_d494fcaa_c537_4a8b_9d93_6d1dc21e92b7:not(.dataTable) thead th').each(function () {\n",
       "    let title = $(this).text();\n",
       "    $(this).html('<input type=\"text\" placeholder=\"Search ' +\n",
       "        // We use encodeURI to avoid this LGTM error:\n",
       "        // https://lgtm.com/rules/1511866576920/\n",
       "        encodeURI(title).replaceAll(\"%20\", \" \") +\n",
       "        '\" />');\n",
       "});\n",
       "\n",
       "        new DataTable(table, dt_args);\n",
       "    });\n",
       "</script>\n"
      ],
      "text/plain": [
       "<IPython.core.display.HTML object>"
      ]
     },
     "metadata": {},
     "output_type": "display_data"
    }
   ],
   "source": [
    "## exemple de lecture, ligne 9:  il y a 18 cas de métiers pratiqués par 10 individus >> a recommenter\n",
    "# et donc il y a presque 600 métiers mentionnés une seule fois !\n",
    "\n",
    "show(dfr[dfr['effectif'] < 100],  scrollY=\"300px\", scrollCollapse=True, paging=False, \n",
    "     showIndex=False, column_filters=\"header\", columnDefs=[{\"className\": \"dt-left\", \"targets\": \"_all\"}])"
   ]
  },
  {
   "cell_type": "code",
   "execution_count": null,
   "id": "ef806362",
   "metadata": {},
   "outputs": [
    {
     "data": {
      "text/html": [
       "<table id=\"itables_f01f8548_4bfe_4844_af4c_1f0bab9a0fa2\" class=\"display nowrap\" data-quarto-disable-processing=\"true\" style=\"table-layout:auto;width:50%;float:left\">\n",
       "<thead><th>effectif</th><th>nombre</th><th>labels</th></thead><tbody><tr><td>Loading... (need <a href=https://mwouts.github.io/itables/troubleshooting.html>help</a>?)</td></tr></tbody>\n",
       "\n",
       "</table>\n",
       "<script type=\"module\">\n",
       "    const { DataTable, jQuery: $ } = await import(window._datatables_src_for_itables_2_0_0);\n",
       "\n",
       "    document.querySelectorAll(\"#itables_f01f8548_4bfe_4844_af4c_1f0bab9a0fa2:not(.dataTable)\").forEach(table => {\n",
       "        // Define the table data\n",
       "        const data = [[103, 1, \"science fiction writer\"], [108, 1, \"surveyor\"], [111, 1, \"painter\"], [114, 1, \"opinion journalist\"], [126, 1, \"Catholic priest\"], [132, 1, \"science communicator\"], [136, 2, \"geologist; geographer\"], [143, 1, \"cartographer\"], [145, 1, \"author\"], [151, 2, \"non-fiction writer; photographer\"], [157, 1, \"electrical engineer\"], [159, 1, \"biologist\"], [167, 1, \"geophysicist\"], [170, 1, \"high school teacher\"], [172, 1, \"biophysicist\"], [183, 1, \"botanist\"], [192, 1, \"naturalist\"], [200, 1, \"journalist\"], [208, 1, \"theologian\"], [222, 1, \"poet\"], [251, 1, \"historian\"], [259, 1, \"translator\"], [318, 1, \"computer scientist\"], [346, 1, \"meteorologist\"], [352, 1, \"academic\"], [357, 1, \"pedagogue\"], [501, 1, \"physician\"], [524, 1, \"teacher\"], [532, 2, \"professor; inventor\"], [548, 1, \"philosopher\"], [565, 1, \"theoretical physicist\"], [679, 1, \"scientist\"], [796, 1, \"politician\"], [808, 1, \"nuclear physicist\"], [949, 1, \"astrologer\"], [1006, 1, \"astrophysicist\"], [1007, 1, \"researcher\"], [1033, 1, \"chemist\"], [1075, 1, \"engineer\"], [1181, 1, \"writer\"], [2971, 1, \"mathematician\"], [7619, 1, \"university teacher\"], [8050, 1, \"astronomer\"], [25557, 1, \"physicist\"]];\n",
       "\n",
       "        // Define the dt_args\n",
       "        let dt_args = {\"scrollY\": \"300px\", \"scrollCollapse\": true, \"paging\": false, \"layout\": {\"topStart\": \"pageLength\", \"topEnd\": null, \"bottomStart\": \"info\", \"bottomEnd\": \"paging\"}, \"columnDefs\": [{\"className\": \"dt-left\", \"targets\": \"_all\"}], \"order\": [], \"warn_on_dom\": true, \"initComplete\": function () {\n",
       "    // Apply the search\n",
       "    this.api()\n",
       "        .columns()\n",
       "        .every(function () {\n",
       "            const that = this;\n",
       "\n",
       "            $('input', this.header()).on('keyup change clear', function () {\n",
       "                if (that.search() !== this.value) {\n",
       "                    that.search(this.value).draw();\n",
       "                }\n",
       "            });\n",
       "        });\n",
       "}\n",
       "};\n",
       "        dt_args[\"data\"] = data;\n",
       "\n",
       "        // Setup - add a text input to each header or footer cell\n",
       "$('#itables_f01f8548_4bfe_4844_af4c_1f0bab9a0fa2:not(.dataTable) thead th').each(function () {\n",
       "    let title = $(this).text();\n",
       "    $(this).html('<input type=\"text\" placeholder=\"Search ' +\n",
       "        // We use encodeURI to avoid this LGTM error:\n",
       "        // https://lgtm.com/rules/1511866576920/\n",
       "        encodeURI(title).replaceAll(\"%20\", \" \") +\n",
       "        '\" />');\n",
       "});\n",
       "\n",
       "        new DataTable(table, dt_args);\n",
       "    });\n",
       "</script>\n"
      ],
      "text/plain": [
       "<IPython.core.display.HTML object>"
      ]
     },
     "metadata": {},
     "output_type": "display_data"
    }
   ],
   "source": [
    "### Représenter les valeurs les plus fréquentes\n",
    "\n",
    "\n",
    "show(dfr[dfr['effectif'] > 99],  scrollY=\"300px\", scrollCollapse=True, paging=False, \n",
    "     showIndex=False, column_filters=\"header\", layout={\"topEnd\": None}, \n",
    "     columnDefs=[{\"className\": \"dt-left\", \"targets\": \"_all\"}], style=\"table-layout:auto;width:50%;float:left\")"
   ]
  },
  {
   "cell_type": "code",
   "execution_count": null,
   "id": "e9fc3447",
   "metadata": {},
   "outputs": [
    {
     "data": {
      "image/png": "[encoded data removed]",
      "text/plain": [
       "<Figure size 600x1000 with 1 Axes>"
      ]
     },
     "metadata": {},
     "output_type": "display_data"
    }
   ],
   "source": [
    "### Représentation graphique des effectifs par année\n",
    "\n",
    "ax = rdf[(rdf['freq']>100) & (rdf['freq'] < 2000)].sort_values(by='freq', ascending=True).plot(x='label', y='freq', \n",
    "                 kind='barh', fontsize=8, figsize=(6, 10)) # ,rot=5\n",
    "\n",
    "\n",
    "#max_xticks = 20\n",
    "#xloc = plt.MaxNLocator(max_xticks)\n",
    "#ax.xaxis.set_major_locator(xloc)\n",
    "\n",
    "plt.ylabel('Effectif')\n",
    "plt.xlabel('parti')\n",
    "plt.title('Effectif par parti')\n",
    "plt.show()"
   ]
  },
  {
   "cell_type": "code",
   "execution_count": null,
   "id": "c91c6e81",
   "metadata": {},
   "outputs": [
    {
     "data": {
      "text/plain": [
       "[(1, 'Buddhologist', 'http://www.wikidata.org/entity/Q100851212'),\n",
       " (2, 'physics teacher', 'http://www.wikidata.org/entity/Q101445630'),\n",
       " (3, 'science teacher', 'http://www.wikidata.org/entity/Q101445634')]"
      ]
     },
     "execution_count": 20,
     "metadata": {},
     "output_type": "execute_result"
    }
   ],
   "source": [
    "q=\"\"\"\n",
    "SELECT pk_wdt_parti, label, wdt_uri\n",
    "FROM wdt_parti\n",
    "\"\"\"\n",
    "cur = cn.cursor()\n",
    "r = cur.execute(q).fetchall()\n",
    "[e for e in r][:3]"
   ]
  },
  {
   "cell_type": "code",
   "execution_count": null,
   "id": "462c11b2",
   "metadata": {},
   "outputs": [
    {
     "data": {
      "text/plain": [
       "[('http://www.wikidata.org/entity/Q1000193',\n",
       "  'Hans Elsässer',\n",
       "  'http://www.wikidata.org/entity/Q6581097',\n",
       "  '1929',\n",
       "  'astronomer'),\n",
       " ('http://www.wikidata.org/entity/Q1000934',\n",
       "  'Charles Christian Lauritsen',\n",
       "  'http://www.wikidata.org/entity/Q6581097',\n",
       "  '1892',\n",
       "  'nuclear physicist,physicist,university teacher'),\n",
       " ('http://www.wikidata.org/entity/Q100153910',\n",
       "  'Frank J. Blatt',\n",
       "  'http://www.wikidata.org/entity/Q6581097',\n",
       "  '1924',\n",
       "  'physicist,university teacher')]"
      ]
     },
     "execution_count": 21,
     "metadata": {},
     "output_type": "execute_result"
    }
   ],
   "source": [
    "q=\"\"\"\n",
    "SELECT wp.partiUri, wp.partiLabel, min(wp.genderUri) gender, \n",
    "\t\t\tmin(wp.birthYear) birthYear, \n",
    "\t\t\tgroup_concat(distinct trim(partiLabel) order by partiLabel) partiLabels\n",
    "FROM wdt_person_parti wpo, wdt_personne wp \n",
    "WHERE wp.personUri = wpo.personUri \n",
    "GROUP BY wp.personUri, wp.personLabel;\n",
    "\"\"\"\n",
    "cur = cn.cursor()\n",
    "r = cur.execute(q).fetchall()\n",
    "[e for e in r][:3]"
   ]
  },
  {
   "cell_type": "code",
   "execution_count": null,
   "id": "6d6e152e",
   "metadata": {},
   "outputs": [
    {
     "data": {
      "text/html": [
       "<div>\n",
       "<style scoped>\n",
       "    .dataframe tbody tr th:only-of-type {\n",
       "        vertical-align: middle;\n",
       "    }\n",
       "\n",
       "    .dataframe tbody tr th {\n",
       "        vertical-align: top;\n",
       "    }\n",
       "\n",
       "    .dataframe thead th {\n",
       "        text-align: right;\n",
       "    }\n",
       "</style>\n",
       "<table border=\"1\" class=\"dataframe\">\n",
       "  <thead>\n",
       "    <tr style=\"text-align: right;\">\n",
       "      <th></th>\n",
       "      <th>person_label</th>\n",
       "      <th>genderUri</th>\n",
       "      <th>birthYear</th>\n",
       "      <th>occupations</th>\n",
       "    </tr>\n",
       "    <tr>\n",
       "      <th>person_uri</th>\n",
       "      <th></th>\n",
       "      <th></th>\n",
       "      <th></th>\n",
       "      <th></th>\n",
       "    </tr>\n",
       "  </thead>\n",
       "  <tbody>\n",
       "    <tr>\n",
       "      <th>http://www.wikidata.org/entity/Q1000193</th>\n",
       "      <td>Hans Elsässer</td>\n",
       "      <td>http://www.wikidata.org/entity/Q6581097</td>\n",
       "      <td>1929</td>\n",
       "      <td>astronomer</td>\n",
       "    </tr>\n",
       "    <tr>\n",
       "      <th>http://www.wikidata.org/entity/Q1000934</th>\n",
       "      <td>Charles Christian Lauritsen</td>\n",
       "      <td>http://www.wikidata.org/entity/Q6581097</td>\n",
       "      <td>1892</td>\n",
       "      <td>nuclear physicist,physicist,university teacher</td>\n",
       "    </tr>\n",
       "    <tr>\n",
       "      <th>http://www.wikidata.org/entity/Q100153910</th>\n",
       "      <td>Frank J. Blatt</td>\n",
       "      <td>http://www.wikidata.org/entity/Q6581097</td>\n",
       "      <td>1924</td>\n",
       "      <td>physicist,university teacher</td>\n",
       "    </tr>\n",
       "    <tr>\n",
       "      <th>http://www.wikidata.org/entity/Q100155322</th>\n",
       "      <td>Edgar Knobloch</td>\n",
       "      <td>http://www.wikidata.org/entity/Q6581097</td>\n",
       "      <td>1953</td>\n",
       "      <td>physicist</td>\n",
       "    </tr>\n",
       "    <tr>\n",
       "      <th>http://www.wikidata.org/entity/Q100157315</th>\n",
       "      <td>Ding Jing</td>\n",
       "      <td>http://www.wikidata.org/entity/Q6581097</td>\n",
       "      <td>1924</td>\n",
       "      <td>physicist,university teacher</td>\n",
       "    </tr>\n",
       "  </tbody>\n",
       "</table>\n",
       "</div>"
      ],
      "text/plain": [
       "                                                          person_label  \\\n",
       "person_uri                                                               \n",
       "http://www.wikidata.org/entity/Q1000193                  Hans Elsässer   \n",
       "http://www.wikidata.org/entity/Q1000934    Charles Christian Lauritsen   \n",
       "http://www.wikidata.org/entity/Q100153910               Frank J. Blatt   \n",
       "http://www.wikidata.org/entity/Q100155322               Edgar Knobloch   \n",
       "http://www.wikidata.org/entity/Q100157315                    Ding Jing   \n",
       "\n",
       "                                                                         genderUri  \\\n",
       "person_uri                                                                           \n",
       "http://www.wikidata.org/entity/Q1000193    http://www.wikidata.org/entity/Q6581097   \n",
       "http://www.wikidata.org/entity/Q1000934    http://www.wikidata.org/entity/Q6581097   \n",
       "http://www.wikidata.org/entity/Q100153910  http://www.wikidata.org/entity/Q6581097   \n",
       "http://www.wikidata.org/entity/Q100155322  http://www.wikidata.org/entity/Q6581097   \n",
       "http://www.wikidata.org/entity/Q100157315  http://www.wikidata.org/entity/Q6581097   \n",
       "\n",
       "                                          birthYear  \\\n",
       "person_uri                                            \n",
       "http://www.wikidata.org/entity/Q1000193        1929   \n",
       "http://www.wikidata.org/entity/Q1000934        1892   \n",
       "http://www.wikidata.org/entity/Q100153910      1924   \n",
       "http://www.wikidata.org/entity/Q100155322      1953   \n",
       "http://www.wikidata.org/entity/Q100157315      1924   \n",
       "\n",
       "                                                                              occupations  \n",
       "person_uri                                                                                 \n",
       "http://www.wikidata.org/entity/Q1000193                                        astronomer  \n",
       "http://www.wikidata.org/entity/Q1000934    nuclear physicist,physicist,university teacher  \n",
       "http://www.wikidata.org/entity/Q100153910                    physicist,university teacher  \n",
       "http://www.wikidata.org/entity/Q100155322                                       physicist  \n",
       "http://www.wikidata.org/entity/Q100157315                    physicist,university teacher  "
      ]
     },
     "execution_count": 22,
     "metadata": {},
     "output_type": "execute_result"
    }
   ],
   "source": [
    "### On transforme la liste en DataFrame\n",
    "df_p = pd.DataFrame(r, columns=['person_uri', 'person_label', \n",
    "                        'genderUri', 'birthYear', 'partis'])\n",
    "df_p = df_p.set_index('person_uri',drop=True)\n",
    "df_p.head()"
   ]
  },
  {
   "cell_type": "code",
   "execution_count": null,
   "id": "cc2ea9fe",
   "metadata": {},
   "outputs": [
    {
     "name": "stdout",
     "output_type": "stream",
     "text": [
      "33647\n"
     ]
    }
   ],
   "source": [
    "print(len(df_p))"
   ]
  },
  {
   "cell_type": "markdown",
   "id": "4edbe1ce",
   "metadata": {},
   "source": [
    "### Ajouter le genre"
   ]
  },
  {
   "cell_type": "code",
   "execution_count": null,
   "id": "4a374b11",
   "metadata": {},
   "outputs": [],
   "source": [
    "### On créé d'abord une fonction qui effectue le travail\n",
    "\n",
    "## l'argument de la fonction 'g_uri' est un nom choisi librement\n",
    "# il est ensuite appelé dans la fonction comme variable\n",
    "# et contient la valeur introduite lors de l'utilisation de la fonction \n",
    "def code_gender(g_uri):\n",
    "    if g_uri == 'http://www.wikidata.org/entity/Q6581097':\n",
    "        # genre masculin\n",
    "        a = 'M'\n",
    "    elif g_uri =='http://www.wikidata.org/entity/Q6581072':\n",
    "        # genre féminin\n",
    "        a = 'F'\n",
    "    else:\n",
    "        # genre autre\n",
    "        a = 'A'\n",
    "    return a    "
   ]
  },
  {
   "cell_type": "code",
   "execution_count": null,
   "id": "a69298f4",
   "metadata": {},
   "outputs": [
    {
     "data": {
      "text/html": [
       "<div>\n",
       "<style scoped>\n",
       "    .dataframe tbody tr th:only-of-type {\n",
       "        vertical-align: middle;\n",
       "    }\n",
       "\n",
       "    .dataframe tbody tr th {\n",
       "        vertical-align: top;\n",
       "    }\n",
       "\n",
       "    .dataframe thead th {\n",
       "        text-align: right;\n",
       "    }\n",
       "</style>\n",
       "<table border=\"1\" class=\"dataframe\">\n",
       "  <thead>\n",
       "    <tr style=\"text-align: right;\">\n",
       "      <th></th>\n",
       "      <th>person_label</th>\n",
       "      <th>birthYear</th>\n",
       "      <th>occupations</th>\n",
       "      <th>gender</th>\n",
       "    </tr>\n",
       "    <tr>\n",
       "      <th>person_uri</th>\n",
       "      <th></th>\n",
       "      <th></th>\n",
       "      <th></th>\n",
       "      <th></th>\n",
       "    </tr>\n",
       "  </thead>\n",
       "  <tbody>\n",
       "    <tr>\n",
       "      <th>http://www.wikidata.org/entity/Q124414761</th>\n",
       "      <td>JA Grier</td>\n",
       "      <td>1968</td>\n",
       "      <td>astronomer,planetary scientist,scientist</td>\n",
       "      <td>A</td>\n",
       "    </tr>\n",
       "    <tr>\n",
       "      <th>http://www.wikidata.org/entity/Q125054679</th>\n",
       "      <td>Zhao Wenjin</td>\n",
       "      <td>1991</td>\n",
       "      <td>physicist</td>\n",
       "      <td>A</td>\n",
       "    </tr>\n",
       "    <tr>\n",
       "      <th>http://www.wikidata.org/entity/Q15990211</th>\n",
       "      <td>Rachael Padman</td>\n",
       "      <td>1954</td>\n",
       "      <td>astronomer,astrophysicist,physicist</td>\n",
       "      <td>A</td>\n",
       "    </tr>\n",
       "    <tr>\n",
       "      <th>http://www.wikidata.org/entity/Q16913156</th>\n",
       "      <td>Ophelia Pastrana</td>\n",
       "      <td>1982</td>\n",
       "      <td>YouTuber,actor,businessperson,physicist,televi...</td>\n",
       "      <td>A</td>\n",
       "    </tr>\n",
       "    <tr>\n",
       "      <th>http://www.wikidata.org/entity/Q23656158</th>\n",
       "      <td>Lucianne M. Walkowicz</td>\n",
       "      <td>1979</td>\n",
       "      <td>astronomer</td>\n",
       "      <td>A</td>\n",
       "    </tr>\n",
       "  </tbody>\n",
       "</table>\n",
       "</div>"
      ],
      "text/plain": [
       "                                                    person_label birthYear  \\\n",
       "person_uri                                                                   \n",
       "http://www.wikidata.org/entity/Q124414761               JA Grier      1968   \n",
       "http://www.wikidata.org/entity/Q125054679            Zhao Wenjin      1991   \n",
       "http://www.wikidata.org/entity/Q15990211          Rachael Padman      1954   \n",
       "http://www.wikidata.org/entity/Q16913156        Ophelia Pastrana      1982   \n",
       "http://www.wikidata.org/entity/Q23656158   Lucianne M. Walkowicz      1979   \n",
       "\n",
       "                                                                                 occupations  \\\n",
       "person_uri                                                                                     \n",
       "http://www.wikidata.org/entity/Q124414761           astronomer,planetary scientist,scientist   \n",
       "http://www.wikidata.org/entity/Q125054679                                          physicist   \n",
       "http://www.wikidata.org/entity/Q15990211                 astronomer,astrophysicist,physicist   \n",
       "http://www.wikidata.org/entity/Q16913156   YouTuber,actor,businessperson,physicist,televi...   \n",
       "http://www.wikidata.org/entity/Q23656158                                          astronomer   \n",
       "\n",
       "                                          gender  \n",
       "person_uri                                        \n",
       "http://www.wikidata.org/entity/Q124414761      A  \n",
       "http://www.wikidata.org/entity/Q125054679      A  \n",
       "http://www.wikidata.org/entity/Q15990211       A  \n",
       "http://www.wikidata.org/entity/Q16913156       A  \n",
       "http://www.wikidata.org/entity/Q23656158       A  "
      ]
     },
     "execution_count": 25,
     "metadata": {},
     "output_type": "execute_result"
    }
   ],
   "source": [
    "### On ajoute une nouvelle colonne et y on met pour chaque ligne le résultat de la fonction\n",
    "df_p['gender'] = df_p.apply(lambda x: code_gender(x['genderUri']), axis=1)\n",
    "df_p = df_p.drop(columns=['genderUri'])\n",
    "### On inspecte les cinq premières lignes qui ont la valeur 'A' = autre\n",
    "df_p[df_p['gender']=='A'][:5]"
   ]
  },
  {
   "cell_type": "markdown",
   "id": "def2ab31",
   "metadata": {},
   "source": [
    "### Ajouter les périodes"
   ]
  },
  {
   "cell_type": "code",
   "execution_count": 93,
   "id": "bf9df310",
   "metadata": {},
   "outputs": [],
   "source": [
    "df_p['birthYear'] = df_p['birthYear'].astype(int)\n",
    "df_p = df_p[df_p['birthYear'] < 2001].copy(deep=True)"
   ]
  },
  {
   "cell_type": "code",
   "execution_count": 94,
   "id": "2f07e207",
   "metadata": {},
   "outputs": [
    {
     "name": "stdout",
     "output_type": "stream",
     "text": [
      "1355 2000\n"
     ]
    }
   ],
   "source": [
    "print(min(df_p['birthYear']),max(df_p['birthYear']))"
   ]
  },
  {
   "cell_type": "code",
   "execution_count": 99,
   "id": "1121f2f1",
   "metadata": {},
   "outputs": [],
   "source": [
    "l_per = [1351, 1501, 1701, 1801, 1901, 2001]"
   ]
  },
  {
   "cell_type": "code",
   "execution_count": 100,
   "id": "4ec88290",
   "metadata": {},
   "outputs": [
    {
     "data": {
      "text/html": [
       "<div>\n",
       "<style scoped>\n",
       "    .dataframe tbody tr th:only-of-type {\n",
       "        vertical-align: middle;\n",
       "    }\n",
       "\n",
       "    .dataframe tbody tr th {\n",
       "        vertical-align: top;\n",
       "    }\n",
       "\n",
       "    .dataframe thead th {\n",
       "        text-align: right;\n",
       "    }\n",
       "</style>\n",
       "<table border=\"1\" class=\"dataframe\">\n",
       "  <thead>\n",
       "    <tr style=\"text-align: right;\">\n",
       "      <th></th>\n",
       "      <th>person_label</th>\n",
       "      <th>birthYear</th>\n",
       "      <th>occupations</th>\n",
       "      <th>gender</th>\n",
       "      <th>periodes</th>\n",
       "    </tr>\n",
       "    <tr>\n",
       "      <th>person_uri</th>\n",
       "      <th></th>\n",
       "      <th></th>\n",
       "      <th></th>\n",
       "      <th></th>\n",
       "      <th></th>\n",
       "    </tr>\n",
       "  </thead>\n",
       "  <tbody>\n",
       "    <tr>\n",
       "      <th>http://www.wikidata.org/entity/Q1000193</th>\n",
       "      <td>Hans Elsässer</td>\n",
       "      <td>1929</td>\n",
       "      <td>astronomer</td>\n",
       "      <td>M</td>\n",
       "      <td>1901-2000</td>\n",
       "    </tr>\n",
       "    <tr>\n",
       "      <th>http://www.wikidata.org/entity/Q1000934</th>\n",
       "      <td>Charles Christian Lauritsen</td>\n",
       "      <td>1892</td>\n",
       "      <td>nuclear physicist,physicist,university teacher</td>\n",
       "      <td>M</td>\n",
       "      <td>1801-1900</td>\n",
       "    </tr>\n",
       "    <tr>\n",
       "      <th>http://www.wikidata.org/entity/Q100153910</th>\n",
       "      <td>Frank J. Blatt</td>\n",
       "      <td>1924</td>\n",
       "      <td>physicist,university teacher</td>\n",
       "      <td>M</td>\n",
       "      <td>1901-2000</td>\n",
       "    </tr>\n",
       "  </tbody>\n",
       "</table>\n",
       "</div>"
      ],
      "text/plain": [
       "                                                          person_label  \\\n",
       "person_uri                                                               \n",
       "http://www.wikidata.org/entity/Q1000193                  Hans Elsässer   \n",
       "http://www.wikidata.org/entity/Q1000934    Charles Christian Lauritsen   \n",
       "http://www.wikidata.org/entity/Q100153910               Frank J. Blatt   \n",
       "\n",
       "                                           birthYear  \\\n",
       "person_uri                                             \n",
       "http://www.wikidata.org/entity/Q1000193         1929   \n",
       "http://www.wikidata.org/entity/Q1000934         1892   \n",
       "http://www.wikidata.org/entity/Q100153910       1924   \n",
       "\n",
       "                                                                              occupations  \\\n",
       "person_uri                                                                                  \n",
       "http://www.wikidata.org/entity/Q1000193                                        astronomer   \n",
       "http://www.wikidata.org/entity/Q1000934    nuclear physicist,physicist,university teacher   \n",
       "http://www.wikidata.org/entity/Q100153910                    physicist,university teacher   \n",
       "\n",
       "                                          gender   periodes  \n",
       "person_uri                                                   \n",
       "http://www.wikidata.org/entity/Q1000193        M  1901-2000  \n",
       "http://www.wikidata.org/entity/Q1000934        M  1801-1900  \n",
       "http://www.wikidata.org/entity/Q100153910      M  1901-2000  "
      ]
     },
     "execution_count": 100,
     "metadata": {},
     "output_type": "execute_result"
    }
   ],
   "source": [
    "### fonction pd.cut : https://pandas.pydata.org/pandas-docs/stable/reference/api/pandas.cut.html\n",
    "# On ajoute une nouvelle colonne qui contient la période sur la base de la liste précédente\n",
    "# et de la valeur de l'année\n",
    "\n",
    "df_p['periodes'] = pd.cut(df_p['birthYear'], l_per, right=False)\n",
    "\n",
    "### Transformer le code ajouté pour qu'il soit plus lisible\n",
    "# noter qu'on a arrondi les valeurs\n",
    "df_p['periodes'] = df_p['periodes'].apply(lambda x : str(int(x.left))+'-'+ str(int(x.right)-1))\n",
    "\n",
    "# Inspection\n",
    "df_p.head(3)"
   ]
  },
  {
   "cell_type": "code",
   "execution_count": null,
   "id": "c593e994",
   "metadata": {},
   "outputs": [],
   "source": []
  },
  {
   "cell_type": "code",
   "execution_count": null,
   "id": "1cd35942",
   "metadata": {},
   "outputs": [],
   "source": []
  },
  {
   "cell_type": "markdown",
   "id": "599f543e",
   "metadata": {},
   "source": [
    "## Filtre sur les partis"
   ]
  },
  {
   "cell_type": "code",
   "execution_count": 108,
   "id": "227e592d",
   "metadata": {},
   "outputs": [],
   "source": [
    "def filter_parti( x, list ):\n",
    "    for e in list:\n",
    "        if e in x.partis:\n",
    "            a = True\n",
    "            break\n",
    "        else:\n",
    "            a = False\n",
    "    return a           "
   ]
  },
  {
   "cell_type": "code",
   "execution_count": 109,
   "id": "59dd553f",
   "metadata": {},
   "outputs": [
    {
     "name": "stdout",
     "output_type": "stream",
     "text": [
      "47\n"
     ]
    }
   ],
   "source": [
    "### Les partis les plus fréquentes\n",
    "ll = [e.split('; ') for e in dfr['labels'][dfr['effectif'] > 99].to_list()]\n",
    "lpf= []\n",
    "for e in ll:\n",
    "    lpf = lpf + e\n",
    "\n",
    "lpf = list(set(lpf))\n",
    "print(len(lpf))"
   ]
  },
  {
   "cell_type": "code",
   "execution_count": 110,
   "id": "2ecee4f1",
   "metadata": {},
   "outputs": [],
   "source": [
    "### Les partis souhaitées >> modifier les valeurs\n",
    "lpf=['non-fiction writer','photographer']\n",
    "lpf=['astrologer']"
   ]
  },
  {
   "cell_type": "code",
   "execution_count": 111,
   "id": "bf96e5cb",
   "metadata": {},
   "outputs": [
    {
     "name": "stdout",
     "output_type": "stream",
     "text": [
      "909\n"
     ]
    },
    {
     "data": {
      "text/html": [
       "<div>\n",
       "<style scoped>\n",
       "    .dataframe tbody tr th:only-of-type {\n",
       "        vertical-align: middle;\n",
       "    }\n",
       "\n",
       "    .dataframe tbody tr th {\n",
       "        vertical-align: top;\n",
       "    }\n",
       "\n",
       "    .dataframe thead th {\n",
       "        text-align: right;\n",
       "    }\n",
       "</style>\n",
       "<table border=\"1\" class=\"dataframe\">\n",
       "  <thead>\n",
       "    <tr style=\"text-align: right;\">\n",
       "      <th></th>\n",
       "      <th>person_label</th>\n",
       "      <th>birthYear</th>\n",
       "      <th>occupations</th>\n",
       "      <th>gender</th>\n",
       "      <th>periodes</th>\n",
       "    </tr>\n",
       "    <tr>\n",
       "      <th>person_uri</th>\n",
       "      <th></th>\n",
       "      <th></th>\n",
       "      <th></th>\n",
       "      <th></th>\n",
       "      <th></th>\n",
       "    </tr>\n",
       "  </thead>\n",
       "  <tbody>\n",
       "    <tr>\n",
       "      <th>http://www.wikidata.org/entity/Q100234964</th>\n",
       "      <td>Alessandro De Angelis</td>\n",
       "      <td>1559</td>\n",
       "      <td>astrologer,theologian</td>\n",
       "      <td>M</td>\n",
       "      <td>1501-1700</td>\n",
       "    </tr>\n",
       "    <tr>\n",
       "      <th>http://www.wikidata.org/entity/Q100708787</th>\n",
       "      <td>Patric Walker</td>\n",
       "      <td>1931</td>\n",
       "      <td>astrologer,writer</td>\n",
       "      <td>M</td>\n",
       "      <td>1901-2000</td>\n",
       "    </tr>\n",
       "    <tr>\n",
       "      <th>http://www.wikidata.org/entity/Q100715</th>\n",
       "      <td>Alfons Rosenberg</td>\n",
       "      <td>1902</td>\n",
       "      <td>astrologer,writer</td>\n",
       "      <td>M</td>\n",
       "      <td>1901-2000</td>\n",
       "    </tr>\n",
       "    <tr>\n",
       "      <th>http://www.wikidata.org/entity/Q10272446</th>\n",
       "      <td>Emma Costet de Mascheville</td>\n",
       "      <td>1903</td>\n",
       "      <td>astrologer</td>\n",
       "      <td>F</td>\n",
       "      <td>1901-2000</td>\n",
       "    </tr>\n",
       "    <tr>\n",
       "      <th>http://www.wikidata.org/entity/Q1029283</th>\n",
       "      <td>David Pingree</td>\n",
       "      <td>1933</td>\n",
       "      <td>astrologer,historian of mathematics,mathematic...</td>\n",
       "      <td>M</td>\n",
       "      <td>1901-2000</td>\n",
       "    </tr>\n",
       "  </tbody>\n",
       "</table>\n",
       "</div>"
      ],
      "text/plain": [
       "                                                         person_label  \\\n",
       "person_uri                                                              \n",
       "http://www.wikidata.org/entity/Q100234964       Alessandro De Angelis   \n",
       "http://www.wikidata.org/entity/Q100708787               Patric Walker   \n",
       "http://www.wikidata.org/entity/Q100715               Alfons Rosenberg   \n",
       "http://www.wikidata.org/entity/Q10272446   Emma Costet de Mascheville   \n",
       "http://www.wikidata.org/entity/Q1029283                 David Pingree   \n",
       "\n",
       "                                           birthYear  \\\n",
       "person_uri                                             \n",
       "http://www.wikidata.org/entity/Q100234964       1559   \n",
       "http://www.wikidata.org/entity/Q100708787       1931   \n",
       "http://www.wikidata.org/entity/Q100715          1902   \n",
       "http://www.wikidata.org/entity/Q10272446        1903   \n",
       "http://www.wikidata.org/entity/Q1029283         1933   \n",
       "\n",
       "                                                                                 occupations  \\\n",
       "person_uri                                                                                     \n",
       "http://www.wikidata.org/entity/Q100234964                              astrologer,theologian   \n",
       "http://www.wikidata.org/entity/Q100708787                                  astrologer,writer   \n",
       "http://www.wikidata.org/entity/Q100715                                     astrologer,writer   \n",
       "http://www.wikidata.org/entity/Q10272446                                          astrologer   \n",
       "http://www.wikidata.org/entity/Q1029283    astrologer,historian of mathematics,mathematic...   \n",
       "\n",
       "                                          gender   periodes  \n",
       "person_uri                                                   \n",
       "http://www.wikidata.org/entity/Q100234964      M  1501-1700  \n",
       "http://www.wikidata.org/entity/Q100708787      M  1901-2000  \n",
       "http://www.wikidata.org/entity/Q100715         M  1901-2000  \n",
       "http://www.wikidata.org/entity/Q10272446       F  1901-2000  \n",
       "http://www.wikidata.org/entity/Q1029283        M  1901-2000  "
      ]
     },
     "execution_count": 111,
     "metadata": {},
     "output_type": "execute_result"
    }
   ],
   "source": [
    "filtered_df_p = df_p[df_p.apply(lambda x: filter_parti(x, lpf), axis=1)]\n",
    "print(len(filtered_df_p))\n",
    "filtered_df_p.head()"
   ]
  },
  {
   "cell_type": "code",
   "execution_count": 101,
   "id": "6597ac52",
   "metadata": {},
   "outputs": [
    {
     "data": {
      "text/plain": [
       "920"
      ]
     },
     "execution_count": 101,
     "metadata": {},
     "output_type": "execute_result"
    }
   ],
   "source": [
    "### Ajouter des filtres supplémentaires\n",
    "l = filtered_df_p['parti'].to_list()\n",
    "len(l)"
   ]
  },
  {
   "cell_type": "code",
   "execution_count": 102,
   "id": "30aeaa8b",
   "metadata": {},
   "outputs": [
    {
     "data": {
      "text/plain": [
       "[['astrologer', 'theologian'],\n",
       " ['astrologer', 'writer'],\n",
       " ['astrologer', 'writer']]"
      ]
     },
     "execution_count": 102,
     "metadata": {},
     "output_type": "execute_result"
    }
   ],
   "source": [
    "### toutes les nationalités (même multiples)\n",
    "lb = [sorted([i.strip().replace(' ', '_') for i in e.split(',')]) for e in l]\n",
    "lb[:3]"
   ]
  },
  {
   "cell_type": "code",
   "execution_count": null,
   "id": "8438e2a7",
   "metadata": {},
   "outputs": [],
   "source": []
  },
  {
   "cell_type": "code",
   "execution_count": 104,
   "id": "2da30962",
   "metadata": {},
   "outputs": [
    {
     "data": {
      "text/html": [
       "<div>\n",
       "<style scoped>\n",
       "    .dataframe tbody tr th:only-of-type {\n",
       "        vertical-align: middle;\n",
       "    }\n",
       "\n",
       "    .dataframe tbody tr th {\n",
       "        vertical-align: top;\n",
       "    }\n",
       "\n",
       "    .dataframe thead th {\n",
       "        text-align: right;\n",
       "    }\n",
       "</style>\n",
       "<table border=\"1\" class=\"dataframe\">\n",
       "  <thead>\n",
       "    <tr style=\"text-align: right;\">\n",
       "      <th></th>\n",
       "      <th>Anglican_priest</th>\n",
       "      <th>Blavatskian_theosophy</th>\n",
       "      <th>Buddhologist</th>\n",
       "      <th>Catholic_bishop</th>\n",
       "      <th>Catholic_priest</th>\n",
       "      <th>Catholic_theologian</th>\n",
       "      <th>Christian_minister</th>\n",
       "      <th>Christian_mystic</th>\n",
       "      <th>Esperantist</th>\n",
       "      <th>Latin_Catholic_priest</th>\n",
       "      <th>...</th>\n",
       "      <th>typographer</th>\n",
       "      <th>university_teacher</th>\n",
       "      <th>vedette</th>\n",
       "      <th>violinist</th>\n",
       "      <th>visual_artist</th>\n",
       "      <th>voice_actor</th>\n",
       "      <th>witchcraft</th>\n",
       "      <th>writer</th>\n",
       "      <th>yogi</th>\n",
       "      <th>zoologist</th>\n",
       "    </tr>\n",
       "  </thead>\n",
       "  <tbody>\n",
       "    <tr>\n",
       "      <th>0</th>\n",
       "      <td>False</td>\n",
       "      <td>False</td>\n",
       "      <td>False</td>\n",
       "      <td>False</td>\n",
       "      <td>False</td>\n",
       "      <td>False</td>\n",
       "      <td>False</td>\n",
       "      <td>False</td>\n",
       "      <td>False</td>\n",
       "      <td>False</td>\n",
       "      <td>...</td>\n",
       "      <td>False</td>\n",
       "      <td>False</td>\n",
       "      <td>False</td>\n",
       "      <td>False</td>\n",
       "      <td>False</td>\n",
       "      <td>False</td>\n",
       "      <td>False</td>\n",
       "      <td>False</td>\n",
       "      <td>False</td>\n",
       "      <td>False</td>\n",
       "    </tr>\n",
       "    <tr>\n",
       "      <th>1</th>\n",
       "      <td>False</td>\n",
       "      <td>False</td>\n",
       "      <td>False</td>\n",
       "      <td>False</td>\n",
       "      <td>False</td>\n",
       "      <td>False</td>\n",
       "      <td>False</td>\n",
       "      <td>False</td>\n",
       "      <td>False</td>\n",
       "      <td>False</td>\n",
       "      <td>...</td>\n",
       "      <td>False</td>\n",
       "      <td>False</td>\n",
       "      <td>False</td>\n",
       "      <td>False</td>\n",
       "      <td>False</td>\n",
       "      <td>False</td>\n",
       "      <td>False</td>\n",
       "      <td>True</td>\n",
       "      <td>False</td>\n",
       "      <td>False</td>\n",
       "    </tr>\n",
       "    <tr>\n",
       "      <th>2</th>\n",
       "      <td>False</td>\n",
       "      <td>False</td>\n",
       "      <td>False</td>\n",
       "      <td>False</td>\n",
       "      <td>False</td>\n",
       "      <td>False</td>\n",
       "      <td>False</td>\n",
       "      <td>False</td>\n",
       "      <td>False</td>\n",
       "      <td>False</td>\n",
       "      <td>...</td>\n",
       "      <td>False</td>\n",
       "      <td>False</td>\n",
       "      <td>False</td>\n",
       "      <td>False</td>\n",
       "      <td>False</td>\n",
       "      <td>False</td>\n",
       "      <td>False</td>\n",
       "      <td>True</td>\n",
       "      <td>False</td>\n",
       "      <td>False</td>\n",
       "    </tr>\n",
       "    <tr>\n",
       "      <th>3</th>\n",
       "      <td>False</td>\n",
       "      <td>False</td>\n",
       "      <td>False</td>\n",
       "      <td>False</td>\n",
       "      <td>False</td>\n",
       "      <td>False</td>\n",
       "      <td>False</td>\n",
       "      <td>False</td>\n",
       "      <td>False</td>\n",
       "      <td>False</td>\n",
       "      <td>...</td>\n",
       "      <td>False</td>\n",
       "      <td>False</td>\n",
       "      <td>False</td>\n",
       "      <td>False</td>\n",
       "      <td>False</td>\n",
       "      <td>False</td>\n",
       "      <td>False</td>\n",
       "      <td>False</td>\n",
       "      <td>False</td>\n",
       "      <td>False</td>\n",
       "    </tr>\n",
       "    <tr>\n",
       "      <th>4</th>\n",
       "      <td>False</td>\n",
       "      <td>False</td>\n",
       "      <td>False</td>\n",
       "      <td>False</td>\n",
       "      <td>False</td>\n",
       "      <td>False</td>\n",
       "      <td>False</td>\n",
       "      <td>False</td>\n",
       "      <td>False</td>\n",
       "      <td>False</td>\n",
       "      <td>...</td>\n",
       "      <td>False</td>\n",
       "      <td>True</td>\n",
       "      <td>False</td>\n",
       "      <td>False</td>\n",
       "      <td>False</td>\n",
       "      <td>False</td>\n",
       "      <td>False</td>\n",
       "      <td>False</td>\n",
       "      <td>False</td>\n",
       "      <td>False</td>\n",
       "    </tr>\n",
       "  </tbody>\n",
       "</table>\n",
       "<p>5 rows × 312 columns</p>\n",
       "</div>"
      ],
      "text/plain": [
       "   Anglican_priest  Blavatskian_theosophy  Buddhologist  Catholic_bishop  \\\n",
       "0            False                  False         False            False   \n",
       "1            False                  False         False            False   \n",
       "2            False                  False         False            False   \n",
       "3            False                  False         False            False   \n",
       "4            False                  False         False            False   \n",
       "\n",
       "   Catholic_priest  Catholic_theologian  Christian_minister  Christian_mystic  \\\n",
       "0            False                False               False             False   \n",
       "1            False                False               False             False   \n",
       "2            False                False               False             False   \n",
       "3            False                False               False             False   \n",
       "4            False                False               False             False   \n",
       "\n",
       "   Esperantist  Latin_Catholic_priest  ...  typographer  university_teacher  \\\n",
       "0        False                  False  ...        False               False   \n",
       "1        False                  False  ...        False               False   \n",
       "2        False                  False  ...        False               False   \n",
       "3        False                  False  ...        False               False   \n",
       "4        False                  False  ...        False                True   \n",
       "\n",
       "   vedette  violinist  visual_artist  voice_actor  witchcraft  writer   yogi  \\\n",
       "0    False      False          False        False       False   False  False   \n",
       "1    False      False          False        False       False    True  False   \n",
       "2    False      False          False        False       False    True  False   \n",
       "3    False      False          False        False       False   False  False   \n",
       "4    False      False          False        False       False   False  False   \n",
       "\n",
       "   zoologist  \n",
       "0      False  \n",
       "1      False  \n",
       "2      False  \n",
       "3      False  \n",
       "4      False  \n",
       "\n",
       "[5 rows x 312 columns]"
      ]
     },
     "execution_count": 104,
     "metadata": {},
     "output_type": "execute_result"
    }
   ],
   "source": [
    "te = TransactionEncoder()\n",
    "te_ary = te.fit_transform(lb)\n",
    "data_df=pd.DataFrame(te_ary, columns=te.columns_)\n",
    "data_df.head()"
   ]
  },
  {
   "cell_type": "code",
   "execution_count": 105,
   "id": "43d61d58",
   "metadata": {},
   "outputs": [
    {
     "data": {
      "text/html": [
       "<table id=\"itables_af850624_2448_4d43_922f_6ae9ce5c1cdc\" class=\"display nowrap\" data-quarto-disable-processing=\"true\" style=\"table-layout:auto;width:auto;margin:auto;caption-side:bottom\">\n",
       "<thead>\n",
       "    <tr style=\"text-align: right;\">\n",
       "      <th></th>\n",
       "      <th>support</th>\n",
       "      <th>itemsets</th>\n",
       "      <th>eff</th>\n",
       "      <th>l_itemsets</th>\n",
       "    </tr>\n",
       "  </thead><tbody><tr><td>Loading... (need <a href=https://mwouts.github.io/itables/troubleshooting.html>help</a>?)</td></tr></tbody>\n",
       "\n",
       "</table>\n",
       "<script type=\"module\">\n",
       "    const { DataTable, jQuery: $ } = await import(window._datatables_src_for_itables_2_0_0);\n",
       "\n",
       "    document.querySelectorAll(\"#itables_af850624_2448_4d43_922f_6ae9ce5c1cdc:not(.dataTable)\").forEach(table => {\n",
       "        // Define the table data\n",
       "        const data = [[0, 1.0, \"(astrologer)\", 1, \"[astrologer]\"], [6, 0.220652, \"(writer)\", 1, \"[writer]\"], [12, 0.220652, \"(astrologer, writer)\", 2, \"[astrologer, writer]\"], [7, 0.156522, \"(astronomer, astrologer)\", 2, \"[astrologer, astronomer]\"], [1, 0.156522, \"(astronomer)\", 1, \"[astronomer]\"], [2, 0.122826, \"(mathematician)\", 1, \"[mathematician]\"], [8, 0.122826, \"(astrologer, mathematician)\", 2, \"[astrologer, mathematician]\"], [4, 0.105435, \"(physician)\", 1, \"[physician]\"], [10, 0.105435, \"(astrologer, physician)\", 2, \"[astrologer, physician]\"], [14, 0.082609, \"(astronomer, astrologer, mathematician)\", 3, \"[astrologer, astronomer, mathematician]\"], [13, 0.082609, \"(astronomer, mathematician)\", 2, \"[astronomer, mathematician]\"], [9, 0.071739, \"(astrologer, philosopher)\", 2, \"[astrologer, philosopher]\"], [3, 0.071739, \"(philosopher)\", 1, \"[philosopher]\"], [5, 0.052174, \"(poet)\", 1, \"[poet]\"], [11, 0.052174, \"(astrologer, poet)\", 2, \"[astrologer, poet]\"]];\n",
       "\n",
       "        // Define the dt_args\n",
       "        let dt_args = {\"scrollY\": \"200px\", \"scrollCollapse\": true, \"paging\": false, \"layout\": {\"topStart\": \"pageLength\", \"topEnd\": \"search\", \"bottomStart\": \"info\", \"bottomEnd\": \"paging\"}, \"order\": [], \"warn_on_dom\": true};\n",
       "        dt_args[\"data\"] = data;\n",
       "\n",
       "        \n",
       "        new DataTable(table, dt_args);\n",
       "    });\n",
       "</script>\n"
      ],
      "text/plain": [
       "<IPython.core.display.HTML object>"
      ]
     },
     "metadata": {},
     "output_type": "display_data"
    }
   ],
   "source": [
    "frequent_itemsets = apriori(data_df, min_support= 0.05, use_colnames=True)\n",
    "frequent_itemsets['eff'] = frequent_itemsets['itemsets'].apply(lambda x : len(x))\n",
    "frequent_itemsets['l_itemsets'] = frequent_itemsets['itemsets'].apply(lambda x : sorted(list(x)))\n",
    "show(frequent_itemsets.sort_values(by='support', ascending=False),\n",
    "    scrollY=\"200px\", scrollCollapse=True, paging=False) "
   ]
  },
  {
   "cell_type": "code",
   "execution_count": 113,
   "id": "f8014db9",
   "metadata": {},
   "outputs": [],
   "source": [
    "###  Créer une fonction d'exploration\n",
    "\n",
    "def explore_partis(lpf, gender='', periodes=[] ):\n",
    "    filtered_df_p = df_p[df_p.apply(lambda x: filter_occupation(x, lpf), axis=1)]\n",
    "    print(len(filtered_df_p))\n",
    "\n",
    "    if len(gender) > 0:\n",
    "        l = filtered_df_p[filtered_df_p['gender']== gender]['partis'].to_list()\n",
    "    else:\n",
    "        l = filtered_df_p['partis'].to_list()\n",
    "    \n",
    "    \n",
    "    \n",
    "    lb = [sorted([i.strip().replace(' ', '_') for i in e.split(',')]) for e in l]\n",
    "    te = TransactionEncoder()\n",
    "    te_ary = te.fit_transform(lb)\n",
    "    data_df=pd.DataFrame(te_ary, columns=te.columns_)\n",
    "    frequent_itemsets = apriori(data_df, min_support= 0.05, use_colnames=True)\n",
    "    frequent_itemsets['eff'] = frequent_itemsets['itemsets'].apply(lambda x : len(x))\n",
    "    frequent_itemsets['l_itemsets'] = frequent_itemsets['itemsets'].apply(lambda x : sorted(list(x)))\n",
    "    show(frequent_itemsets.sort_values(by='support', ascending=False),\n",
    "        scrollY=\"200px\", scrollCollapse=True, paging=False) \n",
    "    \n",
    "    return None\n"
   ]
  },
  {
   "cell_type": "code",
   "execution_count": 121,
   "id": "c229ce53",
   "metadata": {},
   "outputs": [
    {
     "name": "stdout",
     "output_type": "stream",
     "text": [
      "0\n"
     ]
    },
    {
     "data": {
      "text/html": [
       "<table id=\"itables_a29ef5ac_c4ae_412e_815e_50af68b4dbd5\" class=\"display nowrap\" data-quarto-disable-processing=\"true\" style=\"table-layout:auto;width:auto;margin:auto;caption-side:bottom\">\n",
       "<thead>\n",
       "    <tr style=\"text-align: right;\">\n",
       "      \n",
       "      <th>support</th>\n",
       "      <th>itemsets</th>\n",
       "      <th>eff</th>\n",
       "      <th>l_itemsets</th>\n",
       "    </tr>\n",
       "  </thead><tbody><tr><td>Loading... (need <a href=https://mwouts.github.io/itables/troubleshooting.html>help</a>?)</td></tr></tbody>\n",
       "\n",
       "</table>\n",
       "<script type=\"module\">\n",
       "    const { DataTable, jQuery: $ } = await import(window._datatables_src_for_itables_2_0_0);\n",
       "\n",
       "    document.querySelectorAll(\"#itables_a29ef5ac_c4ae_412e_815e_50af68b4dbd5:not(.dataTable)\").forEach(table => {\n",
       "        // Define the table data\n",
       "        const data = [];\n",
       "\n",
       "        // Define the dt_args\n",
       "        let dt_args = {\"scrollY\": \"200px\", \"scrollCollapse\": true, \"paging\": false, \"layout\": {\"topStart\": null, \"topEnd\": null, \"bottomStart\": null, \"bottomEnd\": null}, \"order\": [], \"warn_on_dom\": true};\n",
       "        dt_args[\"data\"] = data;\n",
       "\n",
       "        \n",
       "        new DataTable(table, dt_args);\n",
       "    });\n",
       "</script>\n"
      ],
      "text/plain": [
       "<IPython.core.display.HTML object>"
      ]
     },
     "metadata": {},
     "output_type": "display_data"
    }
   ],
   "source": [
    "lpf=['software_engineer']  # writer, philosopher >> renommer\n",
    "explore_occupations(lpf,gender='F')"
   ]
  },
  {
   "cell_type": "code",
   "execution_count": 122,
   "id": "166f7ade",
   "metadata": {},
   "outputs": [
    {
     "name": "stdout",
     "output_type": "stream",
     "text": [
      "0\n"
     ]
    },
    {
     "data": {
      "text/html": [
       "<table id=\"itables_215d6268_445d_40df_848c_64ab0efbc929\" class=\"display nowrap\" data-quarto-disable-processing=\"true\" style=\"table-layout:auto;width:auto;margin:auto;caption-side:bottom\">\n",
       "<thead>\n",
       "    <tr style=\"text-align: right;\">\n",
       "      \n",
       "      <th>support</th>\n",
       "      <th>itemsets</th>\n",
       "      <th>eff</th>\n",
       "      <th>l_itemsets</th>\n",
       "    </tr>\n",
       "  </thead><tbody><tr><td>Loading... (need <a href=https://mwouts.github.io/itables/troubleshooting.html>help</a>?)</td></tr></tbody>\n",
       "\n",
       "</table>\n",
       "<script type=\"module\">\n",
       "    const { DataTable, jQuery: $ } = await import(window._datatables_src_for_itables_2_0_0);\n",
       "\n",
       "    document.querySelectorAll(\"#itables_215d6268_445d_40df_848c_64ab0efbc929:not(.dataTable)\").forEach(table => {\n",
       "        // Define the table data\n",
       "        const data = [];\n",
       "\n",
       "        // Define the dt_args\n",
       "        let dt_args = {\"scrollY\": \"200px\", \"scrollCollapse\": true, \"paging\": false, \"layout\": {\"topStart\": null, \"topEnd\": null, \"bottomStart\": null, \"bottomEnd\": null}, \"order\": [], \"warn_on_dom\": true};\n",
       "        dt_args[\"data\"] = data;\n",
       "\n",
       "        \n",
       "        new DataTable(table, dt_args);\n",
       "    });\n",
       "</script>\n"
      ],
      "text/plain": [
       "<IPython.core.display.HTML object>"
      ]
     },
     "metadata": {},
     "output_type": "display_data"
    }
   ],
   "source": [
    "lpf=['software_engineer'] # renommer\n",
    "explore_occupations(lpf,gender='M')"
   ]
  },
  {
   "cell_type": "code",
   "execution_count": null,
   "id": "ac01aebb",
   "metadata": {},
   "outputs": [],
   "source": []
  }
 ],
 "metadata": {
  "kernelspec": {
   "display_name": "py311_data_analysis",
   "language": "python",
   "name": "py311_data_analysis"
  },
  "language_info": {
   "codemirror_mode": {
    "name": "ipython",
    "version": 3
   },
   "file_extension": ".py",
   "mimetype": "text/x-python",
   "name": "python",
   "nbconvert_exporter": "python",
   "pygments_lexer": "ipython3",
   "version": "3.11.7"
  }
 },
 "nbformat": 4,
 "nbformat_minor": 5
}
