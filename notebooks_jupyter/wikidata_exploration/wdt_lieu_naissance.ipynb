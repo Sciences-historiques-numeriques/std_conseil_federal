{
 "cells": [
  {
   "cell_type": "markdown",
   "id": "9150426b-5190-4539-8204-61253a0f1bd4",
   "metadata": {},
   "source": [
    "# Analyse des spécificités des genres\n",
    "\n",
    "Dans ce carnet est proposée une analyse des spécificités des genres, en relation avec le temps et le lieu de naissance.\n",
    "\n"
   ]
  },
  {
   "cell_type": "code",
   "execution_count": 1,
   "id": "f2085427-bf14-40c6-8939-b74d38f31d16",
   "metadata": {
    "metadata": {},
    "tags": []
   },
   "outputs": [],
   "source": [
    "import pandas as pd\n",
    "import matplotlib.pyplot as plt\n",
    "import numpy as np\n",
    "import scipy.stats as stats\n",
    "import seaborn as sns"
   ]
  },
  {
   "cell_type": "code",
   "execution_count": 2,
   "id": "e6ce0f0e-db36-47cd-8015-a5bf33f0f7fa",
   "metadata": {
    "metadata": {},
    "tags": []
   },
   "outputs": [],
   "source": [
    "### Librairies déjà installées avec Python\n",
    "import pprint\n",
    "import sqlite3 as sql"
   ]
  },
  {
   "cell_type": "code",
   "execution_count": 3,
   "id": "707a3b6f",
   "metadata": {},
   "outputs": [],
   "source": [
    "from fanalysis.ca import CA \n",
    "from fanalysis.mca import MCA"
   ]
  },
  {
   "cell_type": "markdown",
   "id": "61cf955b-aaca-446c-a957-47b86a4ea610",
   "metadata": {},
   "source": [
    "### Importer les données à analyser"
   ]
  },
  {
   "cell_type": "code",
   "execution_count": 4,
   "id": "00b2f7ff-7d67-4602-9b1e-38dd37809a75",
   "metadata": {
    "metadata": {}
   },
   "outputs": [
    {
     "data": {
      "text/plain": [
       "<sqlite3.Connection at 0x2826038fd30>"
      ]
     },
     "execution_count": 4,
     "metadata": {},
     "output_type": "execute_result"
    }
   ],
   "source": [
    "### Se connecter à la base de données dans laquelle on va insérer\n",
    "# le résultat de la requête SPARQL\n",
    "cn = sql.connect('../../data/conseil_national_import.db')\n",
    "cn"
   ]
  },
  {
   "cell_type": "code",
   "execution_count": 7,
   "id": "a28e6ce2",
   "metadata": {
    "metadata": {}
   },
   "outputs": [],
   "source": [
    "qr = \"\"\"\n",
    "SELECT wp.personne_uri, wp.nom_prenom, wp.genre_code as genre,\n",
    " max(wp.annee_naissance) AS annee_naissance,\n",
    "   max(wl.code_lieu) AS lieu\n",
    "FROM wdt_personnes wp \n",
    "   JOIN wdt_lieu_naissance wln\n",
    "\t ON wl.id_li = wp.fk_lieu_id\n",
    "     GROUP BY wp.personne_uri, nom_prenom\n",
    "\"\"\""
   ]
  },
  {
   "cell_type": "code",
   "execution_count": 8,
   "id": "34f32038-ae06-47de-8a52-fc50cdfb2da9",
   "metadata": {
    "metadata": {}
   },
   "outputs": [
    {
     "ename": "OperationalError",
     "evalue": "no such column: wl.code_lieu",
     "output_type": "error",
     "traceback": [
      "\u001b[1;31m---------------------------------------------------------------------------\u001b[0m",
      "\u001b[1;31mOperationalError\u001b[0m                          Traceback (most recent call last)",
      "Cell \u001b[1;32mIn[8], line 3\u001b[0m\n\u001b[0;32m      1\u001b[0m \u001b[38;5;66;03m### Vérifier que les données ont été importées correctement\u001b[39;00m\n\u001b[0;32m      2\u001b[0m cur \u001b[38;5;241m=\u001b[39m cn\u001b[38;5;241m.\u001b[39mcursor()\n\u001b[1;32m----> 3\u001b[0m l \u001b[38;5;241m=\u001b[39m cur\u001b[38;5;241m.\u001b[39mexecute(qr)\u001b[38;5;241m.\u001b[39mfetchall()\n\u001b[0;32m      4\u001b[0m \u001b[38;5;28mprint\u001b[39m(\u001b[38;5;28mlen\u001b[39m(l))\n\u001b[0;32m      5\u001b[0m l[:\u001b[38;5;241m3\u001b[39m]\n",
      "\u001b[1;31mOperationalError\u001b[0m: no such column: wl.code_lieu"
     ]
    }
   ],
   "source": [
    "### Vérifier que les données ont été importées correctement\n",
    "cur = cn.cursor()\n",
    "l = cur.execute(qr).fetchall()\n",
    "print(len(l))\n",
    "l[:3]"
   ]
  },
  {
   "cell_type": "code",
   "execution_count": 17,
   "id": "8d825e48",
   "metadata": {},
   "outputs": [
    {
     "name": "stdout",
     "output_type": "stream",
     "text": [
      "<class 'pandas.core.frame.DataFrame'>\n",
      "RangeIndex: 884 entries, 0 to 883\n",
      "Data columns (total 5 columns):\n",
      " #   Column      Non-Null Count  Dtype \n",
      "---  ------      --------------  ----- \n",
      " 0   uri         884 non-null    object\n",
      " 1   nom         884 non-null    object\n",
      " 2   genre       884 non-null    object\n",
      " 3   annee_nais  884 non-null    int64 \n",
      " 4   langue      884 non-null    object\n",
      "dtypes: int64(1), object(4)\n",
      "memory usage: 34.7+ KB\n"
     ]
    }
   ],
   "source": [
    "### Créer un DataFrame contenant les données\n",
    "df_orig = pd.DataFrame(l, columns=['uri', 'nom', 'genre', 'annee_nais', \n",
    "                     'langue'])\n",
    "df_orig.info()"
   ]
  },
  {
   "cell_type": "code",
   "execution_count": 18,
   "id": "d9ce9030",
   "metadata": {},
   "outputs": [
    {
     "data": {
      "text/plain": [
       "genre\n",
       "M    683\n",
       "F    201\n",
       "dtype: int64"
      ]
     },
     "execution_count": 18,
     "metadata": {},
     "output_type": "execute_result"
    }
   ],
   "source": [
    "### Distribution des genres\n",
    "df_orig.groupby(by='genre').size().sort_values(ascending=False)"
   ]
  },
  {
   "cell_type": "markdown",
   "id": "9ed6f1c4",
   "metadata": {},
   "source": [
    "### Codage par périodes de 15 ans"
   ]
  },
  {
   "cell_type": "code",
   "execution_count": 19,
   "id": "e13186ea",
   "metadata": {},
   "outputs": [],
   "source": [
    "### On transforme le type de valeur de la colonne BirthYear\n",
    "# de objet à entier\n",
    "df_orig['annee_nais'] = df_orig['annee_nais'].astype(int)"
   ]
  },
  {
   "cell_type": "code",
   "execution_count": 21,
   "id": "cec8612e",
   "metadata": {},
   "outputs": [
    {
     "data": {
      "text/html": [
       "<div>\n",
       "<style scoped>\n",
       "    .dataframe tbody tr th:only-of-type {\n",
       "        vertical-align: middle;\n",
       "    }\n",
       "\n",
       "    .dataframe tbody tr th {\n",
       "        vertical-align: top;\n",
       "    }\n",
       "\n",
       "    .dataframe thead th {\n",
       "        text-align: right;\n",
       "    }\n",
       "</style>\n",
       "<table border=\"1\" class=\"dataframe\">\n",
       "  <thead>\n",
       "    <tr style=\"text-align: right;\">\n",
       "      <th></th>\n",
       "      <th>uri</th>\n",
       "      <th>nom</th>\n",
       "      <th>genre</th>\n",
       "      <th>annee_nais</th>\n",
       "      <th>langue</th>\n",
       "    </tr>\n",
       "  </thead>\n",
       "  <tbody>\n",
       "    <tr>\n",
       "      <th>0</th>\n",
       "      <td>http://www.wikidata.org/entity/Q1029622</td>\n",
       "      <td>Regula Rytz</td>\n",
       "      <td>F</td>\n",
       "      <td>1962</td>\n",
       "      <td>ALL</td>\n",
       "    </tr>\n",
       "    <tr>\n",
       "      <th>1</th>\n",
       "      <td>http://www.wikidata.org/entity/Q1039793</td>\n",
       "      <td>Carl Miville-Seiler</td>\n",
       "      <td>M</td>\n",
       "      <td>1921</td>\n",
       "      <td>ALL</td>\n",
       "    </tr>\n",
       "    <tr>\n",
       "      <th>2</th>\n",
       "      <td>http://www.wikidata.org/entity/Q105607582</td>\n",
       "      <td>Fabienne Bugnon</td>\n",
       "      <td>F</td>\n",
       "      <td>1959</td>\n",
       "      <td>FR</td>\n",
       "    </tr>\n",
       "  </tbody>\n",
       "</table>\n",
       "</div>"
      ],
      "text/plain": [
       "                                         uri                  nom genre  \\\n",
       "0    http://www.wikidata.org/entity/Q1029622          Regula Rytz     F   \n",
       "1    http://www.wikidata.org/entity/Q1039793  Carl Miville-Seiler     M   \n",
       "2  http://www.wikidata.org/entity/Q105607582      Fabienne Bugnon     F   \n",
       "\n",
       "   annee_nais langue  \n",
       "0        1962    ALL  \n",
       "1        1921    ALL  \n",
       "2        1959     FR  "
      ]
     },
     "execution_count": 21,
     "metadata": {},
     "output_type": "execute_result"
    }
   ],
   "source": [
    "### Créer une copie indépendante du DataFrame (attention aux copies de variables qui sont seulement des alias) \n",
    "cdf_p = df_orig[df_orig['annee_nais'] < 2020].copy(deep=True)\n",
    "cdf_p.head(3)"
   ]
  },
  {
   "cell_type": "code",
   "execution_count": 22,
   "id": "b9b36a35",
   "metadata": {},
   "outputs": [
    {
     "data": {
      "text/plain": [
       "(1901, 1994)"
      ]
     },
     "execution_count": 22,
     "metadata": {},
     "output_type": "execute_result"
    }
   ],
   "source": [
    "### Année minimale et maximale dans la population\n",
    "min(cdf_p['annee_nais']), max(cdf_p['annee_nais'])"
   ]
  },
  {
   "cell_type": "code",
   "execution_count": 24,
   "id": "22968555",
   "metadata": {},
   "outputs": [
    {
     "data": {
      "text/plain": [
       "([1901, 1916, 1931, 1946, 1961], [1931, 1946, 1961, 1976, 1991])"
      ]
     },
     "execution_count": 24,
     "metadata": {},
     "output_type": "execute_result"
    }
   ],
   "source": [
    "### Créer une liste d'années pour séparer en périodes de 15 ans\n",
    "# noter que la dernière année sera exclue, \n",
    "# elle donc doit être supérieure à la valeur maximale \n",
    "l_15 = list(range(1901, 1995, 15))\n",
    "l_15[:5],l_15[-5:]"
   ]
  },
  {
   "cell_type": "code",
   "execution_count": 25,
   "id": "ac6dbfe7",
   "metadata": {},
   "outputs": [
    {
     "data": {
      "text/html": [
       "<div>\n",
       "<style scoped>\n",
       "    .dataframe tbody tr th:only-of-type {\n",
       "        vertical-align: middle;\n",
       "    }\n",
       "\n",
       "    .dataframe tbody tr th {\n",
       "        vertical-align: top;\n",
       "    }\n",
       "\n",
       "    .dataframe thead th {\n",
       "        text-align: right;\n",
       "    }\n",
       "</style>\n",
       "<table border=\"1\" class=\"dataframe\">\n",
       "  <thead>\n",
       "    <tr style=\"text-align: right;\">\n",
       "      <th></th>\n",
       "      <th>uri</th>\n",
       "      <th>nom</th>\n",
       "      <th>genre</th>\n",
       "      <th>annee_nais</th>\n",
       "      <th>langue</th>\n",
       "      <th>periodes</th>\n",
       "    </tr>\n",
       "  </thead>\n",
       "  <tbody>\n",
       "    <tr>\n",
       "      <th>0</th>\n",
       "      <td>http://www.wikidata.org/entity/Q1029622</td>\n",
       "      <td>Regula Rytz</td>\n",
       "      <td>F</td>\n",
       "      <td>1962</td>\n",
       "      <td>ALL</td>\n",
       "      <td>1961-1975</td>\n",
       "    </tr>\n",
       "    <tr>\n",
       "      <th>1</th>\n",
       "      <td>http://www.wikidata.org/entity/Q1039793</td>\n",
       "      <td>Carl Miville-Seiler</td>\n",
       "      <td>M</td>\n",
       "      <td>1921</td>\n",
       "      <td>ALL</td>\n",
       "      <td>1916-1930</td>\n",
       "    </tr>\n",
       "    <tr>\n",
       "      <th>2</th>\n",
       "      <td>http://www.wikidata.org/entity/Q105607582</td>\n",
       "      <td>Fabienne Bugnon</td>\n",
       "      <td>F</td>\n",
       "      <td>1959</td>\n",
       "      <td>FR</td>\n",
       "      <td>1946-1960</td>\n",
       "    </tr>\n",
       "  </tbody>\n",
       "</table>\n",
       "</div>"
      ],
      "text/plain": [
       "                                         uri                  nom genre  \\\n",
       "0    http://www.wikidata.org/entity/Q1029622          Regula Rytz     F   \n",
       "1    http://www.wikidata.org/entity/Q1039793  Carl Miville-Seiler     M   \n",
       "2  http://www.wikidata.org/entity/Q105607582      Fabienne Bugnon     F   \n",
       "\n",
       "   annee_nais langue   periodes  \n",
       "0        1962    ALL  1961-1975  \n",
       "1        1921    ALL  1916-1930  \n",
       "2        1959     FR  1946-1960  "
      ]
     },
     "execution_count": 25,
     "metadata": {},
     "output_type": "execute_result"
    }
   ],
   "source": [
    "### fonction pd.cut : https://pandas.pydata.org/pandas-docs/stable/reference/api/pandas.cut.html\n",
    "# On ajoute une nouvelle colonne qui contient la période sur la base de la liste précédente\n",
    "# et de la valeur de l'année\n",
    "\n",
    "cdf_p['periodes'] = pd.cut(cdf_p['annee_nais'], l_15, right=False)\n",
    "\n",
    "### Transformer le code ajouté pour qu'il soit plus lisible\n",
    "# noter qu'on a arrondi les valeurs\n",
    "cdf_p['periodes'] = cdf_p['periodes'].apply(lambda x : str(int(x.left))+'-'+ str(int(x.right)-1))\n",
    "\n",
    "# Inspection\n",
    "cdf_p.head(3)"
   ]
  },
  {
   "cell_type": "code",
   "execution_count": 26,
   "id": "05d5cea7",
   "metadata": {},
   "outputs": [
    {
     "data": {
      "image/png": "[encoded data removed]",
      "text/plain": [
       "<Figure size 600x400 with 1 Axes>"
      ]
     },
     "metadata": {},
     "output_type": "display_data"
    }
   ],
   "source": [
    "ax = cdf_p.groupby(by='periodes', observed=True).size()\\\n",
    "      .plot(kind='bar',rot=60, fontsize=8, figsize=(6,4))\n",
    "\n",
    "ax.bar_label(ax.containers[0], fontsize=8)\n",
    "\n",
    "plt.ylabel('Effectif')\n",
    "plt.xlabel('Périodes')\n",
    "plt.title('Naissances par périodes de quinze ans')\n",
    "plt.show()"
   ]
  },
  {
   "cell_type": "markdown",
   "id": "87e98f2f",
   "metadata": {},
   "source": [
    "### Distributions des genres par périodes"
   ]
  },
  {
   "cell_type": "code",
   "execution_count": 27,
   "id": "79339470",
   "metadata": {},
   "outputs": [
    {
     "data": {
      "text/html": [
       "<div>\n",
       "<style scoped>\n",
       "    .dataframe tbody tr th:only-of-type {\n",
       "        vertical-align: middle;\n",
       "    }\n",
       "\n",
       "    .dataframe tbody tr th {\n",
       "        vertical-align: top;\n",
       "    }\n",
       "\n",
       "    .dataframe thead th {\n",
       "        text-align: right;\n",
       "    }\n",
       "</style>\n",
       "<table border=\"1\" class=\"dataframe\">\n",
       "  <thead>\n",
       "    <tr style=\"text-align: right;\">\n",
       "      <th>periodes</th>\n",
       "      <th>1901-1915</th>\n",
       "      <th>1916-1930</th>\n",
       "      <th>1931-1945</th>\n",
       "      <th>1946-1960</th>\n",
       "      <th>1961-1975</th>\n",
       "      <th>1976-1990</th>\n",
       "      <th>Total</th>\n",
       "    </tr>\n",
       "    <tr>\n",
       "      <th>genre</th>\n",
       "      <th></th>\n",
       "      <th></th>\n",
       "      <th></th>\n",
       "      <th></th>\n",
       "      <th></th>\n",
       "      <th></th>\n",
       "      <th></th>\n",
       "    </tr>\n",
       "  </thead>\n",
       "  <tbody>\n",
       "    <tr>\n",
       "      <th>F</th>\n",
       "      <td>2</td>\n",
       "      <td>9</td>\n",
       "      <td>33</td>\n",
       "      <td>77</td>\n",
       "      <td>47</td>\n",
       "      <td>30</td>\n",
       "      <td>198</td>\n",
       "    </tr>\n",
       "    <tr>\n",
       "      <th>M</th>\n",
       "      <td>110</td>\n",
       "      <td>125</td>\n",
       "      <td>131</td>\n",
       "      <td>183</td>\n",
       "      <td>98</td>\n",
       "      <td>34</td>\n",
       "      <td>681</td>\n",
       "    </tr>\n",
       "    <tr>\n",
       "      <th>Total</th>\n",
       "      <td>112</td>\n",
       "      <td>134</td>\n",
       "      <td>164</td>\n",
       "      <td>260</td>\n",
       "      <td>145</td>\n",
       "      <td>64</td>\n",
       "      <td>879</td>\n",
       "    </tr>\n",
       "  </tbody>\n",
       "</table>\n",
       "</div>"
      ],
      "text/plain": [
       "periodes  1901-1915  1916-1930  1931-1945  1946-1960  1961-1975  1976-1990  \\\n",
       "genre                                                                        \n",
       "F                 2          9         33         77         47         30   \n",
       "M               110        125        131        183         98         34   \n",
       "Total           112        134        164        260        145         64   \n",
       "\n",
       "periodes  Total  \n",
       "genre            \n",
       "F           198  \n",
       "M           681  \n",
       "Total       879  "
      ]
     },
     "execution_count": 27,
     "metadata": {},
     "output_type": "execute_result"
    }
   ],
   "source": [
    "### Tableau de contingence\n",
    "X = \"periodes\"  # \"0\"\n",
    "Y = \"genre\"\n",
    "\n",
    "ddf = cdf_p[[Y,X]].pivot_table(index=Y,columns=X,aggfunc=len,margins=True,margins_name=\"Total\").fillna(0).astype(int)\n",
    "ddf"
   ]
  },
  {
   "cell_type": "code",
   "execution_count": 28,
   "id": "61486cb0",
   "metadata": {},
   "outputs": [
    {
     "data": {
      "text/html": [
       "<div>\n",
       "<style scoped>\n",
       "    .dataframe tbody tr th:only-of-type {\n",
       "        vertical-align: middle;\n",
       "    }\n",
       "\n",
       "    .dataframe tbody tr th {\n",
       "        vertical-align: top;\n",
       "    }\n",
       "\n",
       "    .dataframe thead th {\n",
       "        text-align: right;\n",
       "    }\n",
       "</style>\n",
       "<table border=\"1\" class=\"dataframe\">\n",
       "  <thead>\n",
       "    <tr style=\"text-align: right;\">\n",
       "      <th>periodes</th>\n",
       "      <th>1901-1915</th>\n",
       "      <th>1916-1930</th>\n",
       "      <th>1931-1945</th>\n",
       "      <th>1946-1960</th>\n",
       "      <th>1961-1975</th>\n",
       "      <th>1976-1990</th>\n",
       "    </tr>\n",
       "    <tr>\n",
       "      <th>genre</th>\n",
       "      <th></th>\n",
       "      <th></th>\n",
       "      <th></th>\n",
       "      <th></th>\n",
       "      <th></th>\n",
       "      <th></th>\n",
       "    </tr>\n",
       "  </thead>\n",
       "  <tbody>\n",
       "    <tr>\n",
       "      <th>F</th>\n",
       "      <td>2</td>\n",
       "      <td>9</td>\n",
       "      <td>33</td>\n",
       "      <td>77</td>\n",
       "      <td>47</td>\n",
       "      <td>30</td>\n",
       "    </tr>\n",
       "    <tr>\n",
       "      <th>M</th>\n",
       "      <td>110</td>\n",
       "      <td>125</td>\n",
       "      <td>131</td>\n",
       "      <td>183</td>\n",
       "      <td>98</td>\n",
       "      <td>34</td>\n",
       "    </tr>\n",
       "  </tbody>\n",
       "</table>\n",
       "</div>"
      ],
      "text/plain": [
       "periodes  1901-1915  1916-1930  1931-1945  1946-1960  1961-1975  1976-1990\n",
       "genre                                                                     \n",
       "F                 2          9         33         77         47         30\n",
       "M               110        125        131        183         98         34"
      ]
     },
     "execution_count": 28,
     "metadata": {},
     "output_type": "execute_result"
    }
   ],
   "source": [
    "### Production du tableau à analyser\n",
    "D = ddf.iloc[:-1,:-1].copy(deep=True)\n",
    "D"
   ]
  },
  {
   "cell_type": "code",
   "execution_count": 29,
   "id": "c6612908",
   "metadata": {},
   "outputs": [
    {
     "name": "stdout",
     "output_type": "stream",
     "text": [
      "Dimensions: ( 2 , 6 ), effectif: 879 , nombre max. facteurs: 1\n"
     ]
    }
   ],
   "source": [
    "## Nombre de modalités ligne\n",
    "K = D.shape[0]\n",
    "## Nombre de modalités colonnes\n",
    "L = D.shape[1]\n",
    "# Effectif total\n",
    "n = np.sum(D.values)\n",
    "# Nombre max. de facteur\n",
    "Hmax = np.min([K-1,L-1])\n",
    "\n",
    "print('Dimensions: (', K, ',', L, '), effectif:', n, ', nombre max. facteurs:', Hmax)"
   ]
  },
  {
   "cell_type": "code",
   "execution_count": 30,
   "id": "f35e0906",
   "metadata": {},
   "outputs": [
    {
     "name": "stdout",
     "output_type": "stream",
     "text": [
      "Chi2 : 84.69484677003085 , dof : 5\n",
      "p-value : 8.722529690974464e-17\n",
      "phi2 = inertie (variance totale) : 0.09635363682597366\n",
      "Cramer:  0.3104088220814184\n"
     ]
    }
   ],
   "source": [
    "### Valeurs produites par la fonction de la librairie 'stats'\n",
    "statistic, p, dof, expected = stats.chi2_contingency(D)\n",
    "\n",
    "print('Chi2 :', statistic, ', dof :',dof)\n",
    "print('p-value :', p)\n",
    "\n",
    "\n",
    "print('phi2 = inertie (variance totale) :', statistic/n)\n",
    "\n",
    "\n",
    "### Tableau à l'indépendance\n",
    "dfe = round(pd.DataFrame(expected),4)\n",
    "\n",
    "### Coéfficient de Cramer\n",
    "# https://docs.scipy.org/doc/scipy/reference/generated/scipy.stats.contingency.association.html\n",
    "\n",
    "vc = stats.contingency.association(D, method='cramer')\n",
    "print('Cramer: ', vc)"
   ]
  },
  {
   "cell_type": "code",
   "execution_count": 31,
   "id": "0ab34c76",
   "metadata": {},
   "outputs": [
    {
     "data": {
      "image/png": "[encoded data removed]",
      "text/plain": [
       "<Figure size 500x200 with 2 Axes>"
      ]
     },
     "metadata": {},
     "output_type": "display_data"
    }
   ],
   "source": [
    "### Résidus pondérés (avec le signe)\n",
    "### Doc. :\n",
    "#   Rakotomalala, p.240\n",
    "residus_ponderes = (round((D.values-dfe)/np.sqrt(dfe),2))\n",
    "residus_ponderes.columns= D.columns\n",
    "residus_ponderes.index=D.index\n",
    "\n",
    "\n",
    "fig, ax = plt.subplots(figsize=(5,2))         \n",
    "# Sample figsize in inches\n",
    "g = sns.heatmap(residus_ponderes, annot=residus_ponderes, cmap=\"coolwarm\", linewidths=.5, ax=ax)\n",
    "labelsx = residus_ponderes.columns\n",
    "labelsy = residus_ponderes.index\n",
    "xt = g.set_xticklabels(labelsx, rotation=45, fontsize=8)\n",
    "yt = g.set_yticklabels(labelsy, rotation=45, fontsize=8)\n",
    "\n",
    "plt.show()\n"
   ]
  },
  {
   "cell_type": "markdown",
   "id": "e2be8d40",
   "metadata": {
    "jp-MarkdownHeadingCollapsed": true
   },
   "source": [
    "#### Commentaire\n",
    "\n",
    "Comme la variable 'gender' a deux modalités un seul facteur résumé la variance et une analyse factorielle n'est pas utile."
   ]
  },
  {
   "cell_type": "markdown",
   "id": "cc339c76",
   "metadata": {},
   "source": [
    "### Distributions des genres par origines"
   ]
  },
  {
   "cell_type": "code",
   "execution_count": 33,
   "id": "6307b4e0",
   "metadata": {},
   "outputs": [
    {
     "data": {
      "text/html": [
       "<div>\n",
       "<style scoped>\n",
       "    .dataframe tbody tr th:only-of-type {\n",
       "        vertical-align: middle;\n",
       "    }\n",
       "\n",
       "    .dataframe tbody tr th {\n",
       "        vertical-align: top;\n",
       "    }\n",
       "\n",
       "    .dataframe thead th {\n",
       "        text-align: right;\n",
       "    }\n",
       "</style>\n",
       "<table border=\"1\" class=\"dataframe\">\n",
       "  <thead>\n",
       "    <tr style=\"text-align: right;\">\n",
       "      <th>genre</th>\n",
       "      <th>F</th>\n",
       "      <th>M</th>\n",
       "      <th>Total</th>\n",
       "    </tr>\n",
       "    <tr>\n",
       "      <th>langue</th>\n",
       "      <th></th>\n",
       "      <th></th>\n",
       "      <th></th>\n",
       "    </tr>\n",
       "  </thead>\n",
       "  <tbody>\n",
       "    <tr>\n",
       "      <th>ALL</th>\n",
       "      <td>137</td>\n",
       "      <td>458</td>\n",
       "      <td>595</td>\n",
       "    </tr>\n",
       "    <tr>\n",
       "      <th>FR</th>\n",
       "      <td>57</td>\n",
       "      <td>184</td>\n",
       "      <td>241</td>\n",
       "    </tr>\n",
       "    <tr>\n",
       "      <th>IT</th>\n",
       "      <td>7</td>\n",
       "      <td>41</td>\n",
       "      <td>48</td>\n",
       "    </tr>\n",
       "    <tr>\n",
       "      <th>Total</th>\n",
       "      <td>201</td>\n",
       "      <td>683</td>\n",
       "      <td>884</td>\n",
       "    </tr>\n",
       "  </tbody>\n",
       "</table>\n",
       "</div>"
      ],
      "text/plain": [
       "genre     F    M  Total\n",
       "langue                 \n",
       "ALL     137  458    595\n",
       "FR       57  184    241\n",
       "IT        7   41     48\n",
       "Total   201  683    884"
      ]
     },
     "execution_count": 33,
     "metadata": {},
     "output_type": "execute_result"
    }
   ],
   "source": [
    "### Tableau de contingence\n",
    "X = \"genre\"\n",
    "Y = \"langue\"\n",
    "\n",
    "ddf = cdf_p[[Y,X]].pivot_table(index=Y,columns=X,aggfunc=len,margins=True,margins_name=\"Total\").fillna(0).astype(int)\n",
    "ddf"
   ]
  },
  {
   "cell_type": "markdown",
   "id": "c72a829b",
   "metadata": {},
   "source": [
    "Si cette table de contingence concerne l'ensemble de la population, on utilise pour la suite la même population que pour l'analyse précédente, limitée donc dans le temps et sans le genre 'A'."
   ]
  },
  {
   "cell_type": "code",
   "execution_count": 35,
   "id": "78d13911",
   "metadata": {},
   "outputs": [
    {
     "data": {
      "text/html": [
       "<div>\n",
       "<style scoped>\n",
       "    .dataframe tbody tr th:only-of-type {\n",
       "        vertical-align: middle;\n",
       "    }\n",
       "\n",
       "    .dataframe tbody tr th {\n",
       "        vertical-align: top;\n",
       "    }\n",
       "\n",
       "    .dataframe thead th {\n",
       "        text-align: right;\n",
       "    }\n",
       "</style>\n",
       "<table border=\"1\" class=\"dataframe\">\n",
       "  <thead>\n",
       "    <tr style=\"text-align: right;\">\n",
       "      <th>genre</th>\n",
       "      <th>F</th>\n",
       "      <th>M</th>\n",
       "      <th>Total</th>\n",
       "    </tr>\n",
       "    <tr>\n",
       "      <th>langue</th>\n",
       "      <th></th>\n",
       "      <th></th>\n",
       "      <th></th>\n",
       "    </tr>\n",
       "  </thead>\n",
       "  <tbody>\n",
       "    <tr>\n",
       "      <th>ALL</th>\n",
       "      <td>137</td>\n",
       "      <td>458</td>\n",
       "      <td>595</td>\n",
       "    </tr>\n",
       "    <tr>\n",
       "      <th>FR</th>\n",
       "      <td>57</td>\n",
       "      <td>184</td>\n",
       "      <td>241</td>\n",
       "    </tr>\n",
       "    <tr>\n",
       "      <th>IT</th>\n",
       "      <td>7</td>\n",
       "      <td>41</td>\n",
       "      <td>48</td>\n",
       "    </tr>\n",
       "    <tr>\n",
       "      <th>Total</th>\n",
       "      <td>201</td>\n",
       "      <td>683</td>\n",
       "      <td>884</td>\n",
       "    </tr>\n",
       "  </tbody>\n",
       "</table>\n",
       "</div>"
      ],
      "text/plain": [
       "genre     F    M  Total\n",
       "langue                 \n",
       "ALL     137  458    595\n",
       "FR       57  184    241\n",
       "IT        7   41     48\n",
       "Total   201  683    884"
      ]
     },
     "execution_count": 35,
     "metadata": {},
     "output_type": "execute_result"
    }
   ],
   "source": [
    "### Tableau de contingence\n",
    "X = \"genre\"\n",
    "Y = \"langue\"\n",
    "\n",
    "ddf = cdf_p[[Y,X]].pivot_table(index=Y,columns=X,aggfunc=len,margins=True,margins_name=\"Total\").fillna(0).astype(int)\n",
    "ddf"
   ]
  },
  {
   "cell_type": "code",
   "execution_count": 36,
   "id": "9d25b537",
   "metadata": {},
   "outputs": [
    {
     "data": {
      "text/html": [
       "<div>\n",
       "<style scoped>\n",
       "    .dataframe tbody tr th:only-of-type {\n",
       "        vertical-align: middle;\n",
       "    }\n",
       "\n",
       "    .dataframe tbody tr th {\n",
       "        vertical-align: top;\n",
       "    }\n",
       "\n",
       "    .dataframe thead th {\n",
       "        text-align: right;\n",
       "    }\n",
       "</style>\n",
       "<table border=\"1\" class=\"dataframe\">\n",
       "  <thead>\n",
       "    <tr style=\"text-align: right;\">\n",
       "      <th>genre</th>\n",
       "      <th>F</th>\n",
       "      <th>M</th>\n",
       "    </tr>\n",
       "    <tr>\n",
       "      <th>langue</th>\n",
       "      <th></th>\n",
       "      <th></th>\n",
       "    </tr>\n",
       "  </thead>\n",
       "  <tbody>\n",
       "    <tr>\n",
       "      <th>ALL</th>\n",
       "      <td>137</td>\n",
       "      <td>458</td>\n",
       "    </tr>\n",
       "    <tr>\n",
       "      <th>FR</th>\n",
       "      <td>57</td>\n",
       "      <td>184</td>\n",
       "    </tr>\n",
       "    <tr>\n",
       "      <th>IT</th>\n",
       "      <td>7</td>\n",
       "      <td>41</td>\n",
       "    </tr>\n",
       "  </tbody>\n",
       "</table>\n",
       "</div>"
      ],
      "text/plain": [
       "genre     F    M\n",
       "langue          \n",
       "ALL     137  458\n",
       "FR       57  184\n",
       "IT        7   41"
      ]
     },
     "execution_count": 36,
     "metadata": {},
     "output_type": "execute_result"
    }
   ],
   "source": [
    "### Production du tableau à analyser\n",
    "D = ddf.iloc[:-1,:-1].copy(deep=True)\n",
    "D"
   ]
  },
  {
   "cell_type": "code",
   "execution_count": 37,
   "id": "87a21982",
   "metadata": {},
   "outputs": [
    {
     "name": "stdout",
     "output_type": "stream",
     "text": [
      "Dimensions: ( 3 , 2 ), effectif: 884 , nombre max. facteurs: 1\n"
     ]
    }
   ],
   "source": [
    "## Nombre de modalités ligne\n",
    "K = D.shape[0]\n",
    "## Nombre de modalités colonnes\n",
    "L = D.shape[1]\n",
    "# Effectif total\n",
    "n = np.sum(D.values)\n",
    "# Nombre max. de facteur\n",
    "Hmax = np.min([K-1,L-1])\n",
    "\n",
    "print('Dimensions: (', K, ',', L, '), effectif:', n, ', nombre max. facteurs:', Hmax)"
   ]
  },
  {
   "cell_type": "code",
   "execution_count": 38,
   "id": "c1264e68",
   "metadata": {},
   "outputs": [
    {
     "name": "stdout",
     "output_type": "stream",
     "text": [
      "Chi2 : 1.959348019170526 , dof : 2\n",
      "p-value : 0.3754334666164452\n",
      "phi2 = inertie (variance totale) : 0.002216457035260776\n",
      "Cramer:  0.047079263325383244\n"
     ]
    }
   ],
   "source": [
    "### Valeurs produites par la fonction de la librairie 'stats'\n",
    "statistic, p, dof, expected = stats.chi2_contingency(D)\n",
    "\n",
    "print('Chi2 :', statistic, ', dof :',dof)\n",
    "print('p-value :', p)\n",
    "\n",
    "\n",
    "print('phi2 = inertie (variance totale) :', statistic/n)\n",
    "\n",
    "\n",
    "### Tableau à l'indépendance\n",
    "dfe = round(pd.DataFrame(expected),4)\n",
    "\n",
    "### Coéfficient de Cramer\n",
    "# https://docs.scipy.org/doc/scipy/reference/generated/scipy.stats.contingency.association.html\n",
    "\n",
    "vc = stats.contingency.association(D, method='cramer')\n",
    "print('Cramer: ', vc)"
   ]
  },
  {
   "cell_type": "code",
   "execution_count": 39,
   "id": "7079ee7f",
   "metadata": {},
   "outputs": [
    {
     "data": {
      "image/png": "[encoded data removed]",
      "text/plain": [
       "<Figure size 200x500 with 2 Axes>"
      ]
     },
     "metadata": {},
     "output_type": "display_data"
    }
   ],
   "source": [
    "### Résidus pondérés (avec le signe)\n",
    "### Doc. :\n",
    "#   Rakotomalala, p.240\n",
    "residus_ponderes = (round((D.values-dfe)/np.sqrt(dfe),2))\n",
    "residus_ponderes.columns= D.columns\n",
    "residus_ponderes.index=D.index\n",
    "\n",
    "\n",
    "fig, ax = plt.subplots(figsize=(2,5))         \n",
    "# Sample figsize in inches\n",
    "g = sns.heatmap(residus_ponderes, annot=residus_ponderes, \n",
    "                cmap=\"coolwarm\", linewidths=.5, ax=ax)\n",
    "labelsx = residus_ponderes.columns\n",
    "labelsy = residus_ponderes.index\n",
    "xt = g.set_xticklabels(labelsx, rotation=0, fontsize=8)\n",
    "yt = g.set_yticklabels(labelsy, rotation=10, fontsize=8)\n",
    "\n",
    "\n",
    "\n",
    "plt.show()\n"
   ]
  },
  {
   "cell_type": "markdown",
   "id": "fff5f57b",
   "metadata": {},
   "source": [
    "### Commentaire\n",
    "\n",
    "XXXXX"
   ]
  },
  {
   "cell_type": "markdown",
   "id": "f6eee928",
   "metadata": {},
   "source": [
    "## Analyser le lien entre genre+période et l'aire géographique\n",
    "\n",
    "Cette analyse plus fine permet de comparer trois variable mais dans une logique bivariée"
   ]
  },
  {
   "cell_type": "code",
   "execution_count": 43,
   "id": "d369f038",
   "metadata": {},
   "outputs": [
    {
     "name": "stdout",
     "output_type": "stream",
     "text": [
      "<class 'pandas.core.frame.DataFrame'>\n",
      "RangeIndex: 884 entries, 0 to 883\n",
      "Data columns (total 6 columns):\n",
      " #   Column      Non-Null Count  Dtype \n",
      "---  ------      --------------  ----- \n",
      " 0   uri         884 non-null    object\n",
      " 1   nom         884 non-null    object\n",
      " 2   genre       884 non-null    object\n",
      " 3   annee_nais  884 non-null    int32 \n",
      " 4   langue      884 non-null    object\n",
      " 5   periodes    884 non-null    object\n",
      "dtypes: int32(1), object(5)\n",
      "memory usage: 38.1+ KB\n"
     ]
    }
   ],
   "source": [
    "cdf_p.periodes = cdf_p.periodes.astype(\"str\")\n",
    "cdf_p.info()"
   ]
  },
  {
   "cell_type": "code",
   "execution_count": 44,
   "id": "6010fd8d",
   "metadata": {},
   "outputs": [
    {
     "data": {
      "text/html": [
       "<div>\n",
       "<style scoped>\n",
       "    .dataframe tbody tr th:only-of-type {\n",
       "        vertical-align: middle;\n",
       "    }\n",
       "\n",
       "    .dataframe tbody tr th {\n",
       "        vertical-align: top;\n",
       "    }\n",
       "\n",
       "    .dataframe thead th {\n",
       "        text-align: right;\n",
       "    }\n",
       "</style>\n",
       "<table border=\"1\" class=\"dataframe\">\n",
       "  <thead>\n",
       "    <tr style=\"text-align: right;\">\n",
       "      <th></th>\n",
       "      <th>uri</th>\n",
       "      <th>nom</th>\n",
       "      <th>genre</th>\n",
       "      <th>annee_nais</th>\n",
       "      <th>langue</th>\n",
       "      <th>periodes</th>\n",
       "      <th>genre_periodes</th>\n",
       "    </tr>\n",
       "  </thead>\n",
       "  <tbody>\n",
       "    <tr>\n",
       "      <th>0</th>\n",
       "      <td>http://www.wikidata.org/entity/Q1029622</td>\n",
       "      <td>Regula Rytz</td>\n",
       "      <td>F</td>\n",
       "      <td>1962</td>\n",
       "      <td>ALL</td>\n",
       "      <td>1961-1975</td>\n",
       "      <td>1961-1975_F</td>\n",
       "    </tr>\n",
       "    <tr>\n",
       "      <th>1</th>\n",
       "      <td>http://www.wikidata.org/entity/Q1039793</td>\n",
       "      <td>Carl Miville-Seiler</td>\n",
       "      <td>M</td>\n",
       "      <td>1921</td>\n",
       "      <td>ALL</td>\n",
       "      <td>1916-1930</td>\n",
       "      <td>1916-1930_M</td>\n",
       "    </tr>\n",
       "    <tr>\n",
       "      <th>2</th>\n",
       "      <td>http://www.wikidata.org/entity/Q105607582</td>\n",
       "      <td>Fabienne Bugnon</td>\n",
       "      <td>F</td>\n",
       "      <td>1959</td>\n",
       "      <td>FR</td>\n",
       "      <td>1946-1960</td>\n",
       "      <td>1946-1960_F</td>\n",
       "    </tr>\n",
       "    <tr>\n",
       "      <th>3</th>\n",
       "      <td>http://www.wikidata.org/entity/Q105750072</td>\n",
       "      <td>Madeleine Bernasconi</td>\n",
       "      <td>F</td>\n",
       "      <td>1939</td>\n",
       "      <td>FR</td>\n",
       "      <td>1931-1945</td>\n",
       "      <td>1931-1945_F</td>\n",
       "    </tr>\n",
       "    <tr>\n",
       "      <th>4</th>\n",
       "      <td>http://www.wikidata.org/entity/Q106371824</td>\n",
       "      <td>Otto G. Loretan</td>\n",
       "      <td>M</td>\n",
       "      <td>1946</td>\n",
       "      <td>ALL</td>\n",
       "      <td>1946-1960</td>\n",
       "      <td>1946-1960_M</td>\n",
       "    </tr>\n",
       "  </tbody>\n",
       "</table>\n",
       "</div>"
      ],
      "text/plain": [
       "                                         uri                   nom genre  \\\n",
       "0    http://www.wikidata.org/entity/Q1029622           Regula Rytz     F   \n",
       "1    http://www.wikidata.org/entity/Q1039793   Carl Miville-Seiler     M   \n",
       "2  http://www.wikidata.org/entity/Q105607582       Fabienne Bugnon     F   \n",
       "3  http://www.wikidata.org/entity/Q105750072  Madeleine Bernasconi     F   \n",
       "4  http://www.wikidata.org/entity/Q106371824       Otto G. Loretan     M   \n",
       "\n",
       "   annee_nais langue   periodes genre_periodes  \n",
       "0        1962    ALL  1961-1975    1961-1975_F  \n",
       "1        1921    ALL  1916-1930    1916-1930_M  \n",
       "2        1959     FR  1946-1960    1946-1960_F  \n",
       "3        1939     FR  1931-1945    1931-1945_F  \n",
       "4        1946    ALL  1946-1960    1946-1960_M  "
      ]
     },
     "execution_count": 44,
     "metadata": {},
     "output_type": "execute_result"
    }
   ],
   "source": [
    "cdf_p['genre_periodes'] = cdf_p.apply(lambda x: \\\n",
    "                    x.periodes + '_' + x.genre, axis=1)\n",
    "cdf_p.head()"
   ]
  },
  {
   "cell_type": "code",
   "execution_count": 45,
   "id": "a4d09d63",
   "metadata": {},
   "outputs": [
    {
     "data": {
      "text/plain": [
       "genre_periodes\n",
       "1901-1915_F      2\n",
       "1901-1915_M    110\n",
       "1916-1930_F      9\n",
       "1916-1930_M    125\n",
       "1931-1945_F     33\n",
       "1931-1945_M    131\n",
       "1946-1960_F     77\n",
       "1946-1960_M    183\n",
       "1961-1975_F     47\n",
       "1961-1975_M     98\n",
       "1976-1990_F     30\n",
       "1976-1990_M     34\n",
       "nan_F            3\n",
       "nan_M            2\n",
       "dtype: int64"
      ]
     },
     "execution_count": 45,
     "metadata": {},
     "output_type": "execute_result"
    }
   ],
   "source": [
    "cdf_p.groupby(by='genre_periodes').size()\n"
   ]
  },
  {
   "cell_type": "code",
   "execution_count": 46,
   "id": "ca66de3e",
   "metadata": {},
   "outputs": [
    {
     "data": {
      "text/html": [
       "<div>\n",
       "<style scoped>\n",
       "    .dataframe tbody tr th:only-of-type {\n",
       "        vertical-align: middle;\n",
       "    }\n",
       "\n",
       "    .dataframe tbody tr th {\n",
       "        vertical-align: top;\n",
       "    }\n",
       "\n",
       "    .dataframe thead th {\n",
       "        text-align: right;\n",
       "    }\n",
       "</style>\n",
       "<table border=\"1\" class=\"dataframe\">\n",
       "  <thead>\n",
       "    <tr style=\"text-align: right;\">\n",
       "      <th>genre_periodes</th>\n",
       "      <th>1901-1915_F</th>\n",
       "      <th>1901-1915_M</th>\n",
       "      <th>1916-1930_F</th>\n",
       "      <th>1916-1930_M</th>\n",
       "      <th>1931-1945_F</th>\n",
       "      <th>1931-1945_M</th>\n",
       "      <th>1946-1960_F</th>\n",
       "      <th>1946-1960_M</th>\n",
       "      <th>1961-1975_F</th>\n",
       "      <th>1961-1975_M</th>\n",
       "      <th>1976-1990_F</th>\n",
       "      <th>1976-1990_M</th>\n",
       "      <th>nan_F</th>\n",
       "      <th>nan_M</th>\n",
       "      <th>Total</th>\n",
       "    </tr>\n",
       "    <tr>\n",
       "      <th>langue</th>\n",
       "      <th></th>\n",
       "      <th></th>\n",
       "      <th></th>\n",
       "      <th></th>\n",
       "      <th></th>\n",
       "      <th></th>\n",
       "      <th></th>\n",
       "      <th></th>\n",
       "      <th></th>\n",
       "      <th></th>\n",
       "      <th></th>\n",
       "      <th></th>\n",
       "      <th></th>\n",
       "      <th></th>\n",
       "      <th></th>\n",
       "    </tr>\n",
       "  </thead>\n",
       "  <tbody>\n",
       "    <tr>\n",
       "      <th>ALL</th>\n",
       "      <td>2</td>\n",
       "      <td>80</td>\n",
       "      <td>3</td>\n",
       "      <td>97</td>\n",
       "      <td>22</td>\n",
       "      <td>80</td>\n",
       "      <td>57</td>\n",
       "      <td>124</td>\n",
       "      <td>30</td>\n",
       "      <td>60</td>\n",
       "      <td>20</td>\n",
       "      <td>15</td>\n",
       "      <td>3</td>\n",
       "      <td>2</td>\n",
       "      <td>595</td>\n",
       "    </tr>\n",
       "    <tr>\n",
       "      <th>FR</th>\n",
       "      <td>0</td>\n",
       "      <td>26</td>\n",
       "      <td>6</td>\n",
       "      <td>25</td>\n",
       "      <td>11</td>\n",
       "      <td>41</td>\n",
       "      <td>17</td>\n",
       "      <td>48</td>\n",
       "      <td>14</td>\n",
       "      <td>31</td>\n",
       "      <td>9</td>\n",
       "      <td>13</td>\n",
       "      <td>0</td>\n",
       "      <td>0</td>\n",
       "      <td>241</td>\n",
       "    </tr>\n",
       "    <tr>\n",
       "      <th>IT</th>\n",
       "      <td>0</td>\n",
       "      <td>4</td>\n",
       "      <td>0</td>\n",
       "      <td>3</td>\n",
       "      <td>0</td>\n",
       "      <td>10</td>\n",
       "      <td>3</td>\n",
       "      <td>11</td>\n",
       "      <td>3</td>\n",
       "      <td>7</td>\n",
       "      <td>1</td>\n",
       "      <td>6</td>\n",
       "      <td>0</td>\n",
       "      <td>0</td>\n",
       "      <td>48</td>\n",
       "    </tr>\n",
       "    <tr>\n",
       "      <th>Total</th>\n",
       "      <td>2</td>\n",
       "      <td>110</td>\n",
       "      <td>9</td>\n",
       "      <td>125</td>\n",
       "      <td>33</td>\n",
       "      <td>131</td>\n",
       "      <td>77</td>\n",
       "      <td>183</td>\n",
       "      <td>47</td>\n",
       "      <td>98</td>\n",
       "      <td>30</td>\n",
       "      <td>34</td>\n",
       "      <td>3</td>\n",
       "      <td>2</td>\n",
       "      <td>884</td>\n",
       "    </tr>\n",
       "  </tbody>\n",
       "</table>\n",
       "</div>"
      ],
      "text/plain": [
       "genre_periodes  1901-1915_F  1901-1915_M  1916-1930_F  1916-1930_M  \\\n",
       "langue                                                               \n",
       "ALL                       2           80            3           97   \n",
       "FR                        0           26            6           25   \n",
       "IT                        0            4            0            3   \n",
       "Total                     2          110            9          125   \n",
       "\n",
       "genre_periodes  1931-1945_F  1931-1945_M  1946-1960_F  1946-1960_M  \\\n",
       "langue                                                               \n",
       "ALL                      22           80           57          124   \n",
       "FR                       11           41           17           48   \n",
       "IT                        0           10            3           11   \n",
       "Total                    33          131           77          183   \n",
       "\n",
       "genre_periodes  1961-1975_F  1961-1975_M  1976-1990_F  1976-1990_M  nan_F  \\\n",
       "langue                                                                      \n",
       "ALL                      30           60           20           15      3   \n",
       "FR                       14           31            9           13      0   \n",
       "IT                        3            7            1            6      0   \n",
       "Total                    47           98           30           34      3   \n",
       "\n",
       "genre_periodes  nan_M  Total  \n",
       "langue                        \n",
       "ALL                 2    595  \n",
       "FR                  0    241  \n",
       "IT                  0     48  \n",
       "Total               2    884  "
      ]
     },
     "execution_count": 46,
     "metadata": {},
     "output_type": "execute_result"
    }
   ],
   "source": [
    "### Tableau de contingence\n",
    "X = \"genre_periodes\"\n",
    "Y = \"langue\"\n",
    "\n",
    "ddf = cdf_p[[Y,X]].pivot_table(index=Y,columns=X,aggfunc=len,margins=True,margins_name=\"Total\").fillna(0).astype(int)\n",
    "ddf"
   ]
  },
  {
   "cell_type": "code",
   "execution_count": 59,
   "id": "549eee19-e003-492c-a5c8-4d1d2fec2cd7",
   "metadata": {},
   "outputs": [],
   "source": [
    "### Liste construite manuellement à partir de cette liste\n",
    "# print(ddf.index.to_list())\n",
    "\n",
    "li = ['ALL', 'FR', 'IT']"
   ]
  },
  {
   "cell_type": "code",
   "execution_count": 60,
   "id": "08f6a5f3-212e-4348-a973-7f42adaddf0b",
   "metadata": {},
   "outputs": [],
   "source": [
    "lc = ddf.columns.to_list()[:-1]"
   ]
  },
  {
   "cell_type": "code",
   "execution_count": 61,
   "id": "ba8db3de-6df8-47ea-af23-60adc3321d89",
   "metadata": {},
   "outputs": [
    {
     "data": {
      "text/html": [
       "<div>\n",
       "<style scoped>\n",
       "    .dataframe tbody tr th:only-of-type {\n",
       "        vertical-align: middle;\n",
       "    }\n",
       "\n",
       "    .dataframe tbody tr th {\n",
       "        vertical-align: top;\n",
       "    }\n",
       "\n",
       "    .dataframe thead th {\n",
       "        text-align: right;\n",
       "    }\n",
       "</style>\n",
       "<table border=\"1\" class=\"dataframe\">\n",
       "  <thead>\n",
       "    <tr style=\"text-align: right;\">\n",
       "      <th>genre_periodes</th>\n",
       "      <th>1901-1915_F</th>\n",
       "      <th>1901-1915_M</th>\n",
       "      <th>1916-1930_F</th>\n",
       "      <th>1916-1930_M</th>\n",
       "      <th>1931-1945_F</th>\n",
       "      <th>1931-1945_M</th>\n",
       "      <th>1946-1960_F</th>\n",
       "      <th>1946-1960_M</th>\n",
       "      <th>1961-1975_F</th>\n",
       "      <th>1961-1975_M</th>\n",
       "      <th>1976-1990_F</th>\n",
       "      <th>1976-1990_M</th>\n",
       "      <th>nan_F</th>\n",
       "      <th>nan_M</th>\n",
       "    </tr>\n",
       "    <tr>\n",
       "      <th>langue</th>\n",
       "      <th></th>\n",
       "      <th></th>\n",
       "      <th></th>\n",
       "      <th></th>\n",
       "      <th></th>\n",
       "      <th></th>\n",
       "      <th></th>\n",
       "      <th></th>\n",
       "      <th></th>\n",
       "      <th></th>\n",
       "      <th></th>\n",
       "      <th></th>\n",
       "      <th></th>\n",
       "      <th></th>\n",
       "    </tr>\n",
       "  </thead>\n",
       "  <tbody>\n",
       "    <tr>\n",
       "      <th>ALL</th>\n",
       "      <td>2</td>\n",
       "      <td>80</td>\n",
       "      <td>3</td>\n",
       "      <td>97</td>\n",
       "      <td>22</td>\n",
       "      <td>80</td>\n",
       "      <td>57</td>\n",
       "      <td>124</td>\n",
       "      <td>30</td>\n",
       "      <td>60</td>\n",
       "      <td>20</td>\n",
       "      <td>15</td>\n",
       "      <td>3</td>\n",
       "      <td>2</td>\n",
       "    </tr>\n",
       "    <tr>\n",
       "      <th>FR</th>\n",
       "      <td>0</td>\n",
       "      <td>26</td>\n",
       "      <td>6</td>\n",
       "      <td>25</td>\n",
       "      <td>11</td>\n",
       "      <td>41</td>\n",
       "      <td>17</td>\n",
       "      <td>48</td>\n",
       "      <td>14</td>\n",
       "      <td>31</td>\n",
       "      <td>9</td>\n",
       "      <td>13</td>\n",
       "      <td>0</td>\n",
       "      <td>0</td>\n",
       "    </tr>\n",
       "    <tr>\n",
       "      <th>IT</th>\n",
       "      <td>0</td>\n",
       "      <td>4</td>\n",
       "      <td>0</td>\n",
       "      <td>3</td>\n",
       "      <td>0</td>\n",
       "      <td>10</td>\n",
       "      <td>3</td>\n",
       "      <td>11</td>\n",
       "      <td>3</td>\n",
       "      <td>7</td>\n",
       "      <td>1</td>\n",
       "      <td>6</td>\n",
       "      <td>0</td>\n",
       "      <td>0</td>\n",
       "    </tr>\n",
       "  </tbody>\n",
       "</table>\n",
       "</div>"
      ],
      "text/plain": [
       "genre_periodes  1901-1915_F  1901-1915_M  1916-1930_F  1916-1930_M  \\\n",
       "langue                                                               \n",
       "ALL                       2           80            3           97   \n",
       "FR                        0           26            6           25   \n",
       "IT                        0            4            0            3   \n",
       "\n",
       "genre_periodes  1931-1945_F  1931-1945_M  1946-1960_F  1946-1960_M  \\\n",
       "langue                                                               \n",
       "ALL                      22           80           57          124   \n",
       "FR                       11           41           17           48   \n",
       "IT                        0           10            3           11   \n",
       "\n",
       "genre_periodes  1961-1975_F  1961-1975_M  1976-1990_F  1976-1990_M  nan_F  \\\n",
       "langue                                                                      \n",
       "ALL                      30           60           20           15      3   \n",
       "FR                       14           31            9           13      0   \n",
       "IT                        3            7            1            6      0   \n",
       "\n",
       "genre_periodes  nan_M  \n",
       "langue                 \n",
       "ALL                 2  \n",
       "FR                  0  \n",
       "IT                  0  "
      ]
     },
     "execution_count": 61,
     "metadata": {},
     "output_type": "execute_result"
    }
   ],
   "source": [
    "D = ddf.loc[li,lc].copy(deep=True)\n",
    "D"
   ]
  },
  {
   "cell_type": "code",
   "execution_count": 80,
   "id": "1ae0ef49",
   "metadata": {},
   "outputs": [
    {
     "name": "stdout",
     "output_type": "stream",
     "text": [
      "Dimensions: ( 3 , 14 ), effectif: 884 , nombre max. facteurs: 2\n"
     ]
    }
   ],
   "source": [
    "## Nombre de modalités ligne\n",
    "K = D.shape[0]\n",
    "## Nombre de modalités colonnes\n",
    "L = D.shape[1]\n",
    "# Effectif total\n",
    "n = np.sum(D.values)\n",
    "# Nombre max. de facteur\n",
    "Hmax = np.min([K-1,L-1])\n",
    "\n",
    "print('Dimensions: (', K, ',', L, '), effectif:', n, ', nombre max. facteurs:', Hmax)"
   ]
  },
  {
   "cell_type": "markdown",
   "id": "800a91d1-1d60-48c1-bb20-b3634046d410",
   "metadata": {},
   "source": [
    "## commentaires\n",
    "\n",
    "comme le nombre max. de facteurs est limité à 2 dans mon carnet, je vais uniquement faire des visualisation en 2D et renoncer à la 3D."
   ]
  },
  {
   "cell_type": "code",
   "execution_count": 81,
   "id": "5bb430d3",
   "metadata": {},
   "outputs": [
    {
     "name": "stdout",
     "output_type": "stream",
     "text": [
      "Chi2 : 41.39015410521539 , dof : 26\n",
      "p-value : 0.028340357979230294\n",
      "phi2 = inertie (variance totale) : 0.04682144129549252\n",
      "Cramer:  0.15300562292852593\n"
     ]
    }
   ],
   "source": [
    "### Valeurs produites par la fonction de la librairie 'stats'\n",
    "statistic, p, dof, expected = stats.chi2_contingency(D)\n",
    "\n",
    "print('Chi2 :', statistic, ', dof :',dof)\n",
    "print('p-value :', p)\n",
    "\n",
    "\n",
    "print('phi2 = inertie (variance totale) :', statistic/n)\n",
    "\n",
    "\n",
    "### Tableau à l'indépendance\n",
    "dfe = round(pd.DataFrame(expected),4)\n",
    "\n",
    "### Coéfficient de Cramer\n",
    "# https://docs.scipy.org/doc/scipy/reference/generated/scipy.stats.contingency.association.html\n",
    "\n",
    "vc = stats.contingency.association(D, method='cramer')\n",
    "print('Cramer: ', vc)"
   ]
  },
  {
   "cell_type": "code",
   "execution_count": 82,
   "id": "c9292bfe",
   "metadata": {},
   "outputs": [
    {
     "data": {
      "image/png": "[encoded data removed]",
      "text/plain": [
       "<Figure size 1000x800 with 2 Axes>"
      ]
     },
     "metadata": {},
     "output_type": "display_data"
    }
   ],
   "source": [
    "### Résidus pondérés (avec le signe)\n",
    "### Doc. :\n",
    "#   Rakotomalala, p.240\n",
    "residus_ponderes = (round((D.values-dfe)/np.sqrt(dfe),2))\n",
    "residus_ponderes.columns= D.columns\n",
    "residus_ponderes.index=D.index\n",
    "\n",
    "\n",
    "fig, ax = plt.subplots(figsize=(10,8))         \n",
    "# Sample figsize in inches\n",
    "g = sns.heatmap(residus_ponderes, annot=residus_ponderes, \n",
    "                cmap=\"coolwarm\", linewidths=.5, ax=ax)\n",
    "labelsx = residus_ponderes.columns\n",
    "labelsy = residus_ponderes.index\n",
    "xt = g.set_xticklabels(labelsx, rotation=20, fontsize=8)\n",
    "yt = g.set_yticklabels(labelsy, rotation=0, fontsize=8)\n",
    "\n",
    "\n",
    "g.set_title('Diagramme des résidus pondérés')\n",
    "\n",
    "plt.savefig('images/genre_periode_aire_resid_ponderes.jpg', bbox_inches='tight')\n",
    "plt.show()\n"
   ]
  },
  {
   "cell_type": "code",
   "execution_count": 83,
   "id": "bc9d46e0",
   "metadata": {},
   "outputs": [
    {
     "data": {
      "text/html": [
       "<style>#sk-container-id-5 {\n",
       "  /* Definition of color scheme common for light and dark mode */\n",
       "  --sklearn-color-text: black;\n",
       "  --sklearn-color-line: gray;\n",
       "  /* Definition of color scheme for unfitted estimators */\n",
       "  --sklearn-color-unfitted-level-0: #fff5e6;\n",
       "  --sklearn-color-unfitted-level-1: #f6e4d2;\n",
       "  --sklearn-color-unfitted-level-2: #ffe0b3;\n",
       "  --sklearn-color-unfitted-level-3: chocolate;\n",
       "  /* Definition of color scheme for fitted estimators */\n",
       "  --sklearn-color-fitted-level-0: #f0f8ff;\n",
       "  --sklearn-color-fitted-level-1: #d4ebff;\n",
       "  --sklearn-color-fitted-level-2: #b3dbfd;\n",
       "  --sklearn-color-fitted-level-3: cornflowerblue;\n",
       "\n",
       "  /* Specific color for light theme */\n",
       "  --sklearn-color-text-on-default-background: var(--sg-text-color, var(--theme-code-foreground, var(--jp-content-font-color1, black)));\n",
       "  --sklearn-color-background: var(--sg-background-color, var(--theme-background, var(--jp-layout-color0, white)));\n",
       "  --sklearn-color-border-box: var(--sg-text-color, var(--theme-code-foreground, var(--jp-content-font-color1, black)));\n",
       "  --sklearn-color-icon: #696969;\n",
       "\n",
       "  @media (prefers-color-scheme: dark) {\n",
       "    /* Redefinition of color scheme for dark theme */\n",
       "    --sklearn-color-text-on-default-background: var(--sg-text-color, var(--theme-code-foreground, var(--jp-content-font-color1, white)));\n",
       "    --sklearn-color-background: var(--sg-background-color, var(--theme-background, var(--jp-layout-color0, #111)));\n",
       "    --sklearn-color-border-box: var(--sg-text-color, var(--theme-code-foreground, var(--jp-content-font-color1, white)));\n",
       "    --sklearn-color-icon: #878787;\n",
       "  }\n",
       "}\n",
       "\n",
       "#sk-container-id-5 {\n",
       "  color: var(--sklearn-color-text);\n",
       "}\n",
       "\n",
       "#sk-container-id-5 pre {\n",
       "  padding: 0;\n",
       "}\n",
       "\n",
       "#sk-container-id-5 input.sk-hidden--visually {\n",
       "  border: 0;\n",
       "  clip: rect(1px 1px 1px 1px);\n",
       "  clip: rect(1px, 1px, 1px, 1px);\n",
       "  height: 1px;\n",
       "  margin: -1px;\n",
       "  overflow: hidden;\n",
       "  padding: 0;\n",
       "  position: absolute;\n",
       "  width: 1px;\n",
       "}\n",
       "\n",
       "#sk-container-id-5 div.sk-dashed-wrapped {\n",
       "  border: 1px dashed var(--sklearn-color-line);\n",
       "  margin: 0 0.4em 0.5em 0.4em;\n",
       "  box-sizing: border-box;\n",
       "  padding-bottom: 0.4em;\n",
       "  background-color: var(--sklearn-color-background);\n",
       "}\n",
       "\n",
       "#sk-container-id-5 div.sk-container {\n",
       "  /* jupyter's `normalize.less` sets `[hidden] { display: none; }`\n",
       "     but bootstrap.min.css set `[hidden] { display: none !important; }`\n",
       "     so we also need the `!important` here to be able to override the\n",
       "     default hidden behavior on the sphinx rendered scikit-learn.org.\n",
       "     See: https://github.com/scikit-learn/scikit-learn/issues/21755 */\n",
       "  display: inline-block !important;\n",
       "  position: relative;\n",
       "}\n",
       "\n",
       "#sk-container-id-5 div.sk-text-repr-fallback {\n",
       "  display: none;\n",
       "}\n",
       "\n",
       "div.sk-parallel-item,\n",
       "div.sk-serial,\n",
       "div.sk-item {\n",
       "  /* draw centered vertical line to link estimators */\n",
       "  background-image: linear-gradient(var(--sklearn-color-text-on-default-background), var(--sklearn-color-text-on-default-background));\n",
       "  background-size: 2px 100%;\n",
       "  background-repeat: no-repeat;\n",
       "  background-position: center center;\n",
       "}\n",
       "\n",
       "/* Parallel-specific style estimator block */\n",
       "\n",
       "#sk-container-id-5 div.sk-parallel-item::after {\n",
       "  content: \"\";\n",
       "  width: 100%;\n",
       "  border-bottom: 2px solid var(--sklearn-color-text-on-default-background);\n",
       "  flex-grow: 1;\n",
       "}\n",
       "\n",
       "#sk-container-id-5 div.sk-parallel {\n",
       "  display: flex;\n",
       "  align-items: stretch;\n",
       "  justify-content: center;\n",
       "  background-color: var(--sklearn-color-background);\n",
       "  position: relative;\n",
       "}\n",
       "\n",
       "#sk-container-id-5 div.sk-parallel-item {\n",
       "  display: flex;\n",
       "  flex-direction: column;\n",
       "}\n",
       "\n",
       "#sk-container-id-5 div.sk-parallel-item:first-child::after {\n",
       "  align-self: flex-end;\n",
       "  width: 50%;\n",
       "}\n",
       "\n",
       "#sk-container-id-5 div.sk-parallel-item:last-child::after {\n",
       "  align-self: flex-start;\n",
       "  width: 50%;\n",
       "}\n",
       "\n",
       "#sk-container-id-5 div.sk-parallel-item:only-child::after {\n",
       "  width: 0;\n",
       "}\n",
       "\n",
       "/* Serial-specific style estimator block */\n",
       "\n",
       "#sk-container-id-5 div.sk-serial {\n",
       "  display: flex;\n",
       "  flex-direction: column;\n",
       "  align-items: center;\n",
       "  background-color: var(--sklearn-color-background);\n",
       "  padding-right: 1em;\n",
       "  padding-left: 1em;\n",
       "}\n",
       "\n",
       "\n",
       "/* Toggleable style: style used for estimator/Pipeline/ColumnTransformer box that is\n",
       "clickable and can be expanded/collapsed.\n",
       "- Pipeline and ColumnTransformer use this feature and define the default style\n",
       "- Estimators will overwrite some part of the style using the `sk-estimator` class\n",
       "*/\n",
       "\n",
       "/* Pipeline and ColumnTransformer style (default) */\n",
       "\n",
       "#sk-container-id-5 div.sk-toggleable {\n",
       "  /* Default theme specific background. It is overwritten whether we have a\n",
       "  specific estimator or a Pipeline/ColumnTransformer */\n",
       "  background-color: var(--sklearn-color-background);\n",
       "}\n",
       "\n",
       "/* Toggleable label */\n",
       "#sk-container-id-5 label.sk-toggleable__label {\n",
       "  cursor: pointer;\n",
       "  display: block;\n",
       "  width: 100%;\n",
       "  margin-bottom: 0;\n",
       "  padding: 0.5em;\n",
       "  box-sizing: border-box;\n",
       "  text-align: center;\n",
       "}\n",
       "\n",
       "#sk-container-id-5 label.sk-toggleable__label-arrow:before {\n",
       "  /* Arrow on the left of the label */\n",
       "  content: \"▸\";\n",
       "  float: left;\n",
       "  margin-right: 0.25em;\n",
       "  color: var(--sklearn-color-icon);\n",
       "}\n",
       "\n",
       "#sk-container-id-5 label.sk-toggleable__label-arrow:hover:before {\n",
       "  color: var(--sklearn-color-text);\n",
       "}\n",
       "\n",
       "/* Toggleable content - dropdown */\n",
       "\n",
       "#sk-container-id-5 div.sk-toggleable__content {\n",
       "  max-height: 0;\n",
       "  max-width: 0;\n",
       "  overflow: hidden;\n",
       "  text-align: left;\n",
       "  /* unfitted */\n",
       "  background-color: var(--sklearn-color-unfitted-level-0);\n",
       "}\n",
       "\n",
       "#sk-container-id-5 div.sk-toggleable__content.fitted {\n",
       "  /* fitted */\n",
       "  background-color: var(--sklearn-color-fitted-level-0);\n",
       "}\n",
       "\n",
       "#sk-container-id-5 div.sk-toggleable__content pre {\n",
       "  margin: 0.2em;\n",
       "  border-radius: 0.25em;\n",
       "  color: var(--sklearn-color-text);\n",
       "  /* unfitted */\n",
       "  background-color: var(--sklearn-color-unfitted-level-0);\n",
       "}\n",
       "\n",
       "#sk-container-id-5 div.sk-toggleable__content.fitted pre {\n",
       "  /* unfitted */\n",
       "  background-color: var(--sklearn-color-fitted-level-0);\n",
       "}\n",
       "\n",
       "#sk-container-id-5 input.sk-toggleable__control:checked~div.sk-toggleable__content {\n",
       "  /* Expand drop-down */\n",
       "  max-height: 200px;\n",
       "  max-width: 100%;\n",
       "  overflow: auto;\n",
       "}\n",
       "\n",
       "#sk-container-id-5 input.sk-toggleable__control:checked~label.sk-toggleable__label-arrow:before {\n",
       "  content: \"▾\";\n",
       "}\n",
       "\n",
       "/* Pipeline/ColumnTransformer-specific style */\n",
       "\n",
       "#sk-container-id-5 div.sk-label input.sk-toggleable__control:checked~label.sk-toggleable__label {\n",
       "  color: var(--sklearn-color-text);\n",
       "  background-color: var(--sklearn-color-unfitted-level-2);\n",
       "}\n",
       "\n",
       "#sk-container-id-5 div.sk-label.fitted input.sk-toggleable__control:checked~label.sk-toggleable__label {\n",
       "  background-color: var(--sklearn-color-fitted-level-2);\n",
       "}\n",
       "\n",
       "/* Estimator-specific style */\n",
       "\n",
       "/* Colorize estimator box */\n",
       "#sk-container-id-5 div.sk-estimator input.sk-toggleable__control:checked~label.sk-toggleable__label {\n",
       "  /* unfitted */\n",
       "  background-color: var(--sklearn-color-unfitted-level-2);\n",
       "}\n",
       "\n",
       "#sk-container-id-5 div.sk-estimator.fitted input.sk-toggleable__control:checked~label.sk-toggleable__label {\n",
       "  /* fitted */\n",
       "  background-color: var(--sklearn-color-fitted-level-2);\n",
       "}\n",
       "\n",
       "#sk-container-id-5 div.sk-label label.sk-toggleable__label,\n",
       "#sk-container-id-5 div.sk-label label {\n",
       "  /* The background is the default theme color */\n",
       "  color: var(--sklearn-color-text-on-default-background);\n",
       "}\n",
       "\n",
       "/* On hover, darken the color of the background */\n",
       "#sk-container-id-5 div.sk-label:hover label.sk-toggleable__label {\n",
       "  color: var(--sklearn-color-text);\n",
       "  background-color: var(--sklearn-color-unfitted-level-2);\n",
       "}\n",
       "\n",
       "/* Label box, darken color on hover, fitted */\n",
       "#sk-container-id-5 div.sk-label.fitted:hover label.sk-toggleable__label.fitted {\n",
       "  color: var(--sklearn-color-text);\n",
       "  background-color: var(--sklearn-color-fitted-level-2);\n",
       "}\n",
       "\n",
       "/* Estimator label */\n",
       "\n",
       "#sk-container-id-5 div.sk-label label {\n",
       "  font-family: monospace;\n",
       "  font-weight: bold;\n",
       "  display: inline-block;\n",
       "  line-height: 1.2em;\n",
       "}\n",
       "\n",
       "#sk-container-id-5 div.sk-label-container {\n",
       "  text-align: center;\n",
       "}\n",
       "\n",
       "/* Estimator-specific */\n",
       "#sk-container-id-5 div.sk-estimator {\n",
       "  font-family: monospace;\n",
       "  border: 1px dotted var(--sklearn-color-border-box);\n",
       "  border-radius: 0.25em;\n",
       "  box-sizing: border-box;\n",
       "  margin-bottom: 0.5em;\n",
       "  /* unfitted */\n",
       "  background-color: var(--sklearn-color-unfitted-level-0);\n",
       "}\n",
       "\n",
       "#sk-container-id-5 div.sk-estimator.fitted {\n",
       "  /* fitted */\n",
       "  background-color: var(--sklearn-color-fitted-level-0);\n",
       "}\n",
       "\n",
       "/* on hover */\n",
       "#sk-container-id-5 div.sk-estimator:hover {\n",
       "  /* unfitted */\n",
       "  background-color: var(--sklearn-color-unfitted-level-2);\n",
       "}\n",
       "\n",
       "#sk-container-id-5 div.sk-estimator.fitted:hover {\n",
       "  /* fitted */\n",
       "  background-color: var(--sklearn-color-fitted-level-2);\n",
       "}\n",
       "\n",
       "/* Specification for estimator info (e.g. \"i\" and \"?\") */\n",
       "\n",
       "/* Common style for \"i\" and \"?\" */\n",
       "\n",
       ".sk-estimator-doc-link,\n",
       "a:link.sk-estimator-doc-link,\n",
       "a:visited.sk-estimator-doc-link {\n",
       "  float: right;\n",
       "  font-size: smaller;\n",
       "  line-height: 1em;\n",
       "  font-family: monospace;\n",
       "  background-color: var(--sklearn-color-background);\n",
       "  border-radius: 1em;\n",
       "  height: 1em;\n",
       "  width: 1em;\n",
       "  text-decoration: none !important;\n",
       "  margin-left: 1ex;\n",
       "  /* unfitted */\n",
       "  border: var(--sklearn-color-unfitted-level-1) 1pt solid;\n",
       "  color: var(--sklearn-color-unfitted-level-1);\n",
       "}\n",
       "\n",
       ".sk-estimator-doc-link.fitted,\n",
       "a:link.sk-estimator-doc-link.fitted,\n",
       "a:visited.sk-estimator-doc-link.fitted {\n",
       "  /* fitted */\n",
       "  border: var(--sklearn-color-fitted-level-1) 1pt solid;\n",
       "  color: var(--sklearn-color-fitted-level-1);\n",
       "}\n",
       "\n",
       "/* On hover */\n",
       "div.sk-estimator:hover .sk-estimator-doc-link:hover,\n",
       ".sk-estimator-doc-link:hover,\n",
       "div.sk-label-container:hover .sk-estimator-doc-link:hover,\n",
       ".sk-estimator-doc-link:hover {\n",
       "  /* unfitted */\n",
       "  background-color: var(--sklearn-color-unfitted-level-3);\n",
       "  color: var(--sklearn-color-background);\n",
       "  text-decoration: none;\n",
       "}\n",
       "\n",
       "div.sk-estimator.fitted:hover .sk-estimator-doc-link.fitted:hover,\n",
       ".sk-estimator-doc-link.fitted:hover,\n",
       "div.sk-label-container:hover .sk-estimator-doc-link.fitted:hover,\n",
       ".sk-estimator-doc-link.fitted:hover {\n",
       "  /* fitted */\n",
       "  background-color: var(--sklearn-color-fitted-level-3);\n",
       "  color: var(--sklearn-color-background);\n",
       "  text-decoration: none;\n",
       "}\n",
       "\n",
       "/* Span, style for the box shown on hovering the info icon */\n",
       ".sk-estimator-doc-link span {\n",
       "  display: none;\n",
       "  z-index: 9999;\n",
       "  position: relative;\n",
       "  font-weight: normal;\n",
       "  right: .2ex;\n",
       "  padding: .5ex;\n",
       "  margin: .5ex;\n",
       "  width: min-content;\n",
       "  min-width: 20ex;\n",
       "  max-width: 50ex;\n",
       "  color: var(--sklearn-color-text);\n",
       "  box-shadow: 2pt 2pt 4pt #999;\n",
       "  /* unfitted */\n",
       "  background: var(--sklearn-color-unfitted-level-0);\n",
       "  border: .5pt solid var(--sklearn-color-unfitted-level-3);\n",
       "}\n",
       "\n",
       ".sk-estimator-doc-link.fitted span {\n",
       "  /* fitted */\n",
       "  background: var(--sklearn-color-fitted-level-0);\n",
       "  border: var(--sklearn-color-fitted-level-3);\n",
       "}\n",
       "\n",
       ".sk-estimator-doc-link:hover span {\n",
       "  display: block;\n",
       "}\n",
       "\n",
       "/* \"?\"-specific style due to the `<a>` HTML tag */\n",
       "\n",
       "#sk-container-id-5 a.estimator_doc_link {\n",
       "  float: right;\n",
       "  font-size: 1rem;\n",
       "  line-height: 1em;\n",
       "  font-family: monospace;\n",
       "  background-color: var(--sklearn-color-background);\n",
       "  border-radius: 1rem;\n",
       "  height: 1rem;\n",
       "  width: 1rem;\n",
       "  text-decoration: none;\n",
       "  /* unfitted */\n",
       "  color: var(--sklearn-color-unfitted-level-1);\n",
       "  border: var(--sklearn-color-unfitted-level-1) 1pt solid;\n",
       "}\n",
       "\n",
       "#sk-container-id-5 a.estimator_doc_link.fitted {\n",
       "  /* fitted */\n",
       "  border: var(--sklearn-color-fitted-level-1) 1pt solid;\n",
       "  color: var(--sklearn-color-fitted-level-1);\n",
       "}\n",
       "\n",
       "/* On hover */\n",
       "#sk-container-id-5 a.estimator_doc_link:hover {\n",
       "  /* unfitted */\n",
       "  background-color: var(--sklearn-color-unfitted-level-3);\n",
       "  color: var(--sklearn-color-background);\n",
       "  text-decoration: none;\n",
       "}\n",
       "\n",
       "#sk-container-id-5 a.estimator_doc_link.fitted:hover {\n",
       "  /* fitted */\n",
       "  background-color: var(--sklearn-color-fitted-level-3);\n",
       "}\n",
       "</style><div id=\"sk-container-id-5\" class=\"sk-top-container\"><div class=\"sk-text-repr-fallback\"><pre>CA(col_labels=Index([&#x27;1901-1915_F&#x27;, &#x27;1901-1915_M&#x27;, &#x27;1916-1930_F&#x27;, &#x27;1916-1930_M&#x27;,\n",
       "       &#x27;1931-1945_F&#x27;, &#x27;1931-1945_M&#x27;, &#x27;1946-1960_F&#x27;, &#x27;1946-1960_M&#x27;,\n",
       "       &#x27;1961-1975_F&#x27;, &#x27;1961-1975_M&#x27;, &#x27;1976-1990_F&#x27;, &#x27;1976-1990_M&#x27;, &#x27;nan_F&#x27;,\n",
       "       &#x27;nan_M&#x27;],\n",
       "      dtype=&#x27;object&#x27;, name=&#x27;genre_periodes&#x27;),\n",
       "   row_labels=Index([&#x27;ALL&#x27;, &#x27;FR&#x27;, &#x27;IT&#x27;], dtype=&#x27;object&#x27;, name=&#x27;langue&#x27;))</pre><b>In a Jupyter environment, please rerun this cell to show the HTML representation or trust the notebook. <br />On GitHub, the HTML representation is unable to render, please try loading this page with nbviewer.org.</b></div><div class=\"sk-container\" hidden><div class=\"sk-item\"><div class=\"sk-estimator fitted sk-toggleable\"><input class=\"sk-toggleable__control sk-hidden--visually\" id=\"sk-estimator-id-5\" type=\"checkbox\" checked><label for=\"sk-estimator-id-5\" class=\"sk-toggleable__label fitted sk-toggleable__label-arrow fitted\">&nbsp;CA<span class=\"sk-estimator-doc-link fitted\">i<span>Fitted</span></span></label><div class=\"sk-toggleable__content fitted\"><pre>CA(col_labels=Index([&#x27;1901-1915_F&#x27;, &#x27;1901-1915_M&#x27;, &#x27;1916-1930_F&#x27;, &#x27;1916-1930_M&#x27;,\n",
       "       &#x27;1931-1945_F&#x27;, &#x27;1931-1945_M&#x27;, &#x27;1946-1960_F&#x27;, &#x27;1946-1960_M&#x27;,\n",
       "       &#x27;1961-1975_F&#x27;, &#x27;1961-1975_M&#x27;, &#x27;1976-1990_F&#x27;, &#x27;1976-1990_M&#x27;, &#x27;nan_F&#x27;,\n",
       "       &#x27;nan_M&#x27;],\n",
       "      dtype=&#x27;object&#x27;, name=&#x27;genre_periodes&#x27;),\n",
       "   row_labels=Index([&#x27;ALL&#x27;, &#x27;FR&#x27;, &#x27;IT&#x27;], dtype=&#x27;object&#x27;, name=&#x27;langue&#x27;))</pre></div> </div></div></div></div>"
      ],
      "text/plain": [
       "CA(col_labels=Index(['1901-1915_F', '1901-1915_M', '1916-1930_F', '1916-1930_M',\n",
       "       '1931-1945_F', '1931-1945_M', '1946-1960_F', '1946-1960_M',\n",
       "       '1961-1975_F', '1961-1975_M', '1976-1990_F', '1976-1990_M', 'nan_F',\n",
       "       'nan_M'],\n",
       "      dtype='object', name='genre_periodes'),\n",
       "   row_labels=Index(['ALL', 'FR', 'IT'], dtype='object', name='langue'))"
      ]
     },
     "execution_count": 83,
     "metadata": {},
     "output_type": "execute_result"
    }
   ],
   "source": [
    "afc = CA(row_labels=D.index,col_labels=D.columns)\n",
    "afc.fit(D.values)"
   ]
  },
  {
   "cell_type": "code",
   "execution_count": 84,
   "id": "3f3658a2",
   "metadata": {},
   "outputs": [
    {
     "data": {
      "image/png": "[encoded data removed]",
      "text/plain": [
       "<Figure size 1200x300 with 2 Axes>"
      ]
     },
     "metadata": {},
     "output_type": "display_data"
    }
   ],
   "source": [
    "eig = pd.DataFrame(afc.eig_)\n",
    "\n",
    "r1 = round(eig.iloc[0], 3)\n",
    "r2 = round(eig.iloc[2], 2)\n",
    "s=list(range(1,len(r1)+1))\n",
    "r1.index=s\n",
    "r2.index=s\n",
    "\n",
    "# https://www.statology.org/pandas-subplots/\n",
    "fig, axes = plt.subplots(nrows=1, ncols=2, figsize=(12,3))\n",
    "\n",
    "ax1 = r1.plot(kind='bar', ax=axes[0], title='Eigenvalue des axes')\n",
    "ax2 = r2.plot(kind='bar', ax=axes[1], title=\"Frequence cumulative de l'eigenvalue \")\n",
    "\n",
    "\n",
    "ax1.bar_label(ax1.containers[0])\n",
    "ax2.bar_label(ax2.containers[0])\n",
    "\n",
    "\n",
    "# Met les valeurs xticks en vertical\n",
    "fig.autofmt_xdate(rotation=0)\n",
    "plt.show()"
   ]
  },
  {
   "cell_type": "markdown",
   "id": "147d5566",
   "metadata": {},
   "source": [
    "### Graphiques et interprétation du premier plan factoriel"
   ]
  },
  {
   "cell_type": "code",
   "execution_count": 114,
   "id": "62aa8ab1",
   "metadata": {},
   "outputs": [
    {
     "data": {
      "image/png": "[encoded data removed]",
      "text/plain": [
       "<Figure size 1200x800 with 4 Axes>"
      ]
     },
     "metadata": {},
     "output_type": "display_data"
    }
   ],
   "source": [
    "import matplotlib.pyplot as plt\n",
    "\n",
    "# Informations sur les contributions des colonnes\n",
    "df_col = afc.col_topandas()[['col_contrib_dim1', 'col_contrib_dim2']]\n",
    "\n",
    "r1_col = df_col.iloc[:,0]\n",
    "r2_col = df_col.iloc[:,1]\n",
    "\n",
    "fig, axes = plt.subplots(nrows=2, ncols=2, figsize=(12,8),\n",
    "                         gridspec_kw={'height_ratios': [1, 2]})\n",
    "\n",
    "# Ajustement de l'espacement entre les barres\n",
    "bar_width = 0.35\n",
    "index = np.arange(len(r1_col))\n",
    "\n",
    "r1_col.sort_values().plot(kind='barh', ax=axes[0,0], title='Dim.1 - Colonnes', width=bar_width, color='b', position=0)\n",
    "r2_col.sort_values().plot(kind='barh', ax=axes[0,1], title='Dim.2 - Colonnes', width=bar_width, color='g', position=1)\n",
    "\n",
    "# Informations sur les contributions des lignes\n",
    "df_row = afc.row_topandas()[['row_contrib_dim1', 'row_contrib_dim2']]\n",
    "\n",
    "r1_row = df_row.iloc[:,0]\n",
    "r2_row = df_row.iloc[:,1]\n",
    "\n",
    "r1_row.sort_values().plot(kind='barh', ax=axes[1,0], title='Dim.1 - Lignes', width=bar_width, color='b', position=0)\n",
    "r2_row.sort_values().plot(kind='barh', ax=axes[1,1], title='Dim.2 - Lignes', width=bar_width, color='g', position=1)\n",
    "\n",
    "# Ajustement de l'espacement vertical entre les sous-graphiques\n",
    "plt.subplots_adjust(hspace=1)  # Ajustez la valeur selon vos préférences\n",
    "\n",
    "plt.tight_layout()\n",
    "plt.show()\n"
   ]
  },
  {
   "cell_type": "code",
   "execution_count": 115,
   "id": "1964a0e5",
   "metadata": {},
   "outputs": [
    {
     "data": {
      "image/png": "[encoded data removed]",
      "text/plain": [
       "<Figure size 1000x1000 with 1 Axes>"
      ]
     },
     "metadata": {},
     "output_type": "display_data"
    }
   ],
   "source": [
    "# Représentation simultanée, avec amplification\n",
    "afc.mapping(num_x_axis=1,num_y_axis=2,figsize=(10,10))"
   ]
  },
  {
   "cell_type": "markdown",
   "id": "db3d83da",
   "metadata": {},
   "source": [
    "### Représenter l'autre plan factoriel"
   ]
  },
  {
   "cell_type": "markdown",
   "id": "6a068b7f-75f9-4e6b-8f92-1bfd4425210a",
   "metadata": {},
   "source": [
    "## commentaire\n",
    "\n",
    "j'ai un problème pour représenter l'autre plan factoriel car je n'ai que 2 dimensions, dû au nombre max. de facteurs"
   ]
  },
  {
   "cell_type": "code",
   "execution_count": 116,
   "id": "3e3f2aa6-670d-423a-b0c6-30bad4c8f8b6",
   "metadata": {},
   "outputs": [
    {
     "ename": "KeyError",
     "evalue": "\"['col_cos2_dim3'] not in index\"",
     "output_type": "error",
     "traceback": [
      "\u001b[1;31m---------------------------------------------------------------------------\u001b[0m",
      "\u001b[1;31mKeyError\u001b[0m                                  Traceback (most recent call last)",
      "Cell \u001b[1;32mIn[116], line 5\u001b[0m\n\u001b[0;32m      1\u001b[0m \u001b[38;5;66;03m### Informations sur les cosinus carrés. Ces valeurs expriment \u001b[39;00m\n\u001b[0;32m      2\u001b[0m \u001b[38;5;66;03m# la qualité de représentation d'une modalité sur l'axe correspondant\u001b[39;00m\n\u001b[0;32m      3\u001b[0m \n\u001b[0;32m      4\u001b[0m \u001b[38;5;66;03m### Colonnes\u001b[39;00m\n\u001b[1;32m----> 5\u001b[0m df \u001b[38;5;241m=\u001b[39m afc\u001b[38;5;241m.\u001b[39mcol_topandas()[[\u001b[38;5;124m'\u001b[39m\u001b[38;5;124mcol_cos2_dim1\u001b[39m\u001b[38;5;124m'\u001b[39m,\n\u001b[0;32m      6\u001b[0m                          \u001b[38;5;124m'\u001b[39m\u001b[38;5;124mcol_cos2_dim2\u001b[39m\u001b[38;5;124m'\u001b[39m,\n\u001b[0;32m      7\u001b[0m                          \u001b[38;5;124m'\u001b[39m\u001b[38;5;124mcol_cos2_dim3\u001b[39m\u001b[38;5;124m'\u001b[39m]]\n\u001b[0;32m      9\u001b[0m r1 \u001b[38;5;241m=\u001b[39m df\u001b[38;5;241m.\u001b[39miloc[:,\u001b[38;5;241m0\u001b[39m]\n\u001b[0;32m     10\u001b[0m r2 \u001b[38;5;241m=\u001b[39m df\u001b[38;5;241m.\u001b[39miloc[:,\u001b[38;5;241m1\u001b[39m]\n",
      "File \u001b[1;32m~\\miniconda3\\envs\\py311_data_analysis\\Lib\\site-packages\\pandas\\core\\frame.py:3899\u001b[0m, in \u001b[0;36mDataFrame.__getitem__\u001b[1;34m(self, key)\u001b[0m\n\u001b[0;32m   3897\u001b[0m     \u001b[38;5;28;01mif\u001b[39;00m is_iterator(key):\n\u001b[0;32m   3898\u001b[0m         key \u001b[38;5;241m=\u001b[39m \u001b[38;5;28mlist\u001b[39m(key)\n\u001b[1;32m-> 3899\u001b[0m     indexer \u001b[38;5;241m=\u001b[39m \u001b[38;5;28mself\u001b[39m\u001b[38;5;241m.\u001b[39mcolumns\u001b[38;5;241m.\u001b[39m_get_indexer_strict(key, \u001b[38;5;124m\"\u001b[39m\u001b[38;5;124mcolumns\u001b[39m\u001b[38;5;124m\"\u001b[39m)[\u001b[38;5;241m1\u001b[39m]\n\u001b[0;32m   3901\u001b[0m \u001b[38;5;66;03m# take() does not accept boolean indexers\u001b[39;00m\n\u001b[0;32m   3902\u001b[0m \u001b[38;5;28;01mif\u001b[39;00m \u001b[38;5;28mgetattr\u001b[39m(indexer, \u001b[38;5;124m\"\u001b[39m\u001b[38;5;124mdtype\u001b[39m\u001b[38;5;124m\"\u001b[39m, \u001b[38;5;28;01mNone\u001b[39;00m) \u001b[38;5;241m==\u001b[39m \u001b[38;5;28mbool\u001b[39m:\n",
      "File \u001b[1;32m~\\miniconda3\\envs\\py311_data_analysis\\Lib\\site-packages\\pandas\\core\\indexes\\base.py:6115\u001b[0m, in \u001b[0;36mIndex._get_indexer_strict\u001b[1;34m(self, key, axis_name)\u001b[0m\n\u001b[0;32m   6112\u001b[0m \u001b[38;5;28;01melse\u001b[39;00m:\n\u001b[0;32m   6113\u001b[0m     keyarr, indexer, new_indexer \u001b[38;5;241m=\u001b[39m \u001b[38;5;28mself\u001b[39m\u001b[38;5;241m.\u001b[39m_reindex_non_unique(keyarr)\n\u001b[1;32m-> 6115\u001b[0m \u001b[38;5;28mself\u001b[39m\u001b[38;5;241m.\u001b[39m_raise_if_missing(keyarr, indexer, axis_name)\n\u001b[0;32m   6117\u001b[0m keyarr \u001b[38;5;241m=\u001b[39m \u001b[38;5;28mself\u001b[39m\u001b[38;5;241m.\u001b[39mtake(indexer)\n\u001b[0;32m   6118\u001b[0m \u001b[38;5;28;01mif\u001b[39;00m \u001b[38;5;28misinstance\u001b[39m(key, Index):\n\u001b[0;32m   6119\u001b[0m     \u001b[38;5;66;03m# GH 42790 - Preserve name from an Index\u001b[39;00m\n",
      "File \u001b[1;32m~\\miniconda3\\envs\\py311_data_analysis\\Lib\\site-packages\\pandas\\core\\indexes\\base.py:6179\u001b[0m, in \u001b[0;36mIndex._raise_if_missing\u001b[1;34m(self, key, indexer, axis_name)\u001b[0m\n\u001b[0;32m   6176\u001b[0m     \u001b[38;5;28;01mraise\u001b[39;00m \u001b[38;5;167;01mKeyError\u001b[39;00m(\u001b[38;5;124mf\u001b[39m\u001b[38;5;124m\"\u001b[39m\u001b[38;5;124mNone of [\u001b[39m\u001b[38;5;132;01m{\u001b[39;00mkey\u001b[38;5;132;01m}\u001b[39;00m\u001b[38;5;124m] are in the [\u001b[39m\u001b[38;5;132;01m{\u001b[39;00maxis_name\u001b[38;5;132;01m}\u001b[39;00m\u001b[38;5;124m]\u001b[39m\u001b[38;5;124m\"\u001b[39m)\n\u001b[0;32m   6178\u001b[0m not_found \u001b[38;5;241m=\u001b[39m \u001b[38;5;28mlist\u001b[39m(ensure_index(key)[missing_mask\u001b[38;5;241m.\u001b[39mnonzero()[\u001b[38;5;241m0\u001b[39m]]\u001b[38;5;241m.\u001b[39munique())\n\u001b[1;32m-> 6179\u001b[0m \u001b[38;5;28;01mraise\u001b[39;00m \u001b[38;5;167;01mKeyError\u001b[39;00m(\u001b[38;5;124mf\u001b[39m\u001b[38;5;124m\"\u001b[39m\u001b[38;5;132;01m{\u001b[39;00mnot_found\u001b[38;5;132;01m}\u001b[39;00m\u001b[38;5;124m not in index\u001b[39m\u001b[38;5;124m\"\u001b[39m)\n",
      "\u001b[1;31mKeyError\u001b[0m: \"['col_cos2_dim3'] not in index\""
     ]
    }
   ],
   "source": [
    "### Informations sur les cosinus carrés. Ces valeurs expriment \n",
    "# la qualité de représentation d'une modalité sur l'axe correspondant\n",
    "\n",
    "### Colonnes\n",
    "df = afc.col_topandas()[['col_cos2_dim1',\n",
    "                         'col_cos2_dim2',\n",
    "                         'col_cos2_dim3']]\n",
    "\n",
    "r1 = df.iloc[:,0]\n",
    "r2 = df.iloc[:,1]\n",
    "r3 = df.iloc[:,2]\n",
    "\n",
    "fig, axes = plt.subplots(nrows=2, ncols=3, figsize=(12,6), \n",
    "                         gridspec_kw={'height_ratios': [1, 2]})\n",
    "\n",
    "r1.sort_values().plot(kind='barh', ax=axes[0,0], title='Dim.1')\n",
    "r2.sort_values().plot(kind='barh', ax=axes[0,1], title='Dim.2')\n",
    "r3.sort_values().plot(kind='barh', ax=axes[0,2], title='Dim.3')\n",
    "\n",
    "### Lignes\n",
    "df = afc.row_topandas()[['row_cos2_dim1',\n",
    "                         'row_cos2_dim2',\n",
    "                         'row_cos2_dim3']]\n",
    "r1 = df.iloc[:,0]\n",
    "r2 = df.iloc[:,1]\n",
    "r3 = df.iloc[:,2]\n",
    "\n",
    "r1.sort_values().plot(kind='barh', ax=axes[1,0], title='Dim.1')\n",
    "r2.sort_values().plot(kind='barh', ax=axes[1,1], title='Dim.2')\n",
    "r3.sort_values().plot(kind='barh', ax=axes[1,2], title='Dim.3')\n",
    "\n",
    "plt.tight_layout()\n",
    "plt.show()"
   ]
  },
  {
   "cell_type": "code",
   "execution_count": 117,
   "id": "3b12095e-b9d7-4849-8358-b4150cd53d37",
   "metadata": {},
   "outputs": [
    {
     "ename": "IndexError",
     "evalue": "index 2 is out of bounds for axis 1 with size 2",
     "output_type": "error",
     "traceback": [
      "\u001b[1;31m---------------------------------------------------------------------------\u001b[0m",
      "\u001b[1;31mIndexError\u001b[0m                                Traceback (most recent call last)",
      "Cell \u001b[1;32mIn[117], line 2\u001b[0m\n\u001b[0;32m      1\u001b[0m \u001b[38;5;66;03m# Représentation simultanée, avec amplification\u001b[39;00m\n\u001b[1;32m----> 2\u001b[0m afc\u001b[38;5;241m.\u001b[39mmapping(num_x_axis\u001b[38;5;241m=\u001b[39m\u001b[38;5;241m2\u001b[39m,num_y_axis\u001b[38;5;241m=\u001b[39m\u001b[38;5;241m3\u001b[39m,figsize\u001b[38;5;241m=\u001b[39m(\u001b[38;5;241m10\u001b[39m,\u001b[38;5;241m10\u001b[39m))\n",
      "File \u001b[1;32m~\\miniconda3\\envs\\py311_data_analysis\\Lib\\site-packages\\fanalysis\\base.py:391\u001b[0m, in \u001b[0;36mBase.mapping\u001b[1;34m(self, num_x_axis, num_y_axis, short_labels, figsize)\u001b[0m\n\u001b[0;32m    388\u001b[0m \u001b[38;5;28;01melse\u001b[39;00m:\n\u001b[0;32m    389\u001b[0m     col_labels \u001b[38;5;241m=\u001b[39m \u001b[38;5;28mself\u001b[39m\u001b[38;5;241m.\u001b[39mcol_labels_\n\u001b[0;32m    390\u001b[0m plt\u001b[38;5;241m.\u001b[39mscatter(\u001b[38;5;28mself\u001b[39m\u001b[38;5;241m.\u001b[39mrow_coord_[:, num_x_axis \u001b[38;5;241m-\u001b[39m \u001b[38;5;241m1\u001b[39m],\n\u001b[1;32m--> 391\u001b[0m             \u001b[38;5;28mself\u001b[39m\u001b[38;5;241m.\u001b[39mrow_coord_[:, num_y_axis \u001b[38;5;241m-\u001b[39m \u001b[38;5;241m1\u001b[39m],\n\u001b[0;32m    392\u001b[0m             marker\u001b[38;5;241m=\u001b[39m\u001b[38;5;124m\"\u001b[39m\u001b[38;5;124m.\u001b[39m\u001b[38;5;124m\"\u001b[39m, color\u001b[38;5;241m=\u001b[39m\u001b[38;5;124m\"\u001b[39m\u001b[38;5;124mwhite\u001b[39m\u001b[38;5;124m\"\u001b[39m)\n\u001b[0;32m    393\u001b[0m plt\u001b[38;5;241m.\u001b[39mscatter(\u001b[38;5;28mself\u001b[39m\u001b[38;5;241m.\u001b[39mcol_coord_[:, num_x_axis \u001b[38;5;241m-\u001b[39m \u001b[38;5;241m1\u001b[39m],\n\u001b[0;32m    394\u001b[0m             \u001b[38;5;28mself\u001b[39m\u001b[38;5;241m.\u001b[39mcol_coord_[:, num_y_axis \u001b[38;5;241m-\u001b[39m \u001b[38;5;241m1\u001b[39m],\n\u001b[0;32m    395\u001b[0m             marker\u001b[38;5;241m=\u001b[39m\u001b[38;5;124m\"\u001b[39m\u001b[38;5;124m.\u001b[39m\u001b[38;5;124m\"\u001b[39m, color\u001b[38;5;241m=\u001b[39m\u001b[38;5;124m\"\u001b[39m\u001b[38;5;124mwhite\u001b[39m\u001b[38;5;124m\"\u001b[39m)\n\u001b[0;32m    396\u001b[0m \u001b[38;5;28;01mfor\u001b[39;00m i \u001b[38;5;129;01min\u001b[39;00m np\u001b[38;5;241m.\u001b[39marange(\u001b[38;5;241m0\u001b[39m, \u001b[38;5;28mself\u001b[39m\u001b[38;5;241m.\u001b[39mrow_coord_\u001b[38;5;241m.\u001b[39mshape[\u001b[38;5;241m0\u001b[39m]):\n",
      "\u001b[1;31mIndexError\u001b[0m: index 2 is out of bounds for axis 1 with size 2"
     ]
    },
    {
     "data": {
      "text/plain": [
       "<Figure size 1000x1000 with 0 Axes>"
      ]
     },
     "metadata": {},
     "output_type": "display_data"
    }
   ],
   "source": [
    "# Représentation simultanée, avec amplification\n",
    "afc.mapping(num_x_axis=2,num_y_axis=3,figsize=(10,10))"
   ]
  },
  {
   "cell_type": "markdown",
   "id": "3baa677d",
   "metadata": {},
   "source": [
    "### Commentaire\n",
    "\n",
    "Cette analyse factorielle met en évidence, en relation avec le diagramme des résidus pondérés qui permet de la contrôler, les moments de présence féminine significative dans les générations présentes dans les  différentes régions géoraphiques"
   ]
  }
 ],
 "metadata": {
  "kernelspec": {
   "display_name": "py311_data_analysis",
   "language": "python",
   "name": "py311_data_analysis"
  },
  "language_info": {
   "codemirror_mode": {
    "name": "ipython",
    "version": 3
   },
   "file_extension": ".py",
   "mimetype": "text/x-python",
   "name": "python",
   "nbconvert_exporter": "python",
   "pygments_lexer": "ipython3",
   "version": "3.11.7"
  }
 },
 "nbformat": 4,
 "nbformat_minor": 5
}
