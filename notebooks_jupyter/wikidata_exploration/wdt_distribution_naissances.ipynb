{
 "cells": [
  {
   "cell_type": "markdown",
   "id": "9150426b-5190-4539-8204-61253a0f1bd4",
   "metadata": {},
   "source": [
    "# Distribution des naissances dans le temps - essai avec la population du Conseil national\n",
    "\n",
    "Dans ce carnet est proposée une analyse de la distribution dans le temps des années de naissance de la population retenue, et la mise en évidence de générations.\n",
    "\n",
    "On met aussi en évidence l'évolution dans le temps des genres"
   ]
  },
  {
   "cell_type": "code",
   "execution_count": 1,
   "id": "231af92f-a7b1-479a-a734-0b8a9c0722e8",
   "metadata": {
    "tags": []
   },
   "outputs": [
    {
     "name": "stdout",
     "output_type": "stream",
     "text": [
      "Les imports se sont bien passés\n"
     ]
    }
   ],
   "source": [
    "### Librairie à installer dans l'environnement conda\n",
    "# qui sera choisi pour exécuter le carnet\n",
    "from SPARQLWrapper import SPARQLWrapper, SPARQLWrapper2, JSON, TURTLE, XML, RDFXML\n",
    "import pandas as pd\n",
    "import matplotlib.pyplot as plt\n",
    "import numpy as np\n",
    "\n",
    "print(\"Les imports se sont bien passés\")"
   ]
  },
  {
   "cell_type": "code",
   "execution_count": 2,
   "id": "e6ce0f0e-db36-47cd-8015-a5bf33f0f7fa",
   "metadata": {
    "tags": []
   },
   "outputs": [
    {
     "name": "stdout",
     "output_type": "stream",
     "text": [
      "Le deuxième batch d'imports a fonctionné\n"
     ]
    }
   ],
   "source": [
    "### Librairies déjà installées avec Python\n",
    "import pprint\n",
    "import csv\n",
    "import sys\n",
    "\n",
    "import sqlite3 as sql\n",
    "\n",
    "import time\n",
    "import datetime\n",
    "from dateutil import parser\n",
    "\n",
    "from importlib import reload\n",
    "from shutil import copyfile\n",
    "\n",
    "print(\"Le deuxième batch d'imports a fonctionné\")"
   ]
  },
  {
   "cell_type": "code",
   "execution_count": 3,
   "id": "9b90838d-2160-49e3-8adb-a67ff2cd112e",
   "metadata": {},
   "outputs": [
    {
     "name": "stdout",
     "output_type": "stream",
     "text": [
      "ca fonctionne\n"
     ]
    }
   ],
   "source": [
    "### Importer un module de fonctions crées ad hoc\n",
    "##  ATTENTION : le fichier 'sparql_functions.py' doit se trouver \n",
    "#   dans un dossier qui se situe dans le chemin ('path') de recherche\n",
    "#   vu par le présent carnet Jupyter afin que\n",
    "#   l'importation fonctionne correctement\n",
    "\n",
    "# Add parent directory to the path\n",
    "sys.path.insert(0, '..')\n",
    "\n",
    "### If you want to add the parent-parent directory,\n",
    "# sys.path.insert(0, '../..')\n",
    "\n",
    "\n",
    "import sparql_functions as spqf\n",
    "\n",
    "print(\"ca fonctionne\")"
   ]
  },
  {
   "cell_type": "markdown",
   "id": "3fe8665b-f64c-42bb-8786-4aee3673867c",
   "metadata": {},
   "source": [
    "## SPARQL Query qui récupère les données\n",
    "\n",
    "On exécute la requête grâce à une fonction de la librairie locale qui réalise la mise en forme"
   ]
  },
  {
   "cell_type": "code",
   "execution_count": 4,
   "id": "cf08874b-9ba0-4f5c-8eee-aebd9f0d0d26",
   "metadata": {},
   "outputs": [],
   "source": [
    "## define SPARQL enpoint\n",
    "endpoint = \"https://query.wikidata.org/sparql\""
   ]
  },
  {
   "cell_type": "code",
   "execution_count": 5,
   "id": "164e80e8-1834-473a-a605-a3c1a660eff3",
   "metadata": {},
   "outputs": [
    {
     "name": "stdout",
     "output_type": "stream",
     "text": [
      "u nail it\n"
     ]
    }
   ],
   "source": [
    "query = \"\"\"\n",
    "SELECT DISTINCT ?item  ?itemLabel  ?gender ?year\n",
    "        WHERE {\n",
    "            {\n",
    "         \n",
    "          {?item wdt:P39 wd:Q18510612} #p39 position held et Q18510612 pour conseil national\n",
    "            UNION\n",
    "            {?item wdt:P17 wd:Q39} # p17 country et Q39 switzerland\n",
    "         \n",
    "              }\n",
    "          \n",
    "          ?item wdt:P31 wd:Q5;  # Any instance of a human.\n",
    "              wdt:P569 ?birthDate;\n",
    "                wdt:P21 ?gender.\n",
    "        BIND(REPLACE(str(?birthDate), \"(.*)([0-9]{4})(.*)\", \"$2\") AS ?year)\n",
    "        FILTER(xsd:integer(?year) > 1900 )\n",
    "          \n",
    "          SERVICE wikibase:label { bd:serviceParam wikibase:language \"en\" }\n",
    "        } \n",
    "     ORDER BY ?year\n",
    "\"\"\"\n",
    "\n",
    "print (\"u nail it\")"
   ]
  },
  {
   "cell_type": "code",
   "execution_count": 6,
   "id": "70f2370f-e287-404f-ba7b-aaf79021047e",
   "metadata": {},
   "outputs": [
    {
     "name": "stdout",
     "output_type": "stream",
     "text": [
      "tt est bon\n"
     ]
    }
   ],
   "source": [
    "### Executer la requête avec les fonctions de la librairie locale\n",
    "qr = spqf.get_json_sparql_result(endpoint,query)\n",
    "\n",
    "print (\"tt est bon\")"
   ]
  },
  {
   "cell_type": "code",
   "execution_count": 7,
   "id": "21bfd9f5-4c63-4b8c-af10-f9ddec203db2",
   "metadata": {},
   "outputs": [
    {
     "name": "stdout",
     "output_type": "stream",
     "text": [
      "1375\n"
     ]
    },
    {
     "data": {
      "text/plain": [
       "[['http://www.wikidata.org/entity/Q62007471',\n",
       "  'Riccardo Rossi',\n",
       "  'http://www.wikidata.org/entity/Q6581097',\n",
       "  '1901'],\n",
       " ['http://www.wikidata.org/entity/Q1447990',\n",
       "  'Franz Landolt',\n",
       "  'http://www.wikidata.org/entity/Q6581097',\n",
       "  '1901'],\n",
       " ['http://www.wikidata.org/entity/Q120229',\n",
       "  'Robert Tobler',\n",
       "  'http://www.wikidata.org/entity/Q6581097',\n",
       "  '1901']]"
      ]
     },
     "execution_count": 7,
     "metadata": {},
     "output_type": "execute_result"
    }
   ],
   "source": [
    "r = [l for l in spqf.sparql_result_to_list(qr)]\n",
    "print(len(r))\n",
    "r[:3]"
   ]
  },
  {
   "cell_type": "code",
   "execution_count": 8,
   "id": "236bbba5-a4df-4a7b-b215-44c9bc3f355f",
   "metadata": {},
   "outputs": [
    {
     "data": {
      "text/html": [
       "<div>\n",
       "<style scoped>\n",
       "    .dataframe tbody tr th:only-of-type {\n",
       "        vertical-align: middle;\n",
       "    }\n",
       "\n",
       "    .dataframe tbody tr th {\n",
       "        vertical-align: top;\n",
       "    }\n",
       "\n",
       "    .dataframe thead th {\n",
       "        text-align: right;\n",
       "    }\n",
       "</style>\n",
       "<table border=\"1\" class=\"dataframe\">\n",
       "  <thead>\n",
       "    <tr style=\"text-align: right;\">\n",
       "      <th></th>\n",
       "      <th>personUri</th>\n",
       "      <th>personLabel</th>\n",
       "      <th>genderUri</th>\n",
       "      <th>birthYear</th>\n",
       "    </tr>\n",
       "  </thead>\n",
       "  <tbody>\n",
       "    <tr>\n",
       "      <th>0</th>\n",
       "      <td>http://www.wikidata.org/entity/Q62007471</td>\n",
       "      <td>Riccardo Rossi</td>\n",
       "      <td>http://www.wikidata.org/entity/Q6581097</td>\n",
       "      <td>1901</td>\n",
       "    </tr>\n",
       "    <tr>\n",
       "      <th>1</th>\n",
       "      <td>http://www.wikidata.org/entity/Q1447990</td>\n",
       "      <td>Franz Landolt</td>\n",
       "      <td>http://www.wikidata.org/entity/Q6581097</td>\n",
       "      <td>1901</td>\n",
       "    </tr>\n",
       "    <tr>\n",
       "      <th>2</th>\n",
       "      <td>http://www.wikidata.org/entity/Q120229</td>\n",
       "      <td>Robert Tobler</td>\n",
       "      <td>http://www.wikidata.org/entity/Q6581097</td>\n",
       "      <td>1901</td>\n",
       "    </tr>\n",
       "    <tr>\n",
       "      <th>3</th>\n",
       "      <td>http://www.wikidata.org/entity/Q121118</td>\n",
       "      <td>Gabriel Despland</td>\n",
       "      <td>http://www.wikidata.org/entity/Q6581097</td>\n",
       "      <td>1901</td>\n",
       "    </tr>\n",
       "    <tr>\n",
       "      <th>4</th>\n",
       "      <td>http://www.wikidata.org/entity/Q1579473</td>\n",
       "      <td>Hans Fischer</td>\n",
       "      <td>http://www.wikidata.org/entity/Q6581097</td>\n",
       "      <td>1901</td>\n",
       "    </tr>\n",
       "  </tbody>\n",
       "</table>\n",
       "</div>"
      ],
      "text/plain": [
       "                                  personUri       personLabel  \\\n",
       "0  http://www.wikidata.org/entity/Q62007471    Riccardo Rossi   \n",
       "1   http://www.wikidata.org/entity/Q1447990     Franz Landolt   \n",
       "2    http://www.wikidata.org/entity/Q120229     Robert Tobler   \n",
       "3    http://www.wikidata.org/entity/Q121118  Gabriel Despland   \n",
       "4   http://www.wikidata.org/entity/Q1579473      Hans Fischer   \n",
       "\n",
       "                                 genderUri birthYear  \n",
       "0  http://www.wikidata.org/entity/Q6581097      1901  \n",
       "1  http://www.wikidata.org/entity/Q6581097      1901  \n",
       "2  http://www.wikidata.org/entity/Q6581097      1901  \n",
       "3  http://www.wikidata.org/entity/Q6581097      1901  \n",
       "4  http://www.wikidata.org/entity/Q6581097      1901  "
      ]
     },
     "execution_count": 8,
     "metadata": {},
     "output_type": "execute_result"
    }
   ],
   "source": [
    "### Créer un DataFrame à partir du résultat\n",
    "df_r = pd.DataFrame(r)\n",
    "df_r.columns = ['personUri', 'personLabel', 'genderUri', 'birthYear']\n",
    "df_r.head()"
   ]
  },
  {
   "cell_type": "code",
   "execution_count": 9,
   "id": "eb664e6b-7fd0-4757-8bff-db79a0d52f97",
   "metadata": {
    "tags": []
   },
   "outputs": [
    {
     "name": "stdout",
     "output_type": "stream",
     "text": [
      "<class 'pandas.core.frame.DataFrame'>\n",
      "RangeIndex: 1375 entries, 0 to 1374\n",
      "Data columns (total 4 columns):\n",
      " #   Column       Non-Null Count  Dtype \n",
      "---  ------       --------------  ----- \n",
      " 0   personUri    1375 non-null   object\n",
      " 1   personLabel  1375 non-null   object\n",
      " 2   genderUri    1375 non-null   object\n",
      " 3   birthYear    1375 non-null   object\n",
      "dtypes: object(4)\n",
      "memory usage: 43.1+ KB\n"
     ]
    }
   ],
   "source": [
    "df_r.info()"
   ]
  },
  {
   "cell_type": "markdown",
   "id": "61cf955b-aaca-446c-a957-47b86a4ea610",
   "metadata": {},
   "source": [
    "## Se connecter à la base de données"
   ]
  },
  {
   "cell_type": "code",
   "execution_count": 10,
   "id": "00b2f7ff-7d67-4602-9b1e-38dd37809a75",
   "metadata": {},
   "outputs": [
    {
     "data": {
      "text/plain": [
       "<sqlite3.Connection at 0x1552704bc40>"
      ]
     },
     "execution_count": 10,
     "metadata": {},
     "output_type": "execute_result"
    }
   ],
   "source": [
    "### Se connecter à la base de données dans laquelle on va insérer\n",
    "# le résultat de la requête SPARQL\n",
    "cn = sql.connect('../../data/conseil_national_import.db')\n",
    "cn"
   ]
  },
  {
   "cell_type": "code",
   "execution_count": 11,
   "id": "0be09224-1122-4abd-9225-1e4a6f45fcb3",
   "metadata": {},
   "outputs": [],
   "source": [
    "### Tester une requête SQL sur une table existante\n",
    "cur = cn.cursor()\n",
    "l = cur.execute(\"SELECT * FROM person limit 3\").fetchall()"
   ]
  },
  {
   "cell_type": "code",
   "execution_count": 12,
   "id": "c0e67786-c84f-4f94-88f1-bc985f902ef1",
   "metadata": {},
   "outputs": [
    {
     "name": "stdout",
     "output_type": "stream",
     "text": [
      "(1, 'http://www.wikidata.org/entity/Q118295', 'Tornare', 'Manuel', '1951-04-20T00:00:00Z', 'male', 'http://www.wikidata.org/entity/Q6581097')\n",
      "(2, 'http://www.wikidata.org/entity/Q118327', 'Fässler', 'Hildegard', '1951-06-22T00:00:00Z', 'female', 'http://www.wikidata.org/entity/Q6581072')\n",
      "(3, 'http://www.wikidata.org/entity/Q118380', 'Frösch', 'Therese', '1951-06-22T00:00:00Z', 'female', 'http://www.wikidata.org/entity/Q6581072')\n"
     ]
    },
    {
     "data": {
      "text/plain": [
       "[None, None, None]"
      ]
     },
     "execution_count": 12,
     "metadata": {},
     "output_type": "execute_result"
    }
   ],
   "source": [
    "[print(e) for e in l]"
   ]
  },
  {
   "cell_type": "code",
   "execution_count": 13,
   "id": "97540a56-75b7-44b5-93b2-922e22b7bfd4",
   "metadata": {},
   "outputs": [],
   "source": [
    "### Créer une nouvelle table contenant le DataFrame\n",
    "# Si on tente de la recréer, alor qu'elle existe déjà,\n",
    "# un message d'erreur est renvoyé\n",
    "try:\n",
    "    l = df_r.to_sql(name='wdt_personne', con=cn, if_exists='fail')\n",
    "except Exception as e:\n",
    "    print('Erreur: ',  e)"
   ]
  },
  {
   "cell_type": "code",
   "execution_count": 14,
   "id": "34f32038-ae06-47de-8a52-fc50cdfb2da9",
   "metadata": {},
   "outputs": [],
   "source": [
    "### Vérifier que les données ont été importées correctement\n",
    "cur = cn.cursor()\n",
    "l = cur.execute(\"SELECT * FROM wdt_personne limit 3\").fetchall()"
   ]
  },
  {
   "cell_type": "code",
   "execution_count": 15,
   "id": "159b0c9c-4637-4b70-a644-2a286143fd0f",
   "metadata": {},
   "outputs": [
    {
     "name": "stdout",
     "output_type": "stream",
     "text": [
      "(0, 'http://www.wikidata.org/entity/Q62007471', 'Riccardo Rossi', 'http://www.wikidata.org/entity/Q6581097', '1901')\n",
      "(1, 'http://www.wikidata.org/entity/Q1447990', 'Franz Landolt', 'http://www.wikidata.org/entity/Q6581097', '1901')\n",
      "(2, 'http://www.wikidata.org/entity/Q120229', 'Robert Tobler', 'http://www.wikidata.org/entity/Q6581097', '1901')\n"
     ]
    }
   ],
   "source": [
    "### On a mis le résultat de la requête SQL \n",
    "# dans une liste 'l' qu'on affiche avec une boucle 'for'\n",
    "# dans le cadre d'une 'list comprehension'\n",
    "a = [print(e) for e in l]"
   ]
  },
  {
   "cell_type": "markdown",
   "id": "90af4f27-bbc4-4ea8-8298-38185f3f6fd0",
   "metadata": {},
   "source": [
    "## Créer un DataFrame contenant la table entière"
   ]
  },
  {
   "cell_type": "code",
   "execution_count": 16,
   "id": "546c29a5-0529-4821-8d27-c132f40a89a1",
   "metadata": {},
   "outputs": [],
   "source": [
    "### On récupère tout la table et on la met dans la list 'l'\n",
    "cur = cn.cursor()\n",
    "l = cur.execute(\"SELECT * FROM wdt_personne\").fetchall()"
   ]
  },
  {
   "cell_type": "code",
   "execution_count": 17,
   "id": "cfef8c56-ea2a-4be8-8472-93e80db907b6",
   "metadata": {},
   "outputs": [
    {
     "data": {
      "text/html": [
       "<div>\n",
       "<style scoped>\n",
       "    .dataframe tbody tr th:only-of-type {\n",
       "        vertical-align: middle;\n",
       "    }\n",
       "\n",
       "    .dataframe tbody tr th {\n",
       "        vertical-align: top;\n",
       "    }\n",
       "\n",
       "    .dataframe thead th {\n",
       "        text-align: right;\n",
       "    }\n",
       "</style>\n",
       "<table border=\"1\" class=\"dataframe\">\n",
       "  <thead>\n",
       "    <tr style=\"text-align: right;\">\n",
       "      <th></th>\n",
       "      <th>person_uri</th>\n",
       "      <th>person_label</th>\n",
       "      <th>genderUri</th>\n",
       "      <th>birthYear</th>\n",
       "    </tr>\n",
       "    <tr>\n",
       "      <th>id</th>\n",
       "      <th></th>\n",
       "      <th></th>\n",
       "      <th></th>\n",
       "      <th></th>\n",
       "    </tr>\n",
       "  </thead>\n",
       "  <tbody>\n",
       "    <tr>\n",
       "      <th>0</th>\n",
       "      <td>http://www.wikidata.org/entity/Q62007471</td>\n",
       "      <td>Riccardo Rossi</td>\n",
       "      <td>http://www.wikidata.org/entity/Q6581097</td>\n",
       "      <td>1901</td>\n",
       "    </tr>\n",
       "    <tr>\n",
       "      <th>1</th>\n",
       "      <td>http://www.wikidata.org/entity/Q1447990</td>\n",
       "      <td>Franz Landolt</td>\n",
       "      <td>http://www.wikidata.org/entity/Q6581097</td>\n",
       "      <td>1901</td>\n",
       "    </tr>\n",
       "    <tr>\n",
       "      <th>2</th>\n",
       "      <td>http://www.wikidata.org/entity/Q120229</td>\n",
       "      <td>Robert Tobler</td>\n",
       "      <td>http://www.wikidata.org/entity/Q6581097</td>\n",
       "      <td>1901</td>\n",
       "    </tr>\n",
       "    <tr>\n",
       "      <th>3</th>\n",
       "      <td>http://www.wikidata.org/entity/Q121118</td>\n",
       "      <td>Gabriel Despland</td>\n",
       "      <td>http://www.wikidata.org/entity/Q6581097</td>\n",
       "      <td>1901</td>\n",
       "    </tr>\n",
       "    <tr>\n",
       "      <th>4</th>\n",
       "      <td>http://www.wikidata.org/entity/Q1579473</td>\n",
       "      <td>Hans Fischer</td>\n",
       "      <td>http://www.wikidata.org/entity/Q6581097</td>\n",
       "      <td>1901</td>\n",
       "    </tr>\n",
       "  </tbody>\n",
       "</table>\n",
       "</div>"
      ],
      "text/plain": [
       "                                  person_uri      person_label  \\\n",
       "id                                                               \n",
       "0   http://www.wikidata.org/entity/Q62007471    Riccardo Rossi   \n",
       "1    http://www.wikidata.org/entity/Q1447990     Franz Landolt   \n",
       "2     http://www.wikidata.org/entity/Q120229     Robert Tobler   \n",
       "3     http://www.wikidata.org/entity/Q121118  Gabriel Despland   \n",
       "4    http://www.wikidata.org/entity/Q1579473      Hans Fischer   \n",
       "\n",
       "                                  genderUri birthYear  \n",
       "id                                                     \n",
       "0   http://www.wikidata.org/entity/Q6581097      1901  \n",
       "1   http://www.wikidata.org/entity/Q6581097      1901  \n",
       "2   http://www.wikidata.org/entity/Q6581097      1901  \n",
       "3   http://www.wikidata.org/entity/Q6581097      1901  \n",
       "4   http://www.wikidata.org/entity/Q6581097      1901  "
      ]
     },
     "execution_count": 17,
     "metadata": {},
     "output_type": "execute_result"
    }
   ],
   "source": [
    "### On transforme la liste en DataFrame\n",
    "df_p = pd.DataFrame(l, columns=['id', 'person_uri', 'person_label', 'genderUri', 'birthYear'],)\n",
    "df_p = df_p.set_index('id',drop=True)\n",
    "df_p.head()"
   ]
  },
  {
   "cell_type": "markdown",
   "id": "4912fbea-fc0a-443c-a015-034431fbf194",
   "metadata": {},
   "source": [
    "### Vérifier les genres présents directement sur la base de données\n",
    "\n",
    "La requête suivante sera exécutée directement sur la base de données.\n",
    "\n",
    "Le résultat sera affiché dans le carnet Jupyter. On peut préparer les requêtes SQL directement dans un logiciel comme DBeaver, puis les exécuter depuis un carnet Jupyter pour récupérer le résultat"
   ]
  },
  {
   "cell_type": "code",
   "execution_count": 18,
   "id": "a73a1f07-d77a-492d-a1f4-79b9b5ca1715",
   "metadata": {},
   "outputs": [],
   "source": [
    "query = \"\"\"\n",
    "SELECT genderUri, count(*) as eff\n",
    "FROM wdt_personne\n",
    "GROUP BY genderUri\n",
    "ORDER BY eff DESC\"\"\""
   ]
  },
  {
   "cell_type": "code",
   "execution_count": 19,
   "id": "1e4200a4-ea0c-4789-9b97-ed7a7a2a6b0b",
   "metadata": {},
   "outputs": [],
   "source": [
    "cur = cn.cursor()"
   ]
  },
  {
   "cell_type": "code",
   "execution_count": 20,
   "id": "558e538a-1be5-47bd-820d-bce196a97028",
   "metadata": {},
   "outputs": [],
   "source": [
    "res = cur.execute(query)"
   ]
  },
  {
   "cell_type": "code",
   "execution_count": 21,
   "id": "9b650e74-d43a-41db-bff9-755bc6a6a8a3",
   "metadata": {},
   "outputs": [
    {
     "data": {
      "text/plain": [
       "[('http://www.wikidata.org/entity/Q6581097', 1095),\n",
       " ('http://www.wikidata.org/entity/Q6581072', 280)]"
      ]
     },
     "execution_count": 21,
     "metadata": {},
     "output_type": "execute_result"
    }
   ],
   "source": [
    "res.fetchall()"
   ]
  },
  {
   "cell_type": "markdown",
   "id": "2de05023-549c-4de3-8dd8-1c78afaf6227",
   "metadata": {},
   "source": [
    "### Ajouter une colonne au DataFrame avec le code du genre "
   ]
  },
  {
   "cell_type": "code",
   "execution_count": 22,
   "id": "0a674d8c-3a47-4c0a-9af4-7b68d6512e7a",
   "metadata": {},
   "outputs": [],
   "source": [
    "### On créé d'abord une fonction qui effectue le travail\n",
    "\n",
    "## l'argument de la fonction 'g_uri' est un nom choisi librement\n",
    "# il est ensuite appelé dans la fonction comme variable\n",
    "# et contient la valeur introduite lors de l'utilisation de la fonction \n",
    "def code_gender(g_uri):\n",
    "    if g_uri == 'http://www.wikidata.org/entity/Q6581097':\n",
    "        # genre masculin\n",
    "        a = 'M'\n",
    "    elif g_uri =='http://www.wikidata.org/entity/Q6581072':\n",
    "        # genre féminin\n",
    "        a = 'F'\n",
    "    else:\n",
    "        # genre autre, ma population ne comprend que des individus qui s'identifient comme hommes ou femmes\n",
    "        a = 'A'\n",
    "    return a    "
   ]
  },
  {
   "cell_type": "code",
   "execution_count": 23,
   "id": "449fc512-efbd-4dcb-9e47-219f80ed8a4e",
   "metadata": {},
   "outputs": [
    {
     "data": {
      "text/plain": [
       "'A'"
      ]
     },
     "execution_count": 23,
     "metadata": {},
     "output_type": "execute_result"
    }
   ],
   "source": [
    "### On teste la fonction\n",
    "code_gender('http://www.wikidata.org/entity/Q48270')"
   ]
  },
  {
   "cell_type": "code",
   "execution_count": 24,
   "id": "199ee5a4-1cdb-4a0f-962a-7675ec3f26f2",
   "metadata": {},
   "outputs": [],
   "source": [
    "### On ajoute une nouvelle colonne et y on met pour chaque ligne le résultat de la fonction\n",
    "df_p['genCode'] = df_p.apply(lambda x: code_gender(x['genderUri']), axis=1)"
   ]
  },
  {
   "cell_type": "code",
   "execution_count": 25,
   "id": "db6fb789-227b-40ef-9c11-78edf1b9d12c",
   "metadata": {},
   "outputs": [
    {
     "data": {
      "text/html": [
       "<div>\n",
       "<style scoped>\n",
       "    .dataframe tbody tr th:only-of-type {\n",
       "        vertical-align: middle;\n",
       "    }\n",
       "\n",
       "    .dataframe tbody tr th {\n",
       "        vertical-align: top;\n",
       "    }\n",
       "\n",
       "    .dataframe thead th {\n",
       "        text-align: right;\n",
       "    }\n",
       "</style>\n",
       "<table border=\"1\" class=\"dataframe\">\n",
       "  <thead>\n",
       "    <tr style=\"text-align: right;\">\n",
       "      <th></th>\n",
       "      <th>person_uri</th>\n",
       "      <th>person_label</th>\n",
       "      <th>genderUri</th>\n",
       "      <th>birthYear</th>\n",
       "      <th>genCode</th>\n",
       "    </tr>\n",
       "    <tr>\n",
       "      <th>id</th>\n",
       "      <th></th>\n",
       "      <th></th>\n",
       "      <th></th>\n",
       "      <th></th>\n",
       "      <th></th>\n",
       "    </tr>\n",
       "  </thead>\n",
       "  <tbody>\n",
       "    <tr>\n",
       "      <th>200</th>\n",
       "      <td>http://www.wikidata.org/entity/Q73909077</td>\n",
       "      <td>Liselotte Spreng</td>\n",
       "      <td>http://www.wikidata.org/entity/Q6581072</td>\n",
       "      <td>1912</td>\n",
       "      <td>F</td>\n",
       "    </tr>\n",
       "    <tr>\n",
       "      <th>209</th>\n",
       "      <td>http://www.wikidata.org/entity/Q78072982</td>\n",
       "      <td>Hanny Thalmann</td>\n",
       "      <td>http://www.wikidata.org/entity/Q6581072</td>\n",
       "      <td>1912</td>\n",
       "      <td>F</td>\n",
       "    </tr>\n",
       "    <tr>\n",
       "      <th>230</th>\n",
       "      <td>http://www.wikidata.org/entity/Q96484615</td>\n",
       "      <td>Gertrude Girard-Montet</td>\n",
       "      <td>http://www.wikidata.org/entity/Q6581072</td>\n",
       "      <td>1913</td>\n",
       "      <td>F</td>\n",
       "    </tr>\n",
       "    <tr>\n",
       "      <th>236</th>\n",
       "      <td>http://www.wikidata.org/entity/Q1515691</td>\n",
       "      <td>Gertrud Spiess</td>\n",
       "      <td>http://www.wikidata.org/entity/Q6581072</td>\n",
       "      <td>1914</td>\n",
       "      <td>F</td>\n",
       "    </tr>\n",
       "    <tr>\n",
       "      <th>258</th>\n",
       "      <td>http://www.wikidata.org/entity/Q1903085</td>\n",
       "      <td>Martha Ribi</td>\n",
       "      <td>http://www.wikidata.org/entity/Q6581072</td>\n",
       "      <td>1915</td>\n",
       "      <td>F</td>\n",
       "    </tr>\n",
       "  </tbody>\n",
       "</table>\n",
       "</div>"
      ],
      "text/plain": [
       "                                   person_uri            person_label  \\\n",
       "id                                                                      \n",
       "200  http://www.wikidata.org/entity/Q73909077        Liselotte Spreng   \n",
       "209  http://www.wikidata.org/entity/Q78072982          Hanny Thalmann   \n",
       "230  http://www.wikidata.org/entity/Q96484615  Gertrude Girard-Montet   \n",
       "236   http://www.wikidata.org/entity/Q1515691          Gertrud Spiess   \n",
       "258   http://www.wikidata.org/entity/Q1903085             Martha Ribi   \n",
       "\n",
       "                                   genderUri birthYear genCode  \n",
       "id                                                              \n",
       "200  http://www.wikidata.org/entity/Q6581072      1912       F  \n",
       "209  http://www.wikidata.org/entity/Q6581072      1912       F  \n",
       "230  http://www.wikidata.org/entity/Q6581072      1913       F  \n",
       "236  http://www.wikidata.org/entity/Q6581072      1914       F  \n",
       "258  http://www.wikidata.org/entity/Q6581072      1915       F  "
      ]
     },
     "execution_count": 25,
     "metadata": {},
     "output_type": "execute_result"
    }
   ],
   "source": [
    "### On inspecte les cinq premières lignes qui ont la valeur 'F' = femme\n",
    "df_p[df_p['genCode']=='F'][:5]"
   ]
  },
  {
   "cell_type": "markdown",
   "id": "c741c989-50ea-4f3d-a28d-89959d2c739a",
   "metadata": {},
   "source": [
    "## Effectifs par année"
   ]
  },
  {
   "cell_type": "code",
   "execution_count": 26,
   "id": "136263a8-722c-460e-bcc0-1aef61051025",
   "metadata": {},
   "outputs": [
    {
     "name": "stdout",
     "output_type": "stream",
     "text": [
      "<class 'pandas.core.series.Series'>\n",
      "Index: 1375 entries, 0 to 1374\n",
      "Series name: birthYear\n",
      "Non-Null Count  Dtype \n",
      "--------------  ----- \n",
      "1375 non-null   object\n",
      "dtypes: object(1)\n",
      "memory usage: 21.5+ KB\n"
     ]
    }
   ],
   "source": [
    "### On inspecte les valeurs de la colonne 'birthYear' \n",
    "# et on observe que le type de données est 'object', ici texte\n",
    "df_p['birthYear'].info()"
   ]
  },
  {
   "cell_type": "code",
   "execution_count": 27,
   "id": "fc39e9a0-2c3b-4fe5-be24-603b6a61a566",
   "metadata": {},
   "outputs": [],
   "source": [
    "### On transforme le type de valeur de la colonne BirthYear\n",
    "# de objet à entier\n",
    "df_p['birthYear'] = df_p['birthYear'].astype(int)"
   ]
  },
  {
   "cell_type": "code",
   "execution_count": 28,
   "id": "d9f288a0-21e0-45f3-82d6-77e480ad9731",
   "metadata": {},
   "outputs": [
    {
     "data": {
      "text/html": [
       "<div>\n",
       "<style scoped>\n",
       "    .dataframe tbody tr th:only-of-type {\n",
       "        vertical-align: middle;\n",
       "    }\n",
       "\n",
       "    .dataframe tbody tr th {\n",
       "        vertical-align: top;\n",
       "    }\n",
       "\n",
       "    .dataframe thead th {\n",
       "        text-align: right;\n",
       "    }\n",
       "</style>\n",
       "<table border=\"1\" class=\"dataframe\">\n",
       "  <thead>\n",
       "    <tr style=\"text-align: right;\">\n",
       "      <th></th>\n",
       "      <th>year</th>\n",
       "      <th>effectif</th>\n",
       "    </tr>\n",
       "  </thead>\n",
       "  <tbody>\n",
       "    <tr>\n",
       "      <th>0</th>\n",
       "      <td>1901</td>\n",
       "      <td>27</td>\n",
       "    </tr>\n",
       "    <tr>\n",
       "      <th>1</th>\n",
       "      <td>1902</td>\n",
       "      <td>18</td>\n",
       "    </tr>\n",
       "    <tr>\n",
       "      <th>2</th>\n",
       "      <td>1903</td>\n",
       "      <td>17</td>\n",
       "    </tr>\n",
       "    <tr>\n",
       "      <th>3</th>\n",
       "      <td>1904</td>\n",
       "      <td>11</td>\n",
       "    </tr>\n",
       "    <tr>\n",
       "      <th>4</th>\n",
       "      <td>1905</td>\n",
       "      <td>17</td>\n",
       "    </tr>\n",
       "    <tr>\n",
       "      <th>...</th>\n",
       "      <td>...</td>\n",
       "      <td>...</td>\n",
       "    </tr>\n",
       "    <tr>\n",
       "      <th>89</th>\n",
       "      <td>1990</td>\n",
       "      <td>3</td>\n",
       "    </tr>\n",
       "    <tr>\n",
       "      <th>90</th>\n",
       "      <td>1991</td>\n",
       "      <td>3</td>\n",
       "    </tr>\n",
       "    <tr>\n",
       "      <th>91</th>\n",
       "      <td>1992</td>\n",
       "      <td>2</td>\n",
       "    </tr>\n",
       "    <tr>\n",
       "      <th>92</th>\n",
       "      <td>1994</td>\n",
       "      <td>2</td>\n",
       "    </tr>\n",
       "    <tr>\n",
       "      <th>93</th>\n",
       "      <td>1996</td>\n",
       "      <td>1</td>\n",
       "    </tr>\n",
       "  </tbody>\n",
       "</table>\n",
       "<p>94 rows × 2 columns</p>\n",
       "</div>"
      ],
      "text/plain": [
       "    year  effectif\n",
       "0   1901        27\n",
       "1   1902        18\n",
       "2   1903        17\n",
       "3   1904        11\n",
       "4   1905        17\n",
       "..   ...       ...\n",
       "89  1990         3\n",
       "90  1991         3\n",
       "91  1992         2\n",
       "92  1994         2\n",
       "93  1996         1\n",
       "\n",
       "[94 rows x 2 columns]"
      ]
     },
     "execution_count": 28,
     "metadata": {},
     "output_type": "execute_result"
    }
   ],
   "source": [
    "### On transforme en DataFrame le résultat du regroupement par année\n",
    "# noter qu'un ajoute un filtre pour que l'année maximale de naissance soit 200\n",
    "years_count = pd.DataFrame(df_p[df_p['birthYear'] < 2001].groupby('birthYear').size())\\\n",
    "                .reset_index(drop=False)\n",
    "years_count.columns=['year','effectif']\n",
    "years_count"
   ]
  },
  {
   "cell_type": "code",
   "execution_count": 29,
   "id": "7fdc507e-f074-4c4a-bda5-ca2a6c69f387",
   "metadata": {},
   "outputs": [
    {
     "data": {
      "image/png": "[encoded data removed]",
      "text/plain": [
       "<Figure size 1600x800 with 1 Axes>"
      ]
     },
     "metadata": {},
     "output_type": "display_data"
    }
   ],
   "source": [
    "### Représentation graphique des effectifs par année\n",
    "\n",
    "ax = years_count.plot(x='year', y='effectif', kind='bar',rot=60, fontsize=8, figsize=(16,8))\n",
    "\n",
    "\n",
    "max_xticks = 20\n",
    "xloc = plt.MaxNLocator(max_xticks)\n",
    "ax.xaxis.set_major_locator(xloc)\n",
    "\n",
    "plt.ylabel('Effectif')\n",
    "plt.xlabel('Années')\n",
    "plt.title('Nombre de naissances par année')\n",
    "plt.show()"
   ]
  },
  {
   "cell_type": "markdown",
   "id": "ab845937-6017-44df-bec9-d78867a706a2",
   "metadata": {},
   "source": [
    "## Regrouper les effectifs par périodes de 25 ans"
   ]
  },
  {
   "cell_type": "code",
   "execution_count": 30,
   "id": "dcd067cb-f58d-44a1-bdb6-991bbcc3811c",
   "metadata": {},
   "outputs": [],
   "source": [
    "### Créer une copie indépendante du DataFrame (attention aux copies de variables qui sont seulement des alias) \n",
    "cdf_p = df_p[df_p['birthYear'] < 2001].copy(deep=True)"
   ]
  },
  {
   "cell_type": "code",
   "execution_count": 31,
   "id": "f7002b54-5b9a-41ff-b207-3d209bfea3b2",
   "metadata": {},
   "outputs": [
    {
     "data": {
      "text/html": [
       "<div>\n",
       "<style scoped>\n",
       "    .dataframe tbody tr th:only-of-type {\n",
       "        vertical-align: middle;\n",
       "    }\n",
       "\n",
       "    .dataframe tbody tr th {\n",
       "        vertical-align: top;\n",
       "    }\n",
       "\n",
       "    .dataframe thead th {\n",
       "        text-align: right;\n",
       "    }\n",
       "</style>\n",
       "<table border=\"1\" class=\"dataframe\">\n",
       "  <thead>\n",
       "    <tr style=\"text-align: right;\">\n",
       "      <th></th>\n",
       "      <th>person_uri</th>\n",
       "      <th>person_label</th>\n",
       "      <th>genderUri</th>\n",
       "      <th>birthYear</th>\n",
       "      <th>genCode</th>\n",
       "    </tr>\n",
       "    <tr>\n",
       "      <th>id</th>\n",
       "      <th></th>\n",
       "      <th></th>\n",
       "      <th></th>\n",
       "      <th></th>\n",
       "      <th></th>\n",
       "    </tr>\n",
       "  </thead>\n",
       "  <tbody>\n",
       "    <tr>\n",
       "      <th>0</th>\n",
       "      <td>http://www.wikidata.org/entity/Q62007471</td>\n",
       "      <td>Riccardo Rossi</td>\n",
       "      <td>http://www.wikidata.org/entity/Q6581097</td>\n",
       "      <td>1901</td>\n",
       "      <td>M</td>\n",
       "    </tr>\n",
       "    <tr>\n",
       "      <th>1</th>\n",
       "      <td>http://www.wikidata.org/entity/Q1447990</td>\n",
       "      <td>Franz Landolt</td>\n",
       "      <td>http://www.wikidata.org/entity/Q6581097</td>\n",
       "      <td>1901</td>\n",
       "      <td>M</td>\n",
       "    </tr>\n",
       "    <tr>\n",
       "      <th>2</th>\n",
       "      <td>http://www.wikidata.org/entity/Q120229</td>\n",
       "      <td>Robert Tobler</td>\n",
       "      <td>http://www.wikidata.org/entity/Q6581097</td>\n",
       "      <td>1901</td>\n",
       "      <td>M</td>\n",
       "    </tr>\n",
       "  </tbody>\n",
       "</table>\n",
       "</div>"
      ],
      "text/plain": [
       "                                  person_uri    person_label  \\\n",
       "id                                                             \n",
       "0   http://www.wikidata.org/entity/Q62007471  Riccardo Rossi   \n",
       "1    http://www.wikidata.org/entity/Q1447990   Franz Landolt   \n",
       "2     http://www.wikidata.org/entity/Q120229   Robert Tobler   \n",
       "\n",
       "                                  genderUri  birthYear genCode  \n",
       "id                                                              \n",
       "0   http://www.wikidata.org/entity/Q6581097       1901       M  \n",
       "1   http://www.wikidata.org/entity/Q6581097       1901       M  \n",
       "2   http://www.wikidata.org/entity/Q6581097       1901       M  "
      ]
     },
     "execution_count": 31,
     "metadata": {},
     "output_type": "execute_result"
    }
   ],
   "source": [
    "cdf_p.head(3)"
   ]
  },
  {
   "cell_type": "code",
   "execution_count": 32,
   "id": "15117967-9901-423a-a898-d5b710399439",
   "metadata": {},
   "outputs": [
    {
     "data": {
      "text/plain": [
       "(1901, 1996)"
      ]
     },
     "execution_count": 32,
     "metadata": {},
     "output_type": "execute_result"
    }
   ],
   "source": [
    "### Année minimale et maximale dans la population\n",
    "min(cdf_p['birthYear']), max(cdf_p['birthYear'])"
   ]
  },
  {
   "cell_type": "markdown",
   "id": "c60b84a9-99a7-46b0-8ae9-11bf26128fe7",
   "metadata": {},
   "source": [
    "### Codage par période de vingt-cinq ans"
   ]
  },
  {
   "cell_type": "code",
   "execution_count": 34,
   "id": "7c29f5c0-bf9f-444d-be57-2d39bf882e23",
   "metadata": {
    "tags": []
   },
   "outputs": [
    {
     "data": {
      "text/plain": [
       "([1900, 1925, 1950, 1975], [1900, 1925, 1950, 1975])"
      ]
     },
     "execution_count": 34,
     "metadata": {},
     "output_type": "execute_result"
    }
   ],
   "source": [
    "### Créer une liste d'années pour séparer en périodes de 25 ans\n",
    "# noter que la dernière année sera exclue, \n",
    "# elle donc doit être supérieure à la valeur maximale \n",
    "l_25 = list(range(1900, 1997, 25))\n",
    "l_25[:5],l_10[-5:]"
   ]
  },
  {
   "cell_type": "code",
   "execution_count": 35,
   "id": "06ab381e-f317-4767-9790-a9fcbfcb1853",
   "metadata": {},
   "outputs": [
    {
     "data": {
      "text/html": [
       "<div>\n",
       "<style scoped>\n",
       "    .dataframe tbody tr th:only-of-type {\n",
       "        vertical-align: middle;\n",
       "    }\n",
       "\n",
       "    .dataframe tbody tr th {\n",
       "        vertical-align: top;\n",
       "    }\n",
       "\n",
       "    .dataframe thead th {\n",
       "        text-align: right;\n",
       "    }\n",
       "</style>\n",
       "<table border=\"1\" class=\"dataframe\">\n",
       "  <thead>\n",
       "    <tr style=\"text-align: right;\">\n",
       "      <th></th>\n",
       "      <th>person_uri</th>\n",
       "      <th>person_label</th>\n",
       "      <th>genderUri</th>\n",
       "      <th>birthYear</th>\n",
       "      <th>genCode</th>\n",
       "      <th>periodes</th>\n",
       "    </tr>\n",
       "    <tr>\n",
       "      <th>id</th>\n",
       "      <th></th>\n",
       "      <th></th>\n",
       "      <th></th>\n",
       "      <th></th>\n",
       "      <th></th>\n",
       "      <th></th>\n",
       "    </tr>\n",
       "  </thead>\n",
       "  <tbody>\n",
       "    <tr>\n",
       "      <th>0</th>\n",
       "      <td>http://www.wikidata.org/entity/Q62007471</td>\n",
       "      <td>Riccardo Rossi</td>\n",
       "      <td>http://www.wikidata.org/entity/Q6581097</td>\n",
       "      <td>1901</td>\n",
       "      <td>M</td>\n",
       "      <td>1900-1924</td>\n",
       "    </tr>\n",
       "    <tr>\n",
       "      <th>1</th>\n",
       "      <td>http://www.wikidata.org/entity/Q1447990</td>\n",
       "      <td>Franz Landolt</td>\n",
       "      <td>http://www.wikidata.org/entity/Q6581097</td>\n",
       "      <td>1901</td>\n",
       "      <td>M</td>\n",
       "      <td>1900-1924</td>\n",
       "    </tr>\n",
       "    <tr>\n",
       "      <th>2</th>\n",
       "      <td>http://www.wikidata.org/entity/Q120229</td>\n",
       "      <td>Robert Tobler</td>\n",
       "      <td>http://www.wikidata.org/entity/Q6581097</td>\n",
       "      <td>1901</td>\n",
       "      <td>M</td>\n",
       "      <td>1900-1924</td>\n",
       "    </tr>\n",
       "  </tbody>\n",
       "</table>\n",
       "</div>"
      ],
      "text/plain": [
       "                                  person_uri    person_label  \\\n",
       "id                                                             \n",
       "0   http://www.wikidata.org/entity/Q62007471  Riccardo Rossi   \n",
       "1    http://www.wikidata.org/entity/Q1447990   Franz Landolt   \n",
       "2     http://www.wikidata.org/entity/Q120229   Robert Tobler   \n",
       "\n",
       "                                  genderUri  birthYear genCode   periodes  \n",
       "id                                                                         \n",
       "0   http://www.wikidata.org/entity/Q6581097       1901       M  1900-1924  \n",
       "1   http://www.wikidata.org/entity/Q6581097       1901       M  1900-1924  \n",
       "2   http://www.wikidata.org/entity/Q6581097       1901       M  1900-1924  "
      ]
     },
     "execution_count": 35,
     "metadata": {},
     "output_type": "execute_result"
    }
   ],
   "source": [
    "### fonction pd.cut : https://pandas.pydata.org/pandas-docs/stable/reference/api/pandas.cut.html\n",
    "# On ajoute une nouvelle colonne qui contient la période sur la base de la liste précédente\n",
    "# et de la valeur de l'année\n",
    "\n",
    "cdf_p['periodes'] = pd.cut(cdf_p['birthYear'], l_25, right=False)\n",
    "\n",
    "### Transformer le code ajouté pour qu'il soit plus lisible\n",
    "# noter qu'on a arrondi les valeurs\n",
    "cdf_p['periodes'] = cdf_p['periodes'].apply(lambda x : str(int(x.left))+'-'+ str(int(x.right)-1))\n",
    "\n",
    "# Inspection\n",
    "cdf_p.head(3)"
   ]
  },
  {
   "cell_type": "code",
   "execution_count": 36,
   "id": "40417fc9-a2fc-4beb-a5b1-f36034c0fae1",
   "metadata": {},
   "outputs": [
    {
     "data": {
      "text/html": [
       "<div>\n",
       "<style scoped>\n",
       "    .dataframe tbody tr th:only-of-type {\n",
       "        vertical-align: middle;\n",
       "    }\n",
       "\n",
       "    .dataframe tbody tr th {\n",
       "        vertical-align: top;\n",
       "    }\n",
       "\n",
       "    .dataframe thead th {\n",
       "        text-align: right;\n",
       "    }\n",
       "</style>\n",
       "<table border=\"1\" class=\"dataframe\">\n",
       "  <thead>\n",
       "    <tr style=\"text-align: right;\">\n",
       "      <th></th>\n",
       "      <th>person_uri</th>\n",
       "      <th>person_label</th>\n",
       "      <th>genderUri</th>\n",
       "      <th>birthYear</th>\n",
       "      <th>genCode</th>\n",
       "      <th>periodes</th>\n",
       "    </tr>\n",
       "    <tr>\n",
       "      <th>id</th>\n",
       "      <th></th>\n",
       "      <th></th>\n",
       "      <th></th>\n",
       "      <th></th>\n",
       "      <th></th>\n",
       "      <th></th>\n",
       "    </tr>\n",
       "  </thead>\n",
       "  <tbody>\n",
       "  </tbody>\n",
       "</table>\n",
       "</div>"
      ],
      "text/plain": [
       "Empty DataFrame\n",
       "Columns: [person_uri, person_label, genderUri, birthYear, genCode, periodes]\n",
       "Index: []"
      ]
     },
     "execution_count": 36,
     "metadata": {},
     "output_type": "execute_result"
    }
   ],
   "source": [
    "cdf_p[cdf_p.birthYear == 2000][:3]"
   ]
  },
  {
   "cell_type": "code",
   "execution_count": 37,
   "id": "4e943cfe-40d8-49c0-afa1-a55f964f657a",
   "metadata": {},
   "outputs": [
    {
     "name": "stderr",
     "output_type": "stream",
     "text": [
      "C:\\Users\\LZender\\AppData\\Local\\Temp\\ipykernel_14220\\3799892700.py:2: FutureWarning: The default of observed=False is deprecated and will be changed to True in a future version of pandas. Pass observed=False to retain current behavior or observed=True to adopt the future default and silence this warning.\n",
      "  cdf_p.groupby(by='periodes').size()\n"
     ]
    },
    {
     "data": {
      "text/plain": [
       "periodes\n",
       "1900-1924    423\n",
       "1925-1949    433\n",
       "1950-1974    396\n",
       "dtype: int64"
      ]
     },
     "execution_count": 37,
     "metadata": {},
     "output_type": "execute_result"
    }
   ],
   "source": [
    "### compter les naissances par périodes de 25 ans\n",
    "cdf_p.groupby(by='periodes').size()"
   ]
  },
  {
   "cell_type": "code",
   "execution_count": 52,
   "id": "9a1dd793-210a-42c3-b68b-d0e1756277d1",
   "metadata": {},
   "outputs": [
    {
     "name": "stderr",
     "output_type": "stream",
     "text": [
      "C:\\Users\\LZender\\AppData\\Local\\Temp\\ipykernel_14220\\424432049.py:1: FutureWarning: The default of observed=False is deprecated and will be changed to True in a future version of pandas. Pass observed=False to retain current behavior or observed=True to adopt the future default and silence this warning.\n",
      "  ax = cdf_p.groupby(by='periodes').size().plot(kind='bar',rot=60, fontsize=8, figsize=(16,8))\n"
     ]
    },
    {
     "data": {
      "image/png": "[encoded data removed]",
      "text/plain": [
       "<Figure size 1600x800 with 1 Axes>"
      ]
     },
     "metadata": {},
     "output_type": "display_data"
    },
    {
     "data": {
      "text/plain": [
       "<Figure size 640x480 with 0 Axes>"
      ]
     },
     "metadata": {},
     "output_type": "display_data"
    }
   ],
   "source": [
    "ax = cdf_p.groupby(by='periodes').size().plot(kind='bar',rot=60, fontsize=8, figsize=(16,8))\n",
    "plt.ylabel('Effectif')\n",
    "plt.xlabel('Périodes')\n",
    "plt.title('Naissances par périodes de vingt-cinq ans')\n",
    "plt.show()\n",
    "\n",
    "## On peut enregistrer l'image dans un fichier (noter le dossier créé préalablement)\n",
    "# qu'on pourra ensuite introduire dans un travail et commenter\n",
    "\n",
    "# Doc.: https://matplotlib.org/stable/api/_as_gen/matplotlib.pyplot.savefig.html\n",
    "plt.savefig('images/naissances_distribution_25ans.jpg', bbox_inches='tight',\n",
    "                       pad_inches=0.2)\n",
    "plt.show()"
   ]
  },
  {
   "cell_type": "markdown",
   "id": "7d3da8ee-300d-4fb8-be6e-384e1e4186ef",
   "metadata": {},
   "source": [
    "## Ajouter la représentation des genres"
   ]
  },
  {
   "cell_type": "code",
   "execution_count": 39,
   "id": "e95d55b5",
   "metadata": {},
   "outputs": [
    {
     "name": "stderr",
     "output_type": "stream",
     "text": [
      "C:\\Users\\LZender\\AppData\\Local\\Temp\\ipykernel_14220\\3345857416.py:2: FutureWarning: The default of observed=False is deprecated and will be changed to True in a future version of pandas. Pass observed=False to retain current behavior or observed=True to adopt the future default and silence this warning.\n",
      "  gender_m = pd.DataFrame(cdf_p[cdf_p.genCode == 'M'].groupby('periodes').size())\n"
     ]
    },
    {
     "data": {
      "text/html": [
       "<div>\n",
       "<style scoped>\n",
       "    .dataframe tbody tr th:only-of-type {\n",
       "        vertical-align: middle;\n",
       "    }\n",
       "\n",
       "    .dataframe tbody tr th {\n",
       "        vertical-align: top;\n",
       "    }\n",
       "\n",
       "    .dataframe thead th {\n",
       "        text-align: right;\n",
       "    }\n",
       "</style>\n",
       "<table border=\"1\" class=\"dataframe\">\n",
       "  <thead>\n",
       "    <tr style=\"text-align: right;\">\n",
       "      <th></th>\n",
       "      <th>gen_m</th>\n",
       "    </tr>\n",
       "    <tr>\n",
       "      <th>periodes</th>\n",
       "      <th></th>\n",
       "    </tr>\n",
       "  </thead>\n",
       "  <tbody>\n",
       "    <tr>\n",
       "      <th>1900-1924</th>\n",
       "      <td>411</td>\n",
       "    </tr>\n",
       "    <tr>\n",
       "      <th>1925-1949</th>\n",
       "      <td>350</td>\n",
       "    </tr>\n",
       "    <tr>\n",
       "      <th>1950-1974</th>\n",
       "      <td>264</td>\n",
       "    </tr>\n",
       "  </tbody>\n",
       "</table>\n",
       "</div>"
      ],
      "text/plain": [
       "           gen_m\n",
       "periodes        \n",
       "1900-1924    411\n",
       "1925-1949    350\n",
       "1950-1974    264"
      ]
     },
     "execution_count": 39,
     "metadata": {},
     "output_type": "execute_result"
    }
   ],
   "source": [
    "### Regrouper et compter avec un fitre sur le genre masculin\n",
    "gender_m = pd.DataFrame(cdf_p[cdf_p.genCode == 'M'].groupby('periodes').size())\n",
    "gender_m.columns = ['gen_m']\n",
    "gender_m.tail()\n"
   ]
  },
  {
   "cell_type": "code",
   "execution_count": 40,
   "id": "17ae3b32-dc7c-4a5c-a2b8-b2f9c9886a5d",
   "metadata": {},
   "outputs": [
    {
     "name": "stderr",
     "output_type": "stream",
     "text": [
      "C:\\Users\\LZender\\AppData\\Local\\Temp\\ipykernel_14220\\2655757301.py:2: FutureWarning: The default of observed=False is deprecated and will be changed to True in a future version of pandas. Pass observed=False to retain current behavior or observed=True to adopt the future default and silence this warning.\n",
      "  gender_f = pd.DataFrame(cdf_p[cdf_p.genCode == 'F'].groupby('periodes').size())\n"
     ]
    },
    {
     "data": {
      "text/html": [
       "<div>\n",
       "<style scoped>\n",
       "    .dataframe tbody tr th:only-of-type {\n",
       "        vertical-align: middle;\n",
       "    }\n",
       "\n",
       "    .dataframe tbody tr th {\n",
       "        vertical-align: top;\n",
       "    }\n",
       "\n",
       "    .dataframe thead th {\n",
       "        text-align: right;\n",
       "    }\n",
       "</style>\n",
       "<table border=\"1\" class=\"dataframe\">\n",
       "  <thead>\n",
       "    <tr style=\"text-align: right;\">\n",
       "      <th></th>\n",
       "      <th>gen_f</th>\n",
       "    </tr>\n",
       "    <tr>\n",
       "      <th>periodes</th>\n",
       "      <th></th>\n",
       "    </tr>\n",
       "  </thead>\n",
       "  <tbody>\n",
       "    <tr>\n",
       "      <th>1900-1924</th>\n",
       "      <td>12</td>\n",
       "    </tr>\n",
       "    <tr>\n",
       "      <th>1925-1949</th>\n",
       "      <td>83</td>\n",
       "    </tr>\n",
       "    <tr>\n",
       "      <th>1950-1974</th>\n",
       "      <td>132</td>\n",
       "    </tr>\n",
       "  </tbody>\n",
       "</table>\n",
       "</div>"
      ],
      "text/plain": [
       "           gen_f\n",
       "periodes        \n",
       "1900-1924     12\n",
       "1925-1949     83\n",
       "1950-1974    132"
      ]
     },
     "execution_count": 40,
     "metadata": {},
     "output_type": "execute_result"
    }
   ],
   "source": [
    "### Regrouper et compter avec un fitre sur le genre féminin\n",
    "gender_f = pd.DataFrame(cdf_p[cdf_p.genCode == 'F'].groupby('periodes').size())\n",
    "gender_f.columns = ['gen_f']\n",
    "gender_f.tail()\n"
   ]
  },
  {
   "cell_type": "code",
   "execution_count": 41,
   "id": "fd7cc5e0-471f-469e-ae39-9365de7bfc18",
   "metadata": {},
   "outputs": [
    {
     "data": {
      "text/html": [
       "<div>\n",
       "<style scoped>\n",
       "    .dataframe tbody tr th:only-of-type {\n",
       "        vertical-align: middle;\n",
       "    }\n",
       "\n",
       "    .dataframe tbody tr th {\n",
       "        vertical-align: top;\n",
       "    }\n",
       "\n",
       "    .dataframe thead th {\n",
       "        text-align: right;\n",
       "    }\n",
       "</style>\n",
       "<table border=\"1\" class=\"dataframe\">\n",
       "  <thead>\n",
       "    <tr style=\"text-align: right;\">\n",
       "      <th></th>\n",
       "      <th>gen_m</th>\n",
       "      <th>gen_f</th>\n",
       "    </tr>\n",
       "    <tr>\n",
       "      <th>periodes</th>\n",
       "      <th></th>\n",
       "      <th></th>\n",
       "    </tr>\n",
       "  </thead>\n",
       "  <tbody>\n",
       "    <tr>\n",
       "      <th>1900-1924</th>\n",
       "      <td>411</td>\n",
       "      <td>12</td>\n",
       "    </tr>\n",
       "    <tr>\n",
       "      <th>1925-1949</th>\n",
       "      <td>350</td>\n",
       "      <td>83</td>\n",
       "    </tr>\n",
       "    <tr>\n",
       "      <th>1950-1974</th>\n",
       "      <td>264</td>\n",
       "      <td>132</td>\n",
       "    </tr>\n",
       "  </tbody>\n",
       "</table>\n",
       "</div>"
      ],
      "text/plain": [
       "           gen_m  gen_f\n",
       "periodes               \n",
       "1900-1924    411     12\n",
       "1925-1949    350     83\n",
       "1950-1974    264    132"
      ]
     },
     "execution_count": 41,
     "metadata": {},
     "output_type": "execute_result"
    }
   ],
   "source": [
    "### Fusionner les deux tableaux en utilisant l'index comme clé de jointure\n",
    "merged = pd.merge(gender_m, gender_f, left_index=True, right_index=True)\n",
    "merged.tail()"
   ]
  },
  {
   "cell_type": "code",
   "execution_count": 42,
   "id": "60190e17-c1df-4a22-9ec9-be6b77108c46",
   "metadata": {},
   "outputs": [
    {
     "data": {
      "text/html": [
       "<div>\n",
       "<style scoped>\n",
       "    .dataframe tbody tr th:only-of-type {\n",
       "        vertical-align: middle;\n",
       "    }\n",
       "\n",
       "    .dataframe tbody tr th {\n",
       "        vertical-align: top;\n",
       "    }\n",
       "\n",
       "    .dataframe thead th {\n",
       "        text-align: right;\n",
       "    }\n",
       "</style>\n",
       "<table border=\"1\" class=\"dataframe\">\n",
       "  <thead>\n",
       "    <tr style=\"text-align: right;\">\n",
       "      <th></th>\n",
       "      <th>gen_m</th>\n",
       "      <th>gen_f</th>\n",
       "    </tr>\n",
       "    <tr>\n",
       "      <th>periodes</th>\n",
       "      <th></th>\n",
       "      <th></th>\n",
       "    </tr>\n",
       "  </thead>\n",
       "  <tbody>\n",
       "    <tr>\n",
       "      <th>1900-1924</th>\n",
       "      <td>411</td>\n",
       "      <td>12</td>\n",
       "    </tr>\n",
       "    <tr>\n",
       "      <th>1925-1949</th>\n",
       "      <td>350</td>\n",
       "      <td>83</td>\n",
       "    </tr>\n",
       "    <tr>\n",
       "      <th>1950-1974</th>\n",
       "      <td>264</td>\n",
       "      <td>132</td>\n",
       "    </tr>\n",
       "  </tbody>\n",
       "</table>\n",
       "</div>"
      ],
      "text/plain": [
       "           gen_m  gen_f\n",
       "periodes               \n",
       "1900-1924    411     12\n",
       "1925-1949    350     83\n",
       "1950-1974    264    132"
      ]
     },
     "execution_count": 42,
     "metadata": {},
     "output_type": "execute_result"
    }
   ],
   "source": [
    "### Transformer l'index de séquence à chaîne de caractères\n",
    "# ce qui est indispensable pour l'affichage dans un graphique\n",
    "merged.index = merged.index.map(str)\n",
    "merged.tail()"
   ]
  },
  {
   "cell_type": "code",
   "execution_count": 43,
   "id": "d188f96f-feca-464b-b338-f87e3c9cb23b",
   "metadata": {},
   "outputs": [
    {
     "data": {
      "image/png": "[encoded data removed]",
      "text/plain": [
       "<Figure size 2000x600 with 1 Axes>"
      ]
     },
     "metadata": {},
     "output_type": "display_data"
    }
   ],
   "source": [
    "### Documentation\n",
    "# https://pandas.pydata.org/pandas-docs/stable/reference/api/pandas.DataFrame.plot.bar.html\n",
    "ax = merged.plot.bar(stacked=True, rot=70, fontsize=9, figsize=(20,6), color=['LightSteelBlue', 'LightCoral'])\n",
    "plt.show()"
   ]
  },
  {
   "cell_type": "markdown",
   "id": "ba5a7825-df2b-4e94-9f90-2ffb03267ee3",
   "metadata": {},
   "source": [
    "### Codage par période de dix ans\n",
    "\n",
    "Comme on voit bien dans le graphique précédent qu'il y a deux périodes avec des effectifs radicalements différents, \n",
    "on restraint la période analysée à l'époque contemporaine et on affine avec un découpage par périodes de dix ans "
   ]
  },
  {
   "cell_type": "code",
   "execution_count": 44,
   "id": "999af2f6-438d-4dbb-91b5-ad4ee449c067",
   "metadata": {
    "tags": []
   },
   "outputs": [
    {
     "data": {
      "text/plain": [
       "([1900, 1910, 1920, 1930, 1940], [1950, 1960, 1970, 1980, 1990])"
      ]
     },
     "execution_count": 44,
     "metadata": {},
     "output_type": "execute_result"
    }
   ],
   "source": [
    "l_10 = list(range(1900, 1997, 10))\n",
    "l_10[:5],l_10[-5:]"
   ]
  },
  {
   "cell_type": "code",
   "execution_count": 45,
   "id": "59fbb2a2-39c4-404b-b1c0-10be66742fae",
   "metadata": {},
   "outputs": [
    {
     "data": {
      "text/html": [
       "<div>\n",
       "<style scoped>\n",
       "    .dataframe tbody tr th:only-of-type {\n",
       "        vertical-align: middle;\n",
       "    }\n",
       "\n",
       "    .dataframe tbody tr th {\n",
       "        vertical-align: top;\n",
       "    }\n",
       "\n",
       "    .dataframe thead th {\n",
       "        text-align: right;\n",
       "    }\n",
       "</style>\n",
       "<table border=\"1\" class=\"dataframe\">\n",
       "  <thead>\n",
       "    <tr style=\"text-align: right;\">\n",
       "      <th></th>\n",
       "      <th>person_uri</th>\n",
       "      <th>person_label</th>\n",
       "      <th>genderUri</th>\n",
       "      <th>birthYear</th>\n",
       "      <th>genCode</th>\n",
       "      <th>periodes</th>\n",
       "      <th>per_10</th>\n",
       "    </tr>\n",
       "    <tr>\n",
       "      <th>id</th>\n",
       "      <th></th>\n",
       "      <th></th>\n",
       "      <th></th>\n",
       "      <th></th>\n",
       "      <th></th>\n",
       "      <th></th>\n",
       "      <th></th>\n",
       "    </tr>\n",
       "  </thead>\n",
       "  <tbody>\n",
       "    <tr>\n",
       "      <th>0</th>\n",
       "      <td>http://www.wikidata.org/entity/Q62007471</td>\n",
       "      <td>Riccardo Rossi</td>\n",
       "      <td>http://www.wikidata.org/entity/Q6581097</td>\n",
       "      <td>1901</td>\n",
       "      <td>M</td>\n",
       "      <td>1900-1924</td>\n",
       "      <td>1900-1909</td>\n",
       "    </tr>\n",
       "    <tr>\n",
       "      <th>1</th>\n",
       "      <td>http://www.wikidata.org/entity/Q1447990</td>\n",
       "      <td>Franz Landolt</td>\n",
       "      <td>http://www.wikidata.org/entity/Q6581097</td>\n",
       "      <td>1901</td>\n",
       "      <td>M</td>\n",
       "      <td>1900-1924</td>\n",
       "      <td>1900-1909</td>\n",
       "    </tr>\n",
       "    <tr>\n",
       "      <th>2</th>\n",
       "      <td>http://www.wikidata.org/entity/Q120229</td>\n",
       "      <td>Robert Tobler</td>\n",
       "      <td>http://www.wikidata.org/entity/Q6581097</td>\n",
       "      <td>1901</td>\n",
       "      <td>M</td>\n",
       "      <td>1900-1924</td>\n",
       "      <td>1900-1909</td>\n",
       "    </tr>\n",
       "  </tbody>\n",
       "</table>\n",
       "</div>"
      ],
      "text/plain": [
       "                                  person_uri    person_label  \\\n",
       "id                                                             \n",
       "0   http://www.wikidata.org/entity/Q62007471  Riccardo Rossi   \n",
       "1    http://www.wikidata.org/entity/Q1447990   Franz Landolt   \n",
       "2     http://www.wikidata.org/entity/Q120229   Robert Tobler   \n",
       "\n",
       "                                  genderUri  birthYear genCode   periodes  \\\n",
       "id                                                                          \n",
       "0   http://www.wikidata.org/entity/Q6581097       1901       M  1900-1924   \n",
       "1   http://www.wikidata.org/entity/Q6581097       1901       M  1900-1924   \n",
       "2   http://www.wikidata.org/entity/Q6581097       1901       M  1900-1924   \n",
       "\n",
       "       per_10  \n",
       "id             \n",
       "0   1900-1909  \n",
       "1   1900-1909  \n",
       "2   1900-1909  "
      ]
     },
     "execution_count": 45,
     "metadata": {},
     "output_type": "execute_result"
    }
   ],
   "source": [
    "### Découpage par décennies\n",
    "## fonction pd.cut : https://pandas.pydata.org/pandas-docs/stable/reference/api/pandas.cut.html\n",
    "\n",
    "cdf_p['per_10'] = pd.cut(cdf_p['birthYear'], l_10, right=False)\n",
    "\n",
    "### Transformer le code ajouté pour qu'il soit plus lisible\n",
    "# noter qu'on a arrondi les valeurs\n",
    "cdf_p['per_10'] = cdf_p['per_10'].apply(lambda x : str(int(x.left))+'-'+ str(int(x.right)-1))\n",
    "\n",
    "# Inspection\n",
    "cdf_p.head(3)"
   ]
  },
  {
   "cell_type": "code",
   "execution_count": 46,
   "id": "1c28f1d0-f1e2-4dfc-9892-2b3204544f45",
   "metadata": {},
   "outputs": [
    {
     "name": "stderr",
     "output_type": "stream",
     "text": [
      "C:\\Users\\LZender\\AppData\\Local\\Temp\\ipykernel_14220\\752089022.py:2: FutureWarning: The default of observed=False is deprecated and will be changed to True in a future version of pandas. Pass observed=False to retain current behavior or observed=True to adopt the future default and silence this warning.\n",
      "  gender_m_10 = pd.DataFrame(cdf_p[(cdf_p.genCode == 'M') & (cdf_p.birthYear > 1850)].groupby('per_10').size())\n"
     ]
    },
    {
     "data": {
      "text/html": [
       "<div>\n",
       "<style scoped>\n",
       "    .dataframe tbody tr th:only-of-type {\n",
       "        vertical-align: middle;\n",
       "    }\n",
       "\n",
       "    .dataframe tbody tr th {\n",
       "        vertical-align: top;\n",
       "    }\n",
       "\n",
       "    .dataframe thead th {\n",
       "        text-align: right;\n",
       "    }\n",
       "</style>\n",
       "<table border=\"1\" class=\"dataframe\">\n",
       "  <thead>\n",
       "    <tr style=\"text-align: right;\">\n",
       "      <th></th>\n",
       "      <th>gen_m</th>\n",
       "    </tr>\n",
       "    <tr>\n",
       "      <th>per_10</th>\n",
       "      <th></th>\n",
       "    </tr>\n",
       "  </thead>\n",
       "  <tbody>\n",
       "    <tr>\n",
       "      <th>1940-1949</th>\n",
       "      <td>156</td>\n",
       "    </tr>\n",
       "    <tr>\n",
       "      <th>1950-1959</th>\n",
       "      <td>132</td>\n",
       "    </tr>\n",
       "    <tr>\n",
       "      <th>1960-1969</th>\n",
       "      <td>106</td>\n",
       "    </tr>\n",
       "    <tr>\n",
       "      <th>1970-1979</th>\n",
       "      <td>54</td>\n",
       "    </tr>\n",
       "    <tr>\n",
       "      <th>1980-1989</th>\n",
       "      <td>38</td>\n",
       "    </tr>\n",
       "  </tbody>\n",
       "</table>\n",
       "</div>"
      ],
      "text/plain": [
       "           gen_m\n",
       "per_10          \n",
       "1940-1949    156\n",
       "1950-1959    132\n",
       "1960-1969    106\n",
       "1970-1979     54\n",
       "1980-1989     38"
      ]
     },
     "execution_count": 46,
     "metadata": {},
     "output_type": "execute_result"
    }
   ],
   "source": [
    "### On regroupe par genre comme ci-dessus\n",
    "gender_m_10 = pd.DataFrame(cdf_p[(cdf_p.genCode == 'M') & (cdf_p.birthYear > 1850)].groupby('per_10').size())\n",
    "gender_m_10.columns = ['gen_m']\n",
    "gender_m_10.tail()\n"
   ]
  },
  {
   "cell_type": "code",
   "execution_count": 47,
   "id": "0e28a9c3-ab14-40db-bf3a-469dbcb93500",
   "metadata": {},
   "outputs": [
    {
     "name": "stderr",
     "output_type": "stream",
     "text": [
      "C:\\Users\\LZender\\AppData\\Local\\Temp\\ipykernel_14220\\3298704842.py:2: FutureWarning: The default of observed=False is deprecated and will be changed to True in a future version of pandas. Pass observed=False to retain current behavior or observed=True to adopt the future default and silence this warning.\n",
      "  gender_f_10 = pd.DataFrame(cdf_p[(cdf_p.genCode == 'F')& (cdf_p.birthYear > 1900)].groupby('per_10').size())\n"
     ]
    },
    {
     "data": {
      "text/html": [
       "<div>\n",
       "<style scoped>\n",
       "    .dataframe tbody tr th:only-of-type {\n",
       "        vertical-align: middle;\n",
       "    }\n",
       "\n",
       "    .dataframe tbody tr th {\n",
       "        vertical-align: top;\n",
       "    }\n",
       "\n",
       "    .dataframe thead th {\n",
       "        text-align: right;\n",
       "    }\n",
       "</style>\n",
       "<table border=\"1\" class=\"dataframe\">\n",
       "  <thead>\n",
       "    <tr style=\"text-align: right;\">\n",
       "      <th></th>\n",
       "      <th>gen_f</th>\n",
       "    </tr>\n",
       "    <tr>\n",
       "      <th>per_10</th>\n",
       "      <th></th>\n",
       "    </tr>\n",
       "  </thead>\n",
       "  <tbody>\n",
       "    <tr>\n",
       "      <th>1940-1949</th>\n",
       "      <td>52</td>\n",
       "    </tr>\n",
       "    <tr>\n",
       "      <th>1950-1959</th>\n",
       "      <td>63</td>\n",
       "    </tr>\n",
       "    <tr>\n",
       "      <th>1960-1969</th>\n",
       "      <td>48</td>\n",
       "    </tr>\n",
       "    <tr>\n",
       "      <th>1970-1979</th>\n",
       "      <td>46</td>\n",
       "    </tr>\n",
       "    <tr>\n",
       "      <th>1980-1989</th>\n",
       "      <td>21</td>\n",
       "    </tr>\n",
       "  </tbody>\n",
       "</table>\n",
       "</div>"
      ],
      "text/plain": [
       "           gen_f\n",
       "per_10          \n",
       "1940-1949     52\n",
       "1950-1959     63\n",
       "1960-1969     48\n",
       "1970-1979     46\n",
       "1980-1989     21"
      ]
     },
     "execution_count": 47,
     "metadata": {},
     "output_type": "execute_result"
    }
   ],
   "source": [
    "### Idem\n",
    "gender_f_10 = pd.DataFrame(cdf_p[(cdf_p.genCode == 'F')& (cdf_p.birthYear > 1900)].groupby('per_10').size())\n",
    "gender_f_10.columns = ['gen_f']\n",
    "gender_f_10.tail()\n"
   ]
  },
  {
   "cell_type": "code",
   "execution_count": 48,
   "id": "ebcbeed3-851b-416e-9f30-d1251ac5e579",
   "metadata": {},
   "outputs": [
    {
     "data": {
      "text/html": [
       "<div>\n",
       "<style scoped>\n",
       "    .dataframe tbody tr th:only-of-type {\n",
       "        vertical-align: middle;\n",
       "    }\n",
       "\n",
       "    .dataframe tbody tr th {\n",
       "        vertical-align: top;\n",
       "    }\n",
       "\n",
       "    .dataframe thead th {\n",
       "        text-align: right;\n",
       "    }\n",
       "</style>\n",
       "<table border=\"1\" class=\"dataframe\">\n",
       "  <thead>\n",
       "    <tr style=\"text-align: right;\">\n",
       "      <th></th>\n",
       "      <th>gen_m</th>\n",
       "      <th>gen_f</th>\n",
       "    </tr>\n",
       "    <tr>\n",
       "      <th>per_10</th>\n",
       "      <th></th>\n",
       "      <th></th>\n",
       "    </tr>\n",
       "  </thead>\n",
       "  <tbody>\n",
       "    <tr>\n",
       "      <th>1940-1949</th>\n",
       "      <td>156</td>\n",
       "      <td>52</td>\n",
       "    </tr>\n",
       "    <tr>\n",
       "      <th>1950-1959</th>\n",
       "      <td>132</td>\n",
       "      <td>63</td>\n",
       "    </tr>\n",
       "    <tr>\n",
       "      <th>1960-1969</th>\n",
       "      <td>106</td>\n",
       "      <td>48</td>\n",
       "    </tr>\n",
       "    <tr>\n",
       "      <th>1970-1979</th>\n",
       "      <td>54</td>\n",
       "      <td>46</td>\n",
       "    </tr>\n",
       "    <tr>\n",
       "      <th>1980-1989</th>\n",
       "      <td>38</td>\n",
       "      <td>21</td>\n",
       "    </tr>\n",
       "  </tbody>\n",
       "</table>\n",
       "</div>"
      ],
      "text/plain": [
       "           gen_m  gen_f\n",
       "per_10                 \n",
       "1940-1949    156     52\n",
       "1950-1959    132     63\n",
       "1960-1969    106     48\n",
       "1970-1979     54     46\n",
       "1980-1989     38     21"
      ]
     },
     "execution_count": 48,
     "metadata": {},
     "output_type": "execute_result"
    }
   ],
   "source": [
    "merged_10 = pd.merge(gender_m_10, gender_f_10, left_index=True, right_index=True)\n",
    "merged_10.tail()"
   ]
  },
  {
   "cell_type": "code",
   "execution_count": 49,
   "id": "ae8f6224-9c2b-47ce-ace0-c1d4a05c4869",
   "metadata": {},
   "outputs": [
    {
     "data": {
      "text/html": [
       "<div>\n",
       "<style scoped>\n",
       "    .dataframe tbody tr th:only-of-type {\n",
       "        vertical-align: middle;\n",
       "    }\n",
       "\n",
       "    .dataframe tbody tr th {\n",
       "        vertical-align: top;\n",
       "    }\n",
       "\n",
       "    .dataframe thead th {\n",
       "        text-align: right;\n",
       "    }\n",
       "</style>\n",
       "<table border=\"1\" class=\"dataframe\">\n",
       "  <thead>\n",
       "    <tr style=\"text-align: right;\">\n",
       "      <th></th>\n",
       "      <th>gen_m</th>\n",
       "      <th>gen_f</th>\n",
       "      <th>tot</th>\n",
       "    </tr>\n",
       "    <tr>\n",
       "      <th>per_10</th>\n",
       "      <th></th>\n",
       "      <th></th>\n",
       "      <th></th>\n",
       "    </tr>\n",
       "  </thead>\n",
       "  <tbody>\n",
       "    <tr>\n",
       "      <th>1940-1949</th>\n",
       "      <td>156</td>\n",
       "      <td>52</td>\n",
       "      <td>208</td>\n",
       "    </tr>\n",
       "    <tr>\n",
       "      <th>1950-1959</th>\n",
       "      <td>132</td>\n",
       "      <td>63</td>\n",
       "      <td>195</td>\n",
       "    </tr>\n",
       "    <tr>\n",
       "      <th>1960-1969</th>\n",
       "      <td>106</td>\n",
       "      <td>48</td>\n",
       "      <td>154</td>\n",
       "    </tr>\n",
       "    <tr>\n",
       "      <th>1970-1979</th>\n",
       "      <td>54</td>\n",
       "      <td>46</td>\n",
       "      <td>100</td>\n",
       "    </tr>\n",
       "    <tr>\n",
       "      <th>1980-1989</th>\n",
       "      <td>38</td>\n",
       "      <td>21</td>\n",
       "      <td>59</td>\n",
       "    </tr>\n",
       "  </tbody>\n",
       "</table>\n",
       "</div>"
      ],
      "text/plain": [
       "           gen_m  gen_f  tot\n",
       "per_10                      \n",
       "1940-1949    156     52  208\n",
       "1950-1959    132     63  195\n",
       "1960-1969    106     48  154\n",
       "1970-1979     54     46  100\n",
       "1980-1989     38     21   59"
      ]
     },
     "execution_count": 49,
     "metadata": {},
     "output_type": "execute_result"
    }
   ],
   "source": [
    "### On transforme le type de valeur de l'index\n",
    "# et on ajoute une colonne avec le total\n",
    "merged_10.index = merged_10.index.map(str)\n",
    "merged_10['tot']=merged_10['gen_m']+merged_10['gen_f']\n",
    "merged_10.tail()"
   ]
  },
  {
   "cell_type": "code",
   "execution_count": 50,
   "id": "5569f274-e09d-4be4-a3bc-352f99d58997",
   "metadata": {},
   "outputs": [
    {
     "data": {
      "text/plain": [
       "[1.0, 0.97, 0.93]"
      ]
     },
     "execution_count": 50,
     "metadata": {},
     "output_type": "execute_result"
    }
   ],
   "source": [
    "### On prépare les valeurs pour l'affichage des fréquences (proportion par rapport au total)\n",
    "\n",
    "# liste qui contient toutes les valeurs à la suite\n",
    "m_f = merged_10.gen_m.to_list()+merged_10.gen_f.to_list()\n",
    "\n",
    "# liste d'égale longueur que la précédente qui contient \n",
    "# les valeurs de l'index, i.e. les périodes\n",
    "tot = merged_10.tot.to_list()*2\n",
    "\n",
    "# liste qui contient les valeurs des fréquences\n",
    "lp = [round(v/t, 2) for v,t in zip(m_f, tot)]\n",
    "lp[:3]"
   ]
  },
  {
   "cell_type": "code",
   "execution_count": 51,
   "id": "928a67b9-19f2-44e7-b4eb-7b20b534f73c",
   "metadata": {},
   "outputs": [
    {
     "data": {
      "image/png": "[encoded data removed]",
      "text/plain": [
       "<Figure size 2000x800 with 1 Axes>"
      ]
     },
     "metadata": {},
     "output_type": "display_data"
    }
   ],
   "source": [
    "### Graphique avec la distribution par période et genre (M,F)\n",
    "# Noter que les effectifs du genre 'Autres' étant très faibles,\n",
    "# on ne les analyse pas de manière sérielle mais on peut les analyser qualitatiement\n",
    "\n",
    "ax = merged_10.plot.bar(stacked=True, y=['gen_m', 'gen_f'], \\\n",
    "                        rot=70, fontsize=9, figsize=(20,8), color=['LightSteelBlue', 'LightCoral'])\n",
    "\n",
    "\n",
    "### https://www.pythoncharts.com/matplotlib/stacked-bar-charts-labels/\n",
    "\n",
    "\n",
    "## On ajoute une étiquette concernant la valeur de fréquence\n",
    "# à chaque rectangle dans le graphe, en utilisant la list 'lp' préparée précédemment\n",
    "# Il y a autant de triangles que les valeurs d'index x le nombre de variables\n",
    "\n",
    "for bar,v in zip(ax.patches,lp): \n",
    "\n",
    "    ax.text(\n",
    "      # Met les étiquette aux centre des rectangles\n",
    "      bar.get_x() + bar.get_width() / 2,\n",
    "        \n",
    "      # Ajoute les coordonnées verticales\n",
    "      bar.get_height()/2 + bar.get_y(), \n",
    "      \n",
    "      # Ajoute les valeurs\n",
    "      v,\n",
    "\n",
    "      # centre et met du style aux étiquettes\n",
    "      ha='center',\n",
    "      color='black',\n",
    "      weight='bold',\n",
    "      size=10\n",
    "  )\n",
    "\n",
    "plt.ylabel('Effectif par genre')\n",
    "plt.xlabel('Périodes')\n",
    "plt.title('Naissances par périodes de dix ans, distribution par genre avec fréquences par période')\n",
    "\n",
    "## On peut enregistrer l'image dans un fichier (noter le dossier créé préalablement)\n",
    "# qu'on pourra ensuite introduire dans un travail et commenter\n",
    "\n",
    "# Doc.: https://matplotlib.org/stable/api/_as_gen/matplotlib.pyplot.savefig.html\n",
    "plt.savefig('images/naissances_distribution_10ans_genre.jpg', bbox_inches='tight',\n",
    "                       pad_inches=0.2)\n",
    "plt.show()"
   ]
  },
  {
   "cell_type": "code",
   "execution_count": null,
   "id": "15b278ae-0182-402b-9929-94b79c603f50",
   "metadata": {},
   "outputs": [],
   "source": []
  }
 ],
 "metadata": {
  "kernelspec": {
   "display_name": "py311_data_analysis",
   "language": "python",
   "name": "py311_data_analysis"
  },
  "language_info": {
   "codemirror_mode": {
    "name": "ipython",
    "version": 3
   },
   "file_extension": ".py",
   "mimetype": "text/x-python",
   "name": "python",
   "nbconvert_exporter": "python",
   "pygments_lexer": "ipython3",
   "version": "3.11.7"
  }
 },
 "nbformat": 4,
 "nbformat_minor": 5
}
