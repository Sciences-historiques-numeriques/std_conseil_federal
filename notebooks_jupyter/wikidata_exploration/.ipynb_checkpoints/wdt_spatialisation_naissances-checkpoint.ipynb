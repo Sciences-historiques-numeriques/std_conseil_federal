{
 "cells": [
  {
   "cell_type": "markdown",
   "id": "968f0e36-1667-48db-8fc5-cd38657c388d",
   "metadata": {},
   "source": [
    "# Spatialisation des naissances: analyse des données\n",
    "\n",
    "## Introduction\n",
    "\n",
    "Dans ce carnet nous expérimentons différentes méthodes de spatialisation de l'information:\n",
    "* la projection de points avec diamètre de longueur proportionnelle à l'effectif des objets représentés\n",
    "* la représentation de polygones correspondants aux États contemporains avec gradient de couleur en fonction de l'effectif des individus nés dans cette région: [cartes choroplèthes](https://fr.wikipedia.org/wiki/Carte_choropl%C3%A8the)\n",
    "* un affichage dynamique de l'évolution dans le temps utilisant la librairie [Plotly Express](https://plotly.com/python/plotly-express/)\n",
    "\n",
    "\n",
    "## Remarque importante\n",
    "\n",
    "ATTENTION: ce carnet devient très lourd lorsque les cartes sont affichées. Il est __impératif de vider les résultats__ du carnet _entièrement_ avant d'effectuer un commit. Si le carnet (ou tout autre fichier dans le dépôt) dépasse les 200 MB, le _push_ vers Github sera impossible, et il sera compliqué de revenir en arrière.\n",
    "\n",
    "\n",
    "NB En cas d'erreur si carnet trop de volume trop important on a l'[option décrite sur cette page](https://hkim-dev.github.io/programming/Managing-Large-Files-in-Git-Removing-Files-from-History/).\n",
    "\n",
    " \n",
    "Le mieux, si on travaille seul, est de procéder ainsi:\n",
    "* identifier le commit qui a créé le problème\n",
    "* créer une copie locale dans un autre dossier des fichiers modifiés depuis, dans leur dernière version corrigée et allégée\n",
    "* revenir au commit précédent: cf. [ces instructions](https://www.freecodecamp.org/news/git-reverting-to-previous-commit-how-to-revert-to-last-commit/)\n",
    "* remettre les fichiers modifié dans le dossier tout en veillant à ce qu'il n'y ait aucun fichier de plus de 200 MB et pas de dépòt globalement de plus de 2 GB\n",
    "* refaire un _commit_ et un _push_\n",
    "\n",
    "\n",
    "## Les SIG\n",
    "\n",
    "\n",
    "* L’[information géographique](https://fr.wikipedia.org/wiki/Information_g%C3%A9ographique) (attributs, relations spatiales, géométries)\n",
    "* Les [systèmes d'information géographique](https://fr.wikipedia.org/wiki/Syst%C3%A8me_d%27information_g%C3%A9ographique) ou SIG : formes des géométries (du point à la 3D)\n",
    "* Représentation de la réalité spatiale: géométries et données attributaires\n",
    "   * Exemple: [Corine Land Cover](https://fr.wikipedia.org/wiki/Corine_Land_Cover), base de données européenne d'occupation du sol, financée par la communauté européenne\n"
   ]
  },
  {
   "cell_type": "code",
   "execution_count": 2,
   "id": "262111d8-0efe-4698-9478-996484410989",
   "metadata": {},
   "outputs": [
    {
     "ename": "ModuleNotFoundError",
     "evalue": "No module named 'geodatasets'",
     "output_type": "error",
     "traceback": [
      "\u001b[1;31m---------------------------------------------------------------------------\u001b[0m",
      "\u001b[1;31mModuleNotFoundError\u001b[0m                       Traceback (most recent call last)",
      "Cell \u001b[1;32mIn[2], line 7\u001b[0m\n\u001b[0;32m      5\u001b[0m \u001b[38;5;66;03m#from shapely.geometry import LineString\u001b[39;00m\n\u001b[0;32m      6\u001b[0m \u001b[38;5;28;01mfrom\u001b[39;00m \u001b[38;5;21;01mgeopandas\u001b[39;00m\u001b[38;5;21;01m.\u001b[39;00m\u001b[38;5;21;01mtools\u001b[39;00m \u001b[38;5;28;01mimport\u001b[39;00m sjoin\n\u001b[1;32m----> 7\u001b[0m \u001b[38;5;28;01mfrom\u001b[39;00m \u001b[38;5;21;01mgeodatasets\u001b[39;00m \u001b[38;5;28;01mimport\u001b[39;00m get_path\n\u001b[0;32m      8\u001b[0m \u001b[38;5;66;03m#import networkx as nx\u001b[39;00m\n\u001b[0;32m      9\u001b[0m \u001b[38;5;28;01mimport\u001b[39;00m \u001b[38;5;21;01mmatplotlib\u001b[39;00m\u001b[38;5;21;01m.\u001b[39;00m\u001b[38;5;21;01mpyplot\u001b[39;00m \u001b[38;5;28;01mas\u001b[39;00m \u001b[38;5;21;01mplt\u001b[39;00m\n",
      "\u001b[1;31mModuleNotFoundError\u001b[0m: No module named 'geodatasets'"
     ]
    }
   ],
   "source": [
    "### Noter qu'il faudra avoir installé toutes les librairies nécessaires\n",
    "# dans l'environnement conda utilisé pour exécuter ce carnet\n",
    "import pandas as pd\n",
    "import geopandas as gpd\n",
    "#from shapely.geometry import LineString\n",
    "from geopandas.tools import sjoin\n",
    "from geodatasets import get_path\n",
    "#import networkx as nx\n",
    "import matplotlib.pyplot as plt\n",
    "import plotly.express as px\n",
    "from itables import init_notebook_mode, show\n",
    "import numpy as np\n",
    "#import seaborn as sns\n",
    "import json\n",
    "import IPython"
   ]
  },
  {
   "cell_type": "code",
   "execution_count": null,
   "id": "f4de6a05",
   "metadata": {},
   "outputs": [],
   "source": [
    "### Librairies déjà installées avec Python\n",
    "import pprint\n",
    "import sqlite3 as sql\n",
    "import sys\n",
    "from importlib import reload\n"
   ]
  },
  {
   "cell_type": "markdown",
   "id": "73efbca4-e746-4972-ac9c-81b6c7f73351",
   "metadata": {},
   "source": [
    "## Un premier affichage exploratoire\n",
    "\n",
    "On utilise la librairie GeoPandas qui apporte de nombreuses fonctionnalités SIG\n",
    "\n",
    "\n",
    "[Introduction à GeoPandas](https://geopandas.org/en/stable/getting_started/introduction.html)\n",
    "\n",
    "\n",
    "Noter que les données de Wikidata sont stockées au format [WKT (Well Known Text)](https://en.wikipedia.org/wiki/Well-known_text_representation_of_geometry), par ex. POINT (37.61778 55.75583), et que la librairie GeoPanas va les transformer en géométries (type de valeur Python spécifique)"
   ]
  },
  {
   "cell_type": "code",
   "execution_count": null,
   "id": "9c9e64ca",
   "metadata": {},
   "outputs": [],
   "source": [
    "### Se connecter à la base de données\n",
    "cn = sql.connect('../../data/astronomers_import.db')\n",
    "cn"
   ]
  },
  {
   "cell_type": "code",
   "execution_count": null,
   "id": "644a579b",
   "metadata": {},
   "outputs": [],
   "source": [
    "### Préparer les données à afficher\n",
    "# Il est plus simple d'effecture cette requête en SQL que dans Pandas\n",
    "cur = cn.cursor()\n",
    "l = cur.execute(\"\"\"\n",
    "SELECT placeUri, placeLabel, COUNT(*) eff, MAX(placeCoord) geo_coord\n",
    "FROM wdt_person_birth_place wpbp\n",
    "-- il y a des erreurs dans Wikidata\n",
    "WHERE placeCoord LIKE 'Point(%'\n",
    "GROUP BY placeUri, placeLabel\n",
    "-- exclut les valeurs vides\n",
    "HAVING LENGTH(MAX(placeCoord)) > 7\n",
    "ORDER BY eff DESC\n",
    "\"\"\").fetchall()\n",
    "print(len(l))\n",
    "l[:2]"
   ]
  },
  {
   "cell_type": "code",
   "execution_count": null,
   "id": "2a57e3b2",
   "metadata": {},
   "outputs": [],
   "source": [
    "### Créer un dataframe contenant le résultat\n",
    "df_l = pd.DataFrame(l, columns=['placeUri', 'placeLabel', 'effectif', 'geoCoord'])\n",
    "df_l.head()"
   ]
  },
  {
   "cell_type": "code",
   "execution_count": null,
   "id": "ca3c26ff",
   "metadata": {},
   "outputs": [],
   "source": [
    "### Tester la fonction qui exécute la conversion en géométrie\n",
    "# Cf. excursus concernant le nettoyage ci-dessous\n",
    "s = gpd.GeoSeries.from_wkt(df_l.geoCoord[:5])\n",
    "s"
   ]
  },
  {
   "cell_type": "code",
   "execution_count": null,
   "id": "6068754d",
   "metadata": {},
   "outputs": [],
   "source": [
    "### Créer un dataframe geopandas avec une colonne contenant une géométrie \n",
    "# https://geopandas.org/en/stable/gallery/create_geopandas_from_pandas.html\n",
    "birth_gdf = gpd.GeoDataFrame(\n",
    "    df_l[['placeUri', 'placeLabel', 'effectif']],\\\n",
    "    geometry=gpd.GeoSeries.from_wkt(df_l.geoCoord.to_list()), crs=\"EPSG:4326\"\n",
    ")\n",
    "\n",
    "# On dispose ainsi du DataFrame GeoPandas avec la colonne indispensable 'geometry'\n",
    "birth_gdf.head(3)"
   ]
  },
  {
   "cell_type": "markdown",
   "id": "e6280143",
   "metadata": {},
   "source": [
    "### Excursus concernant le nettoyage des données\n",
    "\n",
    "Les fonctions de conversion entre Well Known Text (WKT) et géométries ne marchent que si les données sont propres et conformes.\n",
    "\n",
    "\n",
    "Il y a donc tout un travail de nettoyage à effectuer sur les données de wikidata.\n",
    "* Avec les stratégies qui suivent on a identifé les lignes erronées, puis on les a exclues en amont dans la requête SQL de départ.\n",
    "* On aurait pu aussi passer un peu de temps pour nettoyer les données mais, vu l'approche heuristique, on a renoncé dans ce cas"
   ]
  },
  {
   "cell_type": "code",
   "execution_count": null,
   "id": "723894b8",
   "metadata": {},
   "outputs": [],
   "source": [
    "### Avec cette stratégie, on peu inspecter les lignes qui posent problème\n",
    "rl = []\n",
    "i = 0\n",
    "for e in df_l.geoCoord.to_list():\n",
    "    try:\n",
    "        a = gpd.GeoSeries.from_wkt([e])\n",
    "    except Exception as e:\n",
    "        print(i, e)\n",
    "        print(df_l.iloc[i])\n",
    "    rl.append(a)\n",
    "    i += 1\n",
    "#rl[:5]\n"
   ]
  },
  {
   "cell_type": "code",
   "execution_count": null,
   "id": "9ae59650",
   "metadata": {},
   "outputs": [],
   "source": [
    "### Avec stratégie on crée une fonction pour attribuer un code,\n",
    "# ici le 999, aux lignes qui posent problème\n",
    "def coord_split(c, i):\n",
    "    try:\n",
    "        a = round(float((c.split(' ')[i])), 4)\n",
    "    except Exception as e:\n",
    "        a = 999\n",
    "    finally:\n",
    "        pass\n",
    "    #a = 999 \n",
    "    return a       "
   ]
  },
  {
   "cell_type": "code",
   "execution_count": null,
   "id": "8d8d5607",
   "metadata": {},
   "outputs": [],
   "source": [
    "### On applique ici la fonction\n",
    "\n",
    "# ATTENTION : on illustre ici une stratégie dont\n",
    "# on n'a pas besoin si les données sont propres en amont\n",
    "\n",
    "df_l['longitudeBirth'] = df_l['geoCoord'].apply(lambda x: coord_split(x, 0))\n",
    "df_l['latitudeBirth'] = df_l['geoCoord'].apply(lambda x : coord_split(x, 1))\n",
    "\n",
    "## On cherche ensuite les lignes qui posent problème\n",
    "df_l[df_l.longitudeBirth==999].sort_values(by='effectif', ascending=False)"
   ]
  },
  {
   "cell_type": "markdown",
   "id": "3b4463a8",
   "metadata": {},
   "source": [
    "## Réalisation de la première carte"
   ]
  },
  {
   "cell_type": "code",
   "execution_count": null,
   "id": "6425507d",
   "metadata": {},
   "outputs": [],
   "source": [
    "### Inspection des données à afficher\n",
    "birth_gdf.info()"
   ]
  },
  {
   "cell_type": "code",
   "execution_count": null,
   "id": "b6ffe84f-9010-4db4-8f0d-e1ce642f0775",
   "metadata": {},
   "outputs": [],
   "source": [
    "### Datasets Geopandas pour la couche de base\n",
    "gpd.datasets.available"
   ]
  },
  {
   "cell_type": "markdown",
   "id": "3a9f7685-fdd4-4f75-a8ff-9ee276fc7360",
   "metadata": {},
   "source": [
    "FutureWarning:\n",
    "\n",
    "The geopandas.dataset module is deprecated and will be removed in GeoPandas 1.0. You can get the original 'naturalearth_lowres' data from https://www.naturalearthdata.com/downloads/110m-cultural-vectors/."
   ]
  },
  {
   "cell_type": "code",
   "execution_count": null,
   "id": "ee464461-3c3f-408e-bf27-691f15559f13",
   "metadata": {},
   "outputs": [],
   "source": [
    "### Récupérer la carte de base, qui est aussi un DataFrame GeoPandas\n",
    "world_filepath = gpd.datasets.get_path('naturalearth_lowres')\n",
    "world = gpd.read_file(world_filepath)\n",
    "world.head()"
   ]
  },
  {
   "cell_type": "markdown",
   "id": "9dc38f34",
   "metadata": {},
   "source": [
    "### La question du géoréférencement des géométries\n",
    "\n",
    "* Le [géoide](https://fr.wikipedia.org/wiki/G%C3%A9o%C3%AFde#%C3%80_quoi_sert_un_g%C3%A9o%C3%AFde_?)\n",
    "* Le [système géodésique](https://fr.wikipedia.org/wiki/Syst%C3%A8me_g%C3%A9od%C3%A9sique)\n",
    "* Le [système géodésique mondial WGS 84](https://fr.wikipedia.org/wiki/WGS_84)"
   ]
  },
  {
   "cell_type": "code",
   "execution_count": null,
   "id": "6ecce92a",
   "metadata": {},
   "outputs": [],
   "source": [
    "### Types de géométries\n",
    "pprint.pp(world.crs)\n",
    "print('-------\\n')\n",
    "pprint.pp(birth_gdf.crs)\n",
    "\n"
   ]
  },
  {
   "cell_type": "code",
   "execution_count": null,
   "id": "7b01ad01-8120-4324-b691-426b2642787e",
   "metadata": {},
   "outputs": [],
   "source": [
    "### Cartographier de toutes les naissances de personnes\n",
    "# projection géographique\n",
    "\n",
    "ax = world.plot(color=\"white\", edgecolor=\"black\", figsize=(15,10))\n",
    "\n",
    "#ax.set_xlim([-0.1, 2])\n",
    "ax.set_ylim([-60, 90])\n",
    "\n",
    "# Noter que le diamètre du marqueur est fixe\n",
    "birth_gdf.plot(ax=ax, color=\"red\", markersize=0.5)\n",
    "\n",
    "plt.show()"
   ]
  },
  {
   "cell_type": "code",
   "execution_count": null,
   "id": "9f546594",
   "metadata": {},
   "outputs": [],
   "source": [
    "### Focus sur l'Europe à partir de la même carte\n",
    "# On restreint les degrés longitude, latitude\n",
    "\n",
    "ax = world.plot(color=\"white\", edgecolor=\"black\", figsize=(15,10))\n",
    "\n",
    "# lon\n",
    "ax.set_xlim([-10, 50])\n",
    "# lat\n",
    "ax.set_ylim([25, 75])\n",
    "\n",
    "# Noter que le diamètre du marqueur est proportionnel aux effectifs du lieu\n",
    "birth_gdf.plot(ax=ax, color=\"red\", markersize=birth_gdf.effectif)\n",
    "\n",
    "plt.show()"
   ]
  },
  {
   "cell_type": "code",
   "execution_count": null,
   "id": "047c3848",
   "metadata": {},
   "outputs": [],
   "source": [
    "### Transformation de la géographie\n",
    "# vers une géométrie projetée: Web Mercator (EPSG 3857)\n",
    "# Google Maps Global Mercator (EPGS 900913)\n",
    "\n",
    "## Démarche effectuée à titre illustratif ici:\n",
    "# indispensable si on utilise des données spatiales nationales \n",
    "# qui sont dans des coordonnées et projections spatiales propres \n",
    "\n",
    "\n",
    "\n",
    "### https://en.wikipedia.org/wiki/Web_Mercator_projection \n",
    "\n",
    "prj_world = world.copy(deep=True)\n",
    "prj_world.geometry = prj_world.geometry.to_crs(900913)\n",
    "pprint.pp(prj_world.crs)\n",
    "print('------')\n",
    "prj_birth_gdf = birth_gdf.copy(deep=True)\n",
    "prj_birth_gdf.geometry = prj_birth_gdf.geometry.to_crs(900913)\n",
    "pprint.pp(prj_birth_gdf.crs)"
   ]
  },
  {
   "cell_type": "code",
   "execution_count": null,
   "id": "5b12ef92",
   "metadata": {},
   "outputs": [],
   "source": [
    "### Cartographier toutes les naissances de personnes\n",
    "# avec deux systèmes de projection différents:\n",
    "# géographique à gauche, Global Mercator à droite\n",
    "\n",
    "fig, axes = plt.subplots(nrows=1, ncols=2, figsize=(30,20))\n",
    "\n",
    "ax1 = world.plot(color=\"white\", ax=axes[0], edgecolor=\"black\")\n",
    "#ax.set_xlim([-0.1, 2])\n",
    "ax1.set_ylim([-60, 90])\n",
    "\n",
    "birth_gdf.plot(ax=axes[0], color=\"red\", markersize=2)\n",
    "\n",
    "ax2 = prj_world.plot(color=\"white\", ax=axes[1], edgecolor=\"black\")\n",
    "#ax.set_xlim([-0.1, 2])\n",
    "ax2.set_ylim([-8.5*10e5, 1.5*10e6])\n",
    "\n",
    "prj_birth_gdf.plot(ax=axes[1], color=\"red\", markersize=2)\n",
    "\n",
    "plt.show()"
   ]
  },
  {
   "cell_type": "markdown",
   "id": "7818272a",
   "metadata": {},
   "source": [
    "## Affichage dynamique en relation avec les périodes\n",
    "\n",
    "\n",
    "On teste ici un affichage dynamique avec la librairie Plotly express"
   ]
  },
  {
   "cell_type": "code",
   "execution_count": null,
   "id": "48c12a31",
   "metadata": {},
   "outputs": [],
   "source": [
    "### Préparer les données à afficher:\n",
    "# on ne les regroupe pas encore afin de coder les périodes\n",
    "cur = cn.cursor()\n",
    "l = cur.execute(\"\"\"\n",
    "SELECT birthYear,placeUri, placeLabel, placeCoord AS geo_coord\n",
    "FROM wdt_person_birth_place wpbp\n",
    "-- il y a des erreurs dans Wikidata\n",
    "WHERE placeCoord LIKE 'Point(%'\n",
    "\"\"\").fetchall()\n",
    "\n",
    "df_all = pd.DataFrame(l, columns=['birthYear','placeUri', 'placeLabel', 'geo_coord'])\n",
    "print(len(df_all))\n",
    "df_all.head()"
   ]
  },
  {
   "cell_type": "markdown",
   "id": "566fe074",
   "metadata": {},
   "source": [
    "### Coder les données avec les périodes"
   ]
  },
  {
   "cell_type": "code",
   "execution_count": null,
   "id": "de9e2b54",
   "metadata": {},
   "outputs": [],
   "source": [
    "### Préparer la liste des périodes\n",
    "l1 = [1351,1451,1551,1651,1701,1751]\n",
    "l2 = list(range(1801, 2002, 25))\n",
    "l_p = l1 + l2\n",
    "print(l_p)"
   ]
  },
  {
   "cell_type": "code",
   "execution_count": null,
   "id": "7ab1e8f2",
   "metadata": {},
   "outputs": [],
   "source": [
    "### fonction pd.cut : https://pandas.pydata.org/pandas-docs/stable/reference/api/pandas.cut.html\n",
    "# On ajoute une nouvelle colonne qui contient la période sur la base de la liste précédente\n",
    "# et de la valeur de l'année\n",
    "\n",
    "df_all['birthYear'] = df_all['birthYear'].astype(int)\n",
    "df_all['generations'] = pd.cut(df_all['birthYear'], l_p, right=False)\n",
    "\n",
    "### Transformer le code ajouté pour qu'il soit plus lisible\n",
    "# noter qu'on a arrondi les valeurs\n",
    "df_all['generations'] = df_all['generations'].apply(lambda x : str(int(x.left))+'-'+ str(int(x.right)-1))\n",
    "\n",
    "# Inspection\n",
    "df_all.head(3)"
   ]
  },
  {
   "cell_type": "code",
   "execution_count": null,
   "id": "fd97af51",
   "metadata": {},
   "outputs": [],
   "source": [
    "ax = df_all.groupby(by='generations', observed=True).size().plot(kind='bar',\n",
    "                                            rot=60, fontsize=9, figsize=(8,7))\n",
    "ax.bar_label(ax.containers[0], fontsize=9)\n",
    "plt.ylabel('Effectif')\n",
    "plt.xlabel('Périodes')\n",
    "plt.title('Naissances par générations')\n",
    "plt.show()"
   ]
  },
  {
   "cell_type": "code",
   "execution_count": null,
   "id": "fe2746b9",
   "metadata": {},
   "outputs": [],
   "source": [
    "### Créer une nouvelle table contenant le DataFrame\n",
    "# Si on tente de la recréer, alor qu'elle existe déjà,\n",
    "# un message d'erreur est renvoyé\n",
    "try:\n",
    "    l = df_all[['generations', 'placeUri', 'placeLabel', 'geo_coord']]\\\n",
    "             .to_sql(name='wdt_generations_birth_place', con=cn, if_exists='fail')\n",
    "except Exception as e:\n",
    "    print('Erreur: ',  e)"
   ]
  },
  {
   "cell_type": "markdown",
   "id": "8852be26",
   "metadata": {},
   "source": [
    "### Grouper et compter\n",
    "\n",
    "On passe par la base de données parce que c'est plus simple qu'utiliser directement Pandas.\n",
    "\n",
    "\n",
    "Noter que désormais ce sont les naissances (regroupées en périodes), et leur effectif, qui sont la variable étudiée \n"
   ]
  },
  {
   "cell_type": "code",
   "execution_count": null,
   "id": "492bab20",
   "metadata": {},
   "outputs": [],
   "source": [
    "q1 = \"\"\"\n",
    "SELECT generations, placeLabel, geo_coord, COUNT(*) as effectif\n",
    "FROM wdt_generations_birth_place wgbp\n",
    "GROUP BY generations, placeUri, placeLabel, geo_coord\n",
    "\"\"\"\n",
    "### Préparer les données à afficher\n",
    "cur = cn.cursor()\n",
    "l = cur.execute(q1).fetchall()\n",
    "print(len(l))\n",
    "l[:2]"
   ]
  },
  {
   "cell_type": "code",
   "execution_count": null,
   "id": "5e2a4127",
   "metadata": {},
   "outputs": [],
   "source": [
    "### Préparation des données à afficher dans Plotly Express\n",
    "# ici on utilisé les coordonnées géographiques\n",
    "df_gen_gr = pd.DataFrame(l, columns=['periode', 'lieu', 'geo_coord', 'eff'])\n",
    "df_gen_gr.geo_coord = df_gen_gr.geo_coord.apply(lambda x: x.replace('Point(', '')\\\n",
    "                                .replace(')',''))\n",
    "df_gen_gr['long'] = df_gen_gr.geo_coord\\\n",
    "    .apply(lambda x: round(float((x.split(' ')[0])), 4))\n",
    "df_gen_gr['lat'] = df_gen_gr.geo_coord\\\n",
    "    .apply(lambda x: round(float((x.split(' ')[1])), 4))\n",
    "\n",
    "df_gen_gr.head()"
   ]
  },
  {
   "cell_type": "code",
   "execution_count": null,
   "id": "ed8bd4fc",
   "metadata": {},
   "outputs": [],
   "source": [
    "### Création de la carte interactive\n",
    "# https://plotly.com/python/animations/\n",
    "# https://plotly.com/python/scatter-plots-on-maps/\n",
    "\n",
    "# np.log(s) * 1000\n",
    "size = [s if s != 0 else 0 for s in df_gen_gr.eff]\n",
    "\n",
    "fig = px.scatter_geo(\n",
    "    df_gen_gr,\n",
    "    lat=\"lat\",\n",
    "    lon=\"long\",\n",
    "    size=size,\n",
    "    hover_name = \"lieu\",\n",
    "    animation_frame=\"periode\",\n",
    "    width=1400, height=600,\n",
    "    color_discrete_sequence=['red'],\n",
    "    title=\"Evolution des lieux de naissance\"\n",
    ").update_layout(\n",
    "        margin={\"l\": 0, \"r\": 20, \"t\": 30, \"b\": 0}\n",
    ")\n",
    "\n",
    "# On peut ici augmenter la durée des étapes\n",
    "fig.layout.updatemenus[0].buttons[0].args[1][\"frame\"][\"duration\"] = 1500\n",
    "\n",
    "### Noter qu'on enregistre l'image afin de pouvoir l'ouvrir dans un navigateur\n",
    "# et l'inspecter sans exécuter le code Python du carnet\n",
    "f_address = \"images/birth_places_points.html\"\n",
    "fig.write_html(f_address)\n",
    "fig.show()"
   ]
  },
  {
   "cell_type": "markdown",
   "id": "06ba693b-b20d-46cf-8474-7f6f09c455d6",
   "metadata": {},
   "source": [
    "## Grouper et compter les naissances par État contemporain"
   ]
  },
  {
   "cell_type": "code",
   "execution_count": null,
   "id": "08131ab9-18b5-4221-b630-9087549e28e5",
   "metadata": {},
   "outputs": [],
   "source": [
    "### Polygones des États contemporains\n",
    "print(len(world))\n",
    "world.head()"
   ]
  },
  {
   "cell_type": "code",
   "execution_count": null,
   "id": "58c2193a",
   "metadata": {},
   "outputs": [],
   "source": [
    "world_s = world[['name','geometry']].copy(deep=True)\n",
    "world_s"
   ]
  },
  {
   "cell_type": "code",
   "execution_count": null,
   "id": "fc3d58fa",
   "metadata": {},
   "outputs": [],
   "source": [
    "### Transformer les coordonnées géogr. en points\n",
    "df_gen_gr_gdf = gpd.GeoDataFrame(\n",
    "    df_gen_gr[['periode', 'lieu', 'eff']],\\\n",
    "    geometry=gpd.points_from_xy(df_gen_gr.long, df_gen_gr.lat), crs=\"EPSG:4326\"\n",
    ")\n",
    "\n",
    "df_gen_gr_gdf.head(3)\n"
   ]
  },
  {
   "cell_type": "code",
   "execution_count": null,
   "id": "187f3098",
   "metadata": {},
   "outputs": [],
   "source": [
    "### Vérification\n",
    "df_gen_gr_gdf.loc[df_gen_gr_gdf['lieu']=='Neuchâtel']"
   ]
  },
  {
   "cell_type": "markdown",
   "id": "438ca6f9",
   "metadata": {},
   "source": [
    "### Préparation de la fonction qui va créer les données à afficher"
   ]
  },
  {
   "cell_type": "code",
   "execution_count": null,
   "id": "eff5db8a",
   "metadata": {},
   "outputs": [],
   "source": [
    "\n",
    "# https://geopandas.org/en/stable/docs/reference/api/geopandas.sjoin.html\n",
    "# https://stackoverflow.com/questions/69644523/count-points-in-polygon-and-write-result-to-geodataframe\n",
    "\n",
    "\n",
    "dfa = world_s.copy(deep=True)\n",
    "dfb = df_gen_gr_gdf[df_gen_gr_gdf.periode == '1701-1750']\n",
    "\n",
    "### jointure spatiale\n",
    "dfc =  gpd.sjoin(dfb, dfa).groupby(\"name\").sum(numeric_only=True)\n",
    "dfa = dfa.join(dfc, on='name', how=\"left\")\n",
    "dfa.eff.fillna(value=0, inplace=True)\n",
    "dfa['eff'] = dfa['eff'].astype(int)\n",
    "\n",
    "dfa = dfa.assign(periode = '1701-1750')\n",
    "\n",
    "dfa[dfa.eff > 0].sort_values(by='eff', ascending=False).head()\n",
    "\n"
   ]
  },
  {
   "cell_type": "code",
   "execution_count": null,
   "id": "b8e6aeea",
   "metadata": {},
   "outputs": [],
   "source": [
    "### Transformer en json pour afficher dans Plotly Express\n",
    "countries_polygons = dfa[['name', 'geometry']]\n",
    "countries_polygons.index = countries_polygons['name']\n",
    "countries_polygons = countries_polygons.drop(['name'], axis=1)\n",
    "countries_polygons_json = json.loads(countries_polygons.to_json())"
   ]
  },
  {
   "cell_type": "code",
   "execution_count": null,
   "id": "c0311686",
   "metadata": {},
   "outputs": [],
   "source": [
    "### Représenter la densité de naissances de mathématiciens par pays\n",
    "# uniteuemnt pour une période données\n",
    "# https://plotly.com/python/animations/\n",
    "# https://plotly.com/python-api-reference/generated/plotly.express.choropleth_mapbox.html\n",
    "# https://medium.com/@lucas_bromerchenkel/choropleth-maps-with-time-sliders-using-plotly-df6e19e5f90c\n",
    "\n",
    "# np.log(s) * 1000\n",
    "size = [s if s != 0 else 0 for s in dfa.eff]\n",
    "\n",
    "fig = px.choropleth_mapbox(\n",
    "    dfa,\n",
    "    geojson=countries_polygons_json,\n",
    "    locations=\"name\",\n",
    "    color=\"eff\",\n",
    "    mapbox_style='white-bg',\n",
    "    zoom=1,\n",
    "    color_continuous_scale='blues',\n",
    "    ### valeur 20 définie en fonction de la distribution par pays\n",
    "    # expérimenter en changeant la valeur\n",
    "    range_color=(1, 20),\n",
    "    width=1000, height=600,\n",
    "    title=\"Evolution des lieux de naissance\"\n",
    ")\n",
    "\n",
    "\n",
    "fig.show()"
   ]
  },
  {
   "cell_type": "code",
   "execution_count": null,
   "id": "a7fbcc22-17a3-4a13-80f0-e7cfc004a6b2",
   "metadata": {},
   "outputs": [],
   "source": [
    "### Créer la liste des périodes\n",
    "lp = df_gen_gr.groupby(by='periode').size().index.to_list()\n",
    "lp"
   ]
  },
  {
   "cell_type": "code",
   "execution_count": null,
   "id": "f7835e25",
   "metadata": {},
   "outputs": [],
   "source": [
    "### Préparer les données, un DataFrame avec jointure spatiale\n",
    "# par période \n",
    "frames=[]\n",
    "for e in lp:\n",
    "    \n",
    "    dfa = world_s.copy(deep=True)\n",
    "    dfb = df_gen_gr_gdf[df_gen_gr_gdf.periode == e]\n",
    "    \n",
    "    ### jointure spatiale\n",
    "    dfc =  gpd.sjoin(dfb, dfa).groupby(\"name\").sum(numeric_only=True)\n",
    "    dfa = dfa.join(dfc, on='name', how=\"left\")\n",
    "    dfa.eff.fillna(value=0, inplace=True)\n",
    "    dfa['eff'] = dfa['eff'].astype(int)\n",
    "\n",
    "    dfa = dfa.assign(periode = e)\n",
    "\n",
    "    frames.append(dfa)\n",
    "\n",
    "\n",
    "### Concaténation des DataFrames\n",
    "df_result = pd.concat(frames)\n",
    "df_result=df_result.reset_index()\n",
    "df_result.tail()\n"
   ]
  },
  {
   "cell_type": "code",
   "execution_count": null,
   "id": "cd92b894",
   "metadata": {},
   "outputs": [],
   "source": [
    "### inspection des données pour un pays\n",
    "df_result[df_result.name=='France']"
   ]
  },
  {
   "cell_type": "code",
   "execution_count": null,
   "id": "aeb52962-d88c-4719-886f-7b2ae1302a67",
   "metadata": {},
   "outputs": [],
   "source": [
    "### Transformer en json pour affichage dans Plotly\n",
    "countries_polygons = df_result[['name', 'geometry']]\n",
    "countries_polygons.index = countries_polygons['name']\n",
    "countries_polygons = countries_polygons.drop(['name'], axis=1)\n",
    "countries_polygons_json = json.loads(countries_polygons.to_json())"
   ]
  },
  {
   "cell_type": "code",
   "execution_count": null,
   "id": "228494dc-3566-4e35-88d2-8940cb585ded",
   "metadata": {
    "tags": []
   },
   "outputs": [],
   "source": [
    "### Représenter la densité de naissances de mathématiciens par pays\n",
    "# carte interactive.\n",
    "# Noter que l'exécution peutprendre quelques minutes\n",
    "\n",
    "# https://plotly.com/python/animations/\n",
    "# https://plotly.com/python-api-reference/generated/plotly.express.choropleth_mapbox.html\n",
    "# https://medium.com/@lucas_bromerchenkel/choropleth-maps-with-time-sliders-using-plotly-df6e19e5f90c\n",
    "\n",
    "# np.log(s) * 1000\n",
    "size = [s if s != 0 else 0 for s in df_result.eff]\n",
    "\n",
    "fig = px.choropleth_mapbox(\n",
    "    df_result,\n",
    "    geojson=countries_polygons_json,\n",
    "    locations=\"name\",\n",
    "    color=\"eff\",\n",
    "    mapbox_style='white-bg',\n",
    "    zoom=1,\n",
    "    color_continuous_scale='blues',\n",
    "    ### valeur 20 définie en fonction de la distribution par pays\n",
    "    # expérimenter en changeant la valeur\n",
    "    range_color=(1, 200),\n",
    "    animation_frame=\"periode\",\n",
    "    width=1000, height=600,\n",
    "    title=\"Evolution des lieux de naissance\"\n",
    ").update_layout(\n",
    "    #mapbox={\"style\": \"carto-positron\", \"zoom\":10},\n",
    "    margin={\"l\": 0, \"r\": 0, \"t\": 30, \"b\": 0}\n",
    ")\n",
    "\n",
    "fig.layout.updatemenus[0].buttons[0].args[1][\"frame\"][\"duration\"] = 1000\n",
    "\n",
    "### Noter qu'on enregistre l'image afin de pouvoir l'ouvrir dans un navigateur\n",
    "# et l'inspecter sans exécuter le code Python du carnet\n",
    "f_address = \"images/birth_places_choropleth.html\"\n",
    "fig.write_html(f_address)\n",
    "\n",
    "fig.show()"
   ]
  },
  {
   "cell_type": "code",
   "execution_count": null,
   "id": "c024d816",
   "metadata": {},
   "outputs": [],
   "source": []
  }
 ],
 "metadata": {
  "kernelspec": {
   "display_name": "py311_data_analysis",
   "language": "python",
   "name": "py311_data_analysis"
  },
  "language_info": {
   "codemirror_mode": {
    "name": "ipython",
    "version": 3
   },
   "file_extension": ".py",
   "mimetype": "text/x-python",
   "name": "python",
   "nbconvert_exporter": "python",
   "pygments_lexer": "ipython3",
   "version": "3.11.7"
  }
 },
 "nbformat": 4,
 "nbformat_minor": 5
}
