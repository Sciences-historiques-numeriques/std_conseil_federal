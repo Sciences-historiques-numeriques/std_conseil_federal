{
 "cells": [
  {
   "cell_type": "raw",
   "id": "43e9af3f-351b-431d-ac9f-f42fccc9ac76",
   "metadata": {},
   "source": []
  },
  {
   "cell_type": "markdown",
   "id": "9150426b-5190-4539-8204-61253a0f1bd4",
   "metadata": {},
   "source": [
    "# Analyse des partis et leur évolution dans le temps \n",
    "\n",
    "Dans ce carnet est proposée...\n",
    "\n",
    "On met aussi en évidence l'évolution dans le temps ..."
   ]
  },
  {
   "cell_type": "code",
   "execution_count": 5,
   "id": "f23df1c9-31db-4601-800e-cb621b867b39",
   "metadata": {
    "tags": []
   },
   "outputs": [],
   "source": [
    "### Librairie à installer dans l'environnement conda\n",
    "# qui sera choisi pour exécuter le carnet\n",
    "from SPARQLWrapper import SPARQLWrapper, SPARQLWrapper2, JSON, TURTLE, XML, RDFXML"
   ]
  },
  {
   "cell_type": "code",
   "execution_count": 6,
   "id": "f2085427-bf14-40c6-8939-b74d38f31d16",
   "metadata": {
    "tags": []
   },
   "outputs": [],
   "source": [
    "import pandas as pd\n",
    "import matplotlib.pyplot as plt\n",
    "import numpy as np"
   ]
  },
  {
   "cell_type": "code",
   "execution_count": 7,
   "id": "e6ce0f0e-db36-47cd-8015-a5bf33f0f7fa",
   "metadata": {
    "tags": []
   },
   "outputs": [],
   "source": [
    "### Librairies déjà installées avec Python\n",
    "import pprint\n",
    "import csv\n",
    "import sys\n",
    "\n",
    "import sqlite3 as sql\n",
    "\n",
    "import time\n",
    "import datetime\n",
    "from dateutil import parser\n",
    "\n",
    "from importlib import reload\n",
    "from shutil import copyfile\n"
   ]
  },
  {
   "cell_type": "code",
   "execution_count": 8,
   "id": "9b90838d-2160-49e3-8adb-a67ff2cd112e",
   "metadata": {},
   "outputs": [],
   "source": [
    "### Importer un module de fonctions crées ad hoc\n",
    "##  ATTENTION : le fichier 'sparql_functions.py' doit se trouver \n",
    "#   dans un dossier qui se situe dans le chemin ('path') de recherche\n",
    "#   vu par le présent carnet Jupyter afin que\n",
    "#   l'importation fonctionne correctement\n",
    "\n",
    "# Add parent directory to the path\n",
    "sys.path.insert(0, '..')\n",
    "\n",
    "### If you want to add the parent-parent directory,\n",
    "sys.path.insert(0, '../..')\n",
    "\n",
    "\n",
    "import sparql_functions as spqf"
   ]
  },
  {
   "cell_type": "markdown",
   "id": "3fe8665b-f64c-42bb-8786-4aee3673867c",
   "metadata": {},
   "source": [
    "## SPARQL Query qui récupère les données\n",
    "\n",
    "On exécute la requête grâce à une fonction de la librairie locale qui réalise la mise en forme"
   ]
  },
  {
   "cell_type": "code",
   "execution_count": 9,
   "id": "cf08874b-9ba0-4f5c-8eee-aebd9f0d0d26",
   "metadata": {},
   "outputs": [],
   "source": [
    "## define SPARQL enpoint\n",
    "endpoint = \"https://query.wikidata.org/sparql\""
   ]
  },
  {
   "cell_type": "code",
   "execution_count": 10,
   "id": "164e80e8-1834-473a-a605-a3c1a660eff3",
   "metadata": {},
   "outputs": [],
   "source": [
    "query = \"\"\"\n",
    "SELECT DISTINCT ?item ?itemLabel ?parti ?partiLabel\n",
    "        WHERE {\n",
    "            { \n",
    "          {?item wdt:P39 wd:Q18510612} #p39 position held et Q18510612 pour conseil national\n",
    "            UNION\n",
    "            {?item wdt:P17 wd:Q39} # p17 country et Q39 switzerland, cet UNION permet de restreindre les résultats uniquement à la Suisse\n",
    "              }\n",
    "          \n",
    "?item wdt:P31 wd:Q5;  # Any instance of a human.\n",
    "     wdt:P569 ?birthDate;\n",
    "     wdt:P102 ?parti.\n",
    "          \n",
    "        BIND(REPLACE(str(?birthDate), \"(.*)([0-9]{4})(.*)\", \"$2\") AS ?year)\n",
    "        FILTER(xsd:integer(?year) > 1900 )\n",
    "          \n",
    "          SERVICE wikibase:label { bd:serviceParam wikibase:language \"en\" }\n",
    "        } \n",
    "     ORDER BY ?year\n",
    "\"\"\""
   ]
  },
  {
   "cell_type": "code",
   "execution_count": 11,
   "id": "70f2370f-e287-404f-ba7b-aaf79021047e",
   "metadata": {},
   "outputs": [],
   "source": [
    "### Executer la requête avec les fonctions de la librairie locale\n",
    "qr = spqf.get_json_sparql_result(endpoint,query)"
   ]
  },
  {
   "cell_type": "code",
   "execution_count": 12,
   "id": "21bfd9f5-4c63-4b8c-af10-f9ddec203db2",
   "metadata": {},
   "outputs": [
    {
     "name": "stdout",
     "output_type": "stream",
     "text": [
      "1146\n"
     ]
    },
    {
     "data": {
      "text/plain": [
       "[['http://www.wikidata.org/entity/Q2501257',\n",
       "  'Urs Dietschi',\n",
       "  'http://www.wikidata.org/entity/Q13850128',\n",
       "  'Free Democratic Party of Switzerland'],\n",
       " ['http://www.wikidata.org/entity/Q62007471',\n",
       "  'Riccardo Rossi',\n",
       "  'http://www.wikidata.org/entity/Q659461',\n",
       "  \"Christian Democratic People's Party\"],\n",
       " ['http://www.wikidata.org/entity/Q1447990',\n",
       "  'Franz Landolt',\n",
       "  'http://www.wikidata.org/entity/Q303745',\n",
       "  'Social Democratic Party of Switzerland']]"
      ]
     },
     "execution_count": 12,
     "metadata": {},
     "output_type": "execute_result"
    }
   ],
   "source": [
    "r = [l for l in spqf.sparql_result_to_list(qr)]\n",
    "print(len(r))\n",
    "r[:3]"
   ]
  },
  {
   "cell_type": "code",
   "execution_count": 13,
   "id": "236bbba5-a4df-4a7b-b215-44c9bc3f355f",
   "metadata": {},
   "outputs": [
    {
     "data": {
      "text/html": [
       "<div>\n",
       "<style scoped>\n",
       "    .dataframe tbody tr th:only-of-type {\n",
       "        vertical-align: middle;\n",
       "    }\n",
       "\n",
       "    .dataframe tbody tr th {\n",
       "        vertical-align: top;\n",
       "    }\n",
       "\n",
       "    .dataframe thead th {\n",
       "        text-align: right;\n",
       "    }\n",
       "</style>\n",
       "<table border=\"1\" class=\"dataframe\">\n",
       "  <thead>\n",
       "    <tr style=\"text-align: right;\">\n",
       "      <th></th>\n",
       "      <th>personUri</th>\n",
       "      <th>personLabel</th>\n",
       "      <th>partiUri</th>\n",
       "      <th>partiLabel</th>\n",
       "    </tr>\n",
       "  </thead>\n",
       "  <tbody>\n",
       "    <tr>\n",
       "      <th>0</th>\n",
       "      <td>http://www.wikidata.org/entity/Q2501257</td>\n",
       "      <td>Urs Dietschi</td>\n",
       "      <td>http://www.wikidata.org/entity/Q13850128</td>\n",
       "      <td>Free Democratic Party of Switzerland</td>\n",
       "    </tr>\n",
       "    <tr>\n",
       "      <th>1</th>\n",
       "      <td>http://www.wikidata.org/entity/Q62007471</td>\n",
       "      <td>Riccardo Rossi</td>\n",
       "      <td>http://www.wikidata.org/entity/Q659461</td>\n",
       "      <td>Christian Democratic People's Party</td>\n",
       "    </tr>\n",
       "    <tr>\n",
       "      <th>2</th>\n",
       "      <td>http://www.wikidata.org/entity/Q1447990</td>\n",
       "      <td>Franz Landolt</td>\n",
       "      <td>http://www.wikidata.org/entity/Q303745</td>\n",
       "      <td>Social Democratic Party of Switzerland</td>\n",
       "    </tr>\n",
       "    <tr>\n",
       "      <th>3</th>\n",
       "      <td>http://www.wikidata.org/entity/Q1579473</td>\n",
       "      <td>Hans Fischer</td>\n",
       "      <td>http://www.wikidata.org/entity/Q659461</td>\n",
       "      <td>Christian Democratic People's Party</td>\n",
       "    </tr>\n",
       "    <tr>\n",
       "      <th>4</th>\n",
       "      <td>http://www.wikidata.org/entity/Q120229</td>\n",
       "      <td>Robert Tobler</td>\n",
       "      <td>http://www.wikidata.org/entity/Q672926</td>\n",
       "      <td>National Front</td>\n",
       "    </tr>\n",
       "  </tbody>\n",
       "</table>\n",
       "</div>"
      ],
      "text/plain": [
       "                                  personUri     personLabel  \\\n",
       "0   http://www.wikidata.org/entity/Q2501257    Urs Dietschi   \n",
       "1  http://www.wikidata.org/entity/Q62007471  Riccardo Rossi   \n",
       "2   http://www.wikidata.org/entity/Q1447990   Franz Landolt   \n",
       "3   http://www.wikidata.org/entity/Q1579473    Hans Fischer   \n",
       "4    http://www.wikidata.org/entity/Q120229   Robert Tobler   \n",
       "\n",
       "                                   partiUri  \\\n",
       "0  http://www.wikidata.org/entity/Q13850128   \n",
       "1    http://www.wikidata.org/entity/Q659461   \n",
       "2    http://www.wikidata.org/entity/Q303745   \n",
       "3    http://www.wikidata.org/entity/Q659461   \n",
       "4    http://www.wikidata.org/entity/Q672926   \n",
       "\n",
       "                               partiLabel  \n",
       "0    Free Democratic Party of Switzerland  \n",
       "1     Christian Democratic People's Party  \n",
       "2  Social Democratic Party of Switzerland  \n",
       "3     Christian Democratic People's Party  \n",
       "4                          National Front  "
      ]
     },
     "execution_count": 13,
     "metadata": {},
     "output_type": "execute_result"
    }
   ],
   "source": [
    "### Créer un DataFrame à partir du résultat\n",
    "df_r = pd.DataFrame(r)\n",
    "df_r.columns = ['personUri', 'personLabel', 'partiUri', 'partiLabel']\n",
    "df_r.head()"
   ]
  },
  {
   "cell_type": "code",
   "execution_count": 14,
   "id": "eb664e6b-7fd0-4757-8bff-db79a0d52f97",
   "metadata": {
    "tags": []
   },
   "outputs": [
    {
     "name": "stdout",
     "output_type": "stream",
     "text": [
      "<class 'pandas.core.frame.DataFrame'>\n",
      "RangeIndex: 1146 entries, 0 to 1145\n",
      "Data columns (total 4 columns):\n",
      " #   Column       Non-Null Count  Dtype \n",
      "---  ------       --------------  ----- \n",
      " 0   personUri    1146 non-null   object\n",
      " 1   personLabel  1146 non-null   object\n",
      " 2   partiUri     1146 non-null   object\n",
      " 3   partiLabel   1146 non-null   object\n",
      "dtypes: object(4)\n",
      "memory usage: 35.9+ KB\n"
     ]
    }
   ],
   "source": [
    "df_r.info()"
   ]
  },
  {
   "cell_type": "markdown",
   "id": "61cf955b-aaca-446c-a957-47b86a4ea610",
   "metadata": {},
   "source": [
    "## Créer une nouvelle table dans la base de données SQLite"
   ]
  },
  {
   "cell_type": "code",
   "execution_count": 15,
   "id": "00b2f7ff-7d67-4602-9b1e-38dd37809a75",
   "metadata": {},
   "outputs": [
    {
     "data": {
      "text/plain": [
       "<sqlite3.Connection at 0x110a39ec220>"
      ]
     },
     "execution_count": 15,
     "metadata": {},
     "output_type": "execute_result"
    }
   ],
   "source": [
    "### Se connecter à la base de données dans laquelle on va insérer\n",
    "# le résultat de la requête SPARQL\n",
    "cn = sql.connect('../../data/conseil_national_import.db')\n",
    "cn"
   ]
  },
  {
   "cell_type": "code",
   "execution_count": 16,
   "id": "97540a56-75b7-44b5-93b2-922e22b7bfd4",
   "metadata": {},
   "outputs": [
    {
     "name": "stdout",
     "output_type": "stream",
     "text": [
      "Erreur:  Table 'wdt_person_parti_name' already exists.\n"
     ]
    }
   ],
   "source": [
    "### Créer une nouvelle table contenant le DataFrame\n",
    "# Si on tente de la recréer, alor qu'elle existe déjà,\n",
    "# un message d'erreur est renvoyé\n",
    "try:\n",
    "    l = df_r.to_sql(name='wdt_person_parti_name', con=cn, if_exists='fail')\n",
    "except Exception as e:\n",
    "    print('Erreur: ',  e)"
   ]
  },
  {
   "cell_type": "code",
   "execution_count": 17,
   "id": "34f32038-ae06-47de-8a52-fc50cdfb2da9",
   "metadata": {},
   "outputs": [],
   "source": [
    "### Vérifier que les données ont été importées correctement\n",
    "cur = cn.cursor()\n",
    "l = cur.execute(\"SELECT * FROM wdt_person_parti_name limit 3\").fetchall()"
   ]
  },
  {
   "cell_type": "code",
   "execution_count": 18,
   "id": "159b0c9c-4637-4b70-a644-2a286143fd0f",
   "metadata": {},
   "outputs": [
    {
     "name": "stdout",
     "output_type": "stream",
     "text": [
      "(0, 'http://www.wikidata.org/entity/Q122856', 'Joseph Ackermann', 'http://www.wikidata.org/entity/Q667725', 'Christian Social Party')\n",
      "(1, 'http://www.wikidata.org/entity/Q125303', 'Dewet Buri', 'http://www.wikidata.org/entity/Q477228', 'Party of Farmers, Traders and Independents')\n",
      "(2, 'http://www.wikidata.org/entity/Q15621580', 'Jacques Chamorel', 'http://www.wikidata.org/entity/Q667785', 'Liberal Party of Switzerland')\n"
     ]
    }
   ],
   "source": [
    "### On a mis le résultat de la requête SQL \n",
    "# dans une liste 'l' qu'on affiche avec une boucle 'for'\n",
    "# dans le cadre d'une 'list comprehension'\n",
    "a = [print(e) for e in l]"
   ]
  },
  {
   "cell_type": "markdown",
   "id": "8d247232-d5c9-4f7a-88c3-1fa41b9bfc73",
   "metadata": {
    "tags": []
   },
   "source": [
    "## Créer une table des parti et une table de classement \n",
    "\n",
    "La table qu'on vient de créer est une table de jointure entre les personnes et les partis.\n",
    "On va créer un table contenant les partis dans la BD SQLite\n",
    "\n"
   ]
  },
  {
   "cell_type": "markdown",
   "id": "4386c9ac-5cd9-40e7-8991-ccfdf82aad90",
   "metadata": {},
   "source": [
    "\n",
    "```\n",
    "```\n"
   ]
  },
  {
   "cell_type": "code",
   "execution_count": 19,
   "id": "c8b5cdb5-034d-497f-9ac1-6a8af5067065",
   "metadata": {},
   "outputs": [
    {
     "data": {
      "text/plain": [
       "<sqlite3.Connection at 0x110a39ec220>"
      ]
     },
     "execution_count": 19,
     "metadata": {},
     "output_type": "execute_result"
    }
   ],
   "source": [
    "cn"
   ]
  },
  {
   "cell_type": "code",
   "execution_count": 20,
   "id": "50c2f1b0-68c7-4adc-bb8e-59d8187e358a",
   "metadata": {},
   "outputs": [],
   "source": [
    "### Inspecter les données\n",
    "q = \"\"\"\n",
    "SELECT DISTINCT partiUri, partiLabel , COUNT(*) as effectif\n",
    "FROM wdt_person_parti_name\n",
    "GROUP BY partiUri, partiLabel \n",
    "ORDER BY effectif DESC;\n",
    "\"\"\"\n",
    "\n",
    "\n",
    "q = \"\"\"\n",
    "INSERT INTO wdt_parti (wdt_uri,label)\n",
    "SELECT partiUri, partiLabel\n",
    "FROM wdt_person_parti_name\n",
    "GROUP BY partiUri , partiLabel \n",
    "HAVING COUNT(*) > 1 ;\n",
    "\"\"\""
   ]
  },
  {
   "cell_type": "code",
   "execution_count": 21,
   "id": "213b8e31-73d8-4b15-abb1-2fe9fecd4e53",
   "metadata": {},
   "outputs": [],
   "source": [
    "cur = cn.cursor()\n",
    "r = cur.execute(q)\n",
    "cn.commit()"
   ]
  },
  {
   "cell_type": "code",
   "execution_count": null,
   "id": "3feb64e4-86bb-495b-99f9-5d53b04c4b69",
   "metadata": {},
   "outputs": [],
   "source": []
  },
  {
   "cell_type": "code",
   "execution_count": null,
   "id": "7889d966-1678-4329-a82c-7277b996e2d7",
   "metadata": {},
   "outputs": [],
   "source": []
  },
  {
   "cell_type": "code",
   "execution_count": null,
   "id": "2d41a0a5-6417-45f0-acdd-5f3ccee56e89",
   "metadata": {},
   "outputs": [],
   "source": []
  },
  {
   "cell_type": "code",
   "execution_count": null,
   "id": "5c6ae710-306d-4e52-a93e-c2ae5543bff0",
   "metadata": {},
   "outputs": [],
   "source": []
  },
  {
   "cell_type": "code",
   "execution_count": null,
   "id": "e747f2f0-e6e5-4f67-964a-bd024a7c61fc",
   "metadata": {},
   "outputs": [],
   "source": []
  },
  {
   "cell_type": "code",
   "execution_count": 22,
   "id": "7d8a9598-2f99-41dd-92d9-0b2f1c5a5875",
   "metadata": {},
   "outputs": [
    {
     "data": {
      "text/plain": [
       "<sqlite3.Connection at 0x110a3fdff10>"
      ]
     },
     "execution_count": 22,
     "metadata": {},
     "output_type": "execute_result"
    }
   ],
   "source": [
    "### Se connecter à la base de données dans laquelle on va insérer\n",
    "# le résultat de la requête SPARQL\n",
    "cn = sql.connect('../../data/conseil_national_import.db')\n",
    "cn"
   ]
  },
  {
   "cell_type": "code",
   "execution_count": 23,
   "id": "546c29a5-0529-4821-8d27-c132f40a89a1",
   "metadata": {},
   "outputs": [],
   "source": [
    "### On récupère tout la table et on la met dans la list 'l'\n",
    "cur = cn.cursor()\n",
    "l = cur.execute(\"SELECT * FROM wdt_person_parti_name\").fetchall()"
   ]
  },
  {
   "cell_type": "code",
   "execution_count": 24,
   "id": "cfef8c56-ea2a-4be8-8472-93e80db907b6",
   "metadata": {},
   "outputs": [
    {
     "data": {
      "text/html": [
       "<div>\n",
       "<style scoped>\n",
       "    .dataframe tbody tr th:only-of-type {\n",
       "        vertical-align: middle;\n",
       "    }\n",
       "\n",
       "    .dataframe tbody tr th {\n",
       "        vertical-align: top;\n",
       "    }\n",
       "\n",
       "    .dataframe thead th {\n",
       "        text-align: right;\n",
       "    }\n",
       "</style>\n",
       "<table border=\"1\" class=\"dataframe\">\n",
       "  <thead>\n",
       "    <tr style=\"text-align: right;\">\n",
       "      <th></th>\n",
       "      <th>person_uri</th>\n",
       "      <th>person_label</th>\n",
       "      <th>partiUri</th>\n",
       "      <th>parti_label</th>\n",
       "    </tr>\n",
       "    <tr>\n",
       "      <th>id</th>\n",
       "      <th></th>\n",
       "      <th></th>\n",
       "      <th></th>\n",
       "      <th></th>\n",
       "    </tr>\n",
       "  </thead>\n",
       "  <tbody>\n",
       "    <tr>\n",
       "      <th>0</th>\n",
       "      <td>http://www.wikidata.org/entity/Q122856</td>\n",
       "      <td>Joseph Ackermann</td>\n",
       "      <td>http://www.wikidata.org/entity/Q667725</td>\n",
       "      <td>Christian Social Party</td>\n",
       "    </tr>\n",
       "    <tr>\n",
       "      <th>1</th>\n",
       "      <td>http://www.wikidata.org/entity/Q125303</td>\n",
       "      <td>Dewet Buri</td>\n",
       "      <td>http://www.wikidata.org/entity/Q477228</td>\n",
       "      <td>Party of Farmers, Traders and Independents</td>\n",
       "    </tr>\n",
       "    <tr>\n",
       "      <th>2</th>\n",
       "      <td>http://www.wikidata.org/entity/Q15621580</td>\n",
       "      <td>Jacques Chamorel</td>\n",
       "      <td>http://www.wikidata.org/entity/Q667785</td>\n",
       "      <td>Liberal Party of Switzerland</td>\n",
       "    </tr>\n",
       "    <tr>\n",
       "      <th>3</th>\n",
       "      <td>http://www.wikidata.org/entity/Q1447990</td>\n",
       "      <td>Franz Landolt</td>\n",
       "      <td>http://www.wikidata.org/entity/Q303745</td>\n",
       "      <td>Social Democratic Party of Switzerland</td>\n",
       "    </tr>\n",
       "    <tr>\n",
       "      <th>4</th>\n",
       "      <td>http://www.wikidata.org/entity/Q2501257</td>\n",
       "      <td>Urs Dietschi</td>\n",
       "      <td>http://www.wikidata.org/entity/Q13850128</td>\n",
       "      <td>Free Democratic Party of Switzerland</td>\n",
       "    </tr>\n",
       "  </tbody>\n",
       "</table>\n",
       "</div>"
      ],
      "text/plain": [
       "                                  person_uri      person_label  \\\n",
       "id                                                               \n",
       "0     http://www.wikidata.org/entity/Q122856  Joseph Ackermann   \n",
       "1     http://www.wikidata.org/entity/Q125303        Dewet Buri   \n",
       "2   http://www.wikidata.org/entity/Q15621580  Jacques Chamorel   \n",
       "3    http://www.wikidata.org/entity/Q1447990     Franz Landolt   \n",
       "4    http://www.wikidata.org/entity/Q2501257      Urs Dietschi   \n",
       "\n",
       "                                    partiUri  \\\n",
       "id                                             \n",
       "0     http://www.wikidata.org/entity/Q667725   \n",
       "1     http://www.wikidata.org/entity/Q477228   \n",
       "2     http://www.wikidata.org/entity/Q667785   \n",
       "3     http://www.wikidata.org/entity/Q303745   \n",
       "4   http://www.wikidata.org/entity/Q13850128   \n",
       "\n",
       "                                   parti_label  \n",
       "id                                              \n",
       "0                       Christian Social Party  \n",
       "1   Party of Farmers, Traders and Independents  \n",
       "2                 Liberal Party of Switzerland  \n",
       "3       Social Democratic Party of Switzerland  \n",
       "4         Free Democratic Party of Switzerland  "
      ]
     },
     "execution_count": 24,
     "metadata": {},
     "output_type": "execute_result"
    }
   ],
   "source": [
    "### On transforme la liste en DataFrame\n",
    "df_p = pd.DataFrame(l, columns=['id', 'person_uri', 'person_label', 'partiUri', 'parti_label'],)\n",
    "df_p = df_p.set_index('id',drop=True)\n",
    "df_p.head()"
   ]
  },
  {
   "cell_type": "raw",
   "id": "f353106b-78c3-4f99-8653-e2872e2ef98c",
   "metadata": {},
   "source": []
  },
  {
   "cell_type": "markdown",
   "id": "4912fbea-fc0a-443c-a015-034431fbf194",
   "metadata": {},
   "source": [
    "### Vérifier les partis présents directement sur la base de données\n",
    "\n",
    "La requête suivante sera exécutée directement sur la base de données.\n",
    "\n",
    "Le résultat sera affiché dans le carnet Jupyter. On peut préparer les requêtes SQL directement dans un logiciel comme DBeaver, puis les exécuter depuis un carnet Jupyter pour récupérer le résultat"
   ]
  },
  {
   "cell_type": "code",
   "execution_count": 25,
   "id": "a73a1f07-d77a-492d-a1f4-79b9b5ca1715",
   "metadata": {},
   "outputs": [],
   "source": [
    "query = \"\"\"\n",
    "SELECT partiURI, count(*) as eff\n",
    "FROM wdt_person_parti_name\n",
    "GROUP BY partiURI\n",
    "ORDER BY eff DESC\"\"\""
   ]
  },
  {
   "cell_type": "code",
   "execution_count": 26,
   "id": "1e4200a4-ea0c-4789-9b97-ed7a7a2a6b0b",
   "metadata": {},
   "outputs": [],
   "source": [
    "cur = cn.cursor()"
   ]
  },
  {
   "cell_type": "code",
   "execution_count": 27,
   "id": "558e538a-1be5-47bd-820d-bce196a97028",
   "metadata": {},
   "outputs": [],
   "source": [
    "res = cur.execute(query)"
   ]
  },
  {
   "cell_type": "code",
   "execution_count": 28,
   "id": "9b650e74-d43a-41db-bff9-755bc6a6a8a3",
   "metadata": {
    "scrolled": true
   },
   "outputs": [
    {
     "data": {
      "text/plain": [
       "[('http://www.wikidata.org/entity/Q303745', 254),\n",
       " ('http://www.wikidata.org/entity/Q385258', 186),\n",
       " ('http://www.wikidata.org/entity/Q13850128', 182),\n",
       " ('http://www.wikidata.org/entity/Q659461', 165),\n",
       " ('http://www.wikidata.org/entity/Q659739', 77),\n",
       " ('http://www.wikidata.org/entity/Q202638', 64),\n",
       " ('http://www.wikidata.org/entity/Q667785', 34),\n",
       " ('http://www.wikidata.org/entity/Q550295', 28),\n",
       " ('http://www.wikidata.org/entity/Q545900', 25),\n",
       " ('http://www.wikidata.org/entity/Q100934025', 24),\n",
       " ('http://www.wikidata.org/entity/Q151768', 16),\n",
       " ('http://www.wikidata.org/entity/Q477228', 14),\n",
       " ('http://www.wikidata.org/entity/Q667718', 12),\n",
       " ('http://www.wikidata.org/entity/Q661771', 9),\n",
       " ('http://www.wikidata.org/entity/Q660046', 8),\n",
       " ('http://www.wikidata.org/entity/Q668101', 7),\n",
       " ('http://www.wikidata.org/entity/Q2145393', 6),\n",
       " ('http://www.wikidata.org/entity/Q667836', 5),\n",
       " ('http://www.wikidata.org/entity/Q681843', 4),\n",
       " ('http://www.wikidata.org/entity/Q667725', 4),\n",
       " ('http://www.wikidata.org/entity/Q663580', 2),\n",
       " ('http://www.wikidata.org/entity/Q362949', 2),\n",
       " ('http://www.wikidata.org/entity/Q327591', 2),\n",
       " ('http://www.wikidata.org/entity/Q13124', 2),\n",
       " ('http://www.wikidata.org/entity/Q684909', 1),\n",
       " ('http://www.wikidata.org/entity/Q677491', 1),\n",
       " ('http://www.wikidata.org/entity/Q672946', 1),\n",
       " ('http://www.wikidata.org/entity/Q672926', 1),\n",
       " ('http://www.wikidata.org/entity/Q3366732', 1),\n",
       " ('http://www.wikidata.org/entity/Q3366188', 1),\n",
       " ('http://www.wikidata.org/entity/Q286683', 1),\n",
       " ('http://www.wikidata.org/entity/Q255650', 1),\n",
       " ('http://www.wikidata.org/entity/Q20012603', 1),\n",
       " ('http://www.wikidata.org/entity/Q13142801', 1),\n",
       " ('http://www.wikidata.org/entity/Q1254507', 1),\n",
       " ('http://www.wikidata.org/entity/Q1186111', 1),\n",
       " ('http://www.wikidata.org/entity/Q1084149', 1),\n",
       " ('http://www.wikidata.org/entity/Q10594788', 1)]"
      ]
     },
     "execution_count": 28,
     "metadata": {},
     "output_type": "execute_result"
    }
   ],
   "source": [
    "res.fetchall()"
   ]
  },
  {
   "cell_type": "markdown",
   "id": "2de05023-549c-4de3-8dd8-1c78afaf6227",
   "metadata": {},
   "source": [
    "### Ajouter une colonne au DataFrame avec le code du parti "
   ]
  },
  {
   "cell_type": "code",
   "execution_count": 29,
   "id": "0a674d8c-3a47-4c0a-9af4-7b68d6512e7a",
   "metadata": {},
   "outputs": [],
   "source": [
    "### On créé d'abord une fonction qui effectue le travail\n",
    "\n",
    "## l'argument de la fonction 'p_uri' est un nom choisi librement\n",
    "# il est ensuite appelé dans la fonction comme variable\n",
    "# et contient la valeur introduite lors de l'utilisation de la fonction \n",
    "def code_parti(p_uri):\n",
    "    if p_uri == 'http://www.wikidata.org/entity/Q303745':\n",
    "        # Parti socialiste\n",
    "        a = 'PS'\n",
    "    elif p_uri =='http://www.wikidata.org/entity/Q385258':\n",
    "        # Union démocratique du centre\n",
    "        a = 'UDC'\n",
    "    elif p_uri =='http://www.wikidata.org/entity/Q13850128':\n",
    "        # Parti radical démocrate\n",
    "        a = 'PRD'\n",
    "    elif p_uri =='http://www.wikidata.org/entity/Q659461':\n",
    "        # Parti démocrate chrétien\n",
    "        a = 'PDC'\n",
    "    elif p_uri =='http://www.wikidata.org/entity/Q659739':\n",
    "        # Les Verts\n",
    "        a = 'Verts'\n",
    "    elif p_uri =='http://www.wikidata.org/entity/Q202638':\n",
    "        # Parti libéral radical\n",
    "        a = 'PLR'\n",
    "    elif p_uri =='http://www.wikidata.org/entity/Q667785':\n",
    "        # Parti libéral suisse\n",
    "        a = 'PLS'\n",
    "    elif p_uri =='http://www.wikidata.org/entity/Q550295':\n",
    "        # alliance des indépendants\n",
    "        a = 'ALL_IND'\n",
    "    elif p_uri =='http://www.wikidata.org/entity/Q545900':\n",
    "        # PVL\n",
    "        a = 'PVL'\n",
    "    elif p_uri =='http://www.wikidata.org/entity/Q100934025':\n",
    "        # le centre\n",
    "        a = 'LC'\n",
    "    elif p_uri =='http://www.wikidata.org/entity/Q151768':\n",
    "        # parti bourgeois démocrate\n",
    "        a = 'PBD'\n",
    "    elif p_uri =='http://www.wikidata.org/entity/Q477228':\n",
    "        # parti des paysans et artisans indépendants\n",
    "        a = 'PAI'\n",
    "    elif p_uri =='http://www.wikidata.org/entity/Q667718':\n",
    "        # parti évangélique suisse\n",
    "        a = 'PEV'\n",
    "    else:\n",
    "        # genre autre\n",
    "        a = 'A'\n",
    "    return a  "
   ]
  },
  {
   "cell_type": "code",
   "execution_count": 30,
   "id": "449fc512-efbd-4dcb-9e47-219f80ed8a4e",
   "metadata": {},
   "outputs": [
    {
     "data": {
      "text/plain": [
       "'A'"
      ]
     },
     "execution_count": 30,
     "metadata": {},
     "output_type": "execute_result"
    }
   ],
   "source": [
    "### On teste la fonction\n",
    "code_parti('http://www.wikidata.org/entity/Q20012603')"
   ]
  },
  {
   "cell_type": "code",
   "execution_count": 31,
   "id": "199ee5a4-1cdb-4a0f-962a-7675ec3f26f2",
   "metadata": {},
   "outputs": [],
   "source": [
    "### On ajoute une nouvelle colonne et y on met pour chaque ligne le résultat de la fonction\n",
    "df_p['partiCode'] = df_p.apply(lambda x: code_parti(x['partiUri']), axis=1)"
   ]
  },
  {
   "cell_type": "code",
   "execution_count": 32,
   "id": "db6fb789-227b-40ef-9c11-78edf1b9d12c",
   "metadata": {},
   "outputs": [
    {
     "data": {
      "text/html": [
       "<div>\n",
       "<style scoped>\n",
       "    .dataframe tbody tr th:only-of-type {\n",
       "        vertical-align: middle;\n",
       "    }\n",
       "\n",
       "    .dataframe tbody tr th {\n",
       "        vertical-align: top;\n",
       "    }\n",
       "\n",
       "    .dataframe thead th {\n",
       "        text-align: right;\n",
       "    }\n",
       "</style>\n",
       "<table border=\"1\" class=\"dataframe\">\n",
       "  <thead>\n",
       "    <tr style=\"text-align: right;\">\n",
       "      <th></th>\n",
       "      <th>person_uri</th>\n",
       "      <th>person_label</th>\n",
       "      <th>partiUri</th>\n",
       "      <th>parti_label</th>\n",
       "      <th>partiCode</th>\n",
       "    </tr>\n",
       "    <tr>\n",
       "      <th>id</th>\n",
       "      <th></th>\n",
       "      <th></th>\n",
       "      <th></th>\n",
       "      <th></th>\n",
       "      <th></th>\n",
       "    </tr>\n",
       "  </thead>\n",
       "  <tbody>\n",
       "    <tr>\n",
       "      <th>1</th>\n",
       "      <td>http://www.wikidata.org/entity/Q125303</td>\n",
       "      <td>Dewet Buri</td>\n",
       "      <td>http://www.wikidata.org/entity/Q477228</td>\n",
       "      <td>Party of Farmers, Traders and Independents</td>\n",
       "      <td>PAI</td>\n",
       "    </tr>\n",
       "    <tr>\n",
       "      <th>34</th>\n",
       "      <td>http://www.wikidata.org/entity/Q2543940</td>\n",
       "      <td>Walter Degen</td>\n",
       "      <td>http://www.wikidata.org/entity/Q477228</td>\n",
       "      <td>Party of Farmers, Traders and Independents</td>\n",
       "      <td>PAI</td>\n",
       "    </tr>\n",
       "    <tr>\n",
       "      <th>52</th>\n",
       "      <td>http://www.wikidata.org/entity/Q2173417</td>\n",
       "      <td>Rudolf Meier</td>\n",
       "      <td>http://www.wikidata.org/entity/Q477228</td>\n",
       "      <td>Party of Farmers, Traders and Independents</td>\n",
       "      <td>PAI</td>\n",
       "    </tr>\n",
       "    <tr>\n",
       "      <th>69</th>\n",
       "      <td>http://www.wikidata.org/entity/Q23888175</td>\n",
       "      <td>Hans Weber</td>\n",
       "      <td>http://www.wikidata.org/entity/Q477228</td>\n",
       "      <td>Party of Farmers, Traders and Independents</td>\n",
       "      <td>PAI</td>\n",
       "    </tr>\n",
       "    <tr>\n",
       "      <th>83</th>\n",
       "      <td>http://www.wikidata.org/entity/Q2039809</td>\n",
       "      <td>Otto Locher</td>\n",
       "      <td>http://www.wikidata.org/entity/Q477228</td>\n",
       "      <td>Party of Farmers, Traders and Independents</td>\n",
       "      <td>PAI</td>\n",
       "    </tr>\n",
       "  </tbody>\n",
       "</table>\n",
       "</div>"
      ],
      "text/plain": [
       "                                  person_uri  person_label  \\\n",
       "id                                                           \n",
       "1     http://www.wikidata.org/entity/Q125303    Dewet Buri   \n",
       "34   http://www.wikidata.org/entity/Q2543940  Walter Degen   \n",
       "52   http://www.wikidata.org/entity/Q2173417  Rudolf Meier   \n",
       "69  http://www.wikidata.org/entity/Q23888175    Hans Weber   \n",
       "83   http://www.wikidata.org/entity/Q2039809   Otto Locher   \n",
       "\n",
       "                                  partiUri  \\\n",
       "id                                           \n",
       "1   http://www.wikidata.org/entity/Q477228   \n",
       "34  http://www.wikidata.org/entity/Q477228   \n",
       "52  http://www.wikidata.org/entity/Q477228   \n",
       "69  http://www.wikidata.org/entity/Q477228   \n",
       "83  http://www.wikidata.org/entity/Q477228   \n",
       "\n",
       "                                   parti_label partiCode  \n",
       "id                                                        \n",
       "1   Party of Farmers, Traders and Independents       PAI  \n",
       "34  Party of Farmers, Traders and Independents       PAI  \n",
       "52  Party of Farmers, Traders and Independents       PAI  \n",
       "69  Party of Farmers, Traders and Independents       PAI  \n",
       "83  Party of Farmers, Traders and Independents       PAI  "
      ]
     },
     "execution_count": 32,
     "metadata": {},
     "output_type": "execute_result"
    }
   ],
   "source": [
    "### On inspecte les cinq premières lignes qui ont la valeur 'A' = autre\n",
    "df_p[df_p['partiCode']=='PAI'][:5]"
   ]
  },
  {
   "cell_type": "markdown",
   "id": "6dc84d9e-6627-4ab3-b984-64f96cb355c5",
   "metadata": {},
   "source": [
    "## parti politique distrubution par effectifs >> problème pour faire la distribution avec les fonctions à appliquer"
   ]
  },
  {
   "cell_type": "code",
   "execution_count": 72,
   "id": "030d160b-6422-4f13-90e9-2df57d6603d1",
   "metadata": {},
   "outputs": [
    {
     "name": "stdout",
     "output_type": "stream",
     "text": [
      "<class 'pandas.core.frame.DataFrame'>\n",
      "Index: 1146 entries, 0 to 1145\n",
      "Data columns (total 5 columns):\n",
      " #   Column        Non-Null Count  Dtype \n",
      "---  ------        --------------  ----- \n",
      " 0   person_uri    1146 non-null   object\n",
      " 1   person_label  1146 non-null   object\n",
      " 2   partiUri      1146 non-null   object\n",
      " 3   parti_label   1146 non-null   object\n",
      " 4   partiCode     1146 non-null   object\n",
      "dtypes: object(5)\n",
      "memory usage: 53.7+ KB\n"
     ]
    }
   ],
   "source": [
    "df_p.info()"
   ]
  },
  {
   "cell_type": "code",
   "execution_count": 77,
   "id": "5bc7942d-18ac-44a4-9ccb-4424364429e4",
   "metadata": {},
   "outputs": [
    {
     "ename": "KeyError",
     "evalue": "'parti'",
     "output_type": "error",
     "traceback": [
      "\u001b[1;31m---------------------------------------------------------------------------\u001b[0m",
      "\u001b[1;31mKeyError\u001b[0m                                  Traceback (most recent call last)",
      "Cell \u001b[1;32mIn[77], line 2\u001b[0m\n\u001b[0;32m      1\u001b[0m \u001b[38;5;66;03m### Regrouper et compter\u001b[39;00m\n\u001b[1;32m----> 2\u001b[0m gb_parti \u001b[38;5;241m=\u001b[39m df_p\u001b[38;5;241m.\u001b[39mgroupby(\u001b[38;5;124m'\u001b[39m\u001b[38;5;124mparti\u001b[39m\u001b[38;5;124m'\u001b[39m)\u001b[38;5;241m.\u001b[39msize()\n\u001b[0;32m      3\u001b[0m sgb_parti \u001b[38;5;241m=\u001b[39m gb_parti\u001b[38;5;241m.\u001b[39msort_values(ascending \u001b[38;5;241m=\u001b[39m \u001b[38;5;28;01mTrue\u001b[39;00m)\n\u001b[0;32m      4\u001b[0m sgb_parti\n",
      "File \u001b[1;32m~\\miniconda3\\envs\\py311_data_analysis\\Lib\\site-packages\\pandas\\core\\frame.py:8869\u001b[0m, in \u001b[0;36mDataFrame.groupby\u001b[1;34m(self, by, axis, level, as_index, sort, group_keys, observed, dropna)\u001b[0m\n\u001b[0;32m   8866\u001b[0m \u001b[38;5;28;01mif\u001b[39;00m level \u001b[38;5;129;01mis\u001b[39;00m \u001b[38;5;28;01mNone\u001b[39;00m \u001b[38;5;129;01mand\u001b[39;00m by \u001b[38;5;129;01mis\u001b[39;00m \u001b[38;5;28;01mNone\u001b[39;00m:\n\u001b[0;32m   8867\u001b[0m     \u001b[38;5;28;01mraise\u001b[39;00m \u001b[38;5;167;01mTypeError\u001b[39;00m(\u001b[38;5;124m\"\u001b[39m\u001b[38;5;124mYou have to supply one of \u001b[39m\u001b[38;5;124m'\u001b[39m\u001b[38;5;124mby\u001b[39m\u001b[38;5;124m'\u001b[39m\u001b[38;5;124m and \u001b[39m\u001b[38;5;124m'\u001b[39m\u001b[38;5;124mlevel\u001b[39m\u001b[38;5;124m'\u001b[39m\u001b[38;5;124m\"\u001b[39m)\n\u001b[1;32m-> 8869\u001b[0m \u001b[38;5;28;01mreturn\u001b[39;00m DataFrameGroupBy(\n\u001b[0;32m   8870\u001b[0m     obj\u001b[38;5;241m=\u001b[39m\u001b[38;5;28mself\u001b[39m,\n\u001b[0;32m   8871\u001b[0m     keys\u001b[38;5;241m=\u001b[39mby,\n\u001b[0;32m   8872\u001b[0m     axis\u001b[38;5;241m=\u001b[39maxis,\n\u001b[0;32m   8873\u001b[0m     level\u001b[38;5;241m=\u001b[39mlevel,\n\u001b[0;32m   8874\u001b[0m     as_index\u001b[38;5;241m=\u001b[39mas_index,\n\u001b[0;32m   8875\u001b[0m     sort\u001b[38;5;241m=\u001b[39msort,\n\u001b[0;32m   8876\u001b[0m     group_keys\u001b[38;5;241m=\u001b[39mgroup_keys,\n\u001b[0;32m   8877\u001b[0m     observed\u001b[38;5;241m=\u001b[39mobserved,\n\u001b[0;32m   8878\u001b[0m     dropna\u001b[38;5;241m=\u001b[39mdropna,\n\u001b[0;32m   8879\u001b[0m )\n",
      "File \u001b[1;32m~\\miniconda3\\envs\\py311_data_analysis\\Lib\\site-packages\\pandas\\core\\groupby\\groupby.py:1278\u001b[0m, in \u001b[0;36mGroupBy.__init__\u001b[1;34m(self, obj, keys, axis, level, grouper, exclusions, selection, as_index, sort, group_keys, observed, dropna)\u001b[0m\n\u001b[0;32m   1275\u001b[0m \u001b[38;5;28mself\u001b[39m\u001b[38;5;241m.\u001b[39mdropna \u001b[38;5;241m=\u001b[39m dropna\n\u001b[0;32m   1277\u001b[0m \u001b[38;5;28;01mif\u001b[39;00m grouper \u001b[38;5;129;01mis\u001b[39;00m \u001b[38;5;28;01mNone\u001b[39;00m:\n\u001b[1;32m-> 1278\u001b[0m     grouper, exclusions, obj \u001b[38;5;241m=\u001b[39m get_grouper(\n\u001b[0;32m   1279\u001b[0m         obj,\n\u001b[0;32m   1280\u001b[0m         keys,\n\u001b[0;32m   1281\u001b[0m         axis\u001b[38;5;241m=\u001b[39maxis,\n\u001b[0;32m   1282\u001b[0m         level\u001b[38;5;241m=\u001b[39mlevel,\n\u001b[0;32m   1283\u001b[0m         sort\u001b[38;5;241m=\u001b[39msort,\n\u001b[0;32m   1284\u001b[0m         observed\u001b[38;5;241m=\u001b[39m\u001b[38;5;28;01mFalse\u001b[39;00m \u001b[38;5;28;01mif\u001b[39;00m observed \u001b[38;5;129;01mis\u001b[39;00m lib\u001b[38;5;241m.\u001b[39mno_default \u001b[38;5;28;01melse\u001b[39;00m observed,\n\u001b[0;32m   1285\u001b[0m         dropna\u001b[38;5;241m=\u001b[39m\u001b[38;5;28mself\u001b[39m\u001b[38;5;241m.\u001b[39mdropna,\n\u001b[0;32m   1286\u001b[0m     )\n\u001b[0;32m   1288\u001b[0m \u001b[38;5;28;01mif\u001b[39;00m observed \u001b[38;5;129;01mis\u001b[39;00m lib\u001b[38;5;241m.\u001b[39mno_default:\n\u001b[0;32m   1289\u001b[0m     \u001b[38;5;28;01mif\u001b[39;00m \u001b[38;5;28many\u001b[39m(ping\u001b[38;5;241m.\u001b[39m_passed_categorical \u001b[38;5;28;01mfor\u001b[39;00m ping \u001b[38;5;129;01min\u001b[39;00m grouper\u001b[38;5;241m.\u001b[39mgroupings):\n",
      "File \u001b[1;32m~\\miniconda3\\envs\\py311_data_analysis\\Lib\\site-packages\\pandas\\core\\groupby\\grouper.py:1009\u001b[0m, in \u001b[0;36mget_grouper\u001b[1;34m(obj, key, axis, level, sort, observed, validate, dropna)\u001b[0m\n\u001b[0;32m   1007\u001b[0m         in_axis, level, gpr \u001b[38;5;241m=\u001b[39m \u001b[38;5;28;01mFalse\u001b[39;00m, gpr, \u001b[38;5;28;01mNone\u001b[39;00m\n\u001b[0;32m   1008\u001b[0m     \u001b[38;5;28;01melse\u001b[39;00m:\n\u001b[1;32m-> 1009\u001b[0m         \u001b[38;5;28;01mraise\u001b[39;00m \u001b[38;5;167;01mKeyError\u001b[39;00m(gpr)\n\u001b[0;32m   1010\u001b[0m \u001b[38;5;28;01melif\u001b[39;00m \u001b[38;5;28misinstance\u001b[39m(gpr, Grouper) \u001b[38;5;129;01mand\u001b[39;00m gpr\u001b[38;5;241m.\u001b[39mkey \u001b[38;5;129;01mis\u001b[39;00m \u001b[38;5;129;01mnot\u001b[39;00m \u001b[38;5;28;01mNone\u001b[39;00m:\n\u001b[0;32m   1011\u001b[0m     \u001b[38;5;66;03m# Add key to exclusions\u001b[39;00m\n\u001b[0;32m   1012\u001b[0m     exclusions\u001b[38;5;241m.\u001b[39madd(gpr\u001b[38;5;241m.\u001b[39mkey)\n",
      "\u001b[1;31mKeyError\u001b[0m: 'parti'"
     ]
    }
   ],
   "source": [
    "### Regrouper et compter\n",
    "gb_parti = query.groupby('partiURI').size() # le pblm vient du fait que query est une chaine de caractère et non un integer...\n",
    "sgb_parti = gb_parti.sort_values(ascending = True)\n",
    "sgb_parti"
   ]
  },
  {
   "cell_type": "code",
   "execution_count": null,
   "id": "8fa4e09c-f99b-431d-b9de-bcfb07f867fc",
   "metadata": {},
   "outputs": [],
   "source": []
  },
  {
   "cell_type": "code",
   "execution_count": null,
   "id": "96e09a35-c0d5-45c2-bd50-4542eb30a782",
   "metadata": {},
   "outputs": [],
   "source": []
  },
  {
   "cell_type": "code",
   "execution_count": null,
   "id": "80f1d4fe-cba0-49aa-9622-4e136df74205",
   "metadata": {},
   "outputs": [],
   "source": []
  },
  {
   "cell_type": "code",
   "execution_count": null,
   "id": "c33657d2-0a2d-4d5e-9775-a44d8ef12966",
   "metadata": {},
   "outputs": [],
   "source": []
  },
  {
   "cell_type": "code",
   "execution_count": null,
   "id": "51f4ab05-a74d-4403-b8ed-13a1ad15654d",
   "metadata": {},
   "outputs": [],
   "source": []
  },
  {
   "cell_type": "code",
   "execution_count": null,
   "id": "01a78f13-56cc-4573-926e-a078fb4a5c39",
   "metadata": {},
   "outputs": [],
   "source": []
  },
  {
   "cell_type": "markdown",
   "id": "c741c989-50ea-4f3d-a28d-89959d2c739a",
   "metadata": {},
   "source": [
    "## Effectifs par parti"
   ]
  },
  {
   "cell_type": "code",
   "execution_count": 33,
   "id": "136263a8-722c-460e-bcc0-1aef61051025",
   "metadata": {},
   "outputs": [
    {
     "name": "stdout",
     "output_type": "stream",
     "text": [
      "<class 'pandas.core.series.Series'>\n",
      "Index: 1146 entries, 0 to 1145\n",
      "Series name: partiCode\n",
      "Non-Null Count  Dtype \n",
      "--------------  ----- \n",
      "1146 non-null   object\n",
      "dtypes: object(1)\n",
      "memory usage: 17.9+ KB\n"
     ]
    }
   ],
   "source": [
    "### On inspecte les valeurs de la colonne 'parti_label' \n",
    "# et on observe que le type de données est 'object', ici texte\n",
    "df_p['partiCode'].info()"
   ]
  },
  {
   "cell_type": "code",
   "execution_count": 34,
   "id": "fc39e9a0-2c3b-4fe5-be24-603b6a61a566",
   "metadata": {},
   "outputs": [],
   "source": [
    "### On transforme le type de valeur de la colonne parti_label\n",
    "# de objet à str\n",
    "df_p['partiCode'] = df_p['partiCode'].astype(str)"
   ]
  },
  {
   "cell_type": "code",
   "execution_count": 35,
   "id": "d9f288a0-21e0-45f3-82d6-77e480ad9731",
   "metadata": {},
   "outputs": [
    {
     "data": {
      "text/html": [
       "<div>\n",
       "<style scoped>\n",
       "    .dataframe tbody tr th:only-of-type {\n",
       "        vertical-align: middle;\n",
       "    }\n",
       "\n",
       "    .dataframe tbody tr th {\n",
       "        vertical-align: top;\n",
       "    }\n",
       "\n",
       "    .dataframe thead th {\n",
       "        text-align: right;\n",
       "    }\n",
       "</style>\n",
       "<table border=\"1\" class=\"dataframe\">\n",
       "  <thead>\n",
       "    <tr style=\"text-align: right;\">\n",
       "      <th></th>\n",
       "      <th>parti</th>\n",
       "      <th>effectif</th>\n",
       "    </tr>\n",
       "  </thead>\n",
       "  <tbody>\n",
       "    <tr>\n",
       "      <th>0</th>\n",
       "      <td>A</td>\n",
       "      <td>65</td>\n",
       "    </tr>\n",
       "    <tr>\n",
       "      <th>1</th>\n",
       "      <td>ALL_IND</td>\n",
       "      <td>28</td>\n",
       "    </tr>\n",
       "    <tr>\n",
       "      <th>2</th>\n",
       "      <td>LC</td>\n",
       "      <td>24</td>\n",
       "    </tr>\n",
       "    <tr>\n",
       "      <th>3</th>\n",
       "      <td>PAI</td>\n",
       "      <td>14</td>\n",
       "    </tr>\n",
       "    <tr>\n",
       "      <th>4</th>\n",
       "      <td>PBD</td>\n",
       "      <td>16</td>\n",
       "    </tr>\n",
       "    <tr>\n",
       "      <th>5</th>\n",
       "      <td>PDC</td>\n",
       "      <td>165</td>\n",
       "    </tr>\n",
       "    <tr>\n",
       "      <th>6</th>\n",
       "      <td>PEV</td>\n",
       "      <td>12</td>\n",
       "    </tr>\n",
       "    <tr>\n",
       "      <th>7</th>\n",
       "      <td>PLR</td>\n",
       "      <td>64</td>\n",
       "    </tr>\n",
       "    <tr>\n",
       "      <th>8</th>\n",
       "      <td>PLS</td>\n",
       "      <td>34</td>\n",
       "    </tr>\n",
       "    <tr>\n",
       "      <th>9</th>\n",
       "      <td>PRD</td>\n",
       "      <td>182</td>\n",
       "    </tr>\n",
       "    <tr>\n",
       "      <th>10</th>\n",
       "      <td>PS</td>\n",
       "      <td>254</td>\n",
       "    </tr>\n",
       "    <tr>\n",
       "      <th>11</th>\n",
       "      <td>PVL</td>\n",
       "      <td>25</td>\n",
       "    </tr>\n",
       "    <tr>\n",
       "      <th>12</th>\n",
       "      <td>UDC</td>\n",
       "      <td>186</td>\n",
       "    </tr>\n",
       "    <tr>\n",
       "      <th>13</th>\n",
       "      <td>Verts</td>\n",
       "      <td>77</td>\n",
       "    </tr>\n",
       "  </tbody>\n",
       "</table>\n",
       "</div>"
      ],
      "text/plain": [
       "      parti  effectif\n",
       "0         A        65\n",
       "1   ALL_IND        28\n",
       "2        LC        24\n",
       "3       PAI        14\n",
       "4       PBD        16\n",
       "5       PDC       165\n",
       "6       PEV        12\n",
       "7       PLR        64\n",
       "8       PLS        34\n",
       "9       PRD       182\n",
       "10       PS       254\n",
       "11      PVL        25\n",
       "12      UDC       186\n",
       "13    Verts        77"
      ]
     },
     "execution_count": 35,
     "metadata": {},
     "output_type": "execute_result"
    }
   ],
   "source": [
    "### On transforme en DataFrame le résultat du regroupement par année\n",
    "# noter qu'un ajoute un filtre pour que l'année maximale de naissance soit 200\n",
    "parti_count = pd.DataFrame(df_p.groupby('partiCode').size()).reset_index(drop=False)\n",
    "parti_count.columns=['parti','effectif']\n",
    "parti_count"
   ]
  },
  {
   "cell_type": "code",
   "execution_count": 40,
   "id": "7fdc507e-f074-4c4a-bda5-ca2a6c69f387",
   "metadata": {},
   "outputs": [
    {
     "data": {
      "image/png": "[encoded data removed]",
      "text/plain": [
       "<Figure size 1600x800 with 1 Axes>"
      ]
     },
     "metadata": {},
     "output_type": "display_data"
    }
   ],
   "source": [
    "### Représentation graphique des effectifs par année\n",
    "\n",
    "ax = parti_count.plot(x='parti', y='effectif', kind='bar',rot=60, fontsize=8, figsize=(16,8))\n",
    "\n",
    "\n",
    "# max_xticks = 20\n",
    "# xloc = plt.MaxNLocator(max_xticks)\n",
    "# ax.xaxis.set_major_locator(xloc)\n",
    "\n",
    "plt.ylabel('Effectif')\n",
    "plt.xlabel('nom du parti')\n",
    "plt.title('tableau des résultats') # j'arrive pas à mettre le nom du tableau sans que la 2e parenthèse passe en rouge...\n",
    "\n",
    "## On peut enregistrer l'image dans un fichier (noter le dossier créé préalablement)\n",
    "# qu'on pourra ensuite introduire dans un travail et commenter\n",
    "\n",
    "# Doc.: https://matplotlib.org/stable/api/_as_gen/matplotlib.pyplot.savefig.html\n",
    "# plt.savefig('images/effectif_par_parti.jpg', bbox_inches='tight',\n",
    "#                       pad_inches=0.2)\n",
    "plt.savefig('images/effectif_par_parti.jpg')\n",
    "plt.show()"
   ]
  },
  {
   "cell_type": "markdown",
   "id": "ab845937-6017-44df-bec9-d78867a706a2",
   "metadata": {},
   "source": [
    "## représentation des genres par parti >> je rentre dans une analyse bivariée"
   ]
  },
  {
   "cell_type": "code",
   "execution_count": 41,
   "id": "a947f215-e31d-42b6-98d4-f697abaa21ec",
   "metadata": {},
   "outputs": [],
   "source": [
    "query = \"\"\"\n",
    "SELECT genderURI, count(*) as eff\n",
    "FROM wdt_personne\n",
    "GROUP BY genderURI\n",
    "ORDER BY eff DESC\"\"\""
   ]
  },
  {
   "cell_type": "code",
   "execution_count": 42,
   "id": "1b0c778b-9694-4d64-84f6-ea22240eab18",
   "metadata": {},
   "outputs": [],
   "source": [
    "cur = cn.cursor()"
   ]
  },
  {
   "cell_type": "code",
   "execution_count": 43,
   "id": "7c56d057-509b-42f3-98db-3df4a6faf400",
   "metadata": {},
   "outputs": [],
   "source": [
    "res = cur.execute(query)"
   ]
  },
  {
   "cell_type": "code",
   "execution_count": 44,
   "id": "83742d1a-fea7-4fa8-b48a-3a8e45ee745a",
   "metadata": {},
   "outputs": [
    {
     "data": {
      "text/plain": [
       "[('http://www.wikidata.org/entity/Q6581097', 1095),\n",
       " ('http://www.wikidata.org/entity/Q6581072', 280)]"
      ]
     },
     "execution_count": 44,
     "metadata": {},
     "output_type": "execute_result"
    }
   ],
   "source": [
    "res.fetchall()"
   ]
  },
  {
   "cell_type": "code",
   "execution_count": 45,
   "id": "c0f3ab12-0e7d-4269-8db9-ff3df344d331",
   "metadata": {},
   "outputs": [],
   "source": [
    "### On créé d'abord une fonction qui effectue le travail\n",
    "\n",
    "## l'argument de la fonction 'g_uri' est un nom choisi librement\n",
    "# il est ensuite appelé dans la fonction comme variable\n",
    "# et contient la valeur introduite lors de l'utilisation de la fonction \n",
    "def code_gender(g_uri):\n",
    "    if g_uri == 'http://www.wikidata.org/entity/Q6581097':\n",
    "        # genre masculin\n",
    "        a = 'M'\n",
    "    elif g_uri =='http://www.wikidata.org/entity/Q6581072':\n",
    "        # genre féminin\n",
    "        a = 'F'\n",
    "    return a  "
   ]
  },
  {
   "cell_type": "code",
   "execution_count": 49,
   "id": "79575e08-1328-49ef-9713-c75a4b648c4f",
   "metadata": {},
   "outputs": [
    {
     "data": {
      "text/html": [
       "<div>\n",
       "<style scoped>\n",
       "    .dataframe tbody tr th:only-of-type {\n",
       "        vertical-align: middle;\n",
       "    }\n",
       "\n",
       "    .dataframe tbody tr th {\n",
       "        vertical-align: top;\n",
       "    }\n",
       "\n",
       "    .dataframe thead th {\n",
       "        text-align: right;\n",
       "    }\n",
       "</style>\n",
       "<table border=\"1\" class=\"dataframe\">\n",
       "  <thead>\n",
       "    <tr style=\"text-align: right;\">\n",
       "      <th></th>\n",
       "      <th>person_uri</th>\n",
       "      <th>person_label</th>\n",
       "      <th>partiUri</th>\n",
       "      <th>parti_label</th>\n",
       "      <th>partiCode</th>\n",
       "    </tr>\n",
       "    <tr>\n",
       "      <th>id</th>\n",
       "      <th></th>\n",
       "      <th></th>\n",
       "      <th></th>\n",
       "      <th></th>\n",
       "      <th></th>\n",
       "    </tr>\n",
       "  </thead>\n",
       "  <tbody>\n",
       "    <tr>\n",
       "      <th>0</th>\n",
       "      <td>http://www.wikidata.org/entity/Q122856</td>\n",
       "      <td>Joseph Ackermann</td>\n",
       "      <td>http://www.wikidata.org/entity/Q667725</td>\n",
       "      <td>Christian Social Party</td>\n",
       "      <td>A</td>\n",
       "    </tr>\n",
       "    <tr>\n",
       "      <th>1</th>\n",
       "      <td>http://www.wikidata.org/entity/Q125303</td>\n",
       "      <td>Dewet Buri</td>\n",
       "      <td>http://www.wikidata.org/entity/Q477228</td>\n",
       "      <td>Party of Farmers, Traders and Independents</td>\n",
       "      <td>PAI</td>\n",
       "    </tr>\n",
       "    <tr>\n",
       "      <th>2</th>\n",
       "      <td>http://www.wikidata.org/entity/Q15621580</td>\n",
       "      <td>Jacques Chamorel</td>\n",
       "      <td>http://www.wikidata.org/entity/Q667785</td>\n",
       "      <td>Liberal Party of Switzerland</td>\n",
       "      <td>PLS</td>\n",
       "    </tr>\n",
       "    <tr>\n",
       "      <th>3</th>\n",
       "      <td>http://www.wikidata.org/entity/Q1447990</td>\n",
       "      <td>Franz Landolt</td>\n",
       "      <td>http://www.wikidata.org/entity/Q303745</td>\n",
       "      <td>Social Democratic Party of Switzerland</td>\n",
       "      <td>PS</td>\n",
       "    </tr>\n",
       "    <tr>\n",
       "      <th>4</th>\n",
       "      <td>http://www.wikidata.org/entity/Q2501257</td>\n",
       "      <td>Urs Dietschi</td>\n",
       "      <td>http://www.wikidata.org/entity/Q13850128</td>\n",
       "      <td>Free Democratic Party of Switzerland</td>\n",
       "      <td>PRD</td>\n",
       "    </tr>\n",
       "  </tbody>\n",
       "</table>\n",
       "</div>"
      ],
      "text/plain": [
       "                                  person_uri      person_label  \\\n",
       "id                                                               \n",
       "0     http://www.wikidata.org/entity/Q122856  Joseph Ackermann   \n",
       "1     http://www.wikidata.org/entity/Q125303        Dewet Buri   \n",
       "2   http://www.wikidata.org/entity/Q15621580  Jacques Chamorel   \n",
       "3    http://www.wikidata.org/entity/Q1447990     Franz Landolt   \n",
       "4    http://www.wikidata.org/entity/Q2501257      Urs Dietschi   \n",
       "\n",
       "                                    partiUri  \\\n",
       "id                                             \n",
       "0     http://www.wikidata.org/entity/Q667725   \n",
       "1     http://www.wikidata.org/entity/Q477228   \n",
       "2     http://www.wikidata.org/entity/Q667785   \n",
       "3     http://www.wikidata.org/entity/Q303745   \n",
       "4   http://www.wikidata.org/entity/Q13850128   \n",
       "\n",
       "                                   parti_label partiCode  \n",
       "id                                                        \n",
       "0                       Christian Social Party         A  \n",
       "1   Party of Farmers, Traders and Independents       PAI  \n",
       "2                 Liberal Party of Switzerland       PLS  \n",
       "3       Social Democratic Party of Switzerland        PS  \n",
       "4         Free Democratic Party of Switzerland       PRD  "
      ]
     },
     "execution_count": 49,
     "metadata": {},
     "output_type": "execute_result"
    }
   ],
   "source": [
    "### On ajoute une nouvelle colonne et y on met pour chaque ligne le résultat de la fonction\n",
    "df_p.head()\n",
    "# df_p['genCode'] = df_p.apply(lambda x: code_gender(x['genderURI']), axis=1)"
   ]
  },
  {
   "cell_type": "code",
   "execution_count": null,
   "id": "19ba6ec2-6c36-46b0-86bc-2c93ef415738",
   "metadata": {},
   "outputs": [],
   "source": [
    "### On inspecte les cinq premières lignes qui ont la valeur 'A' = autre\n",
    "df_p[df_p['genCode']=='F'][:5]"
   ]
  },
  {
   "cell_type": "code",
   "execution_count": null,
   "id": "ea115e69-5ea9-442a-ba84-3b6d90d76302",
   "metadata": {},
   "outputs": [],
   "source": [
    "## j'ai pu récupérer les données sur le genre, il s'agit mtn de les distribuer avec les partis"
   ]
  },
  {
   "cell_type": "code",
   "execution_count": null,
   "id": "e37e6f65-fe35-48f2-a491-7ee213eac4c0",
   "metadata": {},
   "outputs": [],
   "source": [
    "df_p['genCode'].info()"
   ]
  },
  {
   "cell_type": "code",
   "execution_count": null,
   "id": "47fd135c-9554-4fdc-8ed9-7ac38ca4a7f9",
   "metadata": {},
   "outputs": [],
   "source": [
    "### On transforme en DataFrame le résultat du regroupement par année\n",
    "# noter qu'un ajoute un filtre pour que l'année maximale de naissance soit 200\n",
    "gender_count = pd.DataFrame(df_p.groupby('genCode').size()).reset_index(drop=False)\n",
    "gender_count.columns=['genre','effectif']\n",
    "gender_count"
   ]
  },
  {
   "cell_type": "code",
   "execution_count": null,
   "id": "ad79c540-43b2-4441-a7d7-d27f244f2569",
   "metadata": {},
   "outputs": [],
   "source": [
    "### Représentation graphique des effectifs suivant le genre\n",
    "\n",
    "ax = gender_count.plot(x='genre', y='effectif', kind='bar',rot=60, fontsize=8, figsize=(16,8))\n",
    "\n",
    "\n",
    "max_xticks = 20\n",
    "xloc = plt.MaxNLocator(max_xticks)\n",
    "ax.xaxis.set_major_locator(xloc)\n",
    "\n",
    "plt.ylabel('Effectif')\n",
    "plt.xlabel('genre') #prk il y a que 3 partis dont le nom est affiché\n",
    "plt.title('tableau des résultats') # j'arrive pas à mettre le nom du tableau sans que la 2e parenthèse passe en rouge...\n",
    "# plt.show()\n",
    "\n",
    "## On peut enregistrer l'image dans un fichier (noter le dossier créé préalablement)\n",
    "# qu'on pourra ensuite introduire dans un travail et commenter\n",
    "\n",
    "# Doc.: https://matplotlib.org/stable/api/_as_gen/matplotlib.pyplot.savefig.html\n",
    "plt.savefig('images/effectif_par_genre.jpg', bbox_inches='tight',\n",
    "                       pad_inches=0.2)\n",
    "plt.show()"
   ]
  },
  {
   "cell_type": "code",
   "execution_count": null,
   "id": "5a4cdf3e-af88-44f9-8360-290fb7f8d874",
   "metadata": {},
   "outputs": [],
   "source": [
    "## comment lier la table du genre et celle des partis ? la fonction pivot me semble la plus appropriée, \n",
    "## mais je comprends par encore comment l'utiliser"
   ]
  },
  {
   "cell_type": "code",
   "execution_count": null,
   "id": "ee735cd7-56c1-4825-8c27-f34f717fa329",
   "metadata": {},
   "outputs": [],
   "source": [
    "### La fonction pivot_table produit un tableau de contingence\n",
    "## Au centre du tableau se trouvent les effectifs conjoints, \n",
    "## aux bords les effectifs marginaux qui correspondent \n",
    "## aux distributions indépendantes des variables\n",
    "\n",
    "X = \"parti\"  # \"0\" \n",
    "Y = \"genCode\"\n",
    "\n",
    "c_obs_parti_generation = df_p[[Y,X]].pivot_table(index=Y,columns=X,aggfunc=len,margins=True,margins_name=\"Total\").fillna(0).astype(int)\n",
    "c_obs_parti_generation"
   ]
  },
  {
   "cell_type": "code",
   "execution_count": null,
   "id": "11d145da-f55a-4dd8-a2cd-afe4f5556b23",
   "metadata": {},
   "outputs": [],
   "source": [
    "## le soucis avec les carnet uni/bivarié de humanités_numériques_méthodes c'est que les bases de données \n",
    "## sont issues de csv et non de tables sqlite. ca complique plrs requêtes à cause du type des données..."
   ]
  }
 ],
 "metadata": {
  "kernelspec": {
   "display_name": "py311_data_analysis",
   "language": "python",
   "name": "py311_data_analysis"
  },
  "language_info": {
   "codemirror_mode": {
    "name": "ipython",
    "version": 3
   },
   "file_extension": ".py",
   "mimetype": "text/x-python",
   "name": "python",
   "nbconvert_exporter": "python",
   "pygments_lexer": "ipython3",
   "version": "3.11.7"
  }
 },
 "nbformat": 4,
 "nbformat_minor": 5
}
