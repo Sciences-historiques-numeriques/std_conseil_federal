{
 "cells": [
  {
   "cell_type": "markdown",
   "id": "2f6e744c-b572-4701-9362-98fcc8736240",
   "metadata": {},
   "source": [
    "# Notebook d'importation des données de Wikidata\n",
    "\n",
    "Déroulement de l'exécution du notebook:\n",
    "1. Récupérer les personnes avec leur parti\n",
    "2. Nettoyer les données (eg. annee_naissance doit être un integer et pas une chaîne de caractères)\n",
    "3. Construire la liste des partis à partir de la liste des personnes\n",
    "4. Créer la table des partis à partir du dataframe des partis:\n",
    "   - colonnes: id, code_parti, parti_uri\n",
    "5. On sauve les partis dans une table `wdt_partis`\n",
    "4. Créer la table des personne avec la contrainte fk_parti_id\n",
    "   ```sql\n",
    "   CREATE TABLE wdt_personnes ( \n",
    "    index INTEGER PRIMARY KEY, \n",
    "    person_uri TEXT,\n",
    "    nom_prenom TEXT,\n",
    "    genre_uri TEXT,\n",
    "    genre_code TEXT,\n",
    "    genre_label TEXT,\n",
    "    annee_naissance INTEGER,\n",
    "    FOREIGN KEY (fk_parti_index) REFERENCES wdt_partis(index)\n",
    "   );\n",
    "   ```\n",
    "6. On insert les personnes avec la méthode `to_sql` du dataframe mais **avec l'option `if_exists='append'`**."
   ]
  },
  {
   "cell_type": "markdown",
   "id": "0105b908-fa95-408a-acc1-6f0bc2835425",
   "metadata": {},
   "source": [
    "# import des librairies"
   ]
  },
  {
   "cell_type": "code",
   "execution_count": 1,
   "id": "43426eb7-033d-4b87-9d52-e609dff4d430",
   "metadata": {},
   "outputs": [
    {
     "name": "stdout",
     "output_type": "stream",
     "text": [
      "Les imports se sont bien passés\n"
     ]
    }
   ],
   "source": [
    "### Librairie à installer dans l'environnement conda\n",
    "# qui sera choisi pour exécuter le carnet\n",
    "from SPARQLWrapper import SPARQLWrapper, SPARQLWrapper2, JSON, TURTLE, XML, RDFXML\n",
    "import pandas as pd\n",
    "import matplotlib.pyplot as plt\n",
    "import numpy as np\n",
    "\n",
    "### Librairies déjà installées avec Python\n",
    "import pprint\n",
    "import csv\n",
    "import sys\n",
    "\n",
    "import sqlite3 as sql\n",
    "\n",
    "import time\n",
    "import datetime\n",
    "from dateutil import parser\n",
    "\n",
    "from importlib import reload\n",
    "from shutil import copyfile\n",
    "\n",
    "### Importer un module de fonctions crées ad hoc\n",
    "##  ATTENTION : le fichier 'sparql_functions.py' doit se trouver \n",
    "#   dans un dossier qui se situe dans le chemin ('path') de recherche\n",
    "#   vu par le présent carnet Jupyter afin que\n",
    "#   l'importation fonctionne correctement\n",
    "\n",
    "# Add parent directory to the path\n",
    "sys.path.insert(0, '..')\n",
    "\n",
    "### If you want to add the parent-parent directory,\n",
    "# sys.path.insert(0, '../..')\n",
    "\n",
    "import sparql_functions as spqf\n",
    "\n",
    "print(\"Les imports se sont bien passés\")"
   ]
  },
  {
   "cell_type": "markdown",
   "id": "7496160f-481b-4c67-b6c7-cb8a64edb42a",
   "metadata": {},
   "source": [
    "# étape 1 - import des personnes dans un dataframe"
   ]
  },
  {
   "cell_type": "code",
   "execution_count": 2,
   "id": "5653685d-9aaf-40a3-80e1-6ce71805d6ee",
   "metadata": {},
   "outputs": [],
   "source": [
    "## define SPARQL enpoint\n",
    "endpoint = \"https://query.wikidata.org/sparql\""
   ]
  },
  {
   "cell_type": "code",
   "execution_count": 3,
   "id": "a6e4141f-debc-46b8-97b4-be15941a2a88",
   "metadata": {},
   "outputs": [
    {
     "name": "stdout",
     "output_type": "stream",
     "text": [
      "u nail it\n"
     ]
    }
   ],
   "source": [
    "query = \"\"\"\n",
    "SELECT DISTINCT ?item  ?itemLabel  ?gender ?birthYear ?partiUri\n",
    "        WHERE {\n",
    "            {\n",
    "         \n",
    "          {?item wdt:P39 wd:Q18510612} #p39 position held et Q18510612 pour conseil national\n",
    "            UNION\n",
    "            {?item wdt:P17 wd:Q39} # p17 country et Q39 switzerland\n",
    "         \n",
    "              }\n",
    "          \n",
    "          ?item wdt:P31 wd:Q5;  # Any instance of a human.\n",
    "              wdt:P569 ?birthDate;\n",
    "                wdt:P21 ?gender;\n",
    "                wdt:P102 ?partiUri;\n",
    "        BIND(REPLACE(str(?birthDate), \"(.*)([0-9]{4})(.*)\", \"$2\") AS ?birthYear)\n",
    "        FILTER(xsd:integer(?birthYear) > 1900 )\n",
    "\n",
    "          SERVICE wikibase:label { bd:serviceParam wikibase:language \"en\" }\n",
    "        } \n",
    "     ORDER BY ?birthYear\n",
    "\"\"\"\n",
    "\n",
    "print (\"u nail it\")"
   ]
  },
  {
   "cell_type": "code",
   "execution_count": 4,
   "id": "ca096c7b-6dc1-43df-83b1-1bdd35db48d3",
   "metadata": {},
   "outputs": [
    {
     "name": "stdout",
     "output_type": "stream",
     "text": [
      "tt est bon\n"
     ]
    }
   ],
   "source": [
    "### Executer la requête avec les fonctions de la librairie locale\n",
    "qr = spqf.get_json_sparql_result(endpoint,query)\n",
    "\n",
    "print (\"tt est bon\")"
   ]
  },
  {
   "cell_type": "code",
   "execution_count": 5,
   "id": "bc6022b1-9016-4a6e-ad0f-6b6823a72ef3",
   "metadata": {},
   "outputs": [
    {
     "name": "stdout",
     "output_type": "stream",
     "text": [
      "1147\n"
     ]
    },
    {
     "data": {
      "text/plain": [
       "[['http://www.wikidata.org/entity/Q120229',\n",
       "  'Robert Tobler',\n",
       "  'http://www.wikidata.org/entity/Q6581097',\n",
       "  '1901',\n",
       "  'http://www.wikidata.org/entity/Q672926'],\n",
       " ['http://www.wikidata.org/entity/Q120229',\n",
       "  'Robert Tobler',\n",
       "  'http://www.wikidata.org/entity/Q6581097',\n",
       "  '1901',\n",
       "  'http://www.wikidata.org/entity/Q684909'],\n",
       " ['http://www.wikidata.org/entity/Q120229',\n",
       "  'Robert Tobler',\n",
       "  'http://www.wikidata.org/entity/Q6581097',\n",
       "  '1901',\n",
       "  'http://www.wikidata.org/entity/Q13142801']]"
      ]
     },
     "execution_count": 5,
     "metadata": {},
     "output_type": "execute_result"
    }
   ],
   "source": [
    "r = [l for l in spqf.sparql_result_to_list(qr)]\n",
    "print(len(r))\n",
    "r[:3]"
   ]
  },
  {
   "cell_type": "code",
   "execution_count": 6,
   "id": "018b4f0c-91e2-4687-a10a-047361f09ebd",
   "metadata": {},
   "outputs": [
    {
     "data": {
      "text/html": [
       "<div>\n",
       "<style scoped>\n",
       "    .dataframe tbody tr th:only-of-type {\n",
       "        vertical-align: middle;\n",
       "    }\n",
       "\n",
       "    .dataframe tbody tr th {\n",
       "        vertical-align: top;\n",
       "    }\n",
       "\n",
       "    .dataframe thead th {\n",
       "        text-align: right;\n",
       "    }\n",
       "</style>\n",
       "<table border=\"1\" class=\"dataframe\">\n",
       "  <thead>\n",
       "    <tr style=\"text-align: right;\">\n",
       "      <th></th>\n",
       "      <th>personne_uri</th>\n",
       "      <th>nom_prenom</th>\n",
       "      <th>genre_uri</th>\n",
       "      <th>annee_naissance</th>\n",
       "      <th>parti_uri</th>\n",
       "    </tr>\n",
       "  </thead>\n",
       "  <tbody>\n",
       "    <tr>\n",
       "      <th>0</th>\n",
       "      <td>http://www.wikidata.org/entity/Q120229</td>\n",
       "      <td>Robert Tobler</td>\n",
       "      <td>http://www.wikidata.org/entity/Q6581097</td>\n",
       "      <td>1901</td>\n",
       "      <td>http://www.wikidata.org/entity/Q672926</td>\n",
       "    </tr>\n",
       "    <tr>\n",
       "      <th>1</th>\n",
       "      <td>http://www.wikidata.org/entity/Q120229</td>\n",
       "      <td>Robert Tobler</td>\n",
       "      <td>http://www.wikidata.org/entity/Q6581097</td>\n",
       "      <td>1901</td>\n",
       "      <td>http://www.wikidata.org/entity/Q684909</td>\n",
       "    </tr>\n",
       "    <tr>\n",
       "      <th>2</th>\n",
       "      <td>http://www.wikidata.org/entity/Q120229</td>\n",
       "      <td>Robert Tobler</td>\n",
       "      <td>http://www.wikidata.org/entity/Q6581097</td>\n",
       "      <td>1901</td>\n",
       "      <td>http://www.wikidata.org/entity/Q13142801</td>\n",
       "    </tr>\n",
       "    <tr>\n",
       "      <th>3</th>\n",
       "      <td>http://www.wikidata.org/entity/Q121118</td>\n",
       "      <td>Gabriel Despland</td>\n",
       "      <td>http://www.wikidata.org/entity/Q6581097</td>\n",
       "      <td>1901</td>\n",
       "      <td>http://www.wikidata.org/entity/Q13850128</td>\n",
       "    </tr>\n",
       "    <tr>\n",
       "      <th>4</th>\n",
       "      <td>http://www.wikidata.org/entity/Q122856</td>\n",
       "      <td>Joseph Ackermann</td>\n",
       "      <td>http://www.wikidata.org/entity/Q6581097</td>\n",
       "      <td>1901</td>\n",
       "      <td>http://www.wikidata.org/entity/Q667725</td>\n",
       "    </tr>\n",
       "  </tbody>\n",
       "</table>\n",
       "</div>"
      ],
      "text/plain": [
       "                             personne_uri        nom_prenom  \\\n",
       "0  http://www.wikidata.org/entity/Q120229     Robert Tobler   \n",
       "1  http://www.wikidata.org/entity/Q120229     Robert Tobler   \n",
       "2  http://www.wikidata.org/entity/Q120229     Robert Tobler   \n",
       "3  http://www.wikidata.org/entity/Q121118  Gabriel Despland   \n",
       "4  http://www.wikidata.org/entity/Q122856  Joseph Ackermann   \n",
       "\n",
       "                                 genre_uri annee_naissance  \\\n",
       "0  http://www.wikidata.org/entity/Q6581097            1901   \n",
       "1  http://www.wikidata.org/entity/Q6581097            1901   \n",
       "2  http://www.wikidata.org/entity/Q6581097            1901   \n",
       "3  http://www.wikidata.org/entity/Q6581097            1901   \n",
       "4  http://www.wikidata.org/entity/Q6581097            1901   \n",
       "\n",
       "                                  parti_uri  \n",
       "0    http://www.wikidata.org/entity/Q672926  \n",
       "1    http://www.wikidata.org/entity/Q684909  \n",
       "2  http://www.wikidata.org/entity/Q13142801  \n",
       "3  http://www.wikidata.org/entity/Q13850128  \n",
       "4    http://www.wikidata.org/entity/Q667725  "
      ]
     },
     "execution_count": 6,
     "metadata": {},
     "output_type": "execute_result"
    }
   ],
   "source": [
    "### Créer un DataFrame à partir du résultat\n",
    "df_personnes = pd.DataFrame(r)\n",
    "df_personnes.columns = ['personne_uri', 'nom_prenom', 'genre_uri', 'annee_naissance', 'parti_uri']\n",
    "df_personnes.head()"
   ]
  },
  {
   "cell_type": "code",
   "execution_count": 7,
   "id": "5887eee9-74fd-486c-a1ee-f4e10ad8e976",
   "metadata": {},
   "outputs": [
    {
     "name": "stdout",
     "output_type": "stream",
     "text": [
      "personne_uri       object\n",
      "nom_prenom         object\n",
      "genre_uri          object\n",
      "annee_naissance    object\n",
      "parti_uri          object\n",
      "dtype: object\n"
     ]
    }
   ],
   "source": [
    "print(df_personnes.dtypes)"
   ]
  },
  {
   "cell_type": "markdown",
   "id": "a7c634c3-6911-430b-9176-e37ca6e11e97",
   "metadata": {},
   "source": [
    "# étape 2 - nettoyage des données"
   ]
  },
  {
   "cell_type": "markdown",
   "id": "ba67d85c-1bd6-4af3-ac5e-2a5db9fbefc1",
   "metadata": {},
   "source": [
    "## transformer les années de naissance de str à int"
   ]
  },
  {
   "cell_type": "code",
   "execution_count": 8,
   "id": "2293c90f-6857-48bd-a23d-daf883265898",
   "metadata": {},
   "outputs": [],
   "source": [
    "def annee_naissance_int(annee_naissance):\n",
    "    return int(annee_naissance)\n",
    "\n",
    "### On ajoute une nouvelle colonne et y on met pour chaque ligne le résultat de la fonction\n",
    "df_personnes['annee_naissance'] = df_personnes.apply(lambda x: annee_naissance_int(x['annee_naissance']), axis=1)"
   ]
  },
  {
   "cell_type": "code",
   "execution_count": 9,
   "id": "0bc9d1ce-ab81-493e-96f6-12813973a831",
   "metadata": {},
   "outputs": [
    {
     "name": "stdout",
     "output_type": "stream",
     "text": [
      "personne_uri       object\n",
      "nom_prenom         object\n",
      "genre_uri          object\n",
      "annee_naissance     int64\n",
      "parti_uri          object\n",
      "dtype: object\n"
     ]
    }
   ],
   "source": [
    "print(df_personnes.dtypes)"
   ]
  },
  {
   "cell_type": "markdown",
   "id": "f5f5626b-222d-4d18-b826-2c376c09fc1b",
   "metadata": {},
   "source": [
    "## création du genCode"
   ]
  },
  {
   "cell_type": "code",
   "execution_count": 10,
   "id": "5a6a65dd-52e1-48dd-a12c-943bdda5725b",
   "metadata": {},
   "outputs": [],
   "source": [
    " def code_genre(genre_uri):\n",
    "    if genre_uri == 'http://www.wikidata.org/entity/Q6581097':\n",
    "        # genre masculin\n",
    "        a = 'M'\n",
    "    elif genre_uri =='http://www.wikidata.org/entity/Q6581072':\n",
    "        # genre féminin\n",
    "        a = 'F'\n",
    "    else :\n",
    "        return 'A'\n",
    "    return a  \n",
    "     \n",
    "### On ajoute une nouvelle colonne et y on met pour chaque ligne le résultat de la fonction\n",
    "df_personnes['genre_code'] = df_personnes.apply(lambda x: code_genre(x['genre_uri']), axis=1)"
   ]
  },
  {
   "cell_type": "code",
   "execution_count": 11,
   "id": "d587fc89-5bde-46de-8440-6c01085e2a82",
   "metadata": {},
   "outputs": [
    {
     "data": {
      "text/html": [
       "<div>\n",
       "<style scoped>\n",
       "    .dataframe tbody tr th:only-of-type {\n",
       "        vertical-align: middle;\n",
       "    }\n",
       "\n",
       "    .dataframe tbody tr th {\n",
       "        vertical-align: top;\n",
       "    }\n",
       "\n",
       "    .dataframe thead th {\n",
       "        text-align: right;\n",
       "    }\n",
       "</style>\n",
       "<table border=\"1\" class=\"dataframe\">\n",
       "  <thead>\n",
       "    <tr style=\"text-align: right;\">\n",
       "      <th></th>\n",
       "      <th>personne_uri</th>\n",
       "      <th>nom_prenom</th>\n",
       "      <th>genre_uri</th>\n",
       "      <th>annee_naissance</th>\n",
       "      <th>parti_uri</th>\n",
       "      <th>genre_code</th>\n",
       "    </tr>\n",
       "  </thead>\n",
       "  <tbody>\n",
       "    <tr>\n",
       "      <th>105</th>\n",
       "      <td>http://www.wikidata.org/entity/Q73909077</td>\n",
       "      <td>Liselotte Spreng</td>\n",
       "      <td>http://www.wikidata.org/entity/Q6581072</td>\n",
       "      <td>1912</td>\n",
       "      <td>http://www.wikidata.org/entity/Q13850128</td>\n",
       "      <td>F</td>\n",
       "    </tr>\n",
       "    <tr>\n",
       "      <th>109</th>\n",
       "      <td>http://www.wikidata.org/entity/Q78072982</td>\n",
       "      <td>Hanny Thalmann</td>\n",
       "      <td>http://www.wikidata.org/entity/Q6581072</td>\n",
       "      <td>1912</td>\n",
       "      <td>http://www.wikidata.org/entity/Q659461</td>\n",
       "      <td>F</td>\n",
       "    </tr>\n",
       "    <tr>\n",
       "      <th>120</th>\n",
       "      <td>http://www.wikidata.org/entity/Q1515691</td>\n",
       "      <td>Gertrud Spiess</td>\n",
       "      <td>http://www.wikidata.org/entity/Q6581072</td>\n",
       "      <td>1914</td>\n",
       "      <td>http://www.wikidata.org/entity/Q659461</td>\n",
       "      <td>F</td>\n",
       "    </tr>\n",
       "    <tr>\n",
       "      <th>135</th>\n",
       "      <td>http://www.wikidata.org/entity/Q1903085</td>\n",
       "      <td>Martha Ribi</td>\n",
       "      <td>http://www.wikidata.org/entity/Q6581072</td>\n",
       "      <td>1915</td>\n",
       "      <td>http://www.wikidata.org/entity/Q13850128</td>\n",
       "      <td>F</td>\n",
       "    </tr>\n",
       "    <tr>\n",
       "      <th>199</th>\n",
       "      <td>http://www.wikidata.org/entity/Q1330086</td>\n",
       "      <td>Elisabeth Lardelli</td>\n",
       "      <td>http://www.wikidata.org/entity/Q6581072</td>\n",
       "      <td>1921</td>\n",
       "      <td>http://www.wikidata.org/entity/Q385258</td>\n",
       "      <td>F</td>\n",
       "    </tr>\n",
       "  </tbody>\n",
       "</table>\n",
       "</div>"
      ],
      "text/plain": [
       "                                 personne_uri          nom_prenom  \\\n",
       "105  http://www.wikidata.org/entity/Q73909077    Liselotte Spreng   \n",
       "109  http://www.wikidata.org/entity/Q78072982      Hanny Thalmann   \n",
       "120   http://www.wikidata.org/entity/Q1515691      Gertrud Spiess   \n",
       "135   http://www.wikidata.org/entity/Q1903085         Martha Ribi   \n",
       "199   http://www.wikidata.org/entity/Q1330086  Elisabeth Lardelli   \n",
       "\n",
       "                                   genre_uri  annee_naissance  \\\n",
       "105  http://www.wikidata.org/entity/Q6581072             1912   \n",
       "109  http://www.wikidata.org/entity/Q6581072             1912   \n",
       "120  http://www.wikidata.org/entity/Q6581072             1914   \n",
       "135  http://www.wikidata.org/entity/Q6581072             1915   \n",
       "199  http://www.wikidata.org/entity/Q6581072             1921   \n",
       "\n",
       "                                    parti_uri genre_code  \n",
       "105  http://www.wikidata.org/entity/Q13850128          F  \n",
       "109    http://www.wikidata.org/entity/Q659461          F  \n",
       "120    http://www.wikidata.org/entity/Q659461          F  \n",
       "135  http://www.wikidata.org/entity/Q13850128          F  \n",
       "199    http://www.wikidata.org/entity/Q385258          F  "
      ]
     },
     "execution_count": 11,
     "metadata": {},
     "output_type": "execute_result"
    }
   ],
   "source": [
    "### On inspecte les cinq premières lignes qui ont la valeur 'F' = féminin\n",
    "df_personnes[df_personnes['genre_code']=='F'][:5]"
   ]
  },
  {
   "cell_type": "code",
   "execution_count": 12,
   "id": "8f10ff70-5a0f-453e-b8cc-59f07b4b9250",
   "metadata": {},
   "outputs": [
    {
     "name": "stdout",
     "output_type": "stream",
     "text": [
      "personne_uri       object\n",
      "nom_prenom         object\n",
      "genre_uri          object\n",
      "annee_naissance     int64\n",
      "parti_uri          object\n",
      "genre_code         object\n",
      "dtype: object\n"
     ]
    }
   ],
   "source": [
    "print(df_personnes.dtypes)"
   ]
  },
  {
   "cell_type": "markdown",
   "id": "2215dc0e-64f5-48d5-b2c1-172d861e07f8",
   "metadata": {},
   "source": [
    "## création du code_parti"
   ]
  },
  {
   "cell_type": "code",
   "execution_count": 13,
   "id": "154070b2-75dc-4403-a59c-3971d2aef0dc",
   "metadata": {},
   "outputs": [],
   "source": [
    "def code_parti(parti_uri):\n",
    "    if parti_uri == 'http://www.wikidata.org/entity/Q303745':\n",
    "        # PS\n",
    "        a = 'PS'\n",
    "    elif parti_uri =='http://www.wikidata.org/entity/Q385258':\n",
    "        # UDC\n",
    "        a = 'UDC'\n",
    "    elif parti_uri =='http://www.wikidata.org/entity/Q13850128':\n",
    "        # PRD\n",
    "        a = 'PRD'\n",
    "    elif parti_uri =='http://www.wikidata.org/entity/Q659461':\n",
    "        # PDC\n",
    "        a = 'PRD'\n",
    "    elif parti_uri =='http://www.wikidata.org/entity/Q659739':\n",
    "        # Les Verts\n",
    "        a = 'Verts'\n",
    "    elif parti_uri =='http://www.wikidata.org/entity/Q202638':\n",
    "        # PLR\n",
    "        a = 'PLR'\n",
    "    elif parti_uri =='http://www.wikidata.org/entity/Q667785':\n",
    "        # PLS\n",
    "        a = 'PLS'\n",
    "    elif parti_uri =='http://www.wikidata.org/entity/Q550295':\n",
    "        # alliance des indépendants\n",
    "        a = 'ALL_IND'\n",
    "    elif parti_uri =='http://www.wikidata.org/entity/Q545900':\n",
    "        # PVL\n",
    "        a = 'PVL'\n",
    "    elif parti_uri =='http://www.wikidata.org/entity/Q100934025':\n",
    "        # le centre\n",
    "        a = 'LC'\n",
    "    elif parti_uri =='http://www.wikidata.org/entity/Q151768':\n",
    "        # parti bourgeois démocrate\n",
    "        a = 'PBD'\n",
    "    elif parti_uri =='http://www.wikidata.org/entity/Q477228':\n",
    "        # parti des paysans et artisans indépendants\n",
    "        a = 'PAI'\n",
    "    elif parti_uri =='http://www.wikidata.org/entity/Q667718':\n",
    "        # parti évangélique suisse\n",
    "        a = 'PEV'\n",
    "    elif parti_uri =='http://www.wikidata.org/entity/Q661771':\n",
    "        # parti suisse du travail\n",
    "        a = 'PST'\n",
    "    elif parti_uri =='http://www.wikidata.org/entity/Q660046':\n",
    "        # démocrates suisse ou action nationale\n",
    "        a = 'DS'\n",
    "    elif parti_uri =='http://www.wikidata.org/entity/Q668101':\n",
    "        # ligue des Tessinois\n",
    "        a = 'lega'\n",
    "    elif parti_uri =='http://www.wikidata.org/entity/Q2145393':\n",
    "        # mouvement républicain\n",
    "        a = 'MR'\n",
    "    elif parti_uri =='http://www.wikidata.org/entity/Q667836':\n",
    "        # union démocratique fédérale\n",
    "        a = 'UDF'\n",
    "    elif parti_uri =='http://www.wikidata.org/entity/Q681843':\n",
    "        # parti démocrate suisse\n",
    "        a = 'PDS'\n",
    "    elif parti_uri =='http://www.wikidata.org/entity/Q667725':\n",
    "        # parti chrétien social\n",
    "        a = 'PDC'\n",
    "    elif parti_uri =='http://www.wikidata.org/entity/Q663580':\n",
    "        # mouvement citoyens genevois\n",
    "        a = 'MCG'\n",
    "    elif parti_uri =='http://www.wikidata.org/entity/Q362949':\n",
    "        # organisation progressistes de Suisse\n",
    "        a = 'POCH'\n",
    "    elif parti_uri =='http://www.wikidata.org/entity/Q327591':\n",
    "        # indépendant\n",
    "        a = 'IND'\n",
    "    elif parti_uri =='http://www.wikidata.org/entity/Q13124':\n",
    "        # parti libéral démocrate\n",
    "        a = 'FDP'\n",
    "    elif parti_uri =='http://www.wikidata.org/entity/Q684909':\n",
    "        # collection fédérale Eidgenössische Sammlung\n",
    "        a = 'CF'\n",
    "    elif parti_uri =='http://www.wikidata.org/entity/Q677491':\n",
    "        # mouvement socio-libéral\n",
    "        a = 'SLB'\n",
    "    elif parti_uri =='http://www.wikidata.org/entity/Q672946':\n",
    "        # parti suisse de la liberté\n",
    "        a = 'PSL'\n",
    "    elif parti_uri =='http://www.wikidata.org/entity/Q672926':\n",
    "        # front national\n",
    "        a = 'FN'\n",
    "    elif parti_uri =='http://www.wikidata.org/entity/Q3366732':\n",
    "        # parti socialiste autonome\n",
    "        a = 'PSA'\n",
    "    elif parti_uri =='http://www.wikidata.org/entity/Q3366188':\n",
    "        # parti chrétien-social indépendant\n",
    "        a = 'PCSI'\n",
    "    elif parti_uri =='http://www.wikidata.org/entity/Q286683':\n",
    "        # solidaritéS\n",
    "        a = 'Sol'\n",
    "    elif parti_uri =='http://www.wikidata.org/entity/Q255650':\n",
    "        # la Gauche alternative linke\n",
    "        a = 'AL'\n",
    "    elif parti_uri =='http://www.wikidata.org/entity/Q20012603':\n",
    "        # ensemble à gauche\n",
    "        a = 'EaG'\n",
    "    elif parti_uri =='http://www.wikidata.org/entity/Q13142801':\n",
    "        # Neue Front\n",
    "        a = 'NeF'\n",
    "    elif parti_uri =='http://www.wikidata.org/entity/Q1254507':\n",
    "        # alliance verte et sociale bernoise, grünes bündnis\n",
    "        a = 'GB'\n",
    "    elif parti_uri =='http://www.wikidata.org/entity/Q1186111':\n",
    "        # demokratisch-soziale partei\n",
    "        a = 'PDC'\n",
    "    elif parti_uri =='http://www.wikidata.org/entity/Q1084149':\n",
    "        # parti chrétien-social d'obwald\n",
    "        a = 'PCS'\n",
    "    elif parti_uri =='http://www.wikidata.org/entity/Q10594788':\n",
    "        # action nationale pour le peuple et la patrie\n",
    "        a = 'NA'\n",
    "    else:\n",
    "        return 'A'\n",
    "        \n",
    "    return a \n",
    "\n",
    "### On ajoute une nouvelle colonne et y on met pour chaque ligne le résultat de la fonction\n",
    "df_personnes['code_parti'] = df_personnes.apply(lambda x: code_parti(x['parti_uri']), axis=1)"
   ]
  },
  {
   "cell_type": "code",
   "execution_count": 14,
   "id": "95129b26-3ea6-4d6b-8460-0d19112d1db1",
   "metadata": {},
   "outputs": [
    {
     "data": {
      "text/html": [
       "<div>\n",
       "<style scoped>\n",
       "    .dataframe tbody tr th:only-of-type {\n",
       "        vertical-align: middle;\n",
       "    }\n",
       "\n",
       "    .dataframe tbody tr th {\n",
       "        vertical-align: top;\n",
       "    }\n",
       "\n",
       "    .dataframe thead th {\n",
       "        text-align: right;\n",
       "    }\n",
       "</style>\n",
       "<table border=\"1\" class=\"dataframe\">\n",
       "  <thead>\n",
       "    <tr style=\"text-align: right;\">\n",
       "      <th></th>\n",
       "      <th>personne_uri</th>\n",
       "      <th>nom_prenom</th>\n",
       "      <th>genre_uri</th>\n",
       "      <th>annee_naissance</th>\n",
       "      <th>parti_uri</th>\n",
       "      <th>genre_code</th>\n",
       "      <th>code_parti</th>\n",
       "    </tr>\n",
       "  </thead>\n",
       "  <tbody>\n",
       "    <tr>\n",
       "      <th>5</th>\n",
       "      <td>http://www.wikidata.org/entity/Q125303</td>\n",
       "      <td>Dewet Buri</td>\n",
       "      <td>http://www.wikidata.org/entity/Q6581097</td>\n",
       "      <td>1901</td>\n",
       "      <td>http://www.wikidata.org/entity/Q477228</td>\n",
       "      <td>M</td>\n",
       "      <td>PAI</td>\n",
       "    </tr>\n",
       "    <tr>\n",
       "      <th>34</th>\n",
       "      <td>http://www.wikidata.org/entity/Q2543940</td>\n",
       "      <td>Walter Degen</td>\n",
       "      <td>http://www.wikidata.org/entity/Q6581097</td>\n",
       "      <td>1904</td>\n",
       "      <td>http://www.wikidata.org/entity/Q477228</td>\n",
       "      <td>M</td>\n",
       "      <td>PAI</td>\n",
       "    </tr>\n",
       "    <tr>\n",
       "      <th>55</th>\n",
       "      <td>http://www.wikidata.org/entity/Q2173417</td>\n",
       "      <td>Rudolf Meier</td>\n",
       "      <td>http://www.wikidata.org/entity/Q6581097</td>\n",
       "      <td>1907</td>\n",
       "      <td>http://www.wikidata.org/entity/Q477228</td>\n",
       "      <td>M</td>\n",
       "      <td>PAI</td>\n",
       "    </tr>\n",
       "    <tr>\n",
       "      <th>75</th>\n",
       "      <td>http://www.wikidata.org/entity/Q23888175</td>\n",
       "      <td>Hans Weber</td>\n",
       "      <td>http://www.wikidata.org/entity/Q6581097</td>\n",
       "      <td>1908</td>\n",
       "      <td>http://www.wikidata.org/entity/Q477228</td>\n",
       "      <td>M</td>\n",
       "      <td>PAI</td>\n",
       "    </tr>\n",
       "    <tr>\n",
       "      <th>85</th>\n",
       "      <td>http://www.wikidata.org/entity/Q2039809</td>\n",
       "      <td>Otto Locher</td>\n",
       "      <td>http://www.wikidata.org/entity/Q6581097</td>\n",
       "      <td>1910</td>\n",
       "      <td>http://www.wikidata.org/entity/Q477228</td>\n",
       "      <td>M</td>\n",
       "      <td>PAI</td>\n",
       "    </tr>\n",
       "  </tbody>\n",
       "</table>\n",
       "</div>"
      ],
      "text/plain": [
       "                                personne_uri    nom_prenom  \\\n",
       "5     http://www.wikidata.org/entity/Q125303    Dewet Buri   \n",
       "34   http://www.wikidata.org/entity/Q2543940  Walter Degen   \n",
       "55   http://www.wikidata.org/entity/Q2173417  Rudolf Meier   \n",
       "75  http://www.wikidata.org/entity/Q23888175    Hans Weber   \n",
       "85   http://www.wikidata.org/entity/Q2039809   Otto Locher   \n",
       "\n",
       "                                  genre_uri  annee_naissance  \\\n",
       "5   http://www.wikidata.org/entity/Q6581097             1901   \n",
       "34  http://www.wikidata.org/entity/Q6581097             1904   \n",
       "55  http://www.wikidata.org/entity/Q6581097             1907   \n",
       "75  http://www.wikidata.org/entity/Q6581097             1908   \n",
       "85  http://www.wikidata.org/entity/Q6581097             1910   \n",
       "\n",
       "                                 parti_uri genre_code code_parti  \n",
       "5   http://www.wikidata.org/entity/Q477228          M        PAI  \n",
       "34  http://www.wikidata.org/entity/Q477228          M        PAI  \n",
       "55  http://www.wikidata.org/entity/Q477228          M        PAI  \n",
       "75  http://www.wikidata.org/entity/Q477228          M        PAI  \n",
       "85  http://www.wikidata.org/entity/Q477228          M        PAI  "
      ]
     },
     "execution_count": 14,
     "metadata": {},
     "output_type": "execute_result"
    }
   ],
   "source": [
    "### On inspecte les cinq premières lignes qui ont la valeur 'PAI' = xxx\n",
    "df_personnes[df_personnes['code_parti']=='PAI'][:5]"
   ]
  },
  {
   "cell_type": "markdown",
   "id": "101a2a3f-6b53-498f-8e9b-a69aa5e642e9",
   "metadata": {},
   "source": [
    "# étape 3 - Construire la liste des partis à partir de la liste des personnes"
   ]
  },
  {
   "cell_type": "code",
   "execution_count": 15,
   "id": "eabcd806-e945-4ab3-94d7-8a2c971601df",
   "metadata": {},
   "outputs": [
    {
     "name": "stdout",
     "output_type": "stream",
     "text": [
      "   parti_code                                  parti_uri\n",
      "0          FN     http://www.wikidata.org/entity/Q672926\n",
      "1          CF     http://www.wikidata.org/entity/Q684909\n",
      "2         NeF   http://www.wikidata.org/entity/Q13142801\n",
      "3         PRD   http://www.wikidata.org/entity/Q13850128\n",
      "4         PDC     http://www.wikidata.org/entity/Q667725\n",
      "5         PAI     http://www.wikidata.org/entity/Q477228\n",
      "6          PS     http://www.wikidata.org/entity/Q303745\n",
      "7         PLS     http://www.wikidata.org/entity/Q667785\n",
      "8         PDS     http://www.wikidata.org/entity/Q681843\n",
      "9     ALL_IND     http://www.wikidata.org/entity/Q550295\n",
      "10        FDP      http://www.wikidata.org/entity/Q13124\n",
      "11        PST     http://www.wikidata.org/entity/Q661771\n",
      "12         DS     http://www.wikidata.org/entity/Q660046\n",
      "13        UDC     http://www.wikidata.org/entity/Q385258\n",
      "14        PEV     http://www.wikidata.org/entity/Q667718\n",
      "15         MR    http://www.wikidata.org/entity/Q2145393\n",
      "16      Verts     http://www.wikidata.org/entity/Q659739\n",
      "17        PBD     http://www.wikidata.org/entity/Q151768\n",
      "18        IND     http://www.wikidata.org/entity/Q327591\n",
      "19         NA   http://www.wikidata.org/entity/Q10594788\n",
      "20        PSA    http://www.wikidata.org/entity/Q3366732\n",
      "21       PCSI    http://www.wikidata.org/entity/Q3366188\n",
      "22       lega     http://www.wikidata.org/entity/Q668101\n",
      "23        PLR     http://www.wikidata.org/entity/Q202638\n",
      "24       POCH     http://www.wikidata.org/entity/Q362949\n",
      "25        PSL     http://www.wikidata.org/entity/Q672946\n",
      "26        UDF     http://www.wikidata.org/entity/Q667836\n",
      "27        PVL     http://www.wikidata.org/entity/Q545900\n",
      "28        Sol     http://www.wikidata.org/entity/Q286683\n",
      "29         AL     http://www.wikidata.org/entity/Q255650\n",
      "30        PCS    http://www.wikidata.org/entity/Q1084149\n",
      "31         LC  http://www.wikidata.org/entity/Q100934025\n",
      "32        MCG     http://www.wikidata.org/entity/Q663580\n",
      "33        SLB     http://www.wikidata.org/entity/Q677491\n",
      "34         GB    http://www.wikidata.org/entity/Q1254507\n",
      "35        EaG   http://www.wikidata.org/entity/Q20012603\n"
     ]
    }
   ],
   "source": [
    "dict_partis = dict()\n",
    "\n",
    "for index, row in df_personnes.iterrows():\n",
    "    if row['code_parti'] not in dict_partis:\n",
    "        dict_partis[row['code_parti']] = row['parti_uri']\n",
    "\n",
    "df_partis = pd.DataFrame.from_dict({'parti_code': dict_partis.keys(), 'parti_uri': dict_partis.values()})\n",
    "\n",
    "print(df_partis)"
   ]
  },
  {
   "cell_type": "markdown",
   "id": "a5db947a-b24f-43db-a635-3fd808d5170a",
   "metadata": {},
   "source": [
    "# étape 4 - Créer la table des partis à partir du dataframe des partis"
   ]
  },
  {
   "cell_type": "code",
   "execution_count": 16,
   "id": "32b420ad-f674-4d97-96e1-d1a3e6f828d3",
   "metadata": {},
   "outputs": [
    {
     "data": {
      "text/plain": [
       "<sqlite3.Connection at 0x284bdd29b70>"
      ]
     },
     "execution_count": 16,
     "metadata": {},
     "output_type": "execute_result"
    }
   ],
   "source": [
    "### Se connecter à la base de données dans laquelle on va insérer\n",
    "# le résultat de la requête SPARQL\n",
    "cn = sql.connect('../../data/conseil_national_import.db')\n",
    "cn"
   ]
  },
  {
   "cell_type": "code",
   "execution_count": 17,
   "id": "5c9b487a-a3d7-4e01-a44e-b9ae12a96066",
   "metadata": {},
   "outputs": [],
   "source": [
    "### Tester une requête SQL sur une table existante\n",
    "cur = cn.cursor()\n",
    "l = cur.execute(\"SELECT * FROM person limit 3\").fetchall()"
   ]
  },
  {
   "cell_type": "code",
   "execution_count": 18,
   "id": "fb5e72c6-7e0f-482b-8b40-04d8cf0102d2",
   "metadata": {},
   "outputs": [
    {
     "name": "stdout",
     "output_type": "stream",
     "text": [
      "(1, 'http://www.wikidata.org/entity/Q118295', 'Tornare', 'Manuel', '1951-04-20T00:00:00Z', 'male', 'http://www.wikidata.org/entity/Q6581097')\n",
      "(2, 'http://www.wikidata.org/entity/Q118327', 'Fässler', 'Hildegard', '1951-06-22T00:00:00Z', 'female', 'http://www.wikidata.org/entity/Q6581072')\n",
      "(3, 'http://www.wikidata.org/entity/Q118380', 'Frösch', 'Therese', '1951-06-22T00:00:00Z', 'female', 'http://www.wikidata.org/entity/Q6581072')\n"
     ]
    },
    {
     "data": {
      "text/plain": [
       "[None, None, None]"
      ]
     },
     "execution_count": 18,
     "metadata": {},
     "output_type": "execute_result"
    }
   ],
   "source": [
    "[print(e) for e in l]"
   ]
  },
  {
   "cell_type": "code",
   "execution_count": 19,
   "id": "241c5184-1d2b-49ef-b354-201d42c0a39d",
   "metadata": {},
   "outputs": [
    {
     "name": "stdout",
     "output_type": "stream",
     "text": [
      "Erreur:  Execution failed on sql 'DROP TABLE \"wdt_partis\"': database is locked\n"
     ]
    }
   ],
   "source": [
    "### Créer une nouvelle table contenant le DataFrame\n",
    "# Si on tente de la recréer, alor qu'elle existe déjà,\n",
    "# un message d'erreur est renvoyé\n",
    "try:\n",
    "    l = df_partis.to_sql(name='wdt_partis', con=cn, if_exists='replace', index_label='id_pa')\n",
    "except Exception as e:\n",
    "    print('Erreur: ',  e)"
   ]
  },
  {
   "cell_type": "markdown",
   "id": "4b4251b0-da63-4722-bb71-ddab3f5b2929",
   "metadata": {},
   "source": [
    "# étape 6 - créer la table des personnes avec la contraintes fk_partis_index"
   ]
  },
  {
   "cell_type": "code",
   "execution_count": 20,
   "id": "7a88fcb3-cef8-4c03-90d9-f14645e7c141",
   "metadata": {},
   "outputs": [
    {
     "ename": "OperationalError",
     "evalue": "database is locked",
     "output_type": "error",
     "traceback": [
      "\u001b[1;31m---------------------------------------------------------------------------\u001b[0m",
      "\u001b[1;31mOperationalError\u001b[0m                          Traceback (most recent call last)",
      "Cell \u001b[1;32mIn[20], line 4\u001b[0m\n\u001b[0;32m      2\u001b[0m query \u001b[38;5;241m=\u001b[39m \u001b[38;5;124m\"\u001b[39m\u001b[38;5;124mDROP TABLE IF EXISTS wdt_personnes\u001b[39m\u001b[38;5;124m\"\u001b[39m\n\u001b[0;32m      3\u001b[0m cur \u001b[38;5;241m=\u001b[39m cn\u001b[38;5;241m.\u001b[39mcursor()\n\u001b[1;32m----> 4\u001b[0m cur\u001b[38;5;241m.\u001b[39mexecute(query)\n",
      "\u001b[1;31mOperationalError\u001b[0m: database is locked"
     ]
    }
   ],
   "source": [
    "# On supprime la table si elle est déjà là\n",
    "query = \"DROP TABLE IF EXISTS wdt_personnes\"\n",
    "cur = cn.cursor()\n",
    "cur.execute(query)"
   ]
  },
  {
   "cell_type": "code",
   "execution_count": 108,
   "id": "9a0a3440-8b86-4fb8-b474-f49beba6b725",
   "metadata": {},
   "outputs": [
    {
     "data": {
      "text/plain": [
       "<sqlite3.Cursor at 0x229cf35ad40>"
      ]
     },
     "execution_count": 108,
     "metadata": {},
     "output_type": "execute_result"
    }
   ],
   "source": [
    "query = \"\"\"\n",
    "CREATE TABLE wdt_personnes ( \n",
    " id INTEGER PRIMARY KEY, \n",
    " personne_uri TEXT,\n",
    " nom_prenom TEXT,\n",
    " genre_uri TEXT,\n",
    " genre_code TEXT,\n",
    " annee_naissance INTEGER,\n",
    " fk_parti_id INTEGER,\n",
    " FOREIGN KEY (fk_parti_id) REFERENCES wdt_partis(id_pa)\n",
    " )\n",
    " \"\"\"\n",
    "\n",
    "cur = cn.cursor()\n",
    "cur.execute(query)"
   ]
  },
  {
   "cell_type": "markdown",
   "id": "e79a3d94-d235-42f6-80fa-1028bf2fc11f",
   "metadata": {},
   "source": [
    "# étape 7 - insertion des individus dans la table wdt_personnes"
   ]
  },
  {
   "cell_type": "code",
   "execution_count": 109,
   "id": "4a12ead0-f6f4-4a87-8cfc-913dec59698e",
   "metadata": {},
   "outputs": [
    {
     "name": "stdout",
     "output_type": "stream",
     "text": [
      "13\n"
     ]
    }
   ],
   "source": [
    "def ajout_fk_parti_id(parti_code):\n",
    "    ligne_parti = df_partis.index[df_partis['parti_code']== parti_code].tolist()[0]\n",
    "    return ligne_parti\n",
    "\n",
    "print(ajout_fk_parti_id('UDC'))"
   ]
  },
  {
   "cell_type": "code",
   "execution_count": 110,
   "id": "73f086ac-e644-4a33-937a-a918ab3916fc",
   "metadata": {},
   "outputs": [],
   "source": [
    "### On ajoute une nouvelle colonne et y on met pour chaque ligne le résultat de la fonction\n",
    "df_personnes['fk_parti_id'] = df_personnes.apply(lambda x: ajout_fk_parti_id(x['code_parti']), axis=1)"
   ]
  },
  {
   "cell_type": "code",
   "execution_count": 111,
   "id": "73c20b8d-75cc-4d73-bd57-4bcfc47300f6",
   "metadata": {},
   "outputs": [
    {
     "data": {
      "text/html": [
       "<div>\n",
       "<style scoped>\n",
       "    .dataframe tbody tr th:only-of-type {\n",
       "        vertical-align: middle;\n",
       "    }\n",
       "\n",
       "    .dataframe tbody tr th {\n",
       "        vertical-align: top;\n",
       "    }\n",
       "\n",
       "    .dataframe thead th {\n",
       "        text-align: right;\n",
       "    }\n",
       "</style>\n",
       "<table border=\"1\" class=\"dataframe\">\n",
       "  <thead>\n",
       "    <tr style=\"text-align: right;\">\n",
       "      <th></th>\n",
       "      <th>personne_uri</th>\n",
       "      <th>nom_prenom</th>\n",
       "      <th>genre_uri</th>\n",
       "      <th>annee_naissance</th>\n",
       "      <th>parti_uri</th>\n",
       "      <th>genre_code</th>\n",
       "      <th>code_parti</th>\n",
       "      <th>fk_parti_id</th>\n",
       "    </tr>\n",
       "  </thead>\n",
       "  <tbody>\n",
       "    <tr>\n",
       "      <th>94</th>\n",
       "      <td>http://www.wikidata.org/entity/Q16101728</td>\n",
       "      <td>Otto Bretscher</td>\n",
       "      <td>http://www.wikidata.org/entity/Q6581097</td>\n",
       "      <td>1911</td>\n",
       "      <td>http://www.wikidata.org/entity/Q385258</td>\n",
       "      <td>M</td>\n",
       "      <td>UDC</td>\n",
       "      <td>13</td>\n",
       "    </tr>\n",
       "    <tr>\n",
       "      <th>114</th>\n",
       "      <td>http://www.wikidata.org/entity/Q1582102</td>\n",
       "      <td>Hans Roth</td>\n",
       "      <td>http://www.wikidata.org/entity/Q6581097</td>\n",
       "      <td>1913</td>\n",
       "      <td>http://www.wikidata.org/entity/Q385258</td>\n",
       "      <td>M</td>\n",
       "      <td>UDC</td>\n",
       "      <td>13</td>\n",
       "    </tr>\n",
       "    <tr>\n",
       "      <th>125</th>\n",
       "      <td>http://www.wikidata.org/entity/Q2543559</td>\n",
       "      <td>Walter Baumann</td>\n",
       "      <td>http://www.wikidata.org/entity/Q6581097</td>\n",
       "      <td>1914</td>\n",
       "      <td>http://www.wikidata.org/entity/Q385258</td>\n",
       "      <td>M</td>\n",
       "      <td>UDC</td>\n",
       "      <td>13</td>\n",
       "    </tr>\n",
       "    <tr>\n",
       "      <th>142</th>\n",
       "      <td>http://www.wikidata.org/entity/Q1579071</td>\n",
       "      <td>Hans Conzett</td>\n",
       "      <td>http://www.wikidata.org/entity/Q6581097</td>\n",
       "      <td>1915</td>\n",
       "      <td>http://www.wikidata.org/entity/Q385258</td>\n",
       "      <td>M</td>\n",
       "      <td>UDC</td>\n",
       "      <td>13</td>\n",
       "    </tr>\n",
       "    <tr>\n",
       "      <th>151</th>\n",
       "      <td>http://www.wikidata.org/entity/Q74448938</td>\n",
       "      <td>Georg Brosi</td>\n",
       "      <td>http://www.wikidata.org/entity/Q6581097</td>\n",
       "      <td>1916</td>\n",
       "      <td>http://www.wikidata.org/entity/Q385258</td>\n",
       "      <td>M</td>\n",
       "      <td>UDC</td>\n",
       "      <td>13</td>\n",
       "    </tr>\n",
       "  </tbody>\n",
       "</table>\n",
       "</div>"
      ],
      "text/plain": [
       "                                 personne_uri      nom_prenom  \\\n",
       "94   http://www.wikidata.org/entity/Q16101728  Otto Bretscher   \n",
       "114   http://www.wikidata.org/entity/Q1582102       Hans Roth   \n",
       "125   http://www.wikidata.org/entity/Q2543559  Walter Baumann   \n",
       "142   http://www.wikidata.org/entity/Q1579071    Hans Conzett   \n",
       "151  http://www.wikidata.org/entity/Q74448938     Georg Brosi   \n",
       "\n",
       "                                   genre_uri  annee_naissance  \\\n",
       "94   http://www.wikidata.org/entity/Q6581097             1911   \n",
       "114  http://www.wikidata.org/entity/Q6581097             1913   \n",
       "125  http://www.wikidata.org/entity/Q6581097             1914   \n",
       "142  http://www.wikidata.org/entity/Q6581097             1915   \n",
       "151  http://www.wikidata.org/entity/Q6581097             1916   \n",
       "\n",
       "                                  parti_uri genre_code code_parti  fk_parti_id  \n",
       "94   http://www.wikidata.org/entity/Q385258          M        UDC           13  \n",
       "114  http://www.wikidata.org/entity/Q385258          M        UDC           13  \n",
       "125  http://www.wikidata.org/entity/Q385258          M        UDC           13  \n",
       "142  http://www.wikidata.org/entity/Q385258          M        UDC           13  \n",
       "151  http://www.wikidata.org/entity/Q385258          M        UDC           13  "
      ]
     },
     "execution_count": 111,
     "metadata": {},
     "output_type": "execute_result"
    }
   ],
   "source": [
    "### On inspecte les cinq premières lignes qui ont la valeur 'PAI' = xxx\n",
    "df_personnes[df_personnes['code_parti']=='UDC'][:5]"
   ]
  },
  {
   "cell_type": "code",
   "execution_count": 117,
   "id": "9fe3b96a-d93f-483e-b481-49a4bf08120b",
   "metadata": {},
   "outputs": [],
   "source": [
    "df_personnes = df_personnes.drop(['code_parti', 'parti_uri'], axis=1)"
   ]
  },
  {
   "cell_type": "code",
   "execution_count": 118,
   "id": "8de0a15d-536e-4063-a479-81cd6ce113b5",
   "metadata": {},
   "outputs": [
    {
     "data": {
      "text/html": [
       "<div>\n",
       "<style scoped>\n",
       "    .dataframe tbody tr th:only-of-type {\n",
       "        vertical-align: middle;\n",
       "    }\n",
       "\n",
       "    .dataframe tbody tr th {\n",
       "        vertical-align: top;\n",
       "    }\n",
       "\n",
       "    .dataframe thead th {\n",
       "        text-align: right;\n",
       "    }\n",
       "</style>\n",
       "<table border=\"1\" class=\"dataframe\">\n",
       "  <thead>\n",
       "    <tr style=\"text-align: right;\">\n",
       "      <th></th>\n",
       "      <th>personne_uri</th>\n",
       "      <th>nom_prenom</th>\n",
       "      <th>genre_uri</th>\n",
       "      <th>annee_naissance</th>\n",
       "      <th>genre_code</th>\n",
       "      <th>fk_parti_id</th>\n",
       "    </tr>\n",
       "  </thead>\n",
       "  <tbody>\n",
       "    <tr>\n",
       "      <th>0</th>\n",
       "      <td>http://www.wikidata.org/entity/Q1447990</td>\n",
       "      <td>Franz Landolt</td>\n",
       "      <td>http://www.wikidata.org/entity/Q6581097</td>\n",
       "      <td>1901</td>\n",
       "      <td>M</td>\n",
       "      <td>0</td>\n",
       "    </tr>\n",
       "    <tr>\n",
       "      <th>1</th>\n",
       "      <td>http://www.wikidata.org/entity/Q122856</td>\n",
       "      <td>Joseph Ackermann</td>\n",
       "      <td>http://www.wikidata.org/entity/Q6581097</td>\n",
       "      <td>1901</td>\n",
       "      <td>M</td>\n",
       "      <td>1</td>\n",
       "    </tr>\n",
       "    <tr>\n",
       "      <th>2</th>\n",
       "      <td>http://www.wikidata.org/entity/Q125303</td>\n",
       "      <td>Dewet Buri</td>\n",
       "      <td>http://www.wikidata.org/entity/Q6581097</td>\n",
       "      <td>1901</td>\n",
       "      <td>M</td>\n",
       "      <td>2</td>\n",
       "    </tr>\n",
       "    <tr>\n",
       "      <th>3</th>\n",
       "      <td>http://www.wikidata.org/entity/Q1758783</td>\n",
       "      <td>Paul Schib</td>\n",
       "      <td>http://www.wikidata.org/entity/Q6581097</td>\n",
       "      <td>1901</td>\n",
       "      <td>M</td>\n",
       "      <td>3</td>\n",
       "    </tr>\n",
       "    <tr>\n",
       "      <th>4</th>\n",
       "      <td>http://www.wikidata.org/entity/Q120229</td>\n",
       "      <td>Robert Tobler</td>\n",
       "      <td>http://www.wikidata.org/entity/Q6581097</td>\n",
       "      <td>1901</td>\n",
       "      <td>M</td>\n",
       "      <td>4</td>\n",
       "    </tr>\n",
       "  </tbody>\n",
       "</table>\n",
       "</div>"
      ],
      "text/plain": [
       "                              personne_uri        nom_prenom  \\\n",
       "0  http://www.wikidata.org/entity/Q1447990     Franz Landolt   \n",
       "1   http://www.wikidata.org/entity/Q122856  Joseph Ackermann   \n",
       "2   http://www.wikidata.org/entity/Q125303        Dewet Buri   \n",
       "3  http://www.wikidata.org/entity/Q1758783        Paul Schib   \n",
       "4   http://www.wikidata.org/entity/Q120229     Robert Tobler   \n",
       "\n",
       "                                 genre_uri  annee_naissance genre_code  \\\n",
       "0  http://www.wikidata.org/entity/Q6581097             1901          M   \n",
       "1  http://www.wikidata.org/entity/Q6581097             1901          M   \n",
       "2  http://www.wikidata.org/entity/Q6581097             1901          M   \n",
       "3  http://www.wikidata.org/entity/Q6581097             1901          M   \n",
       "4  http://www.wikidata.org/entity/Q6581097             1901          M   \n",
       "\n",
       "   fk_parti_id  \n",
       "0            0  \n",
       "1            1  \n",
       "2            2  \n",
       "3            3  \n",
       "4            4  "
      ]
     },
     "execution_count": 118,
     "metadata": {},
     "output_type": "execute_result"
    }
   ],
   "source": [
    "df_personnes.head()"
   ]
  },
  {
   "cell_type": "code",
   "execution_count": 119,
   "id": "213c875b-929d-4599-aa6a-31e580e1995b",
   "metadata": {},
   "outputs": [],
   "source": [
    "### Créer une nouvelle table contenant le DataFrame\n",
    "# Si on tente de la recréer, alor qu'elle existe déjà,\n",
    "# un message d'erreur est renvoyé\n",
    "try:\n",
    "    l = df_personnes.to_sql(name='wdt_personnes', con=cn, if_exists='append', index_label='id')\n",
    "except Exception as e:\n",
    "    print('Erreur: ',  e)"
   ]
  },
  {
   "cell_type": "code",
   "execution_count": null,
   "id": "ac267e7e-e7fc-4e0d-bbbb-740073276c31",
   "metadata": {},
   "outputs": [],
   "source": []
  }
 ],
 "metadata": {
  "kernelspec": {
   "display_name": "py311_data_analysis",
   "language": "python",
   "name": "py311_data_analysis"
  },
  "language_info": {
   "codemirror_mode": {
    "name": "ipython",
    "version": 3
   },
   "file_extension": ".py",
   "mimetype": "text/x-python",
   "name": "python",
   "nbconvert_exporter": "python",
   "pygments_lexer": "ipython3",
   "version": "3.11.7"
  }
 },
 "nbformat": 4,
 "nbformat_minor": 5
}
