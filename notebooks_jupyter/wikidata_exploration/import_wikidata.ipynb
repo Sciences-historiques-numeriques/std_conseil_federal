{
 "cells": [
  {
   "cell_type": "markdown",
   "id": "2f6e744c-b572-4701-9362-98fcc8736240",
   "metadata": {},
   "source": [
    "# Notebook d'importation des données de Wikidata\n",
    "\n",
    "ce notebook sert de base pour la création des différentes tables utiles pour la base de données. il est structuré en fonction des données nécessaire à mon analyse"
   ]
  },
  {
   "cell_type": "markdown",
   "id": "0105b908-fa95-408a-acc1-6f0bc2835425",
   "metadata": {},
   "source": [
    "# import des librairies"
   ]
  },
  {
   "cell_type": "code",
   "execution_count": 1,
   "id": "43426eb7-033d-4b87-9d52-e609dff4d430",
   "metadata": {},
   "outputs": [
    {
     "name": "stdout",
     "output_type": "stream",
     "text": [
      "Les imports se sont bien passés\n"
     ]
    }
   ],
   "source": [
    "### Librairie à installer dans l'environnement conda\n",
    "# qui sera choisi pour exécuter le carnet\n",
    "from SPARQLWrapper import SPARQLWrapper, SPARQLWrapper2, JSON, TURTLE, XML, RDFXML\n",
    "import pandas as pd\n",
    "import matplotlib.pyplot as plt\n",
    "import numpy as np\n",
    "\n",
    "### Librairies déjà installées avec Python\n",
    "import pprint\n",
    "import csv\n",
    "import sys\n",
    "\n",
    "import sqlite3 as sql\n",
    "\n",
    "import time\n",
    "import datetime\n",
    "from dateutil import parser\n",
    "\n",
    "from importlib import reload\n",
    "from shutil import copyfile\n",
    "\n",
    "### Importer un module de fonctions crées ad hoc\n",
    "##  ATTENTION : le fichier 'sparql_functions.py' doit se trouver \n",
    "#   dans un dossier qui se situe dans le chemin ('path') de recherche\n",
    "#   vu par le présent carnet Jupyter afin que\n",
    "#   l'importation fonctionne correctement\n",
    "\n",
    "# Add parent directory to the path\n",
    "sys.path.insert(0, '..')\n",
    "\n",
    "### If you want to add the parent-parent directory,\n",
    "# sys.path.insert(0, '../..')\n",
    "\n",
    "import sparql_functions as spqf\n",
    "\n",
    "print(\"Les imports se sont bien passés\")"
   ]
  },
  {
   "cell_type": "markdown",
   "id": "1329dbca-172e-4e3d-ae14-63a601bed914",
   "metadata": {},
   "source": [
    "## table des personnes et des partis\n",
    "\n",
    "Déroulement de l'exécution du notebook:\n",
    "1. Récupérer les personnes avec leur parti\n",
    "2. Nettoyer les données (eg. annee_naissance doit être un integer et pas une chaîne de caractères)\n",
    "3. Construire la liste des partis à partir de la liste des personnes\n",
    "4. Créer la table des partis à partir du dataframe des partis:\n",
    "   - colonnes: id, code_parti, parti_uri\n",
    "5. On sauve les partis dans une table `wdt_partis`\n",
    "4. Créer la table des personne avec la contrainte fk_parti_id\n",
    "   ```sql\n",
    "   CREATE TABLE wdt_personnes ( \n",
    "    index INTEGER PRIMARY KEY, \n",
    "    person_uri TEXT,\n",
    "    nom_prenom TEXT,\n",
    "    genre_uri TEXT,\n",
    "    genre_code TEXT,\n",
    "    genre_label TEXT,\n",
    "    annee_naissance INTEGER,\n",
    "    FOREIGN KEY (fk_parti_index) REFERENCES wdt_partis(index)\n",
    "   );\n",
    "   ```\n",
    "6. On insert les personnes avec la méthode `to_sql` du dataframe mais **avec l'option `if_exists='append'`**."
   ]
  },
  {
   "cell_type": "markdown",
   "id": "7496160f-481b-4c67-b6c7-cb8a64edb42a",
   "metadata": {},
   "source": [
    "# étape 1 - import des personnes dans un dataframe"
   ]
  },
  {
   "cell_type": "code",
   "execution_count": 2,
   "id": "5653685d-9aaf-40a3-80e1-6ce71805d6ee",
   "metadata": {},
   "outputs": [],
   "source": [
    "## define SPARQL enpoint\n",
    "endpoint = \"https://query.wikidata.org/sparql\""
   ]
  },
  {
   "cell_type": "code",
   "execution_count": 3,
   "id": "a6e4141f-debc-46b8-97b4-be15941a2a88",
   "metadata": {},
   "outputs": [
    {
     "name": "stdout",
     "output_type": "stream",
     "text": [
      "u nail it\n"
     ]
    }
   ],
   "source": [
    "query = \"\"\"\n",
    "SELECT DISTINCT ?item  ?itemLabel  ?gender ?birthYear ?partiUri ?langues ?languesLabel\n",
    "        WHERE {\n",
    "            {\n",
    "         \n",
    "          {?item wdt:P39 wd:Q18510612} #p39 position held et Q18510612 pour conseil national\n",
    "            UNION\n",
    "            {?item wdt:P17 wd:Q39} # p17 country et Q39 switzerland\n",
    "         \n",
    "              }\n",
    "          \n",
    "          ?item wdt:P31 wd:Q5;  # Any instance of a human.\n",
    "              wdt:P569 ?birthDate;\n",
    "                wdt:P21 ?gender;\n",
    "                wdt:P102 ?partiUri;\n",
    "                wdt:P1412 ?langues;\n",
    "        BIND(REPLACE(str(?birthDate), \"(.*)([0-9]{4})(.*)\", \"$2\") AS ?birthYear)\n",
    "        FILTER(xsd:integer(?birthYear) > 1900 )\n",
    "\n",
    "          SERVICE wikibase:label { bd:serviceParam wikibase:language \"en\" }\n",
    "        } \n",
    "     ORDER BY ?birthYear\n",
    "\"\"\"\n",
    "\n",
    "print (\"u nail it\")"
   ]
  },
  {
   "cell_type": "code",
   "execution_count": 4,
   "id": "ca096c7b-6dc1-43df-83b1-1bdd35db48d3",
   "metadata": {},
   "outputs": [
    {
     "name": "stdout",
     "output_type": "stream",
     "text": [
      "tt est bon\n"
     ]
    }
   ],
   "source": [
    "### Executer la requête avec les fonctions de la librairie locale\n",
    "qr = spqf.get_json_sparql_result(endpoint,query)\n",
    "\n",
    "print (\"tt est bon\")"
   ]
  },
  {
   "cell_type": "code",
   "execution_count": 5,
   "id": "bc6022b1-9016-4a6e-ad0f-6b6823a72ef3",
   "metadata": {},
   "outputs": [
    {
     "name": "stdout",
     "output_type": "stream",
     "text": [
      "1170\n"
     ]
    },
    {
     "data": {
      "text/plain": [
       "[['http://www.wikidata.org/entity/Q120229',\n",
       "  'Robert Tobler',\n",
       "  'http://www.wikidata.org/entity/Q6581097',\n",
       "  '1901',\n",
       "  'http://www.wikidata.org/entity/Q672926',\n",
       "  'http://www.wikidata.org/entity/Q279350',\n",
       "  'Standard High German'],\n",
       " ['http://www.wikidata.org/entity/Q120229',\n",
       "  'Robert Tobler',\n",
       "  'http://www.wikidata.org/entity/Q6581097',\n",
       "  '1901',\n",
       "  'http://www.wikidata.org/entity/Q684909',\n",
       "  'http://www.wikidata.org/entity/Q279350',\n",
       "  'Standard High German'],\n",
       " ['http://www.wikidata.org/entity/Q120229',\n",
       "  'Robert Tobler',\n",
       "  'http://www.wikidata.org/entity/Q6581097',\n",
       "  '1901',\n",
       "  'http://www.wikidata.org/entity/Q13142801',\n",
       "  'http://www.wikidata.org/entity/Q279350',\n",
       "  'Standard High German']]"
      ]
     },
     "execution_count": 5,
     "metadata": {},
     "output_type": "execute_result"
    }
   ],
   "source": [
    "r = [l for l in spqf.sparql_result_to_list(qr)]\n",
    "print(len(r))\n",
    "r[:3]"
   ]
  },
  {
   "cell_type": "code",
   "execution_count": 7,
   "id": "018b4f0c-91e2-4687-a10a-047361f09ebd",
   "metadata": {},
   "outputs": [
    {
     "data": {
      "text/html": [
       "<div>\n",
       "<style scoped>\n",
       "    .dataframe tbody tr th:only-of-type {\n",
       "        vertical-align: middle;\n",
       "    }\n",
       "\n",
       "    .dataframe tbody tr th {\n",
       "        vertical-align: top;\n",
       "    }\n",
       "\n",
       "    .dataframe thead th {\n",
       "        text-align: right;\n",
       "    }\n",
       "</style>\n",
       "<table border=\"1\" class=\"dataframe\">\n",
       "  <thead>\n",
       "    <tr style=\"text-align: right;\">\n",
       "      <th></th>\n",
       "      <th>personne_uri</th>\n",
       "      <th>nom_prenom</th>\n",
       "      <th>genre_uri</th>\n",
       "      <th>annee_naissance</th>\n",
       "      <th>parti_uri</th>\n",
       "      <th>langue_uri</th>\n",
       "      <th>langue</th>\n",
       "    </tr>\n",
       "  </thead>\n",
       "  <tbody>\n",
       "    <tr>\n",
       "      <th>0</th>\n",
       "      <td>http://www.wikidata.org/entity/Q120229</td>\n",
       "      <td>Robert Tobler</td>\n",
       "      <td>http://www.wikidata.org/entity/Q6581097</td>\n",
       "      <td>1901</td>\n",
       "      <td>http://www.wikidata.org/entity/Q672926</td>\n",
       "      <td>http://www.wikidata.org/entity/Q279350</td>\n",
       "      <td>Standard High German</td>\n",
       "    </tr>\n",
       "    <tr>\n",
       "      <th>1</th>\n",
       "      <td>http://www.wikidata.org/entity/Q120229</td>\n",
       "      <td>Robert Tobler</td>\n",
       "      <td>http://www.wikidata.org/entity/Q6581097</td>\n",
       "      <td>1901</td>\n",
       "      <td>http://www.wikidata.org/entity/Q684909</td>\n",
       "      <td>http://www.wikidata.org/entity/Q279350</td>\n",
       "      <td>Standard High German</td>\n",
       "    </tr>\n",
       "    <tr>\n",
       "      <th>2</th>\n",
       "      <td>http://www.wikidata.org/entity/Q120229</td>\n",
       "      <td>Robert Tobler</td>\n",
       "      <td>http://www.wikidata.org/entity/Q6581097</td>\n",
       "      <td>1901</td>\n",
       "      <td>http://www.wikidata.org/entity/Q13142801</td>\n",
       "      <td>http://www.wikidata.org/entity/Q279350</td>\n",
       "      <td>Standard High German</td>\n",
       "    </tr>\n",
       "    <tr>\n",
       "      <th>3</th>\n",
       "      <td>http://www.wikidata.org/entity/Q120229</td>\n",
       "      <td>Robert Tobler</td>\n",
       "      <td>http://www.wikidata.org/entity/Q6581097</td>\n",
       "      <td>1901</td>\n",
       "      <td>http://www.wikidata.org/entity/Q672926</td>\n",
       "      <td>http://www.wikidata.org/entity/Q387066</td>\n",
       "      <td>Swiss German</td>\n",
       "    </tr>\n",
       "    <tr>\n",
       "      <th>4</th>\n",
       "      <td>http://www.wikidata.org/entity/Q120229</td>\n",
       "      <td>Robert Tobler</td>\n",
       "      <td>http://www.wikidata.org/entity/Q6581097</td>\n",
       "      <td>1901</td>\n",
       "      <td>http://www.wikidata.org/entity/Q684909</td>\n",
       "      <td>http://www.wikidata.org/entity/Q387066</td>\n",
       "      <td>Swiss German</td>\n",
       "    </tr>\n",
       "  </tbody>\n",
       "</table>\n",
       "</div>"
      ],
      "text/plain": [
       "                             personne_uri     nom_prenom  \\\n",
       "0  http://www.wikidata.org/entity/Q120229  Robert Tobler   \n",
       "1  http://www.wikidata.org/entity/Q120229  Robert Tobler   \n",
       "2  http://www.wikidata.org/entity/Q120229  Robert Tobler   \n",
       "3  http://www.wikidata.org/entity/Q120229  Robert Tobler   \n",
       "4  http://www.wikidata.org/entity/Q120229  Robert Tobler   \n",
       "\n",
       "                                 genre_uri annee_naissance  \\\n",
       "0  http://www.wikidata.org/entity/Q6581097            1901   \n",
       "1  http://www.wikidata.org/entity/Q6581097            1901   \n",
       "2  http://www.wikidata.org/entity/Q6581097            1901   \n",
       "3  http://www.wikidata.org/entity/Q6581097            1901   \n",
       "4  http://www.wikidata.org/entity/Q6581097            1901   \n",
       "\n",
       "                                  parti_uri  \\\n",
       "0    http://www.wikidata.org/entity/Q672926   \n",
       "1    http://www.wikidata.org/entity/Q684909   \n",
       "2  http://www.wikidata.org/entity/Q13142801   \n",
       "3    http://www.wikidata.org/entity/Q672926   \n",
       "4    http://www.wikidata.org/entity/Q684909   \n",
       "\n",
       "                               langue_uri                langue  \n",
       "0  http://www.wikidata.org/entity/Q279350  Standard High German  \n",
       "1  http://www.wikidata.org/entity/Q279350  Standard High German  \n",
       "2  http://www.wikidata.org/entity/Q279350  Standard High German  \n",
       "3  http://www.wikidata.org/entity/Q387066          Swiss German  \n",
       "4  http://www.wikidata.org/entity/Q387066          Swiss German  "
      ]
     },
     "execution_count": 7,
     "metadata": {},
     "output_type": "execute_result"
    }
   ],
   "source": [
    "### Créer un DataFrame à partir du résultat\n",
    "df_personnes = pd.DataFrame(r)\n",
    "df_personnes.columns = ['personne_uri', 'nom_prenom', 'genre_uri', 'annee_naissance', 'parti_uri', 'langue_uri', 'langue']\n",
    "df_personnes.head()"
   ]
  },
  {
   "cell_type": "code",
   "execution_count": 8,
   "id": "5887eee9-74fd-486c-a1ee-f4e10ad8e976",
   "metadata": {},
   "outputs": [
    {
     "name": "stdout",
     "output_type": "stream",
     "text": [
      "personne_uri       object\n",
      "nom_prenom         object\n",
      "genre_uri          object\n",
      "annee_naissance    object\n",
      "parti_uri          object\n",
      "langue_uri         object\n",
      "langue             object\n",
      "dtype: object\n"
     ]
    }
   ],
   "source": [
    "print(df_personnes.dtypes)"
   ]
  },
  {
   "cell_type": "markdown",
   "id": "a7c634c3-6911-430b-9176-e37ca6e11e97",
   "metadata": {},
   "source": [
    "# étape 2 - nettoyage des données"
   ]
  },
  {
   "cell_type": "markdown",
   "id": "ba67d85c-1bd6-4af3-ac5e-2a5db9fbefc1",
   "metadata": {},
   "source": [
    "## transformer les années de naissance de str à int"
   ]
  },
  {
   "cell_type": "code",
   "execution_count": 9,
   "id": "2293c90f-6857-48bd-a23d-daf883265898",
   "metadata": {},
   "outputs": [],
   "source": [
    "def annee_naissance_int(annee_naissance):\n",
    "    return int(annee_naissance)\n",
    "\n",
    "### On ajoute une nouvelle colonne et y on met pour chaque ligne le résultat de la fonction\n",
    "df_personnes['annee_naissance'] = df_personnes.apply(lambda x: annee_naissance_int(x['annee_naissance']), axis=1)"
   ]
  },
  {
   "cell_type": "code",
   "execution_count": 10,
   "id": "0bc9d1ce-ab81-493e-96f6-12813973a831",
   "metadata": {},
   "outputs": [
    {
     "name": "stdout",
     "output_type": "stream",
     "text": [
      "personne_uri       object\n",
      "nom_prenom         object\n",
      "genre_uri          object\n",
      "annee_naissance     int64\n",
      "parti_uri          object\n",
      "langue_uri         object\n",
      "langue             object\n",
      "dtype: object\n"
     ]
    }
   ],
   "source": [
    "print(df_personnes.dtypes)"
   ]
  },
  {
   "cell_type": "markdown",
   "id": "f5f5626b-222d-4d18-b826-2c376c09fc1b",
   "metadata": {},
   "source": [
    "## création du genCode"
   ]
  },
  {
   "cell_type": "code",
   "execution_count": 11,
   "id": "5a6a65dd-52e1-48dd-a12c-943bdda5725b",
   "metadata": {},
   "outputs": [],
   "source": [
    " def code_genre(genre_uri):\n",
    "    if genre_uri == 'http://www.wikidata.org/entity/Q6581097':\n",
    "        # genre masculin\n",
    "        a = 'M'\n",
    "    elif genre_uri =='http://www.wikidata.org/entity/Q6581072':\n",
    "        # genre féminin\n",
    "        a = 'F'\n",
    "    else :\n",
    "        return 'A'\n",
    "    return a  \n",
    "     \n",
    "### On ajoute une nouvelle colonne et y on met pour chaque ligne le résultat de la fonction\n",
    "df_personnes['genre_code'] = df_personnes.apply(lambda x: code_genre(x['genre_uri']), axis=1)"
   ]
  },
  {
   "cell_type": "code",
   "execution_count": 12,
   "id": "d587fc89-5bde-46de-8440-6c01085e2a82",
   "metadata": {},
   "outputs": [
    {
     "data": {
      "text/html": [
       "<div>\n",
       "<style scoped>\n",
       "    .dataframe tbody tr th:only-of-type {\n",
       "        vertical-align: middle;\n",
       "    }\n",
       "\n",
       "    .dataframe tbody tr th {\n",
       "        vertical-align: top;\n",
       "    }\n",
       "\n",
       "    .dataframe thead th {\n",
       "        text-align: right;\n",
       "    }\n",
       "</style>\n",
       "<table border=\"1\" class=\"dataframe\">\n",
       "  <thead>\n",
       "    <tr style=\"text-align: right;\">\n",
       "      <th></th>\n",
       "      <th>personne_uri</th>\n",
       "      <th>nom_prenom</th>\n",
       "      <th>genre_uri</th>\n",
       "      <th>annee_naissance</th>\n",
       "      <th>parti_uri</th>\n",
       "      <th>langue_uri</th>\n",
       "      <th>langue</th>\n",
       "      <th>genre_code</th>\n",
       "    </tr>\n",
       "  </thead>\n",
       "  <tbody>\n",
       "    <tr>\n",
       "      <th>110</th>\n",
       "      <td>http://www.wikidata.org/entity/Q1515691</td>\n",
       "      <td>Gertrud Spiess</td>\n",
       "      <td>http://www.wikidata.org/entity/Q6581072</td>\n",
       "      <td>1914</td>\n",
       "      <td>http://www.wikidata.org/entity/Q659461</td>\n",
       "      <td>http://www.wikidata.org/entity/Q188</td>\n",
       "      <td>German</td>\n",
       "      <td>F</td>\n",
       "    </tr>\n",
       "    <tr>\n",
       "      <th>114</th>\n",
       "      <td>http://www.wikidata.org/entity/Q1903085</td>\n",
       "      <td>Martha Ribi</td>\n",
       "      <td>http://www.wikidata.org/entity/Q6581072</td>\n",
       "      <td>1915</td>\n",
       "      <td>http://www.wikidata.org/entity/Q13850128</td>\n",
       "      <td>http://www.wikidata.org/entity/Q188</td>\n",
       "      <td>German</td>\n",
       "      <td>F</td>\n",
       "    </tr>\n",
       "    <tr>\n",
       "      <th>179</th>\n",
       "      <td>http://www.wikidata.org/entity/Q1944817</td>\n",
       "      <td>Monique Bauer-Lagier</td>\n",
       "      <td>http://www.wikidata.org/entity/Q6581072</td>\n",
       "      <td>1922</td>\n",
       "      <td>http://www.wikidata.org/entity/Q667785</td>\n",
       "      <td>http://www.wikidata.org/entity/Q150</td>\n",
       "      <td>French</td>\n",
       "      <td>F</td>\n",
       "    </tr>\n",
       "    <tr>\n",
       "      <th>182</th>\n",
       "      <td>http://www.wikidata.org/entity/Q1329797</td>\n",
       "      <td>Elisabeth Blunschy</td>\n",
       "      <td>http://www.wikidata.org/entity/Q6581072</td>\n",
       "      <td>1922</td>\n",
       "      <td>http://www.wikidata.org/entity/Q659461</td>\n",
       "      <td>http://www.wikidata.org/entity/Q150</td>\n",
       "      <td>French</td>\n",
       "      <td>F</td>\n",
       "    </tr>\n",
       "    <tr>\n",
       "      <th>183</th>\n",
       "      <td>http://www.wikidata.org/entity/Q1329797</td>\n",
       "      <td>Elisabeth Blunschy</td>\n",
       "      <td>http://www.wikidata.org/entity/Q6581072</td>\n",
       "      <td>1922</td>\n",
       "      <td>http://www.wikidata.org/entity/Q659461</td>\n",
       "      <td>http://www.wikidata.org/entity/Q188</td>\n",
       "      <td>German</td>\n",
       "      <td>F</td>\n",
       "    </tr>\n",
       "  </tbody>\n",
       "</table>\n",
       "</div>"
      ],
      "text/plain": [
       "                                personne_uri            nom_prenom  \\\n",
       "110  http://www.wikidata.org/entity/Q1515691        Gertrud Spiess   \n",
       "114  http://www.wikidata.org/entity/Q1903085           Martha Ribi   \n",
       "179  http://www.wikidata.org/entity/Q1944817  Monique Bauer-Lagier   \n",
       "182  http://www.wikidata.org/entity/Q1329797    Elisabeth Blunschy   \n",
       "183  http://www.wikidata.org/entity/Q1329797    Elisabeth Blunschy   \n",
       "\n",
       "                                   genre_uri  annee_naissance  \\\n",
       "110  http://www.wikidata.org/entity/Q6581072             1914   \n",
       "114  http://www.wikidata.org/entity/Q6581072             1915   \n",
       "179  http://www.wikidata.org/entity/Q6581072             1922   \n",
       "182  http://www.wikidata.org/entity/Q6581072             1922   \n",
       "183  http://www.wikidata.org/entity/Q6581072             1922   \n",
       "\n",
       "                                    parti_uri  \\\n",
       "110    http://www.wikidata.org/entity/Q659461   \n",
       "114  http://www.wikidata.org/entity/Q13850128   \n",
       "179    http://www.wikidata.org/entity/Q667785   \n",
       "182    http://www.wikidata.org/entity/Q659461   \n",
       "183    http://www.wikidata.org/entity/Q659461   \n",
       "\n",
       "                              langue_uri  langue genre_code  \n",
       "110  http://www.wikidata.org/entity/Q188  German          F  \n",
       "114  http://www.wikidata.org/entity/Q188  German          F  \n",
       "179  http://www.wikidata.org/entity/Q150  French          F  \n",
       "182  http://www.wikidata.org/entity/Q150  French          F  \n",
       "183  http://www.wikidata.org/entity/Q188  German          F  "
      ]
     },
     "execution_count": 12,
     "metadata": {},
     "output_type": "execute_result"
    }
   ],
   "source": [
    "### On inspecte les cinq premières lignes qui ont la valeur 'F' = féminin\n",
    "df_personnes[df_personnes['genre_code']=='F'][:5]"
   ]
  },
  {
   "cell_type": "code",
   "execution_count": 13,
   "id": "8f10ff70-5a0f-453e-b8cc-59f07b4b9250",
   "metadata": {},
   "outputs": [
    {
     "name": "stdout",
     "output_type": "stream",
     "text": [
      "personne_uri       object\n",
      "nom_prenom         object\n",
      "genre_uri          object\n",
      "annee_naissance     int64\n",
      "parti_uri          object\n",
      "langue_uri         object\n",
      "langue             object\n",
      "genre_code         object\n",
      "dtype: object\n"
     ]
    }
   ],
   "source": [
    "print(df_personnes.dtypes)"
   ]
  },
  {
   "cell_type": "markdown",
   "id": "2215dc0e-64f5-48d5-b2c1-172d861e07f8",
   "metadata": {},
   "source": [
    "## création du code_parti"
   ]
  },
  {
   "cell_type": "code",
   "execution_count": 14,
   "id": "154070b2-75dc-4403-a59c-3971d2aef0dc",
   "metadata": {},
   "outputs": [],
   "source": [
    "def code_parti(parti_uri):\n",
    "    if parti_uri == 'http://www.wikidata.org/entity/Q303745':\n",
    "        # PS\n",
    "        a = 'PS'\n",
    "    elif parti_uri =='http://www.wikidata.org/entity/Q385258':\n",
    "        # UDC\n",
    "        a = 'UDC'\n",
    "    elif parti_uri =='http://www.wikidata.org/entity/Q13850128':\n",
    "        # PRD\n",
    "        a = 'PRD'\n",
    "    elif parti_uri =='http://www.wikidata.org/entity/Q659461':\n",
    "        # PDC\n",
    "        a = 'PRD'\n",
    "    elif parti_uri =='http://www.wikidata.org/entity/Q659739':\n",
    "        # Les Verts\n",
    "        a = 'Verts'\n",
    "    elif parti_uri =='http://www.wikidata.org/entity/Q202638':\n",
    "        # PLR\n",
    "        a = 'PLR'\n",
    "    elif parti_uri =='http://www.wikidata.org/entity/Q667785':\n",
    "        # PLS\n",
    "        a = 'PLS'\n",
    "    elif parti_uri =='http://www.wikidata.org/entity/Q550295':\n",
    "        # alliance des indépendants\n",
    "        a = 'ALL_IND'\n",
    "    elif parti_uri =='http://www.wikidata.org/entity/Q545900':\n",
    "        # PVL\n",
    "        a = 'PVL'\n",
    "    elif parti_uri =='http://www.wikidata.org/entity/Q100934025':\n",
    "        # le centre\n",
    "        a = 'LC'\n",
    "    elif parti_uri =='http://www.wikidata.org/entity/Q151768':\n",
    "        # parti bourgeois démocrate\n",
    "        a = 'PBD'\n",
    "    elif parti_uri =='http://www.wikidata.org/entity/Q477228':\n",
    "        # parti des paysans et artisans indépendants\n",
    "        a = 'PAI'\n",
    "    elif parti_uri =='http://www.wikidata.org/entity/Q667718':\n",
    "        # parti évangélique suisse\n",
    "        a = 'PEV'\n",
    "    elif parti_uri =='http://www.wikidata.org/entity/Q661771':\n",
    "        # parti suisse du travail\n",
    "        a = 'PST'\n",
    "    elif parti_uri =='http://www.wikidata.org/entity/Q660046':\n",
    "        # démocrates suisse ou action nationale\n",
    "        a = 'DS'\n",
    "    elif parti_uri =='http://www.wikidata.org/entity/Q668101':\n",
    "        # ligue des Tessinois\n",
    "        a = 'lega'\n",
    "    elif parti_uri =='http://www.wikidata.org/entity/Q2145393':\n",
    "        # mouvement républicain\n",
    "        a = 'MR'\n",
    "    elif parti_uri =='http://www.wikidata.org/entity/Q667836':\n",
    "        # union démocratique fédérale\n",
    "        a = 'UDF'\n",
    "    elif parti_uri =='http://www.wikidata.org/entity/Q681843':\n",
    "        # parti démocrate suisse\n",
    "        a = 'PDS'\n",
    "    elif parti_uri =='http://www.wikidata.org/entity/Q667725':\n",
    "        # parti chrétien social\n",
    "        a = 'PDC'\n",
    "    elif parti_uri =='http://www.wikidata.org/entity/Q663580':\n",
    "        # mouvement citoyens genevois\n",
    "        a = 'MCG'\n",
    "    elif parti_uri =='http://www.wikidata.org/entity/Q362949':\n",
    "        # organisation progressistes de Suisse\n",
    "        a = 'POCH'\n",
    "    elif parti_uri =='http://www.wikidata.org/entity/Q327591':\n",
    "        # indépendant\n",
    "        a = 'IND'\n",
    "    elif parti_uri =='http://www.wikidata.org/entity/Q13124':\n",
    "        # parti libéral démocrate\n",
    "        a = 'FDP'\n",
    "    elif parti_uri =='http://www.wikidata.org/entity/Q684909':\n",
    "        # collection fédérale Eidgenössische Sammlung\n",
    "        a = 'CF'\n",
    "    elif parti_uri =='http://www.wikidata.org/entity/Q677491':\n",
    "        # mouvement socio-libéral\n",
    "        a = 'SLB'\n",
    "    elif parti_uri =='http://www.wikidata.org/entity/Q672946':\n",
    "        # parti suisse de la liberté\n",
    "        a = 'PSL'\n",
    "    elif parti_uri =='http://www.wikidata.org/entity/Q672926':\n",
    "        # front national\n",
    "        a = 'FN'\n",
    "    elif parti_uri =='http://www.wikidata.org/entity/Q3366732':\n",
    "        # parti socialiste autonome\n",
    "        a = 'PSA'\n",
    "    elif parti_uri =='http://www.wikidata.org/entity/Q3366188':\n",
    "        # parti chrétien-social indépendant\n",
    "        a = 'PCSI'\n",
    "    elif parti_uri =='http://www.wikidata.org/entity/Q286683':\n",
    "        # solidaritéS\n",
    "        a = 'Sol'\n",
    "    elif parti_uri =='http://www.wikidata.org/entity/Q255650':\n",
    "        # la Gauche alternative linke\n",
    "        a = 'AL'\n",
    "    elif parti_uri =='http://www.wikidata.org/entity/Q20012603':\n",
    "        # ensemble à gauche\n",
    "        a = 'EaG'\n",
    "    elif parti_uri =='http://www.wikidata.org/entity/Q13142801':\n",
    "        # Neue Front\n",
    "        a = 'NeF'\n",
    "    elif parti_uri =='http://www.wikidata.org/entity/Q1254507':\n",
    "        # alliance verte et sociale bernoise, grünes bündnis\n",
    "        a = 'GB'\n",
    "    elif parti_uri =='http://www.wikidata.org/entity/Q1186111':\n",
    "        # demokratisch-soziale partei\n",
    "        a = 'PDC'\n",
    "    elif parti_uri =='http://www.wikidata.org/entity/Q1084149':\n",
    "        # parti chrétien-social d'obwald\n",
    "        a = 'PCS'\n",
    "    elif parti_uri =='http://www.wikidata.org/entity/Q10594788':\n",
    "        # action nationale pour le peuple et la patrie\n",
    "        a = 'NA'\n",
    "    else:\n",
    "        return 'A'\n",
    "        \n",
    "    return a \n",
    "\n",
    "### On ajoute une nouvelle colonne et y on met pour chaque ligne le résultat de la fonction\n",
    "df_personnes['code_parti'] = df_personnes.apply(lambda x: code_parti(x['parti_uri']), axis=1)"
   ]
  },
  {
   "cell_type": "code",
   "execution_count": 15,
   "id": "95129b26-3ea6-4d6b-8460-0d19112d1db1",
   "metadata": {},
   "outputs": [
    {
     "data": {
      "text/html": [
       "<div>\n",
       "<style scoped>\n",
       "    .dataframe tbody tr th:only-of-type {\n",
       "        vertical-align: middle;\n",
       "    }\n",
       "\n",
       "    .dataframe tbody tr th {\n",
       "        vertical-align: top;\n",
       "    }\n",
       "\n",
       "    .dataframe thead th {\n",
       "        text-align: right;\n",
       "    }\n",
       "</style>\n",
       "<table border=\"1\" class=\"dataframe\">\n",
       "  <thead>\n",
       "    <tr style=\"text-align: right;\">\n",
       "      <th></th>\n",
       "      <th>personne_uri</th>\n",
       "      <th>nom_prenom</th>\n",
       "      <th>genre_uri</th>\n",
       "      <th>annee_naissance</th>\n",
       "      <th>parti_uri</th>\n",
       "      <th>langue_uri</th>\n",
       "      <th>langue</th>\n",
       "      <th>genre_code</th>\n",
       "      <th>code_parti</th>\n",
       "    </tr>\n",
       "  </thead>\n",
       "  <tbody>\n",
       "    <tr>\n",
       "      <th>12</th>\n",
       "      <td>http://www.wikidata.org/entity/Q125303</td>\n",
       "      <td>Dewet Buri</td>\n",
       "      <td>http://www.wikidata.org/entity/Q6581097</td>\n",
       "      <td>1901</td>\n",
       "      <td>http://www.wikidata.org/entity/Q477228</td>\n",
       "      <td>http://www.wikidata.org/entity/Q188</td>\n",
       "      <td>German</td>\n",
       "      <td>M</td>\n",
       "      <td>PAI</td>\n",
       "    </tr>\n",
       "    <tr>\n",
       "      <th>31</th>\n",
       "      <td>http://www.wikidata.org/entity/Q2543940</td>\n",
       "      <td>Walter Degen</td>\n",
       "      <td>http://www.wikidata.org/entity/Q6581097</td>\n",
       "      <td>1904</td>\n",
       "      <td>http://www.wikidata.org/entity/Q477228</td>\n",
       "      <td>http://www.wikidata.org/entity/Q188</td>\n",
       "      <td>German</td>\n",
       "      <td>M</td>\n",
       "      <td>PAI</td>\n",
       "    </tr>\n",
       "    <tr>\n",
       "      <th>47</th>\n",
       "      <td>http://www.wikidata.org/entity/Q2173417</td>\n",
       "      <td>Rudolf Meier</td>\n",
       "      <td>http://www.wikidata.org/entity/Q6581097</td>\n",
       "      <td>1907</td>\n",
       "      <td>http://www.wikidata.org/entity/Q477228</td>\n",
       "      <td>http://www.wikidata.org/entity/Q188</td>\n",
       "      <td>German</td>\n",
       "      <td>M</td>\n",
       "      <td>PAI</td>\n",
       "    </tr>\n",
       "    <tr>\n",
       "      <th>75</th>\n",
       "      <td>http://www.wikidata.org/entity/Q2039809</td>\n",
       "      <td>Otto Locher</td>\n",
       "      <td>http://www.wikidata.org/entity/Q6581097</td>\n",
       "      <td>1910</td>\n",
       "      <td>http://www.wikidata.org/entity/Q477228</td>\n",
       "      <td>http://www.wikidata.org/entity/Q188</td>\n",
       "      <td>German</td>\n",
       "      <td>M</td>\n",
       "      <td>PAI</td>\n",
       "    </tr>\n",
       "    <tr>\n",
       "      <th>88</th>\n",
       "      <td>http://www.wikidata.org/entity/Q16101728</td>\n",
       "      <td>Otto Bretscher</td>\n",
       "      <td>http://www.wikidata.org/entity/Q6581097</td>\n",
       "      <td>1911</td>\n",
       "      <td>http://www.wikidata.org/entity/Q477228</td>\n",
       "      <td>http://www.wikidata.org/entity/Q188</td>\n",
       "      <td>German</td>\n",
       "      <td>M</td>\n",
       "      <td>PAI</td>\n",
       "    </tr>\n",
       "  </tbody>\n",
       "</table>\n",
       "</div>"
      ],
      "text/plain": [
       "                                personne_uri      nom_prenom  \\\n",
       "12    http://www.wikidata.org/entity/Q125303      Dewet Buri   \n",
       "31   http://www.wikidata.org/entity/Q2543940    Walter Degen   \n",
       "47   http://www.wikidata.org/entity/Q2173417    Rudolf Meier   \n",
       "75   http://www.wikidata.org/entity/Q2039809     Otto Locher   \n",
       "88  http://www.wikidata.org/entity/Q16101728  Otto Bretscher   \n",
       "\n",
       "                                  genre_uri  annee_naissance  \\\n",
       "12  http://www.wikidata.org/entity/Q6581097             1901   \n",
       "31  http://www.wikidata.org/entity/Q6581097             1904   \n",
       "47  http://www.wikidata.org/entity/Q6581097             1907   \n",
       "75  http://www.wikidata.org/entity/Q6581097             1910   \n",
       "88  http://www.wikidata.org/entity/Q6581097             1911   \n",
       "\n",
       "                                 parti_uri  \\\n",
       "12  http://www.wikidata.org/entity/Q477228   \n",
       "31  http://www.wikidata.org/entity/Q477228   \n",
       "47  http://www.wikidata.org/entity/Q477228   \n",
       "75  http://www.wikidata.org/entity/Q477228   \n",
       "88  http://www.wikidata.org/entity/Q477228   \n",
       "\n",
       "                             langue_uri  langue genre_code code_parti  \n",
       "12  http://www.wikidata.org/entity/Q188  German          M        PAI  \n",
       "31  http://www.wikidata.org/entity/Q188  German          M        PAI  \n",
       "47  http://www.wikidata.org/entity/Q188  German          M        PAI  \n",
       "75  http://www.wikidata.org/entity/Q188  German          M        PAI  \n",
       "88  http://www.wikidata.org/entity/Q188  German          M        PAI  "
      ]
     },
     "execution_count": 15,
     "metadata": {},
     "output_type": "execute_result"
    }
   ],
   "source": [
    "### On inspecte les cinq premières lignes qui ont la valeur 'PAI' = xxx\n",
    "df_personnes[df_personnes['code_parti']=='PAI'][:5]"
   ]
  },
  {
   "cell_type": "markdown",
   "id": "35cec390-01e0-4f40-b4c7-ca0d24446307",
   "metadata": {},
   "source": [
    "## création code langues"
   ]
  },
  {
   "cell_type": "code",
   "execution_count": 25,
   "id": "a4ed87dd-336f-4705-81b3-6e70263061ff",
   "metadata": {},
   "outputs": [],
   "source": [
    "## ce code_langues permet de déterminer 3 langues et de regrouper toutes les mentions \n",
    "## de suisse allemand ou high standard german sous la catégorie 'allemand'\n",
    "\n",
    "def code_langue(langue_uri):\n",
    "    if langue_uri == 'http://www.wikidata.org/entity/Q652':\n",
    "        # italien\n",
    "        a = 'IT'\n",
    "    elif langue_uri =='http://www.wikidata.org/entity/Q150':\n",
    "        # français\n",
    "        a = 'FR'\n",
    "    elif langue_uri =='http://www.wikidata.org/entity/Q188\t':\n",
    "        # allemand\n",
    "        a = 'ALL'\n",
    "    else :\n",
    "        return 'ALL'\n",
    "    return a  \n",
    "     \n",
    "### On ajoute une nouvelle colonne et y on met pour chaque ligne le résultat de la fonction\n",
    "df_personnes['code_langue'] = df_personnes.apply(lambda x: code_langue(x['langue_uri']), axis=1)"
   ]
  },
  {
   "cell_type": "code",
   "execution_count": 26,
   "id": "7ef79676-9c9f-4f1d-bd8f-ac73dffc514a",
   "metadata": {},
   "outputs": [
    {
     "data": {
      "text/html": [
       "<div>\n",
       "<style scoped>\n",
       "    .dataframe tbody tr th:only-of-type {\n",
       "        vertical-align: middle;\n",
       "    }\n",
       "\n",
       "    .dataframe tbody tr th {\n",
       "        vertical-align: top;\n",
       "    }\n",
       "\n",
       "    .dataframe thead th {\n",
       "        text-align: right;\n",
       "    }\n",
       "</style>\n",
       "<table border=\"1\" class=\"dataframe\">\n",
       "  <thead>\n",
       "    <tr style=\"text-align: right;\">\n",
       "      <th></th>\n",
       "      <th>personne_uri</th>\n",
       "      <th>nom_prenom</th>\n",
       "      <th>genre_uri</th>\n",
       "      <th>annee_naissance</th>\n",
       "      <th>parti_uri</th>\n",
       "      <th>langue_uri</th>\n",
       "      <th>langue</th>\n",
       "      <th>genre_code</th>\n",
       "      <th>code_parti</th>\n",
       "      <th>code_langues</th>\n",
       "      <th>code_langue</th>\n",
       "    </tr>\n",
       "  </thead>\n",
       "  <tbody>\n",
       "    <tr>\n",
       "      <th>11</th>\n",
       "      <td>http://www.wikidata.org/entity/Q121118</td>\n",
       "      <td>Gabriel Despland</td>\n",
       "      <td>http://www.wikidata.org/entity/Q6581097</td>\n",
       "      <td>1901</td>\n",
       "      <td>http://www.wikidata.org/entity/Q13850128</td>\n",
       "      <td>http://www.wikidata.org/entity/Q150</td>\n",
       "      <td>French</td>\n",
       "      <td>M</td>\n",
       "      <td>PRD</td>\n",
       "      <td>FR</td>\n",
       "      <td>FR</td>\n",
       "    </tr>\n",
       "    <tr>\n",
       "      <th>13</th>\n",
       "      <td>http://www.wikidata.org/entity/Q15621580</td>\n",
       "      <td>Jacques Chamorel</td>\n",
       "      <td>http://www.wikidata.org/entity/Q6581097</td>\n",
       "      <td>1901</td>\n",
       "      <td>http://www.wikidata.org/entity/Q667785</td>\n",
       "      <td>http://www.wikidata.org/entity/Q150</td>\n",
       "      <td>French</td>\n",
       "      <td>M</td>\n",
       "      <td>PLS</td>\n",
       "      <td>FR</td>\n",
       "      <td>FR</td>\n",
       "    </tr>\n",
       "    <tr>\n",
       "      <th>17</th>\n",
       "      <td>http://www.wikidata.org/entity/Q116107</td>\n",
       "      <td>Jean Bourgknecht</td>\n",
       "      <td>http://www.wikidata.org/entity/Q6581097</td>\n",
       "      <td>1902</td>\n",
       "      <td>http://www.wikidata.org/entity/Q659461</td>\n",
       "      <td>http://www.wikidata.org/entity/Q150</td>\n",
       "      <td>French</td>\n",
       "      <td>M</td>\n",
       "      <td>PRD</td>\n",
       "      <td>FR</td>\n",
       "      <td>FR</td>\n",
       "    </tr>\n",
       "    <tr>\n",
       "      <th>19</th>\n",
       "      <td>http://www.wikidata.org/entity/Q23636365</td>\n",
       "      <td>René Villard</td>\n",
       "      <td>http://www.wikidata.org/entity/Q6581097</td>\n",
       "      <td>1902</td>\n",
       "      <td>http://www.wikidata.org/entity/Q303745</td>\n",
       "      <td>http://www.wikidata.org/entity/Q150</td>\n",
       "      <td>French</td>\n",
       "      <td>M</td>\n",
       "      <td>PS</td>\n",
       "      <td>FR</td>\n",
       "      <td>FR</td>\n",
       "    </tr>\n",
       "    <tr>\n",
       "      <th>20</th>\n",
       "      <td>http://www.wikidata.org/entity/Q119847</td>\n",
       "      <td>Jean Peitrequin</td>\n",
       "      <td>http://www.wikidata.org/entity/Q6581097</td>\n",
       "      <td>1902</td>\n",
       "      <td>http://www.wikidata.org/entity/Q13850128</td>\n",
       "      <td>http://www.wikidata.org/entity/Q150</td>\n",
       "      <td>French</td>\n",
       "      <td>M</td>\n",
       "      <td>PRD</td>\n",
       "      <td>FR</td>\n",
       "      <td>FR</td>\n",
       "    </tr>\n",
       "  </tbody>\n",
       "</table>\n",
       "</div>"
      ],
      "text/plain": [
       "                                personne_uri        nom_prenom  \\\n",
       "11    http://www.wikidata.org/entity/Q121118  Gabriel Despland   \n",
       "13  http://www.wikidata.org/entity/Q15621580  Jacques Chamorel   \n",
       "17    http://www.wikidata.org/entity/Q116107  Jean Bourgknecht   \n",
       "19  http://www.wikidata.org/entity/Q23636365      René Villard   \n",
       "20    http://www.wikidata.org/entity/Q119847   Jean Peitrequin   \n",
       "\n",
       "                                  genre_uri  annee_naissance  \\\n",
       "11  http://www.wikidata.org/entity/Q6581097             1901   \n",
       "13  http://www.wikidata.org/entity/Q6581097             1901   \n",
       "17  http://www.wikidata.org/entity/Q6581097             1902   \n",
       "19  http://www.wikidata.org/entity/Q6581097             1902   \n",
       "20  http://www.wikidata.org/entity/Q6581097             1902   \n",
       "\n",
       "                                   parti_uri  \\\n",
       "11  http://www.wikidata.org/entity/Q13850128   \n",
       "13    http://www.wikidata.org/entity/Q667785   \n",
       "17    http://www.wikidata.org/entity/Q659461   \n",
       "19    http://www.wikidata.org/entity/Q303745   \n",
       "20  http://www.wikidata.org/entity/Q13850128   \n",
       "\n",
       "                             langue_uri  langue genre_code code_parti  \\\n",
       "11  http://www.wikidata.org/entity/Q150  French          M        PRD   \n",
       "13  http://www.wikidata.org/entity/Q150  French          M        PLS   \n",
       "17  http://www.wikidata.org/entity/Q150  French          M        PRD   \n",
       "19  http://www.wikidata.org/entity/Q150  French          M         PS   \n",
       "20  http://www.wikidata.org/entity/Q150  French          M        PRD   \n",
       "\n",
       "   code_langues code_langue  \n",
       "11           FR          FR  \n",
       "13           FR          FR  \n",
       "17           FR          FR  \n",
       "19           FR          FR  \n",
       "20           FR          FR  "
      ]
     },
     "execution_count": 26,
     "metadata": {},
     "output_type": "execute_result"
    }
   ],
   "source": [
    "### On inspecte les cinq premières lignes qui ont la valeur 'FR' = français\n",
    "df_personnes[df_personnes['code_langue']=='FR'][:5]"
   ]
  },
  {
   "cell_type": "markdown",
   "id": "101a2a3f-6b53-498f-8e9b-a69aa5e642e9",
   "metadata": {},
   "source": [
    "# étape 3A - Construire la liste des partis à partir de la liste des personnes"
   ]
  },
  {
   "cell_type": "code",
   "execution_count": 27,
   "id": "eabcd806-e945-4ab3-94d7-8a2c971601df",
   "metadata": {},
   "outputs": [
    {
     "name": "stdout",
     "output_type": "stream",
     "text": [
      "   parti_code                                  parti_uri\n",
      "0          FN     http://www.wikidata.org/entity/Q672926\n",
      "1          CF     http://www.wikidata.org/entity/Q684909\n",
      "2         NeF   http://www.wikidata.org/entity/Q13142801\n",
      "3         PRD     http://www.wikidata.org/entity/Q659461\n",
      "4          PS     http://www.wikidata.org/entity/Q303745\n",
      "5         PAI     http://www.wikidata.org/entity/Q477228\n",
      "6         PLS     http://www.wikidata.org/entity/Q667785\n",
      "7     ALL_IND     http://www.wikidata.org/entity/Q550295\n",
      "8         PDS     http://www.wikidata.org/entity/Q681843\n",
      "9          DS     http://www.wikidata.org/entity/Q660046\n",
      "10        UDC     http://www.wikidata.org/entity/Q385258\n",
      "11         MR    http://www.wikidata.org/entity/Q2145393\n",
      "12        PST     http://www.wikidata.org/entity/Q661771\n",
      "13        FDP      http://www.wikidata.org/entity/Q13124\n",
      "14        PEV     http://www.wikidata.org/entity/Q667718\n",
      "15      Verts     http://www.wikidata.org/entity/Q659739\n",
      "16        PBD     http://www.wikidata.org/entity/Q151768\n",
      "17        IND     http://www.wikidata.org/entity/Q327591\n",
      "18         NA   http://www.wikidata.org/entity/Q10594788\n",
      "19        PSA    http://www.wikidata.org/entity/Q3366732\n",
      "20       PCSI    http://www.wikidata.org/entity/Q3366188\n",
      "21        PDC     http://www.wikidata.org/entity/Q667725\n",
      "22       POCH     http://www.wikidata.org/entity/Q362949\n",
      "23        PLR     http://www.wikidata.org/entity/Q202638\n",
      "24       lega     http://www.wikidata.org/entity/Q668101\n",
      "25        PSL     http://www.wikidata.org/entity/Q672946\n",
      "26        UDF     http://www.wikidata.org/entity/Q667836\n",
      "27        PVL     http://www.wikidata.org/entity/Q545900\n",
      "28         AL     http://www.wikidata.org/entity/Q255650\n",
      "29        PCS    http://www.wikidata.org/entity/Q1084149\n",
      "30         LC  http://www.wikidata.org/entity/Q100934025\n",
      "31        MCG     http://www.wikidata.org/entity/Q663580\n",
      "32        SLB     http://www.wikidata.org/entity/Q677491\n",
      "33         GB    http://www.wikidata.org/entity/Q1254507\n",
      "34        EaG   http://www.wikidata.org/entity/Q20012603\n"
     ]
    }
   ],
   "source": [
    "dict_partis = dict()\n",
    "\n",
    "for index, row in df_personnes.iterrows():\n",
    "    if row['code_parti'] not in dict_partis:\n",
    "        dict_partis[row['code_parti']] = row['parti_uri']\n",
    "\n",
    "df_partis = pd.DataFrame.from_dict({'parti_code': dict_partis.keys(), 'parti_uri': dict_partis.values()})\n",
    "\n",
    "print(df_partis)"
   ]
  },
  {
   "cell_type": "markdown",
   "id": "cc2d0085-d7ea-4738-9212-7562a6f6d81e",
   "metadata": {},
   "source": [
    "# étape 3B - Construire la liste des langues à partir de la liste des personnes"
   ]
  },
  {
   "cell_type": "code",
   "execution_count": 33,
   "id": "820905d0-adf7-4833-a865-cabdba938a41",
   "metadata": {},
   "outputs": [
    {
     "name": "stdout",
     "output_type": "stream",
     "text": [
      "  code_langue                              langue_uri\n",
      "0         ALL  http://www.wikidata.org/entity/Q279350\n",
      "1          FR     http://www.wikidata.org/entity/Q150\n",
      "2          IT     http://www.wikidata.org/entity/Q652\n"
     ]
    }
   ],
   "source": [
    "dict_langues = dict()\n",
    "\n",
    "for index, row in df_personnes.iterrows():\n",
    "    if row['code_langue'] not in dict_langues:\n",
    "        dict_langues[row['code_langue']] = row['langue_uri']\n",
    "\n",
    "df_langues = pd.DataFrame.from_dict({'code_langue': dict_langues.keys(), 'langue_uri': dict_langues.values()})\n",
    "\n",
    "print(df_langues)"
   ]
  },
  {
   "cell_type": "markdown",
   "id": "a5db947a-b24f-43db-a635-3fd808d5170a",
   "metadata": {},
   "source": [
    "# étape 4A - Créer la table des partis à partir du dataframe des partis"
   ]
  },
  {
   "cell_type": "code",
   "execution_count": 34,
   "id": "32b420ad-f674-4d97-96e1-d1a3e6f828d3",
   "metadata": {},
   "outputs": [
    {
     "data": {
      "text/plain": [
       "<sqlite3.Connection at 0x1488ee1e5c0>"
      ]
     },
     "execution_count": 34,
     "metadata": {},
     "output_type": "execute_result"
    }
   ],
   "source": [
    "### Se connecter à la base de données dans laquelle on va insérer\n",
    "# le résultat de la requête SPARQL\n",
    "cn = sql.connect('../../data/conseil_national_import.db')\n",
    "cn"
   ]
  },
  {
   "cell_type": "code",
   "execution_count": 35,
   "id": "5c9b487a-a3d7-4e01-a44e-b9ae12a96066",
   "metadata": {},
   "outputs": [],
   "source": [
    "### Tester une requête SQL sur une table existante\n",
    "cur = cn.cursor()\n",
    "l = cur.execute(\"SELECT * FROM person limit 3\").fetchall()"
   ]
  },
  {
   "cell_type": "code",
   "execution_count": 36,
   "id": "fb5e72c6-7e0f-482b-8b40-04d8cf0102d2",
   "metadata": {},
   "outputs": [
    {
     "name": "stdout",
     "output_type": "stream",
     "text": [
      "(1, 'http://www.wikidata.org/entity/Q118295', 'Tornare', 'Manuel', '1951-04-20T00:00:00Z', 'male', 'http://www.wikidata.org/entity/Q6581097')\n",
      "(2, 'http://www.wikidata.org/entity/Q118327', 'Fässler', 'Hildegard', '1951-06-22T00:00:00Z', 'female', 'http://www.wikidata.org/entity/Q6581072')\n",
      "(3, 'http://www.wikidata.org/entity/Q118380', 'Frösch', 'Therese', '1951-06-22T00:00:00Z', 'female', 'http://www.wikidata.org/entity/Q6581072')\n"
     ]
    },
    {
     "data": {
      "text/plain": [
       "[None, None, None]"
      ]
     },
     "execution_count": 36,
     "metadata": {},
     "output_type": "execute_result"
    }
   ],
   "source": [
    "[print(e) for e in l]"
   ]
  },
  {
   "cell_type": "code",
   "execution_count": 37,
   "id": "241c5184-1d2b-49ef-b354-201d42c0a39d",
   "metadata": {},
   "outputs": [],
   "source": [
    "### Créer une nouvelle table contenant le DataFrame\n",
    "# Si on tente de la recréer, alor qu'elle existe déjà,\n",
    "# un message d'erreur est renvoyé\n",
    "try:\n",
    "    l = df_partis.to_sql(name='wdt_partis', con=cn, if_exists='replace', index_label='id_pa')\n",
    "except Exception as e:\n",
    "    print('Erreur: ',  e)"
   ]
  },
  {
   "cell_type": "markdown",
   "id": "309c848b-0849-4e96-a75b-7c24694db7d8",
   "metadata": {},
   "source": [
    "# étape 4B - Créer la table des langues à partir du dataframe des langues"
   ]
  },
  {
   "cell_type": "code",
   "execution_count": 38,
   "id": "c1d41827-8960-425e-9da6-4e108779617c",
   "metadata": {},
   "outputs": [],
   "source": [
    "### Créer une nouvelle table contenant le DataFrame\n",
    "# Si on tente de la recréer, alor qu'elle existe déjà,\n",
    "# un message d'erreur est renvoyé\n",
    "try:\n",
    "    l = df_langues.to_sql(name='wdt_langues', con=cn, if_exists='replace', index_label='id_la')\n",
    "except Exception as e:\n",
    "    print('Erreur: ',  e)"
   ]
  },
  {
   "cell_type": "code",
   "execution_count": null,
   "id": "2c7eda80-6e1c-45f3-b0b7-4ec4230765bf",
   "metadata": {},
   "outputs": [],
   "source": []
  },
  {
   "cell_type": "markdown",
   "id": "de173e7e-22d6-4d34-9b5f-1fe194a48712",
   "metadata": {},
   "source": [
    "# étape 5 - se connecter à la base de données pour prendre la table `wdt_personnes`"
   ]
  },
  {
   "cell_type": "code",
   "execution_count": 39,
   "id": "df67e9ef-230b-45a5-9bc7-1542a29288e6",
   "metadata": {},
   "outputs": [
    {
     "data": {
      "text/plain": [
       "<sqlite3.Connection at 0x1489a929030>"
      ]
     },
     "execution_count": 39,
     "metadata": {},
     "output_type": "execute_result"
    }
   ],
   "source": [
    "cn = sql.connect('../../data/conseil_national_import.db')\n",
    "cn"
   ]
  },
  {
   "cell_type": "code",
   "execution_count": 40,
   "id": "28cf4e9e-3aee-4fba-a389-305a556bc3c4",
   "metadata": {},
   "outputs": [],
   "source": [
    "### On récupère tout la table et on la met dans la list 'l'\n",
    "cur = cn.cursor()\n",
    "l = cur.execute(\"SELECT * FROM wdt_personnes limit 3 \").fetchall()"
   ]
  },
  {
   "cell_type": "code",
   "execution_count": 41,
   "id": "460c02e7-c371-4811-859e-52580a04c3d2",
   "metadata": {},
   "outputs": [
    {
     "name": "stdout",
     "output_type": "stream",
     "text": [
      "(0, 'http://www.wikidata.org/entity/Q1447990', 'Franz Landolt', 'http://www.wikidata.org/entity/Q6581097', 'M', 1901, 0, None)\n",
      "(1, 'http://www.wikidata.org/entity/Q122856', 'Joseph Ackermann', 'http://www.wikidata.org/entity/Q6581097', 'M', 1901, 1, None)\n",
      "(2, 'http://www.wikidata.org/entity/Q125303', 'Dewet Buri', 'http://www.wikidata.org/entity/Q6581097', 'M', 1901, 2, None)\n"
     ]
    },
    {
     "data": {
      "text/plain": [
       "[None, None, None]"
      ]
     },
     "execution_count": 41,
     "metadata": {},
     "output_type": "execute_result"
    }
   ],
   "source": [
    "[print(e) for e in l]"
   ]
  },
  {
   "cell_type": "code",
   "execution_count": null,
   "id": "d5b6e598-bc2a-41c9-aee3-2cd5dacd8546",
   "metadata": {},
   "outputs": [],
   "source": []
  },
  {
   "cell_type": "markdown",
   "id": "4b4251b0-da63-4722-bb71-ddab3f5b2929",
   "metadata": {},
   "source": [
    "# étape 6 - créer la table des personnes avec la contraintes fk_partis_index fk_langues_infdex"
   ]
  },
  {
   "cell_type": "code",
   "execution_count": 65,
   "id": "7a88fcb3-cef8-4c03-90d9-f14645e7c141",
   "metadata": {},
   "outputs": [
    {
     "data": {
      "text/plain": [
       "<sqlite3.Cursor at 0x1489aa33bc0>"
      ]
     },
     "execution_count": 65,
     "metadata": {},
     "output_type": "execute_result"
    }
   ],
   "source": [
    "# On supprime la table si elle est déjà là\n",
    "query = \"DROP TABLE IF EXISTS wdt_personnes\"\n",
    "cur = cn.cursor()\n",
    "cur.execute(query)"
   ]
  },
  {
   "cell_type": "code",
   "execution_count": 66,
   "id": "9a0a3440-8b86-4fb8-b474-f49beba6b725",
   "metadata": {},
   "outputs": [
    {
     "data": {
      "text/plain": [
       "<sqlite3.Cursor at 0x1489aa7c7c0>"
      ]
     },
     "execution_count": 66,
     "metadata": {},
     "output_type": "execute_result"
    }
   ],
   "source": [
    "query = \"\"\"\n",
    "CREATE TABLE wdt_personnes ( \n",
    " id INTEGER PRIMARY KEY, \n",
    " personne_uri TEXT,\n",
    " nom_prenom TEXT,\n",
    " genre_uri TEXT,\n",
    " genre_code TEXT,\n",
    " annee_naissance INTEGER,\n",
    " fk_parti_id INTEGER,\n",
    " fk_langue_id INTEGER,\n",
    " FOREIGN KEY (fk_parti_id) REFERENCES wdt_partis(id),\n",
    " FOREIGN KEY (fk_langue_id) REFERENCES wdt_langues(id)\n",
    ")\n",
    " \"\"\"\n",
    "\n",
    "cur = cn.cursor()\n",
    "cur.execute(query)"
   ]
  },
  {
   "cell_type": "markdown",
   "id": "e79a3d94-d235-42f6-80fa-1028bf2fc11f",
   "metadata": {},
   "source": [
    "# étape 7A- insertion des partis dans la table wdt_personnes"
   ]
  },
  {
   "cell_type": "code",
   "execution_count": 67,
   "id": "4a12ead0-f6f4-4a87-8cfc-913dec59698e",
   "metadata": {
    "scrolled": true
   },
   "outputs": [
    {
     "name": "stdout",
     "output_type": "stream",
     "text": [
      "10\n"
     ]
    }
   ],
   "source": [
    "def ajout_fk_parti_id(parti_code):\n",
    "    ligne_parti = df_partis.index[df_partis['parti_code']== parti_code].tolist()[0]\n",
    "    return ligne_parti\n",
    "\n",
    "print(ajout_fk_parti_id('UDC'))"
   ]
  },
  {
   "cell_type": "code",
   "execution_count": 68,
   "id": "73f086ac-e644-4a33-937a-a918ab3916fc",
   "metadata": {},
   "outputs": [],
   "source": [
    "### On ajoute une nouvelle colonne et y on met pour chaque ligne le résultat de la fonction\n",
    "df_personnes['fk_parti_id'] = df_personnes.apply(lambda x: ajout_fk_parti_id(x['code_parti']), axis=1)"
   ]
  },
  {
   "cell_type": "code",
   "execution_count": 69,
   "id": "73c20b8d-75cc-4d73-bd57-4bcfc47300f6",
   "metadata": {},
   "outputs": [
    {
     "data": {
      "text/html": [
       "<div>\n",
       "<style scoped>\n",
       "    .dataframe tbody tr th:only-of-type {\n",
       "        vertical-align: middle;\n",
       "    }\n",
       "\n",
       "    .dataframe tbody tr th {\n",
       "        vertical-align: top;\n",
       "    }\n",
       "\n",
       "    .dataframe thead th {\n",
       "        text-align: right;\n",
       "    }\n",
       "</style>\n",
       "<table border=\"1\" class=\"dataframe\">\n",
       "  <thead>\n",
       "    <tr style=\"text-align: right;\">\n",
       "      <th></th>\n",
       "      <th>personne_uri</th>\n",
       "      <th>nom_prenom</th>\n",
       "      <th>genre_uri</th>\n",
       "      <th>annee_naissance</th>\n",
       "      <th>parti_uri</th>\n",
       "      <th>langue_uri</th>\n",
       "      <th>langue</th>\n",
       "      <th>genre_code</th>\n",
       "      <th>code_parti</th>\n",
       "      <th>code_langues</th>\n",
       "      <th>code_langue</th>\n",
       "      <th>fk_parti_id</th>\n",
       "    </tr>\n",
       "  </thead>\n",
       "  <tbody>\n",
       "    <tr>\n",
       "      <th>87</th>\n",
       "      <td>http://www.wikidata.org/entity/Q16101728</td>\n",
       "      <td>Otto Bretscher</td>\n",
       "      <td>http://www.wikidata.org/entity/Q6581097</td>\n",
       "      <td>1911</td>\n",
       "      <td>http://www.wikidata.org/entity/Q385258</td>\n",
       "      <td>http://www.wikidata.org/entity/Q188</td>\n",
       "      <td>German</td>\n",
       "      <td>M</td>\n",
       "      <td>UDC</td>\n",
       "      <td>ALL</td>\n",
       "      <td>ALL</td>\n",
       "      <td>10</td>\n",
       "    </tr>\n",
       "    <tr>\n",
       "      <th>97</th>\n",
       "      <td>http://www.wikidata.org/entity/Q1582102</td>\n",
       "      <td>Hans Roth</td>\n",
       "      <td>http://www.wikidata.org/entity/Q6581097</td>\n",
       "      <td>1913</td>\n",
       "      <td>http://www.wikidata.org/entity/Q385258</td>\n",
       "      <td>http://www.wikidata.org/entity/Q188</td>\n",
       "      <td>German</td>\n",
       "      <td>M</td>\n",
       "      <td>UDC</td>\n",
       "      <td>ALL</td>\n",
       "      <td>ALL</td>\n",
       "      <td>10</td>\n",
       "    </tr>\n",
       "    <tr>\n",
       "      <th>103</th>\n",
       "      <td>http://www.wikidata.org/entity/Q2543559</td>\n",
       "      <td>Walter Baumann</td>\n",
       "      <td>http://www.wikidata.org/entity/Q6581097</td>\n",
       "      <td>1914</td>\n",
       "      <td>http://www.wikidata.org/entity/Q385258</td>\n",
       "      <td>http://www.wikidata.org/entity/Q188</td>\n",
       "      <td>German</td>\n",
       "      <td>M</td>\n",
       "      <td>UDC</td>\n",
       "      <td>ALL</td>\n",
       "      <td>ALL</td>\n",
       "      <td>10</td>\n",
       "    </tr>\n",
       "    <tr>\n",
       "      <th>124</th>\n",
       "      <td>http://www.wikidata.org/entity/Q1579071</td>\n",
       "      <td>Hans Conzett</td>\n",
       "      <td>http://www.wikidata.org/entity/Q6581097</td>\n",
       "      <td>1915</td>\n",
       "      <td>http://www.wikidata.org/entity/Q385258</td>\n",
       "      <td>http://www.wikidata.org/entity/Q279350</td>\n",
       "      <td>Standard High German</td>\n",
       "      <td>M</td>\n",
       "      <td>UDC</td>\n",
       "      <td>ALL</td>\n",
       "      <td>ALL</td>\n",
       "      <td>10</td>\n",
       "    </tr>\n",
       "    <tr>\n",
       "      <th>126</th>\n",
       "      <td>http://www.wikidata.org/entity/Q1579071</td>\n",
       "      <td>Hans Conzett</td>\n",
       "      <td>http://www.wikidata.org/entity/Q6581097</td>\n",
       "      <td>1915</td>\n",
       "      <td>http://www.wikidata.org/entity/Q385258</td>\n",
       "      <td>http://www.wikidata.org/entity/Q387066</td>\n",
       "      <td>Swiss German</td>\n",
       "      <td>M</td>\n",
       "      <td>UDC</td>\n",
       "      <td>ALL</td>\n",
       "      <td>ALL</td>\n",
       "      <td>10</td>\n",
       "    </tr>\n",
       "  </tbody>\n",
       "</table>\n",
       "</div>"
      ],
      "text/plain": [
       "                                 personne_uri      nom_prenom  \\\n",
       "87   http://www.wikidata.org/entity/Q16101728  Otto Bretscher   \n",
       "97    http://www.wikidata.org/entity/Q1582102       Hans Roth   \n",
       "103   http://www.wikidata.org/entity/Q2543559  Walter Baumann   \n",
       "124   http://www.wikidata.org/entity/Q1579071    Hans Conzett   \n",
       "126   http://www.wikidata.org/entity/Q1579071    Hans Conzett   \n",
       "\n",
       "                                   genre_uri  annee_naissance  \\\n",
       "87   http://www.wikidata.org/entity/Q6581097             1911   \n",
       "97   http://www.wikidata.org/entity/Q6581097             1913   \n",
       "103  http://www.wikidata.org/entity/Q6581097             1914   \n",
       "124  http://www.wikidata.org/entity/Q6581097             1915   \n",
       "126  http://www.wikidata.org/entity/Q6581097             1915   \n",
       "\n",
       "                                  parti_uri  \\\n",
       "87   http://www.wikidata.org/entity/Q385258   \n",
       "97   http://www.wikidata.org/entity/Q385258   \n",
       "103  http://www.wikidata.org/entity/Q385258   \n",
       "124  http://www.wikidata.org/entity/Q385258   \n",
       "126  http://www.wikidata.org/entity/Q385258   \n",
       "\n",
       "                                 langue_uri                langue genre_code  \\\n",
       "87      http://www.wikidata.org/entity/Q188                German          M   \n",
       "97      http://www.wikidata.org/entity/Q188                German          M   \n",
       "103     http://www.wikidata.org/entity/Q188                German          M   \n",
       "124  http://www.wikidata.org/entity/Q279350  Standard High German          M   \n",
       "126  http://www.wikidata.org/entity/Q387066          Swiss German          M   \n",
       "\n",
       "    code_parti code_langues code_langue  fk_parti_id  \n",
       "87         UDC          ALL         ALL           10  \n",
       "97         UDC          ALL         ALL           10  \n",
       "103        UDC          ALL         ALL           10  \n",
       "124        UDC          ALL         ALL           10  \n",
       "126        UDC          ALL         ALL           10  "
      ]
     },
     "execution_count": 69,
     "metadata": {},
     "output_type": "execute_result"
    }
   ],
   "source": [
    "### On inspecte les cinq premières lignes qui ont la valeur 'PAI' = xxx\n",
    "df_personnes[df_personnes['code_parti']=='UDC'][:5]"
   ]
  },
  {
   "cell_type": "code",
   "execution_count": 70,
   "id": "9fe3b96a-d93f-483e-b481-49a4bf08120b",
   "metadata": {},
   "outputs": [],
   "source": [
    "df_personnes = df_personnes.drop(['code_parti', 'parti_uri'], axis=1)"
   ]
  },
  {
   "cell_type": "code",
   "execution_count": 71,
   "id": "8de0a15d-536e-4063-a479-81cd6ce113b5",
   "metadata": {
    "scrolled": true
   },
   "outputs": [
    {
     "data": {
      "text/html": [
       "<div>\n",
       "<style scoped>\n",
       "    .dataframe tbody tr th:only-of-type {\n",
       "        vertical-align: middle;\n",
       "    }\n",
       "\n",
       "    .dataframe tbody tr th {\n",
       "        vertical-align: top;\n",
       "    }\n",
       "\n",
       "    .dataframe thead th {\n",
       "        text-align: right;\n",
       "    }\n",
       "</style>\n",
       "<table border=\"1\" class=\"dataframe\">\n",
       "  <thead>\n",
       "    <tr style=\"text-align: right;\">\n",
       "      <th></th>\n",
       "      <th>personne_uri</th>\n",
       "      <th>nom_prenom</th>\n",
       "      <th>genre_uri</th>\n",
       "      <th>annee_naissance</th>\n",
       "      <th>langue_uri</th>\n",
       "      <th>langue</th>\n",
       "      <th>genre_code</th>\n",
       "      <th>code_langues</th>\n",
       "      <th>code_langue</th>\n",
       "      <th>fk_parti_id</th>\n",
       "    </tr>\n",
       "  </thead>\n",
       "  <tbody>\n",
       "    <tr>\n",
       "      <th>0</th>\n",
       "      <td>http://www.wikidata.org/entity/Q120229</td>\n",
       "      <td>Robert Tobler</td>\n",
       "      <td>http://www.wikidata.org/entity/Q6581097</td>\n",
       "      <td>1901</td>\n",
       "      <td>http://www.wikidata.org/entity/Q279350</td>\n",
       "      <td>Standard High German</td>\n",
       "      <td>M</td>\n",
       "      <td>ALL</td>\n",
       "      <td>ALL</td>\n",
       "      <td>0</td>\n",
       "    </tr>\n",
       "    <tr>\n",
       "      <th>1</th>\n",
       "      <td>http://www.wikidata.org/entity/Q120229</td>\n",
       "      <td>Robert Tobler</td>\n",
       "      <td>http://www.wikidata.org/entity/Q6581097</td>\n",
       "      <td>1901</td>\n",
       "      <td>http://www.wikidata.org/entity/Q279350</td>\n",
       "      <td>Standard High German</td>\n",
       "      <td>M</td>\n",
       "      <td>ALL</td>\n",
       "      <td>ALL</td>\n",
       "      <td>1</td>\n",
       "    </tr>\n",
       "    <tr>\n",
       "      <th>2</th>\n",
       "      <td>http://www.wikidata.org/entity/Q120229</td>\n",
       "      <td>Robert Tobler</td>\n",
       "      <td>http://www.wikidata.org/entity/Q6581097</td>\n",
       "      <td>1901</td>\n",
       "      <td>http://www.wikidata.org/entity/Q279350</td>\n",
       "      <td>Standard High German</td>\n",
       "      <td>M</td>\n",
       "      <td>ALL</td>\n",
       "      <td>ALL</td>\n",
       "      <td>2</td>\n",
       "    </tr>\n",
       "    <tr>\n",
       "      <th>3</th>\n",
       "      <td>http://www.wikidata.org/entity/Q120229</td>\n",
       "      <td>Robert Tobler</td>\n",
       "      <td>http://www.wikidata.org/entity/Q6581097</td>\n",
       "      <td>1901</td>\n",
       "      <td>http://www.wikidata.org/entity/Q387066</td>\n",
       "      <td>Swiss German</td>\n",
       "      <td>M</td>\n",
       "      <td>ALL</td>\n",
       "      <td>ALL</td>\n",
       "      <td>0</td>\n",
       "    </tr>\n",
       "    <tr>\n",
       "      <th>4</th>\n",
       "      <td>http://www.wikidata.org/entity/Q120229</td>\n",
       "      <td>Robert Tobler</td>\n",
       "      <td>http://www.wikidata.org/entity/Q6581097</td>\n",
       "      <td>1901</td>\n",
       "      <td>http://www.wikidata.org/entity/Q387066</td>\n",
       "      <td>Swiss German</td>\n",
       "      <td>M</td>\n",
       "      <td>ALL</td>\n",
       "      <td>ALL</td>\n",
       "      <td>1</td>\n",
       "    </tr>\n",
       "  </tbody>\n",
       "</table>\n",
       "</div>"
      ],
      "text/plain": [
       "                             personne_uri     nom_prenom  \\\n",
       "0  http://www.wikidata.org/entity/Q120229  Robert Tobler   \n",
       "1  http://www.wikidata.org/entity/Q120229  Robert Tobler   \n",
       "2  http://www.wikidata.org/entity/Q120229  Robert Tobler   \n",
       "3  http://www.wikidata.org/entity/Q120229  Robert Tobler   \n",
       "4  http://www.wikidata.org/entity/Q120229  Robert Tobler   \n",
       "\n",
       "                                 genre_uri  annee_naissance  \\\n",
       "0  http://www.wikidata.org/entity/Q6581097             1901   \n",
       "1  http://www.wikidata.org/entity/Q6581097             1901   \n",
       "2  http://www.wikidata.org/entity/Q6581097             1901   \n",
       "3  http://www.wikidata.org/entity/Q6581097             1901   \n",
       "4  http://www.wikidata.org/entity/Q6581097             1901   \n",
       "\n",
       "                               langue_uri                langue genre_code  \\\n",
       "0  http://www.wikidata.org/entity/Q279350  Standard High German          M   \n",
       "1  http://www.wikidata.org/entity/Q279350  Standard High German          M   \n",
       "2  http://www.wikidata.org/entity/Q279350  Standard High German          M   \n",
       "3  http://www.wikidata.org/entity/Q387066          Swiss German          M   \n",
       "4  http://www.wikidata.org/entity/Q387066          Swiss German          M   \n",
       "\n",
       "  code_langues code_langue  fk_parti_id  \n",
       "0          ALL         ALL            0  \n",
       "1          ALL         ALL            1  \n",
       "2          ALL         ALL            2  \n",
       "3          ALL         ALL            0  \n",
       "4          ALL         ALL            1  "
      ]
     },
     "execution_count": 71,
     "metadata": {},
     "output_type": "execute_result"
    }
   ],
   "source": [
    "df_personnes.head()"
   ]
  },
  {
   "cell_type": "markdown",
   "id": "c8400059-ea82-4a22-ac14-a987dace5f1b",
   "metadata": {},
   "source": [
    "# étape 7B - insertion des langues dans la table wdt_personnes"
   ]
  },
  {
   "cell_type": "code",
   "execution_count": 74,
   "id": "b86f6fa5-c513-4d48-857e-384c17f9b3e0",
   "metadata": {},
   "outputs": [
    {
     "name": "stdout",
     "output_type": "stream",
     "text": [
      "1\n"
     ]
    }
   ],
   "source": [
    "def ajout_fk_langue_id(code_langue):\n",
    "    ligne_langue = df_langues.index[df_langues['code_langue']== code_langue].tolist()[0]\n",
    "    return ligne_langue\n",
    "\n",
    "print(ajout_fk_langue_id('FR'))"
   ]
  },
  {
   "cell_type": "code",
   "execution_count": 75,
   "id": "64734025-7b86-4854-80c8-001cd2c9c4e0",
   "metadata": {},
   "outputs": [],
   "source": [
    "### On ajoute une nouvelle colonne et y on met pour chaque ligne le résultat de la fonction\n",
    "df_personnes['fk_langue_id'] = df_personnes.apply(lambda x: ajout_fk_langue_id(x['code_langue']), axis=1)"
   ]
  },
  {
   "cell_type": "code",
   "execution_count": 77,
   "id": "926915e1-0bd1-4f8e-9065-23986290dec0",
   "metadata": {},
   "outputs": [],
   "source": [
    "df_personnes = df_personnes.drop(['code_langues', 'code_langue', 'langue_uri', 'langue'], axis=1)"
   ]
  },
  {
   "cell_type": "code",
   "execution_count": 78,
   "id": "d0ba397e-ff66-4f38-9986-4a23dd864285",
   "metadata": {},
   "outputs": [
    {
     "data": {
      "text/html": [
       "<div>\n",
       "<style scoped>\n",
       "    .dataframe tbody tr th:only-of-type {\n",
       "        vertical-align: middle;\n",
       "    }\n",
       "\n",
       "    .dataframe tbody tr th {\n",
       "        vertical-align: top;\n",
       "    }\n",
       "\n",
       "    .dataframe thead th {\n",
       "        text-align: right;\n",
       "    }\n",
       "</style>\n",
       "<table border=\"1\" class=\"dataframe\">\n",
       "  <thead>\n",
       "    <tr style=\"text-align: right;\">\n",
       "      <th></th>\n",
       "      <th>personne_uri</th>\n",
       "      <th>nom_prenom</th>\n",
       "      <th>genre_uri</th>\n",
       "      <th>annee_naissance</th>\n",
       "      <th>genre_code</th>\n",
       "      <th>fk_parti_id</th>\n",
       "      <th>fk_langue_id</th>\n",
       "    </tr>\n",
       "  </thead>\n",
       "  <tbody>\n",
       "    <tr>\n",
       "      <th>0</th>\n",
       "      <td>http://www.wikidata.org/entity/Q120229</td>\n",
       "      <td>Robert Tobler</td>\n",
       "      <td>http://www.wikidata.org/entity/Q6581097</td>\n",
       "      <td>1901</td>\n",
       "      <td>M</td>\n",
       "      <td>0</td>\n",
       "      <td>0</td>\n",
       "    </tr>\n",
       "    <tr>\n",
       "      <th>1</th>\n",
       "      <td>http://www.wikidata.org/entity/Q120229</td>\n",
       "      <td>Robert Tobler</td>\n",
       "      <td>http://www.wikidata.org/entity/Q6581097</td>\n",
       "      <td>1901</td>\n",
       "      <td>M</td>\n",
       "      <td>1</td>\n",
       "      <td>0</td>\n",
       "    </tr>\n",
       "    <tr>\n",
       "      <th>2</th>\n",
       "      <td>http://www.wikidata.org/entity/Q120229</td>\n",
       "      <td>Robert Tobler</td>\n",
       "      <td>http://www.wikidata.org/entity/Q6581097</td>\n",
       "      <td>1901</td>\n",
       "      <td>M</td>\n",
       "      <td>2</td>\n",
       "      <td>0</td>\n",
       "    </tr>\n",
       "    <tr>\n",
       "      <th>3</th>\n",
       "      <td>http://www.wikidata.org/entity/Q120229</td>\n",
       "      <td>Robert Tobler</td>\n",
       "      <td>http://www.wikidata.org/entity/Q6581097</td>\n",
       "      <td>1901</td>\n",
       "      <td>M</td>\n",
       "      <td>0</td>\n",
       "      <td>0</td>\n",
       "    </tr>\n",
       "    <tr>\n",
       "      <th>4</th>\n",
       "      <td>http://www.wikidata.org/entity/Q120229</td>\n",
       "      <td>Robert Tobler</td>\n",
       "      <td>http://www.wikidata.org/entity/Q6581097</td>\n",
       "      <td>1901</td>\n",
       "      <td>M</td>\n",
       "      <td>1</td>\n",
       "      <td>0</td>\n",
       "    </tr>\n",
       "  </tbody>\n",
       "</table>\n",
       "</div>"
      ],
      "text/plain": [
       "                             personne_uri     nom_prenom  \\\n",
       "0  http://www.wikidata.org/entity/Q120229  Robert Tobler   \n",
       "1  http://www.wikidata.org/entity/Q120229  Robert Tobler   \n",
       "2  http://www.wikidata.org/entity/Q120229  Robert Tobler   \n",
       "3  http://www.wikidata.org/entity/Q120229  Robert Tobler   \n",
       "4  http://www.wikidata.org/entity/Q120229  Robert Tobler   \n",
       "\n",
       "                                 genre_uri  annee_naissance genre_code  \\\n",
       "0  http://www.wikidata.org/entity/Q6581097             1901          M   \n",
       "1  http://www.wikidata.org/entity/Q6581097             1901          M   \n",
       "2  http://www.wikidata.org/entity/Q6581097             1901          M   \n",
       "3  http://www.wikidata.org/entity/Q6581097             1901          M   \n",
       "4  http://www.wikidata.org/entity/Q6581097             1901          M   \n",
       "\n",
       "   fk_parti_id  fk_langue_id  \n",
       "0            0             0  \n",
       "1            1             0  \n",
       "2            2             0  \n",
       "3            0             0  \n",
       "4            1             0  "
      ]
     },
     "execution_count": 78,
     "metadata": {},
     "output_type": "execute_result"
    }
   ],
   "source": [
    "df_personnes.head()"
   ]
  },
  {
   "cell_type": "code",
   "execution_count": 79,
   "id": "213c875b-929d-4599-aa6a-31e580e1995b",
   "metadata": {},
   "outputs": [],
   "source": [
    "### Créer une nouvelle table contenant le DataFrame\n",
    "# Si on tente de la recréer, alor qu'elle existe déjà,\n",
    "# un message d'erreur est renvoyé\n",
    "try:\n",
    "    l = df_personnes.to_sql(name='wdt_personnes', con=cn, if_exists='append', index_label='id')\n",
    "except Exception as e:\n",
    "    print('Erreur: ',  e)"
   ]
  },
  {
   "cell_type": "code",
   "execution_count": null,
   "id": "01c674cc-b37f-451b-ae6e-5e7c380e4ed4",
   "metadata": {},
   "outputs": [],
   "source": []
  }
 ],
 "metadata": {
  "kernelspec": {
   "display_name": "py311_data_analysis",
   "language": "python",
   "name": "py311_data_analysis"
  },
  "language_info": {
   "codemirror_mode": {
    "name": "ipython",
    "version": 3
   },
   "file_extension": ".py",
   "mimetype": "text/x-python",
   "name": "python",
   "nbconvert_exporter": "python",
   "pygments_lexer": "ipython3",
   "version": "3.11.7"
  }
 },
 "nbformat": 4,
 "nbformat_minor": 5
}
